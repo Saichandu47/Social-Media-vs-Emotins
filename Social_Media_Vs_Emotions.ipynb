{
  "nbformat": 4,
  "nbformat_minor": 0,
  "metadata": {
    "colab": {
      "provenance": [],
      "authorship_tag": "ABX9TyP8BQfAgU4p3n6nEfso9XGh",
      "include_colab_link": true
    },
    "kernelspec": {
      "name": "python3",
      "display_name": "Python 3"
    },
    "language_info": {
      "name": "python"
    }
  },
  "cells": [
    {
      "cell_type": "markdown",
      "metadata": {
        "id": "view-in-github",
        "colab_type": "text"
      },
      "source": [
        "<a href=\"https://colab.research.google.com/github/Saichandu47/Social-Media-vs-Emotins/blob/main/Social_Media_Vs_Emotions.ipynb\" target=\"_parent\"><img src=\"https://colab.research.google.com/assets/colab-badge.svg\" alt=\"Open In Colab\"/></a>"
      ]
    },
    {
      "cell_type": "code",
      "execution_count": 18,
      "metadata": {
        "id": "UESd9LKh7R59"
      },
      "outputs": [],
      "source": [
        "!pip install -q kaggle"
      ]
    },
    {
      "cell_type": "code",
      "source": [
        "from google.colab import files\n",
        "files.upload()"
      ],
      "metadata": {
        "colab": {
          "base_uri": "https://localhost:8080/",
          "height": 90
        },
        "id": "OmD3OTVl7bCO",
        "outputId": "50ee9515-8155-41e0-861f-b54276942afe"
      },
      "execution_count": 19,
      "outputs": [
        {
          "output_type": "display_data",
          "data": {
            "text/plain": [
              "<IPython.core.display.HTML object>"
            ],
            "text/html": [
              "\n",
              "     <input type=\"file\" id=\"files-894e1477-1080-43c0-b1f4-be6364c00f83\" name=\"files[]\" multiple disabled\n",
              "        style=\"border:none\" />\n",
              "     <output id=\"result-894e1477-1080-43c0-b1f4-be6364c00f83\">\n",
              "      Upload widget is only available when the cell has been executed in the\n",
              "      current browser session. Please rerun this cell to enable.\n",
              "      </output>\n",
              "      <script>// Copyright 2017 Google LLC\n",
              "//\n",
              "// Licensed under the Apache License, Version 2.0 (the \"License\");\n",
              "// you may not use this file except in compliance with the License.\n",
              "// You may obtain a copy of the License at\n",
              "//\n",
              "//      http://www.apache.org/licenses/LICENSE-2.0\n",
              "//\n",
              "// Unless required by applicable law or agreed to in writing, software\n",
              "// distributed under the License is distributed on an \"AS IS\" BASIS,\n",
              "// WITHOUT WARRANTIES OR CONDITIONS OF ANY KIND, either express or implied.\n",
              "// See the License for the specific language governing permissions and\n",
              "// limitations under the License.\n",
              "\n",
              "/**\n",
              " * @fileoverview Helpers for google.colab Python module.\n",
              " */\n",
              "(function(scope) {\n",
              "function span(text, styleAttributes = {}) {\n",
              "  const element = document.createElement('span');\n",
              "  element.textContent = text;\n",
              "  for (const key of Object.keys(styleAttributes)) {\n",
              "    element.style[key] = styleAttributes[key];\n",
              "  }\n",
              "  return element;\n",
              "}\n",
              "\n",
              "// Max number of bytes which will be uploaded at a time.\n",
              "const MAX_PAYLOAD_SIZE = 100 * 1024;\n",
              "\n",
              "function _uploadFiles(inputId, outputId) {\n",
              "  const steps = uploadFilesStep(inputId, outputId);\n",
              "  const outputElement = document.getElementById(outputId);\n",
              "  // Cache steps on the outputElement to make it available for the next call\n",
              "  // to uploadFilesContinue from Python.\n",
              "  outputElement.steps = steps;\n",
              "\n",
              "  return _uploadFilesContinue(outputId);\n",
              "}\n",
              "\n",
              "// This is roughly an async generator (not supported in the browser yet),\n",
              "// where there are multiple asynchronous steps and the Python side is going\n",
              "// to poll for completion of each step.\n",
              "// This uses a Promise to block the python side on completion of each step,\n",
              "// then passes the result of the previous step as the input to the next step.\n",
              "function _uploadFilesContinue(outputId) {\n",
              "  const outputElement = document.getElementById(outputId);\n",
              "  const steps = outputElement.steps;\n",
              "\n",
              "  const next = steps.next(outputElement.lastPromiseValue);\n",
              "  return Promise.resolve(next.value.promise).then((value) => {\n",
              "    // Cache the last promise value to make it available to the next\n",
              "    // step of the generator.\n",
              "    outputElement.lastPromiseValue = value;\n",
              "    return next.value.response;\n",
              "  });\n",
              "}\n",
              "\n",
              "/**\n",
              " * Generator function which is called between each async step of the upload\n",
              " * process.\n",
              " * @param {string} inputId Element ID of the input file picker element.\n",
              " * @param {string} outputId Element ID of the output display.\n",
              " * @return {!Iterable<!Object>} Iterable of next steps.\n",
              " */\n",
              "function* uploadFilesStep(inputId, outputId) {\n",
              "  const inputElement = document.getElementById(inputId);\n",
              "  inputElement.disabled = false;\n",
              "\n",
              "  const outputElement = document.getElementById(outputId);\n",
              "  outputElement.innerHTML = '';\n",
              "\n",
              "  const pickedPromise = new Promise((resolve) => {\n",
              "    inputElement.addEventListener('change', (e) => {\n",
              "      resolve(e.target.files);\n",
              "    });\n",
              "  });\n",
              "\n",
              "  const cancel = document.createElement('button');\n",
              "  inputElement.parentElement.appendChild(cancel);\n",
              "  cancel.textContent = 'Cancel upload';\n",
              "  const cancelPromise = new Promise((resolve) => {\n",
              "    cancel.onclick = () => {\n",
              "      resolve(null);\n",
              "    };\n",
              "  });\n",
              "\n",
              "  // Wait for the user to pick the files.\n",
              "  const files = yield {\n",
              "    promise: Promise.race([pickedPromise, cancelPromise]),\n",
              "    response: {\n",
              "      action: 'starting',\n",
              "    }\n",
              "  };\n",
              "\n",
              "  cancel.remove();\n",
              "\n",
              "  // Disable the input element since further picks are not allowed.\n",
              "  inputElement.disabled = true;\n",
              "\n",
              "  if (!files) {\n",
              "    return {\n",
              "      response: {\n",
              "        action: 'complete',\n",
              "      }\n",
              "    };\n",
              "  }\n",
              "\n",
              "  for (const file of files) {\n",
              "    const li = document.createElement('li');\n",
              "    li.append(span(file.name, {fontWeight: 'bold'}));\n",
              "    li.append(span(\n",
              "        `(${file.type || 'n/a'}) - ${file.size} bytes, ` +\n",
              "        `last modified: ${\n",
              "            file.lastModifiedDate ? file.lastModifiedDate.toLocaleDateString() :\n",
              "                                    'n/a'} - `));\n",
              "    const percent = span('0% done');\n",
              "    li.appendChild(percent);\n",
              "\n",
              "    outputElement.appendChild(li);\n",
              "\n",
              "    const fileDataPromise = new Promise((resolve) => {\n",
              "      const reader = new FileReader();\n",
              "      reader.onload = (e) => {\n",
              "        resolve(e.target.result);\n",
              "      };\n",
              "      reader.readAsArrayBuffer(file);\n",
              "    });\n",
              "    // Wait for the data to be ready.\n",
              "    let fileData = yield {\n",
              "      promise: fileDataPromise,\n",
              "      response: {\n",
              "        action: 'continue',\n",
              "      }\n",
              "    };\n",
              "\n",
              "    // Use a chunked sending to avoid message size limits. See b/62115660.\n",
              "    let position = 0;\n",
              "    do {\n",
              "      const length = Math.min(fileData.byteLength - position, MAX_PAYLOAD_SIZE);\n",
              "      const chunk = new Uint8Array(fileData, position, length);\n",
              "      position += length;\n",
              "\n",
              "      const base64 = btoa(String.fromCharCode.apply(null, chunk));\n",
              "      yield {\n",
              "        response: {\n",
              "          action: 'append',\n",
              "          file: file.name,\n",
              "          data: base64,\n",
              "        },\n",
              "      };\n",
              "\n",
              "      let percentDone = fileData.byteLength === 0 ?\n",
              "          100 :\n",
              "          Math.round((position / fileData.byteLength) * 100);\n",
              "      percent.textContent = `${percentDone}% done`;\n",
              "\n",
              "    } while (position < fileData.byteLength);\n",
              "  }\n",
              "\n",
              "  // All done.\n",
              "  yield {\n",
              "    response: {\n",
              "      action: 'complete',\n",
              "    }\n",
              "  };\n",
              "}\n",
              "\n",
              "scope.google = scope.google || {};\n",
              "scope.google.colab = scope.google.colab || {};\n",
              "scope.google.colab._files = {\n",
              "  _uploadFiles,\n",
              "  _uploadFilesContinue,\n",
              "};\n",
              "})(self);\n",
              "</script> "
            ]
          },
          "metadata": {}
        },
        {
          "output_type": "stream",
          "name": "stdout",
          "text": [
            "Saving kaggle.json to kaggle (2).json\n"
          ]
        },
        {
          "output_type": "execute_result",
          "data": {
            "text/plain": [
              "{'kaggle (2).json': b'{\"username\":\"pattipatisaichandu\",\"key\":\"8d0cd73bd381a7642b129f736f4a9f67\"}'}"
            ]
          },
          "metadata": {},
          "execution_count": 19
        }
      ]
    },
    {
      "cell_type": "code",
      "source": [
        "! mkdir ~/.kaggle\n"
      ],
      "metadata": {
        "colab": {
          "base_uri": "https://localhost:8080/"
        },
        "id": "5NTq84VF7s3Y",
        "outputId": "1034026b-f46f-4c63-955d-60eeb96268ad"
      },
      "execution_count": 25,
      "outputs": [
        {
          "output_type": "stream",
          "name": "stdout",
          "text": [
            "mkdir: cannot create directory ‘/root/.kaggle’: File exists\n"
          ]
        }
      ]
    },
    {
      "cell_type": "code",
      "source": [
        "! cp kaggle.json ~/.kaggle/"
      ],
      "metadata": {
        "id": "0rUbAXg48e23"
      },
      "execution_count": 29,
      "outputs": []
    },
    {
      "cell_type": "code",
      "source": [
        "! chmod 600 ~/.kaggle/kaggle.json"
      ],
      "metadata": {
        "id": "5lz0Lejv884v"
      },
      "execution_count": 30,
      "outputs": []
    },
    {
      "cell_type": "code",
      "source": [
        "! kaggle datasets list"
      ],
      "metadata": {
        "colab": {
          "base_uri": "https://localhost:8080/"
        },
        "id": "gpoYb0vF_Fu4",
        "outputId": "ec4cf187-1e05-4b92-aa0d-a72f428c4dde"
      },
      "execution_count": 31,
      "outputs": [
        {
          "output_type": "stream",
          "name": "stdout",
          "text": [
            "ref                                                             title                                               size  lastUpdated          downloadCount  voteCount  usabilityRating  \n",
            "--------------------------------------------------------------  -------------------------------------------------  -----  -------------------  -------------  ---------  ---------------  \n",
            "rabieelkharoua/students-performance-dataset                     📚 Students Performance Dataset 📚                    66KB  2024-06-12 23:09:20           5616        116  1.0              \n",
            "nelgiriyewithana/most-streamed-spotify-songs-2024               Most Streamed Spotify Songs 2024                   496KB  2024-06-15 18:50:51           4458         98  1.0              \n",
            "viveksharmar/flight-price-data                                  Flight Price Prediction                            115KB  2024-06-01 17:17:11           1319         23  1.0              \n",
            "shreyanshverma27/online-sales-dataset-popular-marketplace-data  Online Sales Dataset - Popular Marketplace Data      7KB  2024-05-25 23:55:26          12501        221  1.0              \n",
            "rabieelkharoua/predict-online-dating-matches-dataset            💌 Predict Online Dating Matches Dataset              7KB  2024-06-21 07:40:23            671         25  1.0              \n",
            "mayankanand2701/top-1000-youtube-channels-in-the-world          Top 1000 YouTube Channels in the World 🌐📊🎥          25KB  2024-06-25 03:30:00            680         23  1.0              \n",
            "kanchana1990/e-commerce-womens-clothing-data-2024               E-Commerce Women's Clothing Data 2024              482KB  2024-06-20 19:26:33            564         26  1.0              \n",
            "bhavikjikadara/retail-transactional-dataset                     Retail Transactional Dataset                        25MB  2024-06-18 08:39:00            989         25  1.0              \n",
            "nikhil7280/weather-type-classification                          Weather Type Classification                        186KB  2024-06-23 18:15:05           1101         33  1.0              \n",
            "ritiksharma07/imdb-top-1000-movies-dataset                      IMDB Top 1000 Movies Dataset                        87KB  2024-06-18 09:51:21            598         25  1.0              \n",
            "teocalvo/teomewhy-loyalty-system                                TeoMeWhy Loyalty System                             24MB  2024-06-28 13:34:50            385        422  1.0              \n",
            "rabieelkharoua/predicting-hiring-decisions-in-recruitment-data  💼 Predicting Hiring Decisions in Recruitment Data   28KB  2024-06-17 21:13:48            914         27  1.0              \n",
            "rabieelkharoua/predict-online-gaming-behavior-dataset           🎮 Predict Online Gaming Behavior Dataset           904KB  2024-06-21 02:58:42            571         27  1.0              \n",
            "zeesolver/data-eng-salary-2024                                  Data Developer Salary in 2024💰                     108KB  2024-06-10 07:33:22           3060         48  1.0              \n",
            "mayankanand2701/samsung-stock-price-dataset                     Samsung Stock Price Dataset 📱🏭📈                    114KB  2024-06-13 14:51:11           1529         34  1.0              \n",
            "kanchana1990/worlds-tallest-men-and-women                       World's Tallest Men and Women Dataset               11KB  2024-06-21 10:31:30            590         29  1.0              \n",
            "damirdizdarevic/uefa-euro-2024-players                          UEFA EURO 2024 - Players                            15KB  2024-06-08 18:07:29           3049         63  1.0              \n",
            "rabieelkharoua/alzheimers-disease-dataset                       🧠 Alzheimer's Disease Dataset 🧠                    268KB  2024-06-11 20:24:30           1590         46  1.0              \n",
            "rabieelkharoua/predicting-manufacturing-defects-dataset         🏭 Predicting Manufacturing Defects Dataset         363KB  2024-06-17 21:47:37            909         25  1.0              \n",
            "informrohit1/smartphones-dataset                                Smartphones_Dataset                                 23KB  2024-06-09 10:24:51           3339         62  1.0              \n"
          ]
        }
      ]
    },
    {
      "cell_type": "code",
      "source": [
        "!kaggle datasets download -d emirhanai/social-media-usage-and-emotional-well-being"
      ],
      "metadata": {
        "colab": {
          "base_uri": "https://localhost:8080/"
        },
        "id": "cYq-QD1O_SK9",
        "outputId": "6aefc82d-e765-4b52-dbb7-429eaf1a5578"
      },
      "execution_count": 32,
      "outputs": [
        {
          "output_type": "stream",
          "name": "stdout",
          "text": [
            "Dataset URL: https://www.kaggle.com/datasets/emirhanai/social-media-usage-and-emotional-well-being\n",
            "License(s): MIT\n",
            "Downloading social-media-usage-and-emotional-well-being.zip to /content\n",
            "  0% 0.00/8.34k [00:00<?, ?B/s]\n",
            "100% 8.34k/8.34k [00:00<00:00, 16.9MB/s]\n"
          ]
        }
      ]
    },
    {
      "cell_type": "code",
      "source": [
        "!unzip social-media-usage-and-emotional-well-being.zip"
      ],
      "metadata": {
        "colab": {
          "base_uri": "https://localhost:8080/"
        },
        "id": "RUJ9AZQVCDhC",
        "outputId": "14c9ff17-de81-418a-baf0-7db45de35dad"
      },
      "execution_count": 37,
      "outputs": [
        {
          "output_type": "stream",
          "name": "stdout",
          "text": [
            "Archive:  social-media-usage-and-emotional-well-being.zip\n",
            "replace test.csv? [y]es, [n]o, [A]ll, [N]one, [r]ename: no\n",
            "replace train.csv? [y]es, [n]o, [A]ll, [N]one, [r]ename: no\n",
            "replace val.csv? [y]es, [n]o, [A]ll, [N]one, [r]ename: no\n"
          ]
        }
      ]
    },
    {
      "cell_type": "markdown",
      "source": [
        "IMPORTING LIBRARIES:"
      ],
      "metadata": {
        "id": "JQLw_jivEz4h"
      }
    },
    {
      "cell_type": "code",
      "source": [
        "import pandas as pd\n",
        "import numpy as np\n",
        "import matplotlib.pyplot as plt\n",
        "import seaborn as sns\n",
        "import plotly.express as px"
      ],
      "metadata": {
        "id": "Urk2Ayj_ECij"
      },
      "execution_count": 36,
      "outputs": []
    },
    {
      "cell_type": "markdown",
      "source": [
        "LOADING DATA:"
      ],
      "metadata": {
        "id": "St3KxscSEorM"
      }
    },
    {
      "cell_type": "code",
      "source": [
        "train_df = pd.read_csv(\"train.csv\", on_bad_lines='skip')\n",
        "test_df = pd.read_csv(\"test.csv\", on_bad_lines='skip')\n",
        "val_df = pd.read_csv(\"val.csv\", on_bad_lines='skip')"
      ],
      "metadata": {
        "id": "aAPmT4fUDZH1"
      },
      "execution_count": 39,
      "outputs": []
    },
    {
      "cell_type": "code",
      "source": [
        "# viwing the traing data, test data and validation data\n",
        "print(\"Training Data:\")\n",
        "display(train_df.head())\n",
        "print(\"----------------------------------------------------------------------\")\n",
        "print(\"Testing Data:\")\n",
        "display(test_df.head())\n",
        "print(\"----------------------------------------------------------------------\")\n",
        "print(\"Validation Data:\")\n",
        "display(val_df.head())"
      ],
      "metadata": {
        "colab": {
          "base_uri": "https://localhost:8080/",
          "height": 864
        },
        "id": "A1viEh9kD9Sl",
        "outputId": "30e65f71-659a-4242-dc97-0676cc58fbaa"
      },
      "execution_count": 40,
      "outputs": [
        {
          "output_type": "stream",
          "name": "stdout",
          "text": [
            "Training Data:\n"
          ]
        },
        {
          "output_type": "display_data",
          "data": {
            "text/plain": [
              "  User_ID Age      Gender   Platform  Daily_Usage_Time (minutes)  \\\n",
              "0       1  25      Female  Instagram                       120.0   \n",
              "1       2  30        Male    Twitter                        90.0   \n",
              "2       3  22  Non-binary   Facebook                        60.0   \n",
              "3       4  28      Female  Instagram                       200.0   \n",
              "4       5  33        Male   LinkedIn                        45.0   \n",
              "\n",
              "   Posts_Per_Day  Likes_Received_Per_Day  Comments_Received_Per_Day  \\\n",
              "0            3.0                    45.0                       10.0   \n",
              "1            5.0                    20.0                       25.0   \n",
              "2            2.0                    15.0                        5.0   \n",
              "3            8.0                   100.0                       30.0   \n",
              "4            1.0                     5.0                        2.0   \n",
              "\n",
              "   Messages_Sent_Per_Day Dominant_Emotion  \n",
              "0                   12.0        Happiness  \n",
              "1                   30.0            Anger  \n",
              "2                   20.0          Neutral  \n",
              "3                   50.0          Anxiety  \n",
              "4                   10.0          Boredom  "
            ],
            "text/html": [
              "\n",
              "  <div id=\"df-821e0b4e-4168-4b90-983d-3cba610c545d\" class=\"colab-df-container\">\n",
              "    <div>\n",
              "<style scoped>\n",
              "    .dataframe tbody tr th:only-of-type {\n",
              "        vertical-align: middle;\n",
              "    }\n",
              "\n",
              "    .dataframe tbody tr th {\n",
              "        vertical-align: top;\n",
              "    }\n",
              "\n",
              "    .dataframe thead th {\n",
              "        text-align: right;\n",
              "    }\n",
              "</style>\n",
              "<table border=\"1\" class=\"dataframe\">\n",
              "  <thead>\n",
              "    <tr style=\"text-align: right;\">\n",
              "      <th></th>\n",
              "      <th>User_ID</th>\n",
              "      <th>Age</th>\n",
              "      <th>Gender</th>\n",
              "      <th>Platform</th>\n",
              "      <th>Daily_Usage_Time (minutes)</th>\n",
              "      <th>Posts_Per_Day</th>\n",
              "      <th>Likes_Received_Per_Day</th>\n",
              "      <th>Comments_Received_Per_Day</th>\n",
              "      <th>Messages_Sent_Per_Day</th>\n",
              "      <th>Dominant_Emotion</th>\n",
              "    </tr>\n",
              "  </thead>\n",
              "  <tbody>\n",
              "    <tr>\n",
              "      <th>0</th>\n",
              "      <td>1</td>\n",
              "      <td>25</td>\n",
              "      <td>Female</td>\n",
              "      <td>Instagram</td>\n",
              "      <td>120.0</td>\n",
              "      <td>3.0</td>\n",
              "      <td>45.0</td>\n",
              "      <td>10.0</td>\n",
              "      <td>12.0</td>\n",
              "      <td>Happiness</td>\n",
              "    </tr>\n",
              "    <tr>\n",
              "      <th>1</th>\n",
              "      <td>2</td>\n",
              "      <td>30</td>\n",
              "      <td>Male</td>\n",
              "      <td>Twitter</td>\n",
              "      <td>90.0</td>\n",
              "      <td>5.0</td>\n",
              "      <td>20.0</td>\n",
              "      <td>25.0</td>\n",
              "      <td>30.0</td>\n",
              "      <td>Anger</td>\n",
              "    </tr>\n",
              "    <tr>\n",
              "      <th>2</th>\n",
              "      <td>3</td>\n",
              "      <td>22</td>\n",
              "      <td>Non-binary</td>\n",
              "      <td>Facebook</td>\n",
              "      <td>60.0</td>\n",
              "      <td>2.0</td>\n",
              "      <td>15.0</td>\n",
              "      <td>5.0</td>\n",
              "      <td>20.0</td>\n",
              "      <td>Neutral</td>\n",
              "    </tr>\n",
              "    <tr>\n",
              "      <th>3</th>\n",
              "      <td>4</td>\n",
              "      <td>28</td>\n",
              "      <td>Female</td>\n",
              "      <td>Instagram</td>\n",
              "      <td>200.0</td>\n",
              "      <td>8.0</td>\n",
              "      <td>100.0</td>\n",
              "      <td>30.0</td>\n",
              "      <td>50.0</td>\n",
              "      <td>Anxiety</td>\n",
              "    </tr>\n",
              "    <tr>\n",
              "      <th>4</th>\n",
              "      <td>5</td>\n",
              "      <td>33</td>\n",
              "      <td>Male</td>\n",
              "      <td>LinkedIn</td>\n",
              "      <td>45.0</td>\n",
              "      <td>1.0</td>\n",
              "      <td>5.0</td>\n",
              "      <td>2.0</td>\n",
              "      <td>10.0</td>\n",
              "      <td>Boredom</td>\n",
              "    </tr>\n",
              "  </tbody>\n",
              "</table>\n",
              "</div>\n",
              "    <div class=\"colab-df-buttons\">\n",
              "\n",
              "  <div class=\"colab-df-container\">\n",
              "    <button class=\"colab-df-convert\" onclick=\"convertToInteractive('df-821e0b4e-4168-4b90-983d-3cba610c545d')\"\n",
              "            title=\"Convert this dataframe to an interactive table.\"\n",
              "            style=\"display:none;\">\n",
              "\n",
              "  <svg xmlns=\"http://www.w3.org/2000/svg\" height=\"24px\" viewBox=\"0 -960 960 960\">\n",
              "    <path d=\"M120-120v-720h720v720H120Zm60-500h600v-160H180v160Zm220 220h160v-160H400v160Zm0 220h160v-160H400v160ZM180-400h160v-160H180v160Zm440 0h160v-160H620v160ZM180-180h160v-160H180v160Zm440 0h160v-160H620v160Z\"/>\n",
              "  </svg>\n",
              "    </button>\n",
              "\n",
              "  <style>\n",
              "    .colab-df-container {\n",
              "      display:flex;\n",
              "      gap: 12px;\n",
              "    }\n",
              "\n",
              "    .colab-df-convert {\n",
              "      background-color: #E8F0FE;\n",
              "      border: none;\n",
              "      border-radius: 50%;\n",
              "      cursor: pointer;\n",
              "      display: none;\n",
              "      fill: #1967D2;\n",
              "      height: 32px;\n",
              "      padding: 0 0 0 0;\n",
              "      width: 32px;\n",
              "    }\n",
              "\n",
              "    .colab-df-convert:hover {\n",
              "      background-color: #E2EBFA;\n",
              "      box-shadow: 0px 1px 2px rgba(60, 64, 67, 0.3), 0px 1px 3px 1px rgba(60, 64, 67, 0.15);\n",
              "      fill: #174EA6;\n",
              "    }\n",
              "\n",
              "    .colab-df-buttons div {\n",
              "      margin-bottom: 4px;\n",
              "    }\n",
              "\n",
              "    [theme=dark] .colab-df-convert {\n",
              "      background-color: #3B4455;\n",
              "      fill: #D2E3FC;\n",
              "    }\n",
              "\n",
              "    [theme=dark] .colab-df-convert:hover {\n",
              "      background-color: #434B5C;\n",
              "      box-shadow: 0px 1px 3px 1px rgba(0, 0, 0, 0.15);\n",
              "      filter: drop-shadow(0px 1px 2px rgba(0, 0, 0, 0.3));\n",
              "      fill: #FFFFFF;\n",
              "    }\n",
              "  </style>\n",
              "\n",
              "    <script>\n",
              "      const buttonEl =\n",
              "        document.querySelector('#df-821e0b4e-4168-4b90-983d-3cba610c545d button.colab-df-convert');\n",
              "      buttonEl.style.display =\n",
              "        google.colab.kernel.accessAllowed ? 'block' : 'none';\n",
              "\n",
              "      async function convertToInteractive(key) {\n",
              "        const element = document.querySelector('#df-821e0b4e-4168-4b90-983d-3cba610c545d');\n",
              "        const dataTable =\n",
              "          await google.colab.kernel.invokeFunction('convertToInteractive',\n",
              "                                                    [key], {});\n",
              "        if (!dataTable) return;\n",
              "\n",
              "        const docLinkHtml = 'Like what you see? Visit the ' +\n",
              "          '<a target=\"_blank\" href=https://colab.research.google.com/notebooks/data_table.ipynb>data table notebook</a>'\n",
              "          + ' to learn more about interactive tables.';\n",
              "        element.innerHTML = '';\n",
              "        dataTable['output_type'] = 'display_data';\n",
              "        await google.colab.output.renderOutput(dataTable, element);\n",
              "        const docLink = document.createElement('div');\n",
              "        docLink.innerHTML = docLinkHtml;\n",
              "        element.appendChild(docLink);\n",
              "      }\n",
              "    </script>\n",
              "  </div>\n",
              "\n",
              "\n",
              "<div id=\"df-5c7970e0-8f5d-4ce7-9872-4a27f834f08b\">\n",
              "  <button class=\"colab-df-quickchart\" onclick=\"quickchart('df-5c7970e0-8f5d-4ce7-9872-4a27f834f08b')\"\n",
              "            title=\"Suggest charts\"\n",
              "            style=\"display:none;\">\n",
              "\n",
              "<svg xmlns=\"http://www.w3.org/2000/svg\" height=\"24px\"viewBox=\"0 0 24 24\"\n",
              "     width=\"24px\">\n",
              "    <g>\n",
              "        <path d=\"M19 3H5c-1.1 0-2 .9-2 2v14c0 1.1.9 2 2 2h14c1.1 0 2-.9 2-2V5c0-1.1-.9-2-2-2zM9 17H7v-7h2v7zm4 0h-2V7h2v10zm4 0h-2v-4h2v4z\"/>\n",
              "    </g>\n",
              "</svg>\n",
              "  </button>\n",
              "\n",
              "<style>\n",
              "  .colab-df-quickchart {\n",
              "      --bg-color: #E8F0FE;\n",
              "      --fill-color: #1967D2;\n",
              "      --hover-bg-color: #E2EBFA;\n",
              "      --hover-fill-color: #174EA6;\n",
              "      --disabled-fill-color: #AAA;\n",
              "      --disabled-bg-color: #DDD;\n",
              "  }\n",
              "\n",
              "  [theme=dark] .colab-df-quickchart {\n",
              "      --bg-color: #3B4455;\n",
              "      --fill-color: #D2E3FC;\n",
              "      --hover-bg-color: #434B5C;\n",
              "      --hover-fill-color: #FFFFFF;\n",
              "      --disabled-bg-color: #3B4455;\n",
              "      --disabled-fill-color: #666;\n",
              "  }\n",
              "\n",
              "  .colab-df-quickchart {\n",
              "    background-color: var(--bg-color);\n",
              "    border: none;\n",
              "    border-radius: 50%;\n",
              "    cursor: pointer;\n",
              "    display: none;\n",
              "    fill: var(--fill-color);\n",
              "    height: 32px;\n",
              "    padding: 0;\n",
              "    width: 32px;\n",
              "  }\n",
              "\n",
              "  .colab-df-quickchart:hover {\n",
              "    background-color: var(--hover-bg-color);\n",
              "    box-shadow: 0 1px 2px rgba(60, 64, 67, 0.3), 0 1px 3px 1px rgba(60, 64, 67, 0.15);\n",
              "    fill: var(--button-hover-fill-color);\n",
              "  }\n",
              "\n",
              "  .colab-df-quickchart-complete:disabled,\n",
              "  .colab-df-quickchart-complete:disabled:hover {\n",
              "    background-color: var(--disabled-bg-color);\n",
              "    fill: var(--disabled-fill-color);\n",
              "    box-shadow: none;\n",
              "  }\n",
              "\n",
              "  .colab-df-spinner {\n",
              "    border: 2px solid var(--fill-color);\n",
              "    border-color: transparent;\n",
              "    border-bottom-color: var(--fill-color);\n",
              "    animation:\n",
              "      spin 1s steps(1) infinite;\n",
              "  }\n",
              "\n",
              "  @keyframes spin {\n",
              "    0% {\n",
              "      border-color: transparent;\n",
              "      border-bottom-color: var(--fill-color);\n",
              "      border-left-color: var(--fill-color);\n",
              "    }\n",
              "    20% {\n",
              "      border-color: transparent;\n",
              "      border-left-color: var(--fill-color);\n",
              "      border-top-color: var(--fill-color);\n",
              "    }\n",
              "    30% {\n",
              "      border-color: transparent;\n",
              "      border-left-color: var(--fill-color);\n",
              "      border-top-color: var(--fill-color);\n",
              "      border-right-color: var(--fill-color);\n",
              "    }\n",
              "    40% {\n",
              "      border-color: transparent;\n",
              "      border-right-color: var(--fill-color);\n",
              "      border-top-color: var(--fill-color);\n",
              "    }\n",
              "    60% {\n",
              "      border-color: transparent;\n",
              "      border-right-color: var(--fill-color);\n",
              "    }\n",
              "    80% {\n",
              "      border-color: transparent;\n",
              "      border-right-color: var(--fill-color);\n",
              "      border-bottom-color: var(--fill-color);\n",
              "    }\n",
              "    90% {\n",
              "      border-color: transparent;\n",
              "      border-bottom-color: var(--fill-color);\n",
              "    }\n",
              "  }\n",
              "</style>\n",
              "\n",
              "  <script>\n",
              "    async function quickchart(key) {\n",
              "      const quickchartButtonEl =\n",
              "        document.querySelector('#' + key + ' button');\n",
              "      quickchartButtonEl.disabled = true;  // To prevent multiple clicks.\n",
              "      quickchartButtonEl.classList.add('colab-df-spinner');\n",
              "      try {\n",
              "        const charts = await google.colab.kernel.invokeFunction(\n",
              "            'suggestCharts', [key], {});\n",
              "      } catch (error) {\n",
              "        console.error('Error during call to suggestCharts:', error);\n",
              "      }\n",
              "      quickchartButtonEl.classList.remove('colab-df-spinner');\n",
              "      quickchartButtonEl.classList.add('colab-df-quickchart-complete');\n",
              "    }\n",
              "    (() => {\n",
              "      let quickchartButtonEl =\n",
              "        document.querySelector('#df-5c7970e0-8f5d-4ce7-9872-4a27f834f08b button');\n",
              "      quickchartButtonEl.style.display =\n",
              "        google.colab.kernel.accessAllowed ? 'block' : 'none';\n",
              "    })();\n",
              "  </script>\n",
              "</div>\n",
              "\n",
              "    </div>\n",
              "  </div>\n"
            ],
            "application/vnd.google.colaboratory.intrinsic+json": {
              "type": "dataframe",
              "summary": "{\n  \"name\": \"display(val_df\",\n  \"rows\": 5,\n  \"fields\": [\n    {\n      \"column\": \"User_ID\",\n      \"properties\": {\n        \"dtype\": \"string\",\n        \"num_unique_values\": 5,\n        \"samples\": [\n          \"2\",\n          \"5\",\n          \"3\"\n        ],\n        \"semantic_type\": \"\",\n        \"description\": \"\"\n      }\n    },\n    {\n      \"column\": \"Age\",\n      \"properties\": {\n        \"dtype\": \"string\",\n        \"num_unique_values\": 5,\n        \"samples\": [\n          \"30\",\n          \"33\",\n          \"22\"\n        ],\n        \"semantic_type\": \"\",\n        \"description\": \"\"\n      }\n    },\n    {\n      \"column\": \"Gender\",\n      \"properties\": {\n        \"dtype\": \"string\",\n        \"num_unique_values\": 3,\n        \"samples\": [\n          \"Female\",\n          \"Male\",\n          \"Non-binary\"\n        ],\n        \"semantic_type\": \"\",\n        \"description\": \"\"\n      }\n    },\n    {\n      \"column\": \"Platform\",\n      \"properties\": {\n        \"dtype\": \"string\",\n        \"num_unique_values\": 4,\n        \"samples\": [\n          \"Twitter\",\n          \"LinkedIn\",\n          \"Instagram\"\n        ],\n        \"semantic_type\": \"\",\n        \"description\": \"\"\n      }\n    },\n    {\n      \"column\": \"Daily_Usage_Time (minutes)\",\n      \"properties\": {\n        \"dtype\": \"number\",\n        \"std\": 61.40032573203501,\n        \"min\": 45.0,\n        \"max\": 200.0,\n        \"num_unique_values\": 5,\n        \"samples\": [\n          90.0,\n          45.0,\n          60.0\n        ],\n        \"semantic_type\": \"\",\n        \"description\": \"\"\n      }\n    },\n    {\n      \"column\": \"Posts_Per_Day\",\n      \"properties\": {\n        \"dtype\": \"number\",\n        \"std\": 2.7748873851023217,\n        \"min\": 1.0,\n        \"max\": 8.0,\n        \"num_unique_values\": 5,\n        \"samples\": [\n          5.0,\n          1.0,\n          2.0\n        ],\n        \"semantic_type\": \"\",\n        \"description\": \"\"\n      }\n    },\n    {\n      \"column\": \"Likes_Received_Per_Day\",\n      \"properties\": {\n        \"dtype\": \"number\",\n        \"std\": 38.17721833764215,\n        \"min\": 5.0,\n        \"max\": 100.0,\n        \"num_unique_values\": 5,\n        \"samples\": [\n          20.0,\n          5.0,\n          15.0\n        ],\n        \"semantic_type\": \"\",\n        \"description\": \"\"\n      }\n    },\n    {\n      \"column\": \"Comments_Received_Per_Day\",\n      \"properties\": {\n        \"dtype\": \"number\",\n        \"std\": 12.421755109484328,\n        \"min\": 2.0,\n        \"max\": 30.0,\n        \"num_unique_values\": 5,\n        \"samples\": [\n          25.0,\n          2.0,\n          5.0\n        ],\n        \"semantic_type\": \"\",\n        \"description\": \"\"\n      }\n    },\n    {\n      \"column\": \"Messages_Sent_Per_Day\",\n      \"properties\": {\n        \"dtype\": \"number\",\n        \"std\": 16.334013591276335,\n        \"min\": 10.0,\n        \"max\": 50.0,\n        \"num_unique_values\": 5,\n        \"samples\": [\n          30.0,\n          10.0,\n          20.0\n        ],\n        \"semantic_type\": \"\",\n        \"description\": \"\"\n      }\n    },\n    {\n      \"column\": \"Dominant_Emotion\",\n      \"properties\": {\n        \"dtype\": \"string\",\n        \"num_unique_values\": 5,\n        \"samples\": [\n          \"Anger\",\n          \"Boredom\",\n          \"Neutral\"\n        ],\n        \"semantic_type\": \"\",\n        \"description\": \"\"\n      }\n    }\n  ]\n}"
            }
          },
          "metadata": {}
        },
        {
          "output_type": "stream",
          "name": "stdout",
          "text": [
            "----------------------------------------------------------------------\n",
            "Testing Data:\n"
          ]
        },
        {
          "output_type": "display_data",
          "data": {
            "text/plain": [
              "   User_ID Age      Gender  Platform  Daily_Usage_Time (minutes)  \\\n",
              "0      500  27      Female  Snapchat                         120   \n",
              "1      488  21  Non-binary  Snapchat                          60   \n",
              "2      776  28  Non-binary  Snapchat                         115   \n",
              "3      869  27        Male  Telegram                         105   \n",
              "4      573  21  Non-binary  Facebook                          55   \n",
              "\n",
              "   Posts_Per_Day  Likes_Received_Per_Day  Comments_Received_Per_Day  \\\n",
              "0              4                      40                         18   \n",
              "1              1                      18                          7   \n",
              "2              3                      38                         18   \n",
              "3              3                      48                         20   \n",
              "4              3                      17                          7   \n",
              "\n",
              "   Messages_Sent_Per_Day Dominant_Emotion  \n",
              "0                     22          Neutral  \n",
              "1                     12          Neutral  \n",
              "2                     27          Anxiety  \n",
              "3                     28          Anxiety  \n",
              "4                     12          Neutral  "
            ],
            "text/html": [
              "\n",
              "  <div id=\"df-af7fb015-b735-4461-9b26-f16c24c2856c\" class=\"colab-df-container\">\n",
              "    <div>\n",
              "<style scoped>\n",
              "    .dataframe tbody tr th:only-of-type {\n",
              "        vertical-align: middle;\n",
              "    }\n",
              "\n",
              "    .dataframe tbody tr th {\n",
              "        vertical-align: top;\n",
              "    }\n",
              "\n",
              "    .dataframe thead th {\n",
              "        text-align: right;\n",
              "    }\n",
              "</style>\n",
              "<table border=\"1\" class=\"dataframe\">\n",
              "  <thead>\n",
              "    <tr style=\"text-align: right;\">\n",
              "      <th></th>\n",
              "      <th>User_ID</th>\n",
              "      <th>Age</th>\n",
              "      <th>Gender</th>\n",
              "      <th>Platform</th>\n",
              "      <th>Daily_Usage_Time (minutes)</th>\n",
              "      <th>Posts_Per_Day</th>\n",
              "      <th>Likes_Received_Per_Day</th>\n",
              "      <th>Comments_Received_Per_Day</th>\n",
              "      <th>Messages_Sent_Per_Day</th>\n",
              "      <th>Dominant_Emotion</th>\n",
              "    </tr>\n",
              "  </thead>\n",
              "  <tbody>\n",
              "    <tr>\n",
              "      <th>0</th>\n",
              "      <td>500</td>\n",
              "      <td>27</td>\n",
              "      <td>Female</td>\n",
              "      <td>Snapchat</td>\n",
              "      <td>120</td>\n",
              "      <td>4</td>\n",
              "      <td>40</td>\n",
              "      <td>18</td>\n",
              "      <td>22</td>\n",
              "      <td>Neutral</td>\n",
              "    </tr>\n",
              "    <tr>\n",
              "      <th>1</th>\n",
              "      <td>488</td>\n",
              "      <td>21</td>\n",
              "      <td>Non-binary</td>\n",
              "      <td>Snapchat</td>\n",
              "      <td>60</td>\n",
              "      <td>1</td>\n",
              "      <td>18</td>\n",
              "      <td>7</td>\n",
              "      <td>12</td>\n",
              "      <td>Neutral</td>\n",
              "    </tr>\n",
              "    <tr>\n",
              "      <th>2</th>\n",
              "      <td>776</td>\n",
              "      <td>28</td>\n",
              "      <td>Non-binary</td>\n",
              "      <td>Snapchat</td>\n",
              "      <td>115</td>\n",
              "      <td>3</td>\n",
              "      <td>38</td>\n",
              "      <td>18</td>\n",
              "      <td>27</td>\n",
              "      <td>Anxiety</td>\n",
              "    </tr>\n",
              "    <tr>\n",
              "      <th>3</th>\n",
              "      <td>869</td>\n",
              "      <td>27</td>\n",
              "      <td>Male</td>\n",
              "      <td>Telegram</td>\n",
              "      <td>105</td>\n",
              "      <td>3</td>\n",
              "      <td>48</td>\n",
              "      <td>20</td>\n",
              "      <td>28</td>\n",
              "      <td>Anxiety</td>\n",
              "    </tr>\n",
              "    <tr>\n",
              "      <th>4</th>\n",
              "      <td>573</td>\n",
              "      <td>21</td>\n",
              "      <td>Non-binary</td>\n",
              "      <td>Facebook</td>\n",
              "      <td>55</td>\n",
              "      <td>3</td>\n",
              "      <td>17</td>\n",
              "      <td>7</td>\n",
              "      <td>12</td>\n",
              "      <td>Neutral</td>\n",
              "    </tr>\n",
              "  </tbody>\n",
              "</table>\n",
              "</div>\n",
              "    <div class=\"colab-df-buttons\">\n",
              "\n",
              "  <div class=\"colab-df-container\">\n",
              "    <button class=\"colab-df-convert\" onclick=\"convertToInteractive('df-af7fb015-b735-4461-9b26-f16c24c2856c')\"\n",
              "            title=\"Convert this dataframe to an interactive table.\"\n",
              "            style=\"display:none;\">\n",
              "\n",
              "  <svg xmlns=\"http://www.w3.org/2000/svg\" height=\"24px\" viewBox=\"0 -960 960 960\">\n",
              "    <path d=\"M120-120v-720h720v720H120Zm60-500h600v-160H180v160Zm220 220h160v-160H400v160Zm0 220h160v-160H400v160ZM180-400h160v-160H180v160Zm440 0h160v-160H620v160ZM180-180h160v-160H180v160Zm440 0h160v-160H620v160Z\"/>\n",
              "  </svg>\n",
              "    </button>\n",
              "\n",
              "  <style>\n",
              "    .colab-df-container {\n",
              "      display:flex;\n",
              "      gap: 12px;\n",
              "    }\n",
              "\n",
              "    .colab-df-convert {\n",
              "      background-color: #E8F0FE;\n",
              "      border: none;\n",
              "      border-radius: 50%;\n",
              "      cursor: pointer;\n",
              "      display: none;\n",
              "      fill: #1967D2;\n",
              "      height: 32px;\n",
              "      padding: 0 0 0 0;\n",
              "      width: 32px;\n",
              "    }\n",
              "\n",
              "    .colab-df-convert:hover {\n",
              "      background-color: #E2EBFA;\n",
              "      box-shadow: 0px 1px 2px rgba(60, 64, 67, 0.3), 0px 1px 3px 1px rgba(60, 64, 67, 0.15);\n",
              "      fill: #174EA6;\n",
              "    }\n",
              "\n",
              "    .colab-df-buttons div {\n",
              "      margin-bottom: 4px;\n",
              "    }\n",
              "\n",
              "    [theme=dark] .colab-df-convert {\n",
              "      background-color: #3B4455;\n",
              "      fill: #D2E3FC;\n",
              "    }\n",
              "\n",
              "    [theme=dark] .colab-df-convert:hover {\n",
              "      background-color: #434B5C;\n",
              "      box-shadow: 0px 1px 3px 1px rgba(0, 0, 0, 0.15);\n",
              "      filter: drop-shadow(0px 1px 2px rgba(0, 0, 0, 0.3));\n",
              "      fill: #FFFFFF;\n",
              "    }\n",
              "  </style>\n",
              "\n",
              "    <script>\n",
              "      const buttonEl =\n",
              "        document.querySelector('#df-af7fb015-b735-4461-9b26-f16c24c2856c button.colab-df-convert');\n",
              "      buttonEl.style.display =\n",
              "        google.colab.kernel.accessAllowed ? 'block' : 'none';\n",
              "\n",
              "      async function convertToInteractive(key) {\n",
              "        const element = document.querySelector('#df-af7fb015-b735-4461-9b26-f16c24c2856c');\n",
              "        const dataTable =\n",
              "          await google.colab.kernel.invokeFunction('convertToInteractive',\n",
              "                                                    [key], {});\n",
              "        if (!dataTable) return;\n",
              "\n",
              "        const docLinkHtml = 'Like what you see? Visit the ' +\n",
              "          '<a target=\"_blank\" href=https://colab.research.google.com/notebooks/data_table.ipynb>data table notebook</a>'\n",
              "          + ' to learn more about interactive tables.';\n",
              "        element.innerHTML = '';\n",
              "        dataTable['output_type'] = 'display_data';\n",
              "        await google.colab.output.renderOutput(dataTable, element);\n",
              "        const docLink = document.createElement('div');\n",
              "        docLink.innerHTML = docLinkHtml;\n",
              "        element.appendChild(docLink);\n",
              "      }\n",
              "    </script>\n",
              "  </div>\n",
              "\n",
              "\n",
              "<div id=\"df-984f900a-4341-452d-b70f-dd035db1eff8\">\n",
              "  <button class=\"colab-df-quickchart\" onclick=\"quickchart('df-984f900a-4341-452d-b70f-dd035db1eff8')\"\n",
              "            title=\"Suggest charts\"\n",
              "            style=\"display:none;\">\n",
              "\n",
              "<svg xmlns=\"http://www.w3.org/2000/svg\" height=\"24px\"viewBox=\"0 0 24 24\"\n",
              "     width=\"24px\">\n",
              "    <g>\n",
              "        <path d=\"M19 3H5c-1.1 0-2 .9-2 2v14c0 1.1.9 2 2 2h14c1.1 0 2-.9 2-2V5c0-1.1-.9-2-2-2zM9 17H7v-7h2v7zm4 0h-2V7h2v10zm4 0h-2v-4h2v4z\"/>\n",
              "    </g>\n",
              "</svg>\n",
              "  </button>\n",
              "\n",
              "<style>\n",
              "  .colab-df-quickchart {\n",
              "      --bg-color: #E8F0FE;\n",
              "      --fill-color: #1967D2;\n",
              "      --hover-bg-color: #E2EBFA;\n",
              "      --hover-fill-color: #174EA6;\n",
              "      --disabled-fill-color: #AAA;\n",
              "      --disabled-bg-color: #DDD;\n",
              "  }\n",
              "\n",
              "  [theme=dark] .colab-df-quickchart {\n",
              "      --bg-color: #3B4455;\n",
              "      --fill-color: #D2E3FC;\n",
              "      --hover-bg-color: #434B5C;\n",
              "      --hover-fill-color: #FFFFFF;\n",
              "      --disabled-bg-color: #3B4455;\n",
              "      --disabled-fill-color: #666;\n",
              "  }\n",
              "\n",
              "  .colab-df-quickchart {\n",
              "    background-color: var(--bg-color);\n",
              "    border: none;\n",
              "    border-radius: 50%;\n",
              "    cursor: pointer;\n",
              "    display: none;\n",
              "    fill: var(--fill-color);\n",
              "    height: 32px;\n",
              "    padding: 0;\n",
              "    width: 32px;\n",
              "  }\n",
              "\n",
              "  .colab-df-quickchart:hover {\n",
              "    background-color: var(--hover-bg-color);\n",
              "    box-shadow: 0 1px 2px rgba(60, 64, 67, 0.3), 0 1px 3px 1px rgba(60, 64, 67, 0.15);\n",
              "    fill: var(--button-hover-fill-color);\n",
              "  }\n",
              "\n",
              "  .colab-df-quickchart-complete:disabled,\n",
              "  .colab-df-quickchart-complete:disabled:hover {\n",
              "    background-color: var(--disabled-bg-color);\n",
              "    fill: var(--disabled-fill-color);\n",
              "    box-shadow: none;\n",
              "  }\n",
              "\n",
              "  .colab-df-spinner {\n",
              "    border: 2px solid var(--fill-color);\n",
              "    border-color: transparent;\n",
              "    border-bottom-color: var(--fill-color);\n",
              "    animation:\n",
              "      spin 1s steps(1) infinite;\n",
              "  }\n",
              "\n",
              "  @keyframes spin {\n",
              "    0% {\n",
              "      border-color: transparent;\n",
              "      border-bottom-color: var(--fill-color);\n",
              "      border-left-color: var(--fill-color);\n",
              "    }\n",
              "    20% {\n",
              "      border-color: transparent;\n",
              "      border-left-color: var(--fill-color);\n",
              "      border-top-color: var(--fill-color);\n",
              "    }\n",
              "    30% {\n",
              "      border-color: transparent;\n",
              "      border-left-color: var(--fill-color);\n",
              "      border-top-color: var(--fill-color);\n",
              "      border-right-color: var(--fill-color);\n",
              "    }\n",
              "    40% {\n",
              "      border-color: transparent;\n",
              "      border-right-color: var(--fill-color);\n",
              "      border-top-color: var(--fill-color);\n",
              "    }\n",
              "    60% {\n",
              "      border-color: transparent;\n",
              "      border-right-color: var(--fill-color);\n",
              "    }\n",
              "    80% {\n",
              "      border-color: transparent;\n",
              "      border-right-color: var(--fill-color);\n",
              "      border-bottom-color: var(--fill-color);\n",
              "    }\n",
              "    90% {\n",
              "      border-color: transparent;\n",
              "      border-bottom-color: var(--fill-color);\n",
              "    }\n",
              "  }\n",
              "</style>\n",
              "\n",
              "  <script>\n",
              "    async function quickchart(key) {\n",
              "      const quickchartButtonEl =\n",
              "        document.querySelector('#' + key + ' button');\n",
              "      quickchartButtonEl.disabled = true;  // To prevent multiple clicks.\n",
              "      quickchartButtonEl.classList.add('colab-df-spinner');\n",
              "      try {\n",
              "        const charts = await google.colab.kernel.invokeFunction(\n",
              "            'suggestCharts', [key], {});\n",
              "      } catch (error) {\n",
              "        console.error('Error during call to suggestCharts:', error);\n",
              "      }\n",
              "      quickchartButtonEl.classList.remove('colab-df-spinner');\n",
              "      quickchartButtonEl.classList.add('colab-df-quickchart-complete');\n",
              "    }\n",
              "    (() => {\n",
              "      let quickchartButtonEl =\n",
              "        document.querySelector('#df-984f900a-4341-452d-b70f-dd035db1eff8 button');\n",
              "      quickchartButtonEl.style.display =\n",
              "        google.colab.kernel.accessAllowed ? 'block' : 'none';\n",
              "    })();\n",
              "  </script>\n",
              "</div>\n",
              "\n",
              "    </div>\n",
              "  </div>\n"
            ],
            "application/vnd.google.colaboratory.intrinsic+json": {
              "type": "dataframe",
              "summary": "{\n  \"name\": \"display(val_df\",\n  \"rows\": 5,\n  \"fields\": [\n    {\n      \"column\": \"User_ID\",\n      \"properties\": {\n        \"dtype\": \"number\",\n        \"std\": 171,\n        \"min\": 488,\n        \"max\": 869,\n        \"num_unique_values\": 5,\n        \"samples\": [\n          488,\n          573,\n          776\n        ],\n        \"semantic_type\": \"\",\n        \"description\": \"\"\n      }\n    },\n    {\n      \"column\": \"Age\",\n      \"properties\": {\n        \"dtype\": \"string\",\n        \"num_unique_values\": 3,\n        \"samples\": [\n          \"27\",\n          \"21\",\n          \"28\"\n        ],\n        \"semantic_type\": \"\",\n        \"description\": \"\"\n      }\n    },\n    {\n      \"column\": \"Gender\",\n      \"properties\": {\n        \"dtype\": \"string\",\n        \"num_unique_values\": 3,\n        \"samples\": [\n          \"Female\",\n          \"Non-binary\",\n          \"Male\"\n        ],\n        \"semantic_type\": \"\",\n        \"description\": \"\"\n      }\n    },\n    {\n      \"column\": \"Platform\",\n      \"properties\": {\n        \"dtype\": \"string\",\n        \"num_unique_values\": 3,\n        \"samples\": [\n          \"Snapchat\",\n          \"Telegram\",\n          \"Facebook\"\n        ],\n        \"semantic_type\": \"\",\n        \"description\": \"\"\n      }\n    },\n    {\n      \"column\": \"Daily_Usage_Time (minutes)\",\n      \"properties\": {\n        \"dtype\": \"number\",\n        \"std\": 31,\n        \"min\": 55,\n        \"max\": 120,\n        \"num_unique_values\": 5,\n        \"samples\": [\n          60,\n          55,\n          115\n        ],\n        \"semantic_type\": \"\",\n        \"description\": \"\"\n      }\n    },\n    {\n      \"column\": \"Posts_Per_Day\",\n      \"properties\": {\n        \"dtype\": \"number\",\n        \"std\": 1,\n        \"min\": 1,\n        \"max\": 4,\n        \"num_unique_values\": 3,\n        \"samples\": [\n          4,\n          1,\n          3\n        ],\n        \"semantic_type\": \"\",\n        \"description\": \"\"\n      }\n    },\n    {\n      \"column\": \"Likes_Received_Per_Day\",\n      \"properties\": {\n        \"dtype\": \"number\",\n        \"std\": 13,\n        \"min\": 17,\n        \"max\": 48,\n        \"num_unique_values\": 5,\n        \"samples\": [\n          18,\n          17,\n          38\n        ],\n        \"semantic_type\": \"\",\n        \"description\": \"\"\n      }\n    },\n    {\n      \"column\": \"Comments_Received_Per_Day\",\n      \"properties\": {\n        \"dtype\": \"number\",\n        \"std\": 6,\n        \"min\": 7,\n        \"max\": 20,\n        \"num_unique_values\": 3,\n        \"samples\": [\n          18,\n          7,\n          20\n        ],\n        \"semantic_type\": \"\",\n        \"description\": \"\"\n      }\n    },\n    {\n      \"column\": \"Messages_Sent_Per_Day\",\n      \"properties\": {\n        \"dtype\": \"number\",\n        \"std\": 7,\n        \"min\": 12,\n        \"max\": 28,\n        \"num_unique_values\": 4,\n        \"samples\": [\n          12,\n          28,\n          22\n        ],\n        \"semantic_type\": \"\",\n        \"description\": \"\"\n      }\n    },\n    {\n      \"column\": \"Dominant_Emotion\",\n      \"properties\": {\n        \"dtype\": \"category\",\n        \"num_unique_values\": 2,\n        \"samples\": [\n          \"Anxiety\",\n          \"Neutral\"\n        ],\n        \"semantic_type\": \"\",\n        \"description\": \"\"\n      }\n    }\n  ]\n}"
            }
          },
          "metadata": {}
        },
        {
          "output_type": "stream",
          "name": "stdout",
          "text": [
            "----------------------------------------------------------------------\n",
            "Validation Data:\n"
          ]
        },
        {
          "output_type": "display_data",
          "data": {
            "text/plain": [
              "   User_ID Age      Gender   Platform  Daily_Usage_Time (minutes)  \\\n",
              "0       10  31        Male  Instagram                         170   \n",
              "1      877  32      Female  Instagram                         155   \n",
              "2      230  26  Non-binary   Facebook                          45   \n",
              "3      876  28  Non-binary   Snapchat                         115   \n",
              "4      376  28  Non-binary   Snapchat                         115   \n",
              "\n",
              "   Posts_Per_Day  Likes_Received_Per_Day  Comments_Received_Per_Day  \\\n",
              "0              5                      80                         20   \n",
              "1              6                      75                         25   \n",
              "2              1                       8                          4   \n",
              "3              3                      38                         18   \n",
              "4              3                      38                         18   \n",
              "\n",
              "  Messages_Sent_Per_Day Dominant_Emotion  \n",
              "0                    35        Happiness  \n",
              "1                    38        Happiness  \n",
              "2                    12          Sadness  \n",
              "3                    27          Anxiety  \n",
              "4                    27          Anxiety  "
            ],
            "text/html": [
              "\n",
              "  <div id=\"df-3056d103-97e2-4862-b4a4-cf295722641c\" class=\"colab-df-container\">\n",
              "    <div>\n",
              "<style scoped>\n",
              "    .dataframe tbody tr th:only-of-type {\n",
              "        vertical-align: middle;\n",
              "    }\n",
              "\n",
              "    .dataframe tbody tr th {\n",
              "        vertical-align: top;\n",
              "    }\n",
              "\n",
              "    .dataframe thead th {\n",
              "        text-align: right;\n",
              "    }\n",
              "</style>\n",
              "<table border=\"1\" class=\"dataframe\">\n",
              "  <thead>\n",
              "    <tr style=\"text-align: right;\">\n",
              "      <th></th>\n",
              "      <th>User_ID</th>\n",
              "      <th>Age</th>\n",
              "      <th>Gender</th>\n",
              "      <th>Platform</th>\n",
              "      <th>Daily_Usage_Time (minutes)</th>\n",
              "      <th>Posts_Per_Day</th>\n",
              "      <th>Likes_Received_Per_Day</th>\n",
              "      <th>Comments_Received_Per_Day</th>\n",
              "      <th>Messages_Sent_Per_Day</th>\n",
              "      <th>Dominant_Emotion</th>\n",
              "    </tr>\n",
              "  </thead>\n",
              "  <tbody>\n",
              "    <tr>\n",
              "      <th>0</th>\n",
              "      <td>10</td>\n",
              "      <td>31</td>\n",
              "      <td>Male</td>\n",
              "      <td>Instagram</td>\n",
              "      <td>170</td>\n",
              "      <td>5</td>\n",
              "      <td>80</td>\n",
              "      <td>20</td>\n",
              "      <td>35</td>\n",
              "      <td>Happiness</td>\n",
              "    </tr>\n",
              "    <tr>\n",
              "      <th>1</th>\n",
              "      <td>877</td>\n",
              "      <td>32</td>\n",
              "      <td>Female</td>\n",
              "      <td>Instagram</td>\n",
              "      <td>155</td>\n",
              "      <td>6</td>\n",
              "      <td>75</td>\n",
              "      <td>25</td>\n",
              "      <td>38</td>\n",
              "      <td>Happiness</td>\n",
              "    </tr>\n",
              "    <tr>\n",
              "      <th>2</th>\n",
              "      <td>230</td>\n",
              "      <td>26</td>\n",
              "      <td>Non-binary</td>\n",
              "      <td>Facebook</td>\n",
              "      <td>45</td>\n",
              "      <td>1</td>\n",
              "      <td>8</td>\n",
              "      <td>4</td>\n",
              "      <td>12</td>\n",
              "      <td>Sadness</td>\n",
              "    </tr>\n",
              "    <tr>\n",
              "      <th>3</th>\n",
              "      <td>876</td>\n",
              "      <td>28</td>\n",
              "      <td>Non-binary</td>\n",
              "      <td>Snapchat</td>\n",
              "      <td>115</td>\n",
              "      <td>3</td>\n",
              "      <td>38</td>\n",
              "      <td>18</td>\n",
              "      <td>27</td>\n",
              "      <td>Anxiety</td>\n",
              "    </tr>\n",
              "    <tr>\n",
              "      <th>4</th>\n",
              "      <td>376</td>\n",
              "      <td>28</td>\n",
              "      <td>Non-binary</td>\n",
              "      <td>Snapchat</td>\n",
              "      <td>115</td>\n",
              "      <td>3</td>\n",
              "      <td>38</td>\n",
              "      <td>18</td>\n",
              "      <td>27</td>\n",
              "      <td>Anxiety</td>\n",
              "    </tr>\n",
              "  </tbody>\n",
              "</table>\n",
              "</div>\n",
              "    <div class=\"colab-df-buttons\">\n",
              "\n",
              "  <div class=\"colab-df-container\">\n",
              "    <button class=\"colab-df-convert\" onclick=\"convertToInteractive('df-3056d103-97e2-4862-b4a4-cf295722641c')\"\n",
              "            title=\"Convert this dataframe to an interactive table.\"\n",
              "            style=\"display:none;\">\n",
              "\n",
              "  <svg xmlns=\"http://www.w3.org/2000/svg\" height=\"24px\" viewBox=\"0 -960 960 960\">\n",
              "    <path d=\"M120-120v-720h720v720H120Zm60-500h600v-160H180v160Zm220 220h160v-160H400v160Zm0 220h160v-160H400v160ZM180-400h160v-160H180v160Zm440 0h160v-160H620v160ZM180-180h160v-160H180v160Zm440 0h160v-160H620v160Z\"/>\n",
              "  </svg>\n",
              "    </button>\n",
              "\n",
              "  <style>\n",
              "    .colab-df-container {\n",
              "      display:flex;\n",
              "      gap: 12px;\n",
              "    }\n",
              "\n",
              "    .colab-df-convert {\n",
              "      background-color: #E8F0FE;\n",
              "      border: none;\n",
              "      border-radius: 50%;\n",
              "      cursor: pointer;\n",
              "      display: none;\n",
              "      fill: #1967D2;\n",
              "      height: 32px;\n",
              "      padding: 0 0 0 0;\n",
              "      width: 32px;\n",
              "    }\n",
              "\n",
              "    .colab-df-convert:hover {\n",
              "      background-color: #E2EBFA;\n",
              "      box-shadow: 0px 1px 2px rgba(60, 64, 67, 0.3), 0px 1px 3px 1px rgba(60, 64, 67, 0.15);\n",
              "      fill: #174EA6;\n",
              "    }\n",
              "\n",
              "    .colab-df-buttons div {\n",
              "      margin-bottom: 4px;\n",
              "    }\n",
              "\n",
              "    [theme=dark] .colab-df-convert {\n",
              "      background-color: #3B4455;\n",
              "      fill: #D2E3FC;\n",
              "    }\n",
              "\n",
              "    [theme=dark] .colab-df-convert:hover {\n",
              "      background-color: #434B5C;\n",
              "      box-shadow: 0px 1px 3px 1px rgba(0, 0, 0, 0.15);\n",
              "      filter: drop-shadow(0px 1px 2px rgba(0, 0, 0, 0.3));\n",
              "      fill: #FFFFFF;\n",
              "    }\n",
              "  </style>\n",
              "\n",
              "    <script>\n",
              "      const buttonEl =\n",
              "        document.querySelector('#df-3056d103-97e2-4862-b4a4-cf295722641c button.colab-df-convert');\n",
              "      buttonEl.style.display =\n",
              "        google.colab.kernel.accessAllowed ? 'block' : 'none';\n",
              "\n",
              "      async function convertToInteractive(key) {\n",
              "        const element = document.querySelector('#df-3056d103-97e2-4862-b4a4-cf295722641c');\n",
              "        const dataTable =\n",
              "          await google.colab.kernel.invokeFunction('convertToInteractive',\n",
              "                                                    [key], {});\n",
              "        if (!dataTable) return;\n",
              "\n",
              "        const docLinkHtml = 'Like what you see? Visit the ' +\n",
              "          '<a target=\"_blank\" href=https://colab.research.google.com/notebooks/data_table.ipynb>data table notebook</a>'\n",
              "          + ' to learn more about interactive tables.';\n",
              "        element.innerHTML = '';\n",
              "        dataTable['output_type'] = 'display_data';\n",
              "        await google.colab.output.renderOutput(dataTable, element);\n",
              "        const docLink = document.createElement('div');\n",
              "        docLink.innerHTML = docLinkHtml;\n",
              "        element.appendChild(docLink);\n",
              "      }\n",
              "    </script>\n",
              "  </div>\n",
              "\n",
              "\n",
              "<div id=\"df-d0f1c509-6685-4e5e-939d-e30d677c7f08\">\n",
              "  <button class=\"colab-df-quickchart\" onclick=\"quickchart('df-d0f1c509-6685-4e5e-939d-e30d677c7f08')\"\n",
              "            title=\"Suggest charts\"\n",
              "            style=\"display:none;\">\n",
              "\n",
              "<svg xmlns=\"http://www.w3.org/2000/svg\" height=\"24px\"viewBox=\"0 0 24 24\"\n",
              "     width=\"24px\">\n",
              "    <g>\n",
              "        <path d=\"M19 3H5c-1.1 0-2 .9-2 2v14c0 1.1.9 2 2 2h14c1.1 0 2-.9 2-2V5c0-1.1-.9-2-2-2zM9 17H7v-7h2v7zm4 0h-2V7h2v10zm4 0h-2v-4h2v4z\"/>\n",
              "    </g>\n",
              "</svg>\n",
              "  </button>\n",
              "\n",
              "<style>\n",
              "  .colab-df-quickchart {\n",
              "      --bg-color: #E8F0FE;\n",
              "      --fill-color: #1967D2;\n",
              "      --hover-bg-color: #E2EBFA;\n",
              "      --hover-fill-color: #174EA6;\n",
              "      --disabled-fill-color: #AAA;\n",
              "      --disabled-bg-color: #DDD;\n",
              "  }\n",
              "\n",
              "  [theme=dark] .colab-df-quickchart {\n",
              "      --bg-color: #3B4455;\n",
              "      --fill-color: #D2E3FC;\n",
              "      --hover-bg-color: #434B5C;\n",
              "      --hover-fill-color: #FFFFFF;\n",
              "      --disabled-bg-color: #3B4455;\n",
              "      --disabled-fill-color: #666;\n",
              "  }\n",
              "\n",
              "  .colab-df-quickchart {\n",
              "    background-color: var(--bg-color);\n",
              "    border: none;\n",
              "    border-radius: 50%;\n",
              "    cursor: pointer;\n",
              "    display: none;\n",
              "    fill: var(--fill-color);\n",
              "    height: 32px;\n",
              "    padding: 0;\n",
              "    width: 32px;\n",
              "  }\n",
              "\n",
              "  .colab-df-quickchart:hover {\n",
              "    background-color: var(--hover-bg-color);\n",
              "    box-shadow: 0 1px 2px rgba(60, 64, 67, 0.3), 0 1px 3px 1px rgba(60, 64, 67, 0.15);\n",
              "    fill: var(--button-hover-fill-color);\n",
              "  }\n",
              "\n",
              "  .colab-df-quickchart-complete:disabled,\n",
              "  .colab-df-quickchart-complete:disabled:hover {\n",
              "    background-color: var(--disabled-bg-color);\n",
              "    fill: var(--disabled-fill-color);\n",
              "    box-shadow: none;\n",
              "  }\n",
              "\n",
              "  .colab-df-spinner {\n",
              "    border: 2px solid var(--fill-color);\n",
              "    border-color: transparent;\n",
              "    border-bottom-color: var(--fill-color);\n",
              "    animation:\n",
              "      spin 1s steps(1) infinite;\n",
              "  }\n",
              "\n",
              "  @keyframes spin {\n",
              "    0% {\n",
              "      border-color: transparent;\n",
              "      border-bottom-color: var(--fill-color);\n",
              "      border-left-color: var(--fill-color);\n",
              "    }\n",
              "    20% {\n",
              "      border-color: transparent;\n",
              "      border-left-color: var(--fill-color);\n",
              "      border-top-color: var(--fill-color);\n",
              "    }\n",
              "    30% {\n",
              "      border-color: transparent;\n",
              "      border-left-color: var(--fill-color);\n",
              "      border-top-color: var(--fill-color);\n",
              "      border-right-color: var(--fill-color);\n",
              "    }\n",
              "    40% {\n",
              "      border-color: transparent;\n",
              "      border-right-color: var(--fill-color);\n",
              "      border-top-color: var(--fill-color);\n",
              "    }\n",
              "    60% {\n",
              "      border-color: transparent;\n",
              "      border-right-color: var(--fill-color);\n",
              "    }\n",
              "    80% {\n",
              "      border-color: transparent;\n",
              "      border-right-color: var(--fill-color);\n",
              "      border-bottom-color: var(--fill-color);\n",
              "    }\n",
              "    90% {\n",
              "      border-color: transparent;\n",
              "      border-bottom-color: var(--fill-color);\n",
              "    }\n",
              "  }\n",
              "</style>\n",
              "\n",
              "  <script>\n",
              "    async function quickchart(key) {\n",
              "      const quickchartButtonEl =\n",
              "        document.querySelector('#' + key + ' button');\n",
              "      quickchartButtonEl.disabled = true;  // To prevent multiple clicks.\n",
              "      quickchartButtonEl.classList.add('colab-df-spinner');\n",
              "      try {\n",
              "        const charts = await google.colab.kernel.invokeFunction(\n",
              "            'suggestCharts', [key], {});\n",
              "      } catch (error) {\n",
              "        console.error('Error during call to suggestCharts:', error);\n",
              "      }\n",
              "      quickchartButtonEl.classList.remove('colab-df-spinner');\n",
              "      quickchartButtonEl.classList.add('colab-df-quickchart-complete');\n",
              "    }\n",
              "    (() => {\n",
              "      let quickchartButtonEl =\n",
              "        document.querySelector('#df-d0f1c509-6685-4e5e-939d-e30d677c7f08 button');\n",
              "      quickchartButtonEl.style.display =\n",
              "        google.colab.kernel.accessAllowed ? 'block' : 'none';\n",
              "    })();\n",
              "  </script>\n",
              "</div>\n",
              "\n",
              "    </div>\n",
              "  </div>\n"
            ],
            "application/vnd.google.colaboratory.intrinsic+json": {
              "type": "dataframe",
              "summary": "{\n  \"name\": \"display(val_df\",\n  \"rows\": 5,\n  \"fields\": [\n    {\n      \"column\": \"User_ID\",\n      \"properties\": {\n        \"dtype\": \"number\",\n        \"std\": 390,\n        \"min\": 10,\n        \"max\": 877,\n        \"num_unique_values\": 5,\n        \"samples\": [\n          877,\n          376,\n          230\n        ],\n        \"semantic_type\": \"\",\n        \"description\": \"\"\n      }\n    },\n    {\n      \"column\": \"Age\",\n      \"properties\": {\n        \"dtype\": \"string\",\n        \"num_unique_values\": 4,\n        \"samples\": [\n          \"32\",\n          \"28\",\n          \"31\"\n        ],\n        \"semantic_type\": \"\",\n        \"description\": \"\"\n      }\n    },\n    {\n      \"column\": \"Gender\",\n      \"properties\": {\n        \"dtype\": \"string\",\n        \"num_unique_values\": 3,\n        \"samples\": [\n          \"Male\",\n          \"Female\",\n          \"Non-binary\"\n        ],\n        \"semantic_type\": \"\",\n        \"description\": \"\"\n      }\n    },\n    {\n      \"column\": \"Platform\",\n      \"properties\": {\n        \"dtype\": \"string\",\n        \"num_unique_values\": 3,\n        \"samples\": [\n          \"Instagram\",\n          \"Facebook\",\n          \"Snapchat\"\n        ],\n        \"semantic_type\": \"\",\n        \"description\": \"\"\n      }\n    },\n    {\n      \"column\": \"Daily_Usage_Time (minutes)\",\n      \"properties\": {\n        \"dtype\": \"number\",\n        \"std\": 48,\n        \"min\": 45,\n        \"max\": 170,\n        \"num_unique_values\": 4,\n        \"samples\": [\n          155,\n          115,\n          170\n        ],\n        \"semantic_type\": \"\",\n        \"description\": \"\"\n      }\n    },\n    {\n      \"column\": \"Posts_Per_Day\",\n      \"properties\": {\n        \"dtype\": \"number\",\n        \"std\": 1,\n        \"min\": 1,\n        \"max\": 6,\n        \"num_unique_values\": 4,\n        \"samples\": [\n          6,\n          3,\n          5\n        ],\n        \"semantic_type\": \"\",\n        \"description\": \"\"\n      }\n    },\n    {\n      \"column\": \"Likes_Received_Per_Day\",\n      \"properties\": {\n        \"dtype\": \"number\",\n        \"std\": 29,\n        \"min\": 8,\n        \"max\": 80,\n        \"num_unique_values\": 4,\n        \"samples\": [\n          75,\n          38,\n          80\n        ],\n        \"semantic_type\": \"\",\n        \"description\": \"\"\n      }\n    },\n    {\n      \"column\": \"Comments_Received_Per_Day\",\n      \"properties\": {\n        \"dtype\": \"number\",\n        \"std\": 7,\n        \"min\": 4,\n        \"max\": 25,\n        \"num_unique_values\": 4,\n        \"samples\": [\n          25,\n          18,\n          20\n        ],\n        \"semantic_type\": \"\",\n        \"description\": \"\"\n      }\n    },\n    {\n      \"column\": \"Messages_Sent_Per_Day\",\n      \"properties\": {\n        \"dtype\": \"string\",\n        \"num_unique_values\": 4,\n        \"samples\": [\n          \"38\",\n          \"27\",\n          \"35\"\n        ],\n        \"semantic_type\": \"\",\n        \"description\": \"\"\n      }\n    },\n    {\n      \"column\": \"Dominant_Emotion\",\n      \"properties\": {\n        \"dtype\": \"string\",\n        \"num_unique_values\": 3,\n        \"samples\": [\n          \"Happiness\",\n          \"Sadness\",\n          \"Anxiety\"\n        ],\n        \"semantic_type\": \"\",\n        \"description\": \"\"\n      }\n    }\n  ]\n}"
            }
          },
          "metadata": {}
        }
      ]
    },
    {
      "cell_type": "code",
      "source": [
        "# training data info\n",
        "print(\"Traing Data Info:\")\n",
        "train_df.info()"
      ],
      "metadata": {
        "colab": {
          "base_uri": "https://localhost:8080/"
        },
        "id": "ElQ-DXE8FMoS",
        "outputId": "b120ca2e-ee06-42e5-d3c6-229c704ca5c8"
      },
      "execution_count": 41,
      "outputs": [
        {
          "output_type": "stream",
          "name": "stdout",
          "text": [
            "Traing Data Info:\n",
            "<class 'pandas.core.frame.DataFrame'>\n",
            "RangeIndex: 1001 entries, 0 to 1000\n",
            "Data columns (total 10 columns):\n",
            " #   Column                      Non-Null Count  Dtype  \n",
            "---  ------                      --------------  -----  \n",
            " 0   User_ID                     1001 non-null   object \n",
            " 1   Age                         1001 non-null   object \n",
            " 2   Gender                      1000 non-null   object \n",
            " 3   Platform                    1000 non-null   object \n",
            " 4   Daily_Usage_Time (minutes)  1000 non-null   float64\n",
            " 5   Posts_Per_Day               1000 non-null   float64\n",
            " 6   Likes_Received_Per_Day      1000 non-null   float64\n",
            " 7   Comments_Received_Per_Day   1000 non-null   float64\n",
            " 8   Messages_Sent_Per_Day       1000 non-null   float64\n",
            " 9   Dominant_Emotion            1000 non-null   object \n",
            "dtypes: float64(5), object(5)\n",
            "memory usage: 78.3+ KB\n"
          ]
        }
      ]
    },
    {
      "cell_type": "code",
      "source": [
        "# testing data info\n",
        "print(\"Testing Data Info:\")\n",
        "test_df.info()"
      ],
      "metadata": {
        "colab": {
          "base_uri": "https://localhost:8080/"
        },
        "id": "oy49jRVbFdm7",
        "outputId": "ebc603ab-f822-4f70-e0c1-aa184018b7a4"
      },
      "execution_count": 42,
      "outputs": [
        {
          "output_type": "stream",
          "name": "stdout",
          "text": [
            "Testing Data Info:\n",
            "<class 'pandas.core.frame.DataFrame'>\n",
            "RangeIndex: 103 entries, 0 to 102\n",
            "Data columns (total 10 columns):\n",
            " #   Column                      Non-Null Count  Dtype \n",
            "---  ------                      --------------  ----- \n",
            " 0   User_ID                     103 non-null    int64 \n",
            " 1   Age                         103 non-null    object\n",
            " 2   Gender                      103 non-null    object\n",
            " 3   Platform                    103 non-null    object\n",
            " 4   Daily_Usage_Time (minutes)  103 non-null    int64 \n",
            " 5   Posts_Per_Day               103 non-null    int64 \n",
            " 6   Likes_Received_Per_Day      103 non-null    int64 \n",
            " 7   Comments_Received_Per_Day   103 non-null    int64 \n",
            " 8   Messages_Sent_Per_Day       103 non-null    int64 \n",
            " 9   Dominant_Emotion            103 non-null    object\n",
            "dtypes: int64(6), object(4)\n",
            "memory usage: 8.2+ KB\n"
          ]
        }
      ]
    },
    {
      "cell_type": "code",
      "source": [
        "# validation data info\n",
        "print(\"Validation Data Info:\")\n",
        "val_df.info()\n"
      ],
      "metadata": {
        "colab": {
          "base_uri": "https://localhost:8080/"
        },
        "id": "Fi0Lj6ifFiUN",
        "outputId": "fe0c07ae-d81f-4527-d4bf-06b36ece603c"
      },
      "execution_count": 43,
      "outputs": [
        {
          "output_type": "stream",
          "name": "stdout",
          "text": [
            "Validation Data Info:\n",
            "<class 'pandas.core.frame.DataFrame'>\n",
            "RangeIndex: 145 entries, 0 to 144\n",
            "Data columns (total 10 columns):\n",
            " #   Column                      Non-Null Count  Dtype \n",
            "---  ------                      --------------  ----- \n",
            " 0   User_ID                     145 non-null    int64 \n",
            " 1   Age                         145 non-null    object\n",
            " 2   Gender                      145 non-null    object\n",
            " 3   Platform                    145 non-null    object\n",
            " 4   Daily_Usage_Time (minutes)  145 non-null    int64 \n",
            " 5   Posts_Per_Day               145 non-null    int64 \n",
            " 6   Likes_Received_Per_Day      145 non-null    int64 \n",
            " 7   Comments_Received_Per_Day   145 non-null    int64 \n",
            " 8   Messages_Sent_Per_Day       145 non-null    object\n",
            " 9   Dominant_Emotion            144 non-null    object\n",
            "dtypes: int64(5), object(5)\n",
            "memory usage: 11.5+ KB\n"
          ]
        }
      ]
    },
    {
      "cell_type": "code",
      "source": [
        "print(f\"There are {train_df.shape[0]} rows and {train_df.shape[1]} columns in the training data.\")\n",
        "print(f\"There are {test_df.shape[0]} rows and {test_df.shape[1]} columns in the testing data.\")\n",
        "print(f\"There are {val_df.shape[0]} rows and {val_df.shape[1]} columns in the validation data.\")"
      ],
      "metadata": {
        "colab": {
          "base_uri": "https://localhost:8080/"
        },
        "id": "wonNPra3Fllf",
        "outputId": "0a70ddb0-58d4-4d29-994b-4c809399c99f"
      },
      "execution_count": 44,
      "outputs": [
        {
          "output_type": "stream",
          "name": "stdout",
          "text": [
            "There are 1001 rows and 10 columns in the training data.\n",
            "There are 103 rows and 10 columns in the testing data.\n",
            "There are 145 rows and 10 columns in the validation data.\n"
          ]
        }
      ]
    },
    {
      "cell_type": "code",
      "source": [
        "# checking for null values\n",
        "print(\"Training Data:\")\n",
        "display(train_df.isnull().sum())\n",
        "print(\"----------------------------------------------------------------------\")\n",
        "print(\"Testing Data:\")\n",
        "display(test_df.isnull().sum())\n",
        "print(\"----------------------------------------------------------------------\")\n",
        "print(\"Validation Data:\")\n",
        "display(val_df.isnull().sum())"
      ],
      "metadata": {
        "colab": {
          "base_uri": "https://localhost:8080/",
          "height": 676
        },
        "id": "VMKRw39RFqee",
        "outputId": "7ce8cdfe-e302-4ef7-cb38-6fb2d66eeda4"
      },
      "execution_count": 45,
      "outputs": [
        {
          "output_type": "stream",
          "name": "stdout",
          "text": [
            "Training Data:\n"
          ]
        },
        {
          "output_type": "display_data",
          "data": {
            "text/plain": [
              "User_ID                       0\n",
              "Age                           0\n",
              "Gender                        1\n",
              "Platform                      1\n",
              "Daily_Usage_Time (minutes)    1\n",
              "Posts_Per_Day                 1\n",
              "Likes_Received_Per_Day        1\n",
              "Comments_Received_Per_Day     1\n",
              "Messages_Sent_Per_Day         1\n",
              "Dominant_Emotion              1\n",
              "dtype: int64"
            ]
          },
          "metadata": {}
        },
        {
          "output_type": "stream",
          "name": "stdout",
          "text": [
            "----------------------------------------------------------------------\n",
            "Testing Data:\n"
          ]
        },
        {
          "output_type": "display_data",
          "data": {
            "text/plain": [
              "User_ID                       0\n",
              "Age                           0\n",
              "Gender                        0\n",
              "Platform                      0\n",
              "Daily_Usage_Time (minutes)    0\n",
              "Posts_Per_Day                 0\n",
              "Likes_Received_Per_Day        0\n",
              "Comments_Received_Per_Day     0\n",
              "Messages_Sent_Per_Day         0\n",
              "Dominant_Emotion              0\n",
              "dtype: int64"
            ]
          },
          "metadata": {}
        },
        {
          "output_type": "stream",
          "name": "stdout",
          "text": [
            "----------------------------------------------------------------------\n",
            "Validation Data:\n"
          ]
        },
        {
          "output_type": "display_data",
          "data": {
            "text/plain": [
              "User_ID                       0\n",
              "Age                           0\n",
              "Gender                        0\n",
              "Platform                      0\n",
              "Daily_Usage_Time (minutes)    0\n",
              "Posts_Per_Day                 0\n",
              "Likes_Received_Per_Day        0\n",
              "Comments_Received_Per_Day     0\n",
              "Messages_Sent_Per_Day         0\n",
              "Dominant_Emotion              1\n",
              "dtype: int64"
            ]
          },
          "metadata": {}
        }
      ]
    },
    {
      "cell_type": "markdown",
      "source": [
        "EXPLORATORY DATA ANALYSIS:"
      ],
      "metadata": {
        "id": "4yF9o-a0F2pK"
      }
    },
    {
      "cell_type": "code",
      "source": [
        "train_df.head()"
      ],
      "metadata": {
        "colab": {
          "base_uri": "https://localhost:8080/",
          "height": 261
        },
        "id": "iLJG3GbrFvZq",
        "outputId": "aefc67df-81d6-42bf-aa1d-698cd0af4ec1"
      },
      "execution_count": 46,
      "outputs": [
        {
          "output_type": "execute_result",
          "data": {
            "text/plain": [
              "  User_ID Age      Gender   Platform  Daily_Usage_Time (minutes)  \\\n",
              "0       1  25      Female  Instagram                       120.0   \n",
              "1       2  30        Male    Twitter                        90.0   \n",
              "2       3  22  Non-binary   Facebook                        60.0   \n",
              "3       4  28      Female  Instagram                       200.0   \n",
              "4       5  33        Male   LinkedIn                        45.0   \n",
              "\n",
              "   Posts_Per_Day  Likes_Received_Per_Day  Comments_Received_Per_Day  \\\n",
              "0            3.0                    45.0                       10.0   \n",
              "1            5.0                    20.0                       25.0   \n",
              "2            2.0                    15.0                        5.0   \n",
              "3            8.0                   100.0                       30.0   \n",
              "4            1.0                     5.0                        2.0   \n",
              "\n",
              "   Messages_Sent_Per_Day Dominant_Emotion  \n",
              "0                   12.0        Happiness  \n",
              "1                   30.0            Anger  \n",
              "2                   20.0          Neutral  \n",
              "3                   50.0          Anxiety  \n",
              "4                   10.0          Boredom  "
            ],
            "text/html": [
              "\n",
              "  <div id=\"df-681b6942-4d4e-43ba-a7ce-d6aa4e4cf5d0\" class=\"colab-df-container\">\n",
              "    <div>\n",
              "<style scoped>\n",
              "    .dataframe tbody tr th:only-of-type {\n",
              "        vertical-align: middle;\n",
              "    }\n",
              "\n",
              "    .dataframe tbody tr th {\n",
              "        vertical-align: top;\n",
              "    }\n",
              "\n",
              "    .dataframe thead th {\n",
              "        text-align: right;\n",
              "    }\n",
              "</style>\n",
              "<table border=\"1\" class=\"dataframe\">\n",
              "  <thead>\n",
              "    <tr style=\"text-align: right;\">\n",
              "      <th></th>\n",
              "      <th>User_ID</th>\n",
              "      <th>Age</th>\n",
              "      <th>Gender</th>\n",
              "      <th>Platform</th>\n",
              "      <th>Daily_Usage_Time (minutes)</th>\n",
              "      <th>Posts_Per_Day</th>\n",
              "      <th>Likes_Received_Per_Day</th>\n",
              "      <th>Comments_Received_Per_Day</th>\n",
              "      <th>Messages_Sent_Per_Day</th>\n",
              "      <th>Dominant_Emotion</th>\n",
              "    </tr>\n",
              "  </thead>\n",
              "  <tbody>\n",
              "    <tr>\n",
              "      <th>0</th>\n",
              "      <td>1</td>\n",
              "      <td>25</td>\n",
              "      <td>Female</td>\n",
              "      <td>Instagram</td>\n",
              "      <td>120.0</td>\n",
              "      <td>3.0</td>\n",
              "      <td>45.0</td>\n",
              "      <td>10.0</td>\n",
              "      <td>12.0</td>\n",
              "      <td>Happiness</td>\n",
              "    </tr>\n",
              "    <tr>\n",
              "      <th>1</th>\n",
              "      <td>2</td>\n",
              "      <td>30</td>\n",
              "      <td>Male</td>\n",
              "      <td>Twitter</td>\n",
              "      <td>90.0</td>\n",
              "      <td>5.0</td>\n",
              "      <td>20.0</td>\n",
              "      <td>25.0</td>\n",
              "      <td>30.0</td>\n",
              "      <td>Anger</td>\n",
              "    </tr>\n",
              "    <tr>\n",
              "      <th>2</th>\n",
              "      <td>3</td>\n",
              "      <td>22</td>\n",
              "      <td>Non-binary</td>\n",
              "      <td>Facebook</td>\n",
              "      <td>60.0</td>\n",
              "      <td>2.0</td>\n",
              "      <td>15.0</td>\n",
              "      <td>5.0</td>\n",
              "      <td>20.0</td>\n",
              "      <td>Neutral</td>\n",
              "    </tr>\n",
              "    <tr>\n",
              "      <th>3</th>\n",
              "      <td>4</td>\n",
              "      <td>28</td>\n",
              "      <td>Female</td>\n",
              "      <td>Instagram</td>\n",
              "      <td>200.0</td>\n",
              "      <td>8.0</td>\n",
              "      <td>100.0</td>\n",
              "      <td>30.0</td>\n",
              "      <td>50.0</td>\n",
              "      <td>Anxiety</td>\n",
              "    </tr>\n",
              "    <tr>\n",
              "      <th>4</th>\n",
              "      <td>5</td>\n",
              "      <td>33</td>\n",
              "      <td>Male</td>\n",
              "      <td>LinkedIn</td>\n",
              "      <td>45.0</td>\n",
              "      <td>1.0</td>\n",
              "      <td>5.0</td>\n",
              "      <td>2.0</td>\n",
              "      <td>10.0</td>\n",
              "      <td>Boredom</td>\n",
              "    </tr>\n",
              "  </tbody>\n",
              "</table>\n",
              "</div>\n",
              "    <div class=\"colab-df-buttons\">\n",
              "\n",
              "  <div class=\"colab-df-container\">\n",
              "    <button class=\"colab-df-convert\" onclick=\"convertToInteractive('df-681b6942-4d4e-43ba-a7ce-d6aa4e4cf5d0')\"\n",
              "            title=\"Convert this dataframe to an interactive table.\"\n",
              "            style=\"display:none;\">\n",
              "\n",
              "  <svg xmlns=\"http://www.w3.org/2000/svg\" height=\"24px\" viewBox=\"0 -960 960 960\">\n",
              "    <path d=\"M120-120v-720h720v720H120Zm60-500h600v-160H180v160Zm220 220h160v-160H400v160Zm0 220h160v-160H400v160ZM180-400h160v-160H180v160Zm440 0h160v-160H620v160ZM180-180h160v-160H180v160Zm440 0h160v-160H620v160Z\"/>\n",
              "  </svg>\n",
              "    </button>\n",
              "\n",
              "  <style>\n",
              "    .colab-df-container {\n",
              "      display:flex;\n",
              "      gap: 12px;\n",
              "    }\n",
              "\n",
              "    .colab-df-convert {\n",
              "      background-color: #E8F0FE;\n",
              "      border: none;\n",
              "      border-radius: 50%;\n",
              "      cursor: pointer;\n",
              "      display: none;\n",
              "      fill: #1967D2;\n",
              "      height: 32px;\n",
              "      padding: 0 0 0 0;\n",
              "      width: 32px;\n",
              "    }\n",
              "\n",
              "    .colab-df-convert:hover {\n",
              "      background-color: #E2EBFA;\n",
              "      box-shadow: 0px 1px 2px rgba(60, 64, 67, 0.3), 0px 1px 3px 1px rgba(60, 64, 67, 0.15);\n",
              "      fill: #174EA6;\n",
              "    }\n",
              "\n",
              "    .colab-df-buttons div {\n",
              "      margin-bottom: 4px;\n",
              "    }\n",
              "\n",
              "    [theme=dark] .colab-df-convert {\n",
              "      background-color: #3B4455;\n",
              "      fill: #D2E3FC;\n",
              "    }\n",
              "\n",
              "    [theme=dark] .colab-df-convert:hover {\n",
              "      background-color: #434B5C;\n",
              "      box-shadow: 0px 1px 3px 1px rgba(0, 0, 0, 0.15);\n",
              "      filter: drop-shadow(0px 1px 2px rgba(0, 0, 0, 0.3));\n",
              "      fill: #FFFFFF;\n",
              "    }\n",
              "  </style>\n",
              "\n",
              "    <script>\n",
              "      const buttonEl =\n",
              "        document.querySelector('#df-681b6942-4d4e-43ba-a7ce-d6aa4e4cf5d0 button.colab-df-convert');\n",
              "      buttonEl.style.display =\n",
              "        google.colab.kernel.accessAllowed ? 'block' : 'none';\n",
              "\n",
              "      async function convertToInteractive(key) {\n",
              "        const element = document.querySelector('#df-681b6942-4d4e-43ba-a7ce-d6aa4e4cf5d0');\n",
              "        const dataTable =\n",
              "          await google.colab.kernel.invokeFunction('convertToInteractive',\n",
              "                                                    [key], {});\n",
              "        if (!dataTable) return;\n",
              "\n",
              "        const docLinkHtml = 'Like what you see? Visit the ' +\n",
              "          '<a target=\"_blank\" href=https://colab.research.google.com/notebooks/data_table.ipynb>data table notebook</a>'\n",
              "          + ' to learn more about interactive tables.';\n",
              "        element.innerHTML = '';\n",
              "        dataTable['output_type'] = 'display_data';\n",
              "        await google.colab.output.renderOutput(dataTable, element);\n",
              "        const docLink = document.createElement('div');\n",
              "        docLink.innerHTML = docLinkHtml;\n",
              "        element.appendChild(docLink);\n",
              "      }\n",
              "    </script>\n",
              "  </div>\n",
              "\n",
              "\n",
              "<div id=\"df-ca6d6b42-6c2f-4645-a174-8681003e5458\">\n",
              "  <button class=\"colab-df-quickchart\" onclick=\"quickchart('df-ca6d6b42-6c2f-4645-a174-8681003e5458')\"\n",
              "            title=\"Suggest charts\"\n",
              "            style=\"display:none;\">\n",
              "\n",
              "<svg xmlns=\"http://www.w3.org/2000/svg\" height=\"24px\"viewBox=\"0 0 24 24\"\n",
              "     width=\"24px\">\n",
              "    <g>\n",
              "        <path d=\"M19 3H5c-1.1 0-2 .9-2 2v14c0 1.1.9 2 2 2h14c1.1 0 2-.9 2-2V5c0-1.1-.9-2-2-2zM9 17H7v-7h2v7zm4 0h-2V7h2v10zm4 0h-2v-4h2v4z\"/>\n",
              "    </g>\n",
              "</svg>\n",
              "  </button>\n",
              "\n",
              "<style>\n",
              "  .colab-df-quickchart {\n",
              "      --bg-color: #E8F0FE;\n",
              "      --fill-color: #1967D2;\n",
              "      --hover-bg-color: #E2EBFA;\n",
              "      --hover-fill-color: #174EA6;\n",
              "      --disabled-fill-color: #AAA;\n",
              "      --disabled-bg-color: #DDD;\n",
              "  }\n",
              "\n",
              "  [theme=dark] .colab-df-quickchart {\n",
              "      --bg-color: #3B4455;\n",
              "      --fill-color: #D2E3FC;\n",
              "      --hover-bg-color: #434B5C;\n",
              "      --hover-fill-color: #FFFFFF;\n",
              "      --disabled-bg-color: #3B4455;\n",
              "      --disabled-fill-color: #666;\n",
              "  }\n",
              "\n",
              "  .colab-df-quickchart {\n",
              "    background-color: var(--bg-color);\n",
              "    border: none;\n",
              "    border-radius: 50%;\n",
              "    cursor: pointer;\n",
              "    display: none;\n",
              "    fill: var(--fill-color);\n",
              "    height: 32px;\n",
              "    padding: 0;\n",
              "    width: 32px;\n",
              "  }\n",
              "\n",
              "  .colab-df-quickchart:hover {\n",
              "    background-color: var(--hover-bg-color);\n",
              "    box-shadow: 0 1px 2px rgba(60, 64, 67, 0.3), 0 1px 3px 1px rgba(60, 64, 67, 0.15);\n",
              "    fill: var(--button-hover-fill-color);\n",
              "  }\n",
              "\n",
              "  .colab-df-quickchart-complete:disabled,\n",
              "  .colab-df-quickchart-complete:disabled:hover {\n",
              "    background-color: var(--disabled-bg-color);\n",
              "    fill: var(--disabled-fill-color);\n",
              "    box-shadow: none;\n",
              "  }\n",
              "\n",
              "  .colab-df-spinner {\n",
              "    border: 2px solid var(--fill-color);\n",
              "    border-color: transparent;\n",
              "    border-bottom-color: var(--fill-color);\n",
              "    animation:\n",
              "      spin 1s steps(1) infinite;\n",
              "  }\n",
              "\n",
              "  @keyframes spin {\n",
              "    0% {\n",
              "      border-color: transparent;\n",
              "      border-bottom-color: var(--fill-color);\n",
              "      border-left-color: var(--fill-color);\n",
              "    }\n",
              "    20% {\n",
              "      border-color: transparent;\n",
              "      border-left-color: var(--fill-color);\n",
              "      border-top-color: var(--fill-color);\n",
              "    }\n",
              "    30% {\n",
              "      border-color: transparent;\n",
              "      border-left-color: var(--fill-color);\n",
              "      border-top-color: var(--fill-color);\n",
              "      border-right-color: var(--fill-color);\n",
              "    }\n",
              "    40% {\n",
              "      border-color: transparent;\n",
              "      border-right-color: var(--fill-color);\n",
              "      border-top-color: var(--fill-color);\n",
              "    }\n",
              "    60% {\n",
              "      border-color: transparent;\n",
              "      border-right-color: var(--fill-color);\n",
              "    }\n",
              "    80% {\n",
              "      border-color: transparent;\n",
              "      border-right-color: var(--fill-color);\n",
              "      border-bottom-color: var(--fill-color);\n",
              "    }\n",
              "    90% {\n",
              "      border-color: transparent;\n",
              "      border-bottom-color: var(--fill-color);\n",
              "    }\n",
              "  }\n",
              "</style>\n",
              "\n",
              "  <script>\n",
              "    async function quickchart(key) {\n",
              "      const quickchartButtonEl =\n",
              "        document.querySelector('#' + key + ' button');\n",
              "      quickchartButtonEl.disabled = true;  // To prevent multiple clicks.\n",
              "      quickchartButtonEl.classList.add('colab-df-spinner');\n",
              "      try {\n",
              "        const charts = await google.colab.kernel.invokeFunction(\n",
              "            'suggestCharts', [key], {});\n",
              "      } catch (error) {\n",
              "        console.error('Error during call to suggestCharts:', error);\n",
              "      }\n",
              "      quickchartButtonEl.classList.remove('colab-df-spinner');\n",
              "      quickchartButtonEl.classList.add('colab-df-quickchart-complete');\n",
              "    }\n",
              "    (() => {\n",
              "      let quickchartButtonEl =\n",
              "        document.querySelector('#df-ca6d6b42-6c2f-4645-a174-8681003e5458 button');\n",
              "      quickchartButtonEl.style.display =\n",
              "        google.colab.kernel.accessAllowed ? 'block' : 'none';\n",
              "    })();\n",
              "  </script>\n",
              "</div>\n",
              "\n",
              "    </div>\n",
              "  </div>\n"
            ],
            "application/vnd.google.colaboratory.intrinsic+json": {
              "type": "dataframe",
              "variable_name": "train_df",
              "summary": "{\n  \"name\": \"train_df\",\n  \"rows\": 1001,\n  \"fields\": [\n    {\n      \"column\": \"User_ID\",\n      \"properties\": {\n        \"dtype\": \"string\",\n        \"num_unique_values\": 1001,\n        \"samples\": [\n          \"522\",\n          \"941\",\n          \"741\"\n        ],\n        \"semantic_type\": \"\",\n        \"description\": \"\"\n      }\n    },\n    {\n      \"column\": \"Age\",\n      \"properties\": {\n        \"dtype\": \"category\",\n        \"num_unique_values\": 19,\n        \"samples\": [\n          \"25\",\n          \"21\",\n          \"26\"\n        ],\n        \"semantic_type\": \"\",\n        \"description\": \"\"\n      }\n    },\n    {\n      \"column\": \"Gender\",\n      \"properties\": {\n        \"dtype\": \"category\",\n        \"num_unique_values\": 18,\n        \"samples\": [\n          \"Female\",\n          \"Male\",\n          \"22\"\n        ],\n        \"semantic_type\": \"\",\n        \"description\": \"\"\n      }\n    },\n    {\n      \"column\": \"Platform\",\n      \"properties\": {\n        \"dtype\": \"category\",\n        \"num_unique_values\": 7,\n        \"samples\": [\n          \"Instagram\",\n          \"Twitter\",\n          \"Telegram\"\n        ],\n        \"semantic_type\": \"\",\n        \"description\": \"\"\n      }\n    },\n    {\n      \"column\": \"Daily_Usage_Time (minutes)\",\n      \"properties\": {\n        \"dtype\": \"number\",\n        \"std\": 38.850442170673645,\n        \"min\": 40.0,\n        \"max\": 200.0,\n        \"num_unique_values\": 30,\n        \"samples\": [\n          175.0,\n          40.0,\n          160.0\n        ],\n        \"semantic_type\": \"\",\n        \"description\": \"\"\n      }\n    },\n    {\n      \"column\": \"Posts_Per_Day\",\n      \"properties\": {\n        \"dtype\": \"number\",\n        \"std\": 1.9145821018239528,\n        \"min\": 1.0,\n        \"max\": 8.0,\n        \"num_unique_values\": 8,\n        \"samples\": [\n          5.0,\n          4.0,\n          3.0\n        ],\n        \"semantic_type\": \"\",\n        \"description\": \"\"\n      }\n    },\n    {\n      \"column\": \"Likes_Received_Per_Day\",\n      \"properties\": {\n        \"dtype\": \"number\",\n        \"std\": 26.39386732239579,\n        \"min\": 5.0,\n        \"max\": 110.0,\n        \"num_unique_values\": 49,\n        \"samples\": [\n          40.0,\n          21.0,\n          23.0\n        ],\n        \"semantic_type\": \"\",\n        \"description\": \"\"\n      }\n    },\n    {\n      \"column\": \"Comments_Received_Per_Day\",\n      \"properties\": {\n        \"dtype\": \"number\",\n        \"std\": 8.819493322320874,\n        \"min\": 2.0,\n        \"max\": 40.0,\n        \"num_unique_values\": 30,\n        \"samples\": [\n          28.0,\n          26.0,\n          40.0\n        ],\n        \"semantic_type\": \"\",\n        \"description\": \"\"\n      }\n    },\n    {\n      \"column\": \"Messages_Sent_Per_Day\",\n      \"properties\": {\n        \"dtype\": \"number\",\n        \"std\": 8.516274239767466,\n        \"min\": 8.0,\n        \"max\": 50.0,\n        \"num_unique_values\": 29,\n        \"samples\": [\n          29.0,\n          21.0,\n          28.0\n        ],\n        \"semantic_type\": \"\",\n        \"description\": \"\"\n      }\n    },\n    {\n      \"column\": \"Dominant_Emotion\",\n      \"properties\": {\n        \"dtype\": \"category\",\n        \"num_unique_values\": 6,\n        \"samples\": [\n          \"Happiness\",\n          \"Anger\",\n          \"Sadness\"\n        ],\n        \"semantic_type\": \"\",\n        \"description\": \"\"\n      }\n    }\n  ]\n}"
            }
          },
          "metadata": {},
          "execution_count": 46
        }
      ]
    },
    {
      "cell_type": "code",
      "source": [
        "# list of coloums in the training data\n",
        "train_df.columns"
      ],
      "metadata": {
        "colab": {
          "base_uri": "https://localhost:8080/"
        },
        "id": "4MA9dXOxF_Uk",
        "outputId": "7cd1e5b3-9965-4aee-98cb-e62b930d6a5d"
      },
      "execution_count": 47,
      "outputs": [
        {
          "output_type": "execute_result",
          "data": {
            "text/plain": [
              "Index(['User_ID', 'Age', 'Gender', 'Platform', 'Daily_Usage_Time (minutes)',\n",
              "       'Posts_Per_Day', 'Likes_Received_Per_Day', 'Comments_Received_Per_Day',\n",
              "       'Messages_Sent_Per_Day', 'Dominant_Emotion'],\n",
              "      dtype='object')"
            ]
          },
          "metadata": {},
          "execution_count": 47
        }
      ]
    },
    {
      "cell_type": "markdown",
      "source": [
        "DESCRIBING THE TRAINING DATA:"
      ],
      "metadata": {
        "id": "yXXSCT5TGKye"
      }
    },
    {
      "cell_type": "code",
      "source": [
        "train_df.describe()"
      ],
      "metadata": {
        "colab": {
          "base_uri": "https://localhost:8080/",
          "height": 300
        },
        "id": "h-Ekika4GDbN",
        "outputId": "21e9cead-615f-4398-b39d-398b5cde6eac"
      },
      "execution_count": 48,
      "outputs": [
        {
          "output_type": "execute_result",
          "data": {
            "text/plain": [
              "       Daily_Usage_Time (minutes)  Posts_Per_Day  Likes_Received_Per_Day  \\\n",
              "count                 1000.000000    1000.000000             1000.000000   \n",
              "mean                    95.950000       3.321000               39.898000   \n",
              "std                     38.850442       1.914582               26.393867   \n",
              "min                     40.000000       1.000000                5.000000   \n",
              "25%                     65.000000       2.000000               20.000000   \n",
              "50%                     85.000000       3.000000               33.000000   \n",
              "75%                    120.000000       4.000000               55.000000   \n",
              "max                    200.000000       8.000000              110.000000   \n",
              "\n",
              "       Comments_Received_Per_Day  Messages_Sent_Per_Day  \n",
              "count                1000.000000            1000.000000  \n",
              "mean                   15.611000              22.560000  \n",
              "std                     8.819493               8.516274  \n",
              "min                     2.000000               8.000000  \n",
              "25%                     8.000000              17.750000  \n",
              "50%                    14.000000              22.000000  \n",
              "75%                    22.000000              28.000000  \n",
              "max                    40.000000              50.000000  "
            ],
            "text/html": [
              "\n",
              "  <div id=\"df-f85f3bc6-ef15-4ded-83ea-e8e70669d063\" class=\"colab-df-container\">\n",
              "    <div>\n",
              "<style scoped>\n",
              "    .dataframe tbody tr th:only-of-type {\n",
              "        vertical-align: middle;\n",
              "    }\n",
              "\n",
              "    .dataframe tbody tr th {\n",
              "        vertical-align: top;\n",
              "    }\n",
              "\n",
              "    .dataframe thead th {\n",
              "        text-align: right;\n",
              "    }\n",
              "</style>\n",
              "<table border=\"1\" class=\"dataframe\">\n",
              "  <thead>\n",
              "    <tr style=\"text-align: right;\">\n",
              "      <th></th>\n",
              "      <th>Daily_Usage_Time (minutes)</th>\n",
              "      <th>Posts_Per_Day</th>\n",
              "      <th>Likes_Received_Per_Day</th>\n",
              "      <th>Comments_Received_Per_Day</th>\n",
              "      <th>Messages_Sent_Per_Day</th>\n",
              "    </tr>\n",
              "  </thead>\n",
              "  <tbody>\n",
              "    <tr>\n",
              "      <th>count</th>\n",
              "      <td>1000.000000</td>\n",
              "      <td>1000.000000</td>\n",
              "      <td>1000.000000</td>\n",
              "      <td>1000.000000</td>\n",
              "      <td>1000.000000</td>\n",
              "    </tr>\n",
              "    <tr>\n",
              "      <th>mean</th>\n",
              "      <td>95.950000</td>\n",
              "      <td>3.321000</td>\n",
              "      <td>39.898000</td>\n",
              "      <td>15.611000</td>\n",
              "      <td>22.560000</td>\n",
              "    </tr>\n",
              "    <tr>\n",
              "      <th>std</th>\n",
              "      <td>38.850442</td>\n",
              "      <td>1.914582</td>\n",
              "      <td>26.393867</td>\n",
              "      <td>8.819493</td>\n",
              "      <td>8.516274</td>\n",
              "    </tr>\n",
              "    <tr>\n",
              "      <th>min</th>\n",
              "      <td>40.000000</td>\n",
              "      <td>1.000000</td>\n",
              "      <td>5.000000</td>\n",
              "      <td>2.000000</td>\n",
              "      <td>8.000000</td>\n",
              "    </tr>\n",
              "    <tr>\n",
              "      <th>25%</th>\n",
              "      <td>65.000000</td>\n",
              "      <td>2.000000</td>\n",
              "      <td>20.000000</td>\n",
              "      <td>8.000000</td>\n",
              "      <td>17.750000</td>\n",
              "    </tr>\n",
              "    <tr>\n",
              "      <th>50%</th>\n",
              "      <td>85.000000</td>\n",
              "      <td>3.000000</td>\n",
              "      <td>33.000000</td>\n",
              "      <td>14.000000</td>\n",
              "      <td>22.000000</td>\n",
              "    </tr>\n",
              "    <tr>\n",
              "      <th>75%</th>\n",
              "      <td>120.000000</td>\n",
              "      <td>4.000000</td>\n",
              "      <td>55.000000</td>\n",
              "      <td>22.000000</td>\n",
              "      <td>28.000000</td>\n",
              "    </tr>\n",
              "    <tr>\n",
              "      <th>max</th>\n",
              "      <td>200.000000</td>\n",
              "      <td>8.000000</td>\n",
              "      <td>110.000000</td>\n",
              "      <td>40.000000</td>\n",
              "      <td>50.000000</td>\n",
              "    </tr>\n",
              "  </tbody>\n",
              "</table>\n",
              "</div>\n",
              "    <div class=\"colab-df-buttons\">\n",
              "\n",
              "  <div class=\"colab-df-container\">\n",
              "    <button class=\"colab-df-convert\" onclick=\"convertToInteractive('df-f85f3bc6-ef15-4ded-83ea-e8e70669d063')\"\n",
              "            title=\"Convert this dataframe to an interactive table.\"\n",
              "            style=\"display:none;\">\n",
              "\n",
              "  <svg xmlns=\"http://www.w3.org/2000/svg\" height=\"24px\" viewBox=\"0 -960 960 960\">\n",
              "    <path d=\"M120-120v-720h720v720H120Zm60-500h600v-160H180v160Zm220 220h160v-160H400v160Zm0 220h160v-160H400v160ZM180-400h160v-160H180v160Zm440 0h160v-160H620v160ZM180-180h160v-160H180v160Zm440 0h160v-160H620v160Z\"/>\n",
              "  </svg>\n",
              "    </button>\n",
              "\n",
              "  <style>\n",
              "    .colab-df-container {\n",
              "      display:flex;\n",
              "      gap: 12px;\n",
              "    }\n",
              "\n",
              "    .colab-df-convert {\n",
              "      background-color: #E8F0FE;\n",
              "      border: none;\n",
              "      border-radius: 50%;\n",
              "      cursor: pointer;\n",
              "      display: none;\n",
              "      fill: #1967D2;\n",
              "      height: 32px;\n",
              "      padding: 0 0 0 0;\n",
              "      width: 32px;\n",
              "    }\n",
              "\n",
              "    .colab-df-convert:hover {\n",
              "      background-color: #E2EBFA;\n",
              "      box-shadow: 0px 1px 2px rgba(60, 64, 67, 0.3), 0px 1px 3px 1px rgba(60, 64, 67, 0.15);\n",
              "      fill: #174EA6;\n",
              "    }\n",
              "\n",
              "    .colab-df-buttons div {\n",
              "      margin-bottom: 4px;\n",
              "    }\n",
              "\n",
              "    [theme=dark] .colab-df-convert {\n",
              "      background-color: #3B4455;\n",
              "      fill: #D2E3FC;\n",
              "    }\n",
              "\n",
              "    [theme=dark] .colab-df-convert:hover {\n",
              "      background-color: #434B5C;\n",
              "      box-shadow: 0px 1px 3px 1px rgba(0, 0, 0, 0.15);\n",
              "      filter: drop-shadow(0px 1px 2px rgba(0, 0, 0, 0.3));\n",
              "      fill: #FFFFFF;\n",
              "    }\n",
              "  </style>\n",
              "\n",
              "    <script>\n",
              "      const buttonEl =\n",
              "        document.querySelector('#df-f85f3bc6-ef15-4ded-83ea-e8e70669d063 button.colab-df-convert');\n",
              "      buttonEl.style.display =\n",
              "        google.colab.kernel.accessAllowed ? 'block' : 'none';\n",
              "\n",
              "      async function convertToInteractive(key) {\n",
              "        const element = document.querySelector('#df-f85f3bc6-ef15-4ded-83ea-e8e70669d063');\n",
              "        const dataTable =\n",
              "          await google.colab.kernel.invokeFunction('convertToInteractive',\n",
              "                                                    [key], {});\n",
              "        if (!dataTable) return;\n",
              "\n",
              "        const docLinkHtml = 'Like what you see? Visit the ' +\n",
              "          '<a target=\"_blank\" href=https://colab.research.google.com/notebooks/data_table.ipynb>data table notebook</a>'\n",
              "          + ' to learn more about interactive tables.';\n",
              "        element.innerHTML = '';\n",
              "        dataTable['output_type'] = 'display_data';\n",
              "        await google.colab.output.renderOutput(dataTable, element);\n",
              "        const docLink = document.createElement('div');\n",
              "        docLink.innerHTML = docLinkHtml;\n",
              "        element.appendChild(docLink);\n",
              "      }\n",
              "    </script>\n",
              "  </div>\n",
              "\n",
              "\n",
              "<div id=\"df-a8db2251-4c40-4847-b2ff-21572d636c66\">\n",
              "  <button class=\"colab-df-quickchart\" onclick=\"quickchart('df-a8db2251-4c40-4847-b2ff-21572d636c66')\"\n",
              "            title=\"Suggest charts\"\n",
              "            style=\"display:none;\">\n",
              "\n",
              "<svg xmlns=\"http://www.w3.org/2000/svg\" height=\"24px\"viewBox=\"0 0 24 24\"\n",
              "     width=\"24px\">\n",
              "    <g>\n",
              "        <path d=\"M19 3H5c-1.1 0-2 .9-2 2v14c0 1.1.9 2 2 2h14c1.1 0 2-.9 2-2V5c0-1.1-.9-2-2-2zM9 17H7v-7h2v7zm4 0h-2V7h2v10zm4 0h-2v-4h2v4z\"/>\n",
              "    </g>\n",
              "</svg>\n",
              "  </button>\n",
              "\n",
              "<style>\n",
              "  .colab-df-quickchart {\n",
              "      --bg-color: #E8F0FE;\n",
              "      --fill-color: #1967D2;\n",
              "      --hover-bg-color: #E2EBFA;\n",
              "      --hover-fill-color: #174EA6;\n",
              "      --disabled-fill-color: #AAA;\n",
              "      --disabled-bg-color: #DDD;\n",
              "  }\n",
              "\n",
              "  [theme=dark] .colab-df-quickchart {\n",
              "      --bg-color: #3B4455;\n",
              "      --fill-color: #D2E3FC;\n",
              "      --hover-bg-color: #434B5C;\n",
              "      --hover-fill-color: #FFFFFF;\n",
              "      --disabled-bg-color: #3B4455;\n",
              "      --disabled-fill-color: #666;\n",
              "  }\n",
              "\n",
              "  .colab-df-quickchart {\n",
              "    background-color: var(--bg-color);\n",
              "    border: none;\n",
              "    border-radius: 50%;\n",
              "    cursor: pointer;\n",
              "    display: none;\n",
              "    fill: var(--fill-color);\n",
              "    height: 32px;\n",
              "    padding: 0;\n",
              "    width: 32px;\n",
              "  }\n",
              "\n",
              "  .colab-df-quickchart:hover {\n",
              "    background-color: var(--hover-bg-color);\n",
              "    box-shadow: 0 1px 2px rgba(60, 64, 67, 0.3), 0 1px 3px 1px rgba(60, 64, 67, 0.15);\n",
              "    fill: var(--button-hover-fill-color);\n",
              "  }\n",
              "\n",
              "  .colab-df-quickchart-complete:disabled,\n",
              "  .colab-df-quickchart-complete:disabled:hover {\n",
              "    background-color: var(--disabled-bg-color);\n",
              "    fill: var(--disabled-fill-color);\n",
              "    box-shadow: none;\n",
              "  }\n",
              "\n",
              "  .colab-df-spinner {\n",
              "    border: 2px solid var(--fill-color);\n",
              "    border-color: transparent;\n",
              "    border-bottom-color: var(--fill-color);\n",
              "    animation:\n",
              "      spin 1s steps(1) infinite;\n",
              "  }\n",
              "\n",
              "  @keyframes spin {\n",
              "    0% {\n",
              "      border-color: transparent;\n",
              "      border-bottom-color: var(--fill-color);\n",
              "      border-left-color: var(--fill-color);\n",
              "    }\n",
              "    20% {\n",
              "      border-color: transparent;\n",
              "      border-left-color: var(--fill-color);\n",
              "      border-top-color: var(--fill-color);\n",
              "    }\n",
              "    30% {\n",
              "      border-color: transparent;\n",
              "      border-left-color: var(--fill-color);\n",
              "      border-top-color: var(--fill-color);\n",
              "      border-right-color: var(--fill-color);\n",
              "    }\n",
              "    40% {\n",
              "      border-color: transparent;\n",
              "      border-right-color: var(--fill-color);\n",
              "      border-top-color: var(--fill-color);\n",
              "    }\n",
              "    60% {\n",
              "      border-color: transparent;\n",
              "      border-right-color: var(--fill-color);\n",
              "    }\n",
              "    80% {\n",
              "      border-color: transparent;\n",
              "      border-right-color: var(--fill-color);\n",
              "      border-bottom-color: var(--fill-color);\n",
              "    }\n",
              "    90% {\n",
              "      border-color: transparent;\n",
              "      border-bottom-color: var(--fill-color);\n",
              "    }\n",
              "  }\n",
              "</style>\n",
              "\n",
              "  <script>\n",
              "    async function quickchart(key) {\n",
              "      const quickchartButtonEl =\n",
              "        document.querySelector('#' + key + ' button');\n",
              "      quickchartButtonEl.disabled = true;  // To prevent multiple clicks.\n",
              "      quickchartButtonEl.classList.add('colab-df-spinner');\n",
              "      try {\n",
              "        const charts = await google.colab.kernel.invokeFunction(\n",
              "            'suggestCharts', [key], {});\n",
              "      } catch (error) {\n",
              "        console.error('Error during call to suggestCharts:', error);\n",
              "      }\n",
              "      quickchartButtonEl.classList.remove('colab-df-spinner');\n",
              "      quickchartButtonEl.classList.add('colab-df-quickchart-complete');\n",
              "    }\n",
              "    (() => {\n",
              "      let quickchartButtonEl =\n",
              "        document.querySelector('#df-a8db2251-4c40-4847-b2ff-21572d636c66 button');\n",
              "      quickchartButtonEl.style.display =\n",
              "        google.colab.kernel.accessAllowed ? 'block' : 'none';\n",
              "    })();\n",
              "  </script>\n",
              "</div>\n",
              "\n",
              "    </div>\n",
              "  </div>\n"
            ],
            "application/vnd.google.colaboratory.intrinsic+json": {
              "type": "dataframe",
              "summary": "{\n  \"name\": \"train_df\",\n  \"rows\": 8,\n  \"fields\": [\n    {\n      \"column\": \"Daily_Usage_Time (minutes)\",\n      \"properties\": {\n        \"dtype\": \"number\",\n        \"std\": 325.1361687346772,\n        \"min\": 38.850442170673645,\n        \"max\": 1000.0,\n        \"num_unique_values\": 8,\n        \"samples\": [\n          95.95,\n          85.0,\n          1000.0\n        ],\n        \"semantic_type\": \"\",\n        \"description\": \"\"\n      }\n    },\n    {\n      \"column\": \"Posts_Per_Day\",\n      \"properties\": {\n        \"dtype\": \"number\",\n        \"std\": 352.38621519287557,\n        \"min\": 1.0,\n        \"max\": 1000.0,\n        \"num_unique_values\": 8,\n        \"samples\": [\n          3.321,\n          3.0,\n          1000.0\n        ],\n        \"semantic_type\": \"\",\n        \"description\": \"\"\n      }\n    },\n    {\n      \"column\": \"Likes_Received_Per_Day\",\n      \"properties\": {\n        \"dtype\": \"number\",\n        \"std\": 340.4080108053681,\n        \"min\": 5.0,\n        \"max\": 1000.0,\n        \"num_unique_values\": 8,\n        \"samples\": [\n          39.898,\n          33.0,\n          1000.0\n        ],\n        \"semantic_type\": \"\",\n        \"description\": \"\"\n      }\n    },\n    {\n      \"column\": \"Comments_Received_Per_Day\",\n      \"properties\": {\n        \"dtype\": \"number\",\n        \"std\": 348.1661142371464,\n        \"min\": 2.0,\n        \"max\": 1000.0,\n        \"num_unique_values\": 8,\n        \"samples\": [\n          15.611,\n          14.0,\n          1000.0\n        ],\n        \"semantic_type\": \"\",\n        \"description\": \"\"\n      }\n    },\n    {\n      \"column\": \"Messages_Sent_Per_Day\",\n      \"properties\": {\n        \"dtype\": \"number\",\n        \"std\": 345.8834784041119,\n        \"min\": 8.0,\n        \"max\": 1000.0,\n        \"num_unique_values\": 8,\n        \"samples\": [\n          22.56,\n          22.0,\n          1000.0\n        ],\n        \"semantic_type\": \"\",\n        \"description\": \"\"\n      }\n    }\n  ]\n}"
            }
          },
          "metadata": {},
          "execution_count": 48
        }
      ]
    },
    {
      "cell_type": "markdown",
      "source": [
        "Age Distribution:"
      ],
      "metadata": {
        "id": "yCLLx4xEGZXr"
      }
    },
    {
      "cell_type": "code",
      "source": [
        "train_df['Age'].isnull().sum()"
      ],
      "metadata": {
        "colab": {
          "base_uri": "https://localhost:8080/"
        },
        "id": "RjAFcXoGGHt0",
        "outputId": "4471075f-a6ec-40c4-afaa-1f81bd12a0d7"
      },
      "execution_count": 49,
      "outputs": [
        {
          "output_type": "execute_result",
          "data": {
            "text/plain": [
              "0"
            ]
          },
          "metadata": {},
          "execution_count": 49
        }
      ]
    },
    {
      "cell_type": "code",
      "source": [
        "train_df['Age'].unique()"
      ],
      "metadata": {
        "colab": {
          "base_uri": "https://localhost:8080/"
        },
        "id": "mBouT-xfGXPN",
        "outputId": "74b470bf-a327-40fe-cc24-0cc2a73d6255"
      },
      "execution_count": 50,
      "outputs": [
        {
          "output_type": "execute_result",
          "data": {
            "text/plain": [
              "array(['25', '30', '22', '28', '33', '21', '27', '24', '29', '31', '23',\n",
              "       '26', '34', '35', '32', 'Male', 'Female', 'Non-binary',\n",
              "       ' işte mevcut veri kümesini 1000 satıra tamamlıyorum:'],\n",
              "      dtype=object)"
            ]
          },
          "metadata": {},
          "execution_count": 50
        }
      ]
    },
    {
      "cell_type": "code",
      "source": [
        "# removing the Male, Female, Non-binary, and işte mevcut veri kümesini 1000 satıra tamamlıyorum:\n",
        "\n",
        "# Replace non-numeric values with NaN\n",
        "train_df['Age'] = pd.to_numeric(train_df['Age'], errors='coerce')\n",
        "\n",
        "# Handle NaN values\n",
        "train_df['Age'].fillna(train_df['Age'].median(), inplace=True)"
      ],
      "metadata": {
        "id": "3ZxrPTTLGgMr"
      },
      "execution_count": 51,
      "outputs": []
    },
    {
      "cell_type": "code",
      "source": [
        "train_df['Age'].unique()"
      ],
      "metadata": {
        "colab": {
          "base_uri": "https://localhost:8080/"
        },
        "id": "H8pxGO_QGxJ2",
        "outputId": "84e926b7-08a8-43e6-f265-e62a28872fbe"
      },
      "execution_count": 52,
      "outputs": [
        {
          "output_type": "execute_result",
          "data": {
            "text/plain": [
              "array([25., 30., 22., 28., 33., 21., 27., 24., 29., 31., 23., 26., 34.,\n",
              "       35., 32.])"
            ]
          },
          "metadata": {},
          "execution_count": 52
        }
      ]
    },
    {
      "cell_type": "code",
      "source": [
        "plt = px.histogram(train_df, x='Age', title='Age Distribution')\n",
        "plt.show()"
      ],
      "metadata": {
        "colab": {
          "base_uri": "https://localhost:8080/",
          "height": 542
        },
        "id": "RobPl_wkG3YM",
        "outputId": "cda7457b-2cb1-4cd0-bd3c-acaab44ad41a"
      },
      "execution_count": 57,
      "outputs": [
        {
          "output_type": "display_data",
          "data": {
            "text/html": [
              "<html>\n",
              "<head><meta charset=\"utf-8\" /></head>\n",
              "<body>\n",
              "    <div>            <script src=\"https://cdnjs.cloudflare.com/ajax/libs/mathjax/2.7.5/MathJax.js?config=TeX-AMS-MML_SVG\"></script><script type=\"text/javascript\">if (window.MathJax && window.MathJax.Hub && window.MathJax.Hub.Config) {window.MathJax.Hub.Config({SVG: {font: \"STIX-Web\"}});}</script>                <script type=\"text/javascript\">window.PlotlyConfig = {MathJaxConfig: 'local'};</script>\n",
              "        <script charset=\"utf-8\" src=\"https://cdn.plot.ly/plotly-2.24.1.min.js\"></script>                <div id=\"a550e48d-c59c-4aae-8b02-fd459103acf9\" class=\"plotly-graph-div\" style=\"height:525px; width:100%;\"></div>            <script type=\"text/javascript\">                                    window.PLOTLYENV=window.PLOTLYENV || {};                                    if (document.getElementById(\"a550e48d-c59c-4aae-8b02-fd459103acf9\")) {                    Plotly.newPlot(                        \"a550e48d-c59c-4aae-8b02-fd459103acf9\",                        [{\"alignmentgroup\":\"True\",\"bingroup\":\"x\",\"hovertemplate\":\"Age=%{x}\\u003cbr\\u003ecount=%{y}\\u003cextra\\u003e\\u003c\\u002fextra\\u003e\",\"legendgroup\":\"\",\"marker\":{\"color\":\"#636efa\",\"pattern\":{\"shape\":\"\"}},\"name\":\"\",\"offsetgroup\":\"\",\"orientation\":\"v\",\"showlegend\":false,\"x\":[25.0,30.0,22.0,28.0,33.0,21.0,27.0,24.0,29.0,31.0,23.0,26.0,34.0,22.0,28.0,21.0,35.0,27.0,23.0,32.0,26.0,24.0,29.0,33.0,22.0,31.0,27.0,25.0,30.0,26.0,34.0,28.0,23.0,21.0,29.0,24.0,33.0,27.0,22.0,28.0,31.0,25.0,29.0,23.0,35.0,30.0,21.0,26.0,32.0,28.0,27.0,24.0,29.0,33.0,31.0,22.0,25.0,29.0,28.0,27.0,30.0,23.0,34.0,26.0,25.0,29.0,28.0,31.0,27.0,22.0,24.0,35.0,21.0,29.0,25.0,28.0,32.0,26.0,33.0,27.0,31.0,24.0,34.0,22.0,29.0,28.0,31.0,21.0,25.0,30.0,27.0,32.0,24.0,29.0,26.0,33.0,22.0,35.0,28.0,27.0,25.0,30.0,22.0,28.0,33.0,21.0,27.0,24.0,29.0,31.0,23.0,26.0,34.0,22.0,28.0,21.0,35.0,27.0,23.0,32.0,26.0,24.0,29.0,33.0,22.0,31.0,27.0,25.0,30.0,26.0,34.0,28.0,23.0,21.0,29.0,24.0,33.0,27.0,22.0,28.0,31.0,25.0,29.0,23.0,35.0,30.0,21.0,26.0,32.0,28.0,27.0,24.0,29.0,33.0,31.0,22.0,25.0,29.0,28.0,27.0,30.0,23.0,34.0,26.0,25.0,29.0,28.0,31.0,27.0,22.0,24.0,35.0,21.0,29.0,25.0,28.0,32.0,26.0,33.0,27.0,31.0,24.0,34.0,22.0,29.0,28.0,31.0,21.0,25.0,30.0,27.0,32.0,24.0,29.0,26.0,33.0,22.0,35.0,28.0,27.0,25.0,30.0,22.0,28.0,33.0,21.0,27.0,24.0,29.0,31.0,23.0,26.0,34.0,22.0,28.0,21.0,35.0,27.0,23.0,32.0,26.0,24.0,29.0,33.0,22.0,31.0,27.0,25.0,30.0,26.0,34.0,28.0,23.0,21.0,29.0,24.0,33.0,27.0,22.0,28.0,31.0,25.0,29.0,23.0,35.0,30.0,21.0,26.0,32.0,28.0,27.0,27.0,27.0,27.0,27.0,27.0,27.0,27.0,27.0,27.0,27.0,27.0,27.0,27.0,27.0,27.0,27.0,27.0,27.0,27.0,27.0,27.0,27.0,27.0,27.0,27.0,27.0,27.0,27.0,27.0,27.0,27.0,27.0,27.0,27.0,27.0,27.0,27.0,25.0,30.0,27.0,32.0,24.0,29.0,26.0,33.0,22.0,35.0,28.0,27.0,25.0,30.0,22.0,28.0,33.0,21.0,27.0,24.0,29.0,31.0,23.0,26.0,34.0,22.0,28.0,21.0,35.0,27.0,23.0,32.0,26.0,24.0,29.0,33.0,22.0,31.0,27.0,25.0,30.0,26.0,34.0,28.0,23.0,21.0,29.0,24.0,33.0,27.0,22.0,28.0,31.0,25.0,29.0,23.0,35.0,30.0,21.0,26.0,32.0,28.0,27.0,24.0,29.0,33.0,31.0,22.0,25.0,29.0,28.0,27.0,30.0,23.0,34.0,26.0,25.0,29.0,28.0,31.0,27.0,22.0,24.0,35.0,21.0,29.0,25.0,28.0,32.0,26.0,33.0,27.0,31.0,24.0,34.0,22.0,29.0,28.0,31.0,21.0,25.0,30.0,27.0,32.0,24.0,29.0,26.0,33.0,22.0,35.0,28.0,27.0,25.0,30.0,22.0,28.0,33.0,21.0,27.0,24.0,29.0,31.0,23.0,26.0,34.0,22.0,28.0,21.0,35.0,27.0,23.0,32.0,26.0,24.0,29.0,33.0,22.0,31.0,27.0,25.0,30.0,26.0,34.0,28.0,23.0,21.0,29.0,24.0,33.0,27.0,22.0,28.0,31.0,25.0,29.0,23.0,35.0,30.0,21.0,26.0,32.0,28.0,27.0,24.0,29.0,33.0,31.0,22.0,25.0,29.0,28.0,27.0,30.0,23.0,34.0,26.0,25.0,29.0,28.0,31.0,27.0,22.0,24.0,35.0,21.0,29.0,25.0,28.0,32.0,26.0,33.0,27.0,31.0,24.0,34.0,22.0,29.0,28.0,31.0,21.0,25.0,30.0,27.0,32.0,24.0,29.0,26.0,33.0,22.0,35.0,28.0,27.0,25.0,30.0,22.0,28.0,33.0,21.0,27.0,24.0,29.0,31.0,23.0,26.0,34.0,22.0,28.0,21.0,35.0,27.0,23.0,32.0,26.0,24.0,29.0,33.0,22.0,31.0,27.0,25.0,30.0,26.0,34.0,28.0,23.0,21.0,29.0,24.0,33.0,27.0,22.0,28.0,31.0,25.0,29.0,23.0,35.0,30.0,21.0,26.0,32.0,28.0,27.0,24.0,29.0,33.0,31.0,22.0,25.0,29.0,28.0,27.0,30.0,23.0,34.0,26.0,25.0,29.0,28.0,31.0,27.0,22.0,24.0,35.0,21.0,29.0,25.0,28.0,32.0,26.0,33.0,27.0,31.0,24.0,34.0,22.0,29.0,28.0,31.0,21.0,25.0,30.0,27.0,32.0,24.0,29.0,26.0,33.0,22.0,35.0,28.0,27.0,25.0,30.0,22.0,28.0,33.0,21.0,27.0,24.0,29.0,31.0,23.0,26.0,34.0,22.0,28.0,21.0,35.0,27.0,23.0,32.0,26.0,24.0,29.0,33.0,22.0,31.0,27.0,25.0,30.0,26.0,34.0,28.0,23.0,21.0,29.0,24.0,33.0,27.0,22.0,28.0,31.0,27.0,25.0,29.0,23.0,35.0,30.0,21.0,26.0,32.0,28.0,27.0,24.0,29.0,33.0,31.0,22.0,25.0,29.0,28.0,27.0,30.0,23.0,34.0,26.0,25.0,29.0,28.0,31.0,27.0,22.0,24.0,35.0,21.0,29.0,25.0,28.0,32.0,26.0,33.0,27.0,31.0,24.0,34.0,22.0,29.0,28.0,31.0,21.0,25.0,30.0,27.0,32.0,24.0,29.0,26.0,33.0,22.0,35.0,28.0,27.0,25.0,30.0,22.0,28.0,33.0,21.0,27.0,24.0,29.0,31.0,23.0,26.0,34.0,22.0,28.0,21.0,35.0,27.0,23.0,32.0,26.0,24.0,29.0,33.0,22.0,31.0,27.0,25.0,30.0,26.0,34.0,28.0,23.0,21.0,29.0,24.0,33.0,27.0,22.0,28.0,31.0,25.0,29.0,23.0,35.0,30.0,21.0,26.0,32.0,28.0,27.0,27.0,27.0,27.0,27.0,27.0,27.0,27.0,27.0,27.0,27.0,27.0,27.0,27.0,27.0,27.0,27.0,27.0,27.0,27.0,27.0,27.0,27.0,27.0,27.0,27.0,27.0,27.0,27.0,27.0,27.0,27.0,27.0,27.0,27.0,27.0,27.0,27.0,25.0,30.0,27.0,32.0,24.0,29.0,26.0,33.0,22.0,35.0,28.0,27.0,25.0,30.0,22.0,28.0,33.0,21.0,27.0,24.0,29.0,31.0,23.0,26.0,34.0,22.0,28.0,21.0,35.0,27.0,23.0,32.0,26.0,24.0,29.0,33.0,22.0,31.0,27.0,25.0,30.0,26.0,34.0,28.0,23.0,21.0,29.0,24.0,33.0,27.0,22.0,28.0,31.0,25.0,29.0,23.0,35.0,30.0,21.0,26.0,32.0,28.0,27.0,24.0,29.0,33.0,31.0,22.0,25.0,29.0,28.0,27.0,30.0,23.0,34.0,26.0,25.0,29.0,28.0,31.0,27.0,22.0,24.0,35.0,21.0,29.0,25.0,28.0,32.0,26.0,33.0,27.0,31.0,24.0,34.0,22.0,29.0,28.0,31.0,21.0,25.0,30.0,27.0,32.0,24.0,29.0,26.0,33.0,22.0,35.0,28.0,27.0,25.0,30.0,22.0,28.0,33.0,21.0,27.0,24.0,29.0,31.0,23.0,26.0,34.0,22.0,28.0,21.0,35.0,27.0,23.0,32.0,26.0,24.0,29.0,33.0,22.0,31.0,27.0,25.0,30.0,26.0,34.0,28.0,23.0,21.0,29.0,24.0,33.0,27.0,22.0,28.0,31.0,25.0,29.0,23.0,35.0,30.0,21.0,26.0,32.0,28.0,27.0,24.0,29.0,33.0,31.0,22.0,25.0,29.0,28.0,27.0,30.0,23.0,34.0,26.0,25.0,29.0,28.0,31.0,27.0,22.0,24.0,35.0,21.0,29.0,25.0,28.0,32.0,26.0,33.0,27.0,31.0,24.0,34.0,22.0,29.0,28.0,31.0,21.0,25.0,30.0,27.0,32.0,24.0,29.0,26.0,33.0,22.0,35.0,28.0,27.0],\"xaxis\":\"x\",\"yaxis\":\"y\",\"type\":\"histogram\"}],                        {\"template\":{\"data\":{\"histogram2dcontour\":[{\"type\":\"histogram2dcontour\",\"colorbar\":{\"outlinewidth\":0,\"ticks\":\"\"},\"colorscale\":[[0.0,\"#0d0887\"],[0.1111111111111111,\"#46039f\"],[0.2222222222222222,\"#7201a8\"],[0.3333333333333333,\"#9c179e\"],[0.4444444444444444,\"#bd3786\"],[0.5555555555555556,\"#d8576b\"],[0.6666666666666666,\"#ed7953\"],[0.7777777777777778,\"#fb9f3a\"],[0.8888888888888888,\"#fdca26\"],[1.0,\"#f0f921\"]]}],\"choropleth\":[{\"type\":\"choropleth\",\"colorbar\":{\"outlinewidth\":0,\"ticks\":\"\"}}],\"histogram2d\":[{\"type\":\"histogram2d\",\"colorbar\":{\"outlinewidth\":0,\"ticks\":\"\"},\"colorscale\":[[0.0,\"#0d0887\"],[0.1111111111111111,\"#46039f\"],[0.2222222222222222,\"#7201a8\"],[0.3333333333333333,\"#9c179e\"],[0.4444444444444444,\"#bd3786\"],[0.5555555555555556,\"#d8576b\"],[0.6666666666666666,\"#ed7953\"],[0.7777777777777778,\"#fb9f3a\"],[0.8888888888888888,\"#fdca26\"],[1.0,\"#f0f921\"]]}],\"heatmap\":[{\"type\":\"heatmap\",\"colorbar\":{\"outlinewidth\":0,\"ticks\":\"\"},\"colorscale\":[[0.0,\"#0d0887\"],[0.1111111111111111,\"#46039f\"],[0.2222222222222222,\"#7201a8\"],[0.3333333333333333,\"#9c179e\"],[0.4444444444444444,\"#bd3786\"],[0.5555555555555556,\"#d8576b\"],[0.6666666666666666,\"#ed7953\"],[0.7777777777777778,\"#fb9f3a\"],[0.8888888888888888,\"#fdca26\"],[1.0,\"#f0f921\"]]}],\"heatmapgl\":[{\"type\":\"heatmapgl\",\"colorbar\":{\"outlinewidth\":0,\"ticks\":\"\"},\"colorscale\":[[0.0,\"#0d0887\"],[0.1111111111111111,\"#46039f\"],[0.2222222222222222,\"#7201a8\"],[0.3333333333333333,\"#9c179e\"],[0.4444444444444444,\"#bd3786\"],[0.5555555555555556,\"#d8576b\"],[0.6666666666666666,\"#ed7953\"],[0.7777777777777778,\"#fb9f3a\"],[0.8888888888888888,\"#fdca26\"],[1.0,\"#f0f921\"]]}],\"contourcarpet\":[{\"type\":\"contourcarpet\",\"colorbar\":{\"outlinewidth\":0,\"ticks\":\"\"}}],\"contour\":[{\"type\":\"contour\",\"colorbar\":{\"outlinewidth\":0,\"ticks\":\"\"},\"colorscale\":[[0.0,\"#0d0887\"],[0.1111111111111111,\"#46039f\"],[0.2222222222222222,\"#7201a8\"],[0.3333333333333333,\"#9c179e\"],[0.4444444444444444,\"#bd3786\"],[0.5555555555555556,\"#d8576b\"],[0.6666666666666666,\"#ed7953\"],[0.7777777777777778,\"#fb9f3a\"],[0.8888888888888888,\"#fdca26\"],[1.0,\"#f0f921\"]]}],\"surface\":[{\"type\":\"surface\",\"colorbar\":{\"outlinewidth\":0,\"ticks\":\"\"},\"colorscale\":[[0.0,\"#0d0887\"],[0.1111111111111111,\"#46039f\"],[0.2222222222222222,\"#7201a8\"],[0.3333333333333333,\"#9c179e\"],[0.4444444444444444,\"#bd3786\"],[0.5555555555555556,\"#d8576b\"],[0.6666666666666666,\"#ed7953\"],[0.7777777777777778,\"#fb9f3a\"],[0.8888888888888888,\"#fdca26\"],[1.0,\"#f0f921\"]]}],\"mesh3d\":[{\"type\":\"mesh3d\",\"colorbar\":{\"outlinewidth\":0,\"ticks\":\"\"}}],\"scatter\":[{\"fillpattern\":{\"fillmode\":\"overlay\",\"size\":10,\"solidity\":0.2},\"type\":\"scatter\"}],\"parcoords\":[{\"type\":\"parcoords\",\"line\":{\"colorbar\":{\"outlinewidth\":0,\"ticks\":\"\"}}}],\"scatterpolargl\":[{\"type\":\"scatterpolargl\",\"marker\":{\"colorbar\":{\"outlinewidth\":0,\"ticks\":\"\"}}}],\"bar\":[{\"error_x\":{\"color\":\"#2a3f5f\"},\"error_y\":{\"color\":\"#2a3f5f\"},\"marker\":{\"line\":{\"color\":\"#E5ECF6\",\"width\":0.5},\"pattern\":{\"fillmode\":\"overlay\",\"size\":10,\"solidity\":0.2}},\"type\":\"bar\"}],\"scattergeo\":[{\"type\":\"scattergeo\",\"marker\":{\"colorbar\":{\"outlinewidth\":0,\"ticks\":\"\"}}}],\"scatterpolar\":[{\"type\":\"scatterpolar\",\"marker\":{\"colorbar\":{\"outlinewidth\":0,\"ticks\":\"\"}}}],\"histogram\":[{\"marker\":{\"pattern\":{\"fillmode\":\"overlay\",\"size\":10,\"solidity\":0.2}},\"type\":\"histogram\"}],\"scattergl\":[{\"type\":\"scattergl\",\"marker\":{\"colorbar\":{\"outlinewidth\":0,\"ticks\":\"\"}}}],\"scatter3d\":[{\"type\":\"scatter3d\",\"line\":{\"colorbar\":{\"outlinewidth\":0,\"ticks\":\"\"}},\"marker\":{\"colorbar\":{\"outlinewidth\":0,\"ticks\":\"\"}}}],\"scattermapbox\":[{\"type\":\"scattermapbox\",\"marker\":{\"colorbar\":{\"outlinewidth\":0,\"ticks\":\"\"}}}],\"scatterternary\":[{\"type\":\"scatterternary\",\"marker\":{\"colorbar\":{\"outlinewidth\":0,\"ticks\":\"\"}}}],\"scattercarpet\":[{\"type\":\"scattercarpet\",\"marker\":{\"colorbar\":{\"outlinewidth\":0,\"ticks\":\"\"}}}],\"carpet\":[{\"aaxis\":{\"endlinecolor\":\"#2a3f5f\",\"gridcolor\":\"white\",\"linecolor\":\"white\",\"minorgridcolor\":\"white\",\"startlinecolor\":\"#2a3f5f\"},\"baxis\":{\"endlinecolor\":\"#2a3f5f\",\"gridcolor\":\"white\",\"linecolor\":\"white\",\"minorgridcolor\":\"white\",\"startlinecolor\":\"#2a3f5f\"},\"type\":\"carpet\"}],\"table\":[{\"cells\":{\"fill\":{\"color\":\"#EBF0F8\"},\"line\":{\"color\":\"white\"}},\"header\":{\"fill\":{\"color\":\"#C8D4E3\"},\"line\":{\"color\":\"white\"}},\"type\":\"table\"}],\"barpolar\":[{\"marker\":{\"line\":{\"color\":\"#E5ECF6\",\"width\":0.5},\"pattern\":{\"fillmode\":\"overlay\",\"size\":10,\"solidity\":0.2}},\"type\":\"barpolar\"}],\"pie\":[{\"automargin\":true,\"type\":\"pie\"}]},\"layout\":{\"autotypenumbers\":\"strict\",\"colorway\":[\"#636efa\",\"#EF553B\",\"#00cc96\",\"#ab63fa\",\"#FFA15A\",\"#19d3f3\",\"#FF6692\",\"#B6E880\",\"#FF97FF\",\"#FECB52\"],\"font\":{\"color\":\"#2a3f5f\"},\"hovermode\":\"closest\",\"hoverlabel\":{\"align\":\"left\"},\"paper_bgcolor\":\"white\",\"plot_bgcolor\":\"#E5ECF6\",\"polar\":{\"bgcolor\":\"#E5ECF6\",\"angularaxis\":{\"gridcolor\":\"white\",\"linecolor\":\"white\",\"ticks\":\"\"},\"radialaxis\":{\"gridcolor\":\"white\",\"linecolor\":\"white\",\"ticks\":\"\"}},\"ternary\":{\"bgcolor\":\"#E5ECF6\",\"aaxis\":{\"gridcolor\":\"white\",\"linecolor\":\"white\",\"ticks\":\"\"},\"baxis\":{\"gridcolor\":\"white\",\"linecolor\":\"white\",\"ticks\":\"\"},\"caxis\":{\"gridcolor\":\"white\",\"linecolor\":\"white\",\"ticks\":\"\"}},\"coloraxis\":{\"colorbar\":{\"outlinewidth\":0,\"ticks\":\"\"}},\"colorscale\":{\"sequential\":[[0.0,\"#0d0887\"],[0.1111111111111111,\"#46039f\"],[0.2222222222222222,\"#7201a8\"],[0.3333333333333333,\"#9c179e\"],[0.4444444444444444,\"#bd3786\"],[0.5555555555555556,\"#d8576b\"],[0.6666666666666666,\"#ed7953\"],[0.7777777777777778,\"#fb9f3a\"],[0.8888888888888888,\"#fdca26\"],[1.0,\"#f0f921\"]],\"sequentialminus\":[[0.0,\"#0d0887\"],[0.1111111111111111,\"#46039f\"],[0.2222222222222222,\"#7201a8\"],[0.3333333333333333,\"#9c179e\"],[0.4444444444444444,\"#bd3786\"],[0.5555555555555556,\"#d8576b\"],[0.6666666666666666,\"#ed7953\"],[0.7777777777777778,\"#fb9f3a\"],[0.8888888888888888,\"#fdca26\"],[1.0,\"#f0f921\"]],\"diverging\":[[0,\"#8e0152\"],[0.1,\"#c51b7d\"],[0.2,\"#de77ae\"],[0.3,\"#f1b6da\"],[0.4,\"#fde0ef\"],[0.5,\"#f7f7f7\"],[0.6,\"#e6f5d0\"],[0.7,\"#b8e186\"],[0.8,\"#7fbc41\"],[0.9,\"#4d9221\"],[1,\"#276419\"]]},\"xaxis\":{\"gridcolor\":\"white\",\"linecolor\":\"white\",\"ticks\":\"\",\"title\":{\"standoff\":15},\"zerolinecolor\":\"white\",\"automargin\":true,\"zerolinewidth\":2},\"yaxis\":{\"gridcolor\":\"white\",\"linecolor\":\"white\",\"ticks\":\"\",\"title\":{\"standoff\":15},\"zerolinecolor\":\"white\",\"automargin\":true,\"zerolinewidth\":2},\"scene\":{\"xaxis\":{\"backgroundcolor\":\"#E5ECF6\",\"gridcolor\":\"white\",\"linecolor\":\"white\",\"showbackground\":true,\"ticks\":\"\",\"zerolinecolor\":\"white\",\"gridwidth\":2},\"yaxis\":{\"backgroundcolor\":\"#E5ECF6\",\"gridcolor\":\"white\",\"linecolor\":\"white\",\"showbackground\":true,\"ticks\":\"\",\"zerolinecolor\":\"white\",\"gridwidth\":2},\"zaxis\":{\"backgroundcolor\":\"#E5ECF6\",\"gridcolor\":\"white\",\"linecolor\":\"white\",\"showbackground\":true,\"ticks\":\"\",\"zerolinecolor\":\"white\",\"gridwidth\":2}},\"shapedefaults\":{\"line\":{\"color\":\"#2a3f5f\"}},\"annotationdefaults\":{\"arrowcolor\":\"#2a3f5f\",\"arrowhead\":0,\"arrowwidth\":1},\"geo\":{\"bgcolor\":\"white\",\"landcolor\":\"#E5ECF6\",\"subunitcolor\":\"white\",\"showland\":true,\"showlakes\":true,\"lakecolor\":\"white\"},\"title\":{\"x\":0.05},\"mapbox\":{\"style\":\"light\"}}},\"xaxis\":{\"anchor\":\"y\",\"domain\":[0.0,1.0],\"title\":{\"text\":\"Age\"}},\"yaxis\":{\"anchor\":\"x\",\"domain\":[0.0,1.0],\"title\":{\"text\":\"count\"}},\"legend\":{\"tracegroupgap\":0},\"title\":{\"text\":\"Age Distribution\"},\"barmode\":\"relative\"},                        {\"responsive\": true}                    ).then(function(){\n",
              "                            \n",
              "var gd = document.getElementById('a550e48d-c59c-4aae-8b02-fd459103acf9');\n",
              "var x = new MutationObserver(function (mutations, observer) {{\n",
              "        var display = window.getComputedStyle(gd).display;\n",
              "        if (!display || display === 'none') {{\n",
              "            console.log([gd, 'removed!']);\n",
              "            Plotly.purge(gd);\n",
              "            observer.disconnect();\n",
              "        }}\n",
              "}});\n",
              "\n",
              "// Listen for the removal of the full notebook cells\n",
              "var notebookContainer = gd.closest('#notebook-container');\n",
              "if (notebookContainer) {{\n",
              "    x.observe(notebookContainer, {childList: true});\n",
              "}}\n",
              "\n",
              "// Listen for the clearing of the current output cell\n",
              "var outputEl = gd.closest('.output');\n",
              "if (outputEl) {{\n",
              "    x.observe(outputEl, {childList: true});\n",
              "}}\n",
              "\n",
              "                        })                };                            </script>        </div>\n",
              "</body>\n",
              "</html>"
            ]
          },
          "metadata": {}
        }
      ]
    },
    {
      "cell_type": "markdown",
      "source": [
        "Gender Distribution:"
      ],
      "metadata": {
        "id": "t0q8aaw6HShU"
      }
    },
    {
      "cell_type": "code",
      "source": [
        "train_df['Gender'].unique()"
      ],
      "metadata": {
        "colab": {
          "base_uri": "https://localhost:8080/"
        },
        "id": "9e7kLGi7G6Og",
        "outputId": "a9bee2df-3b61-4581-e0f0-54b651c3d82b"
      },
      "execution_count": 58,
      "outputs": [
        {
          "output_type": "execute_result",
          "data": {
            "text/plain": [
              "array(['Female', 'Male', 'Non-binary', '27', '24', '29', '33', '31', '22',\n",
              "       '25', '28', '30', '23', '34', '26', '35', '21', '32', nan],\n",
              "      dtype=object)"
            ]
          },
          "metadata": {},
          "execution_count": 58
        }
      ]
    },
    {
      "cell_type": "code",
      "source": [
        "# Function to replace numeric values with NaN\n",
        "def clean_gender_column(gender_value):\n",
        "    try:\n",
        "        # Try converting the value to float, if it succeeds it's a numeric value\n",
        "        float(gender_value)\n",
        "        return np.nan\n",
        "    except ValueError:\n",
        "        # If conversion fails, it's a valid gender entry\n",
        "        return gender_value\n",
        "\n",
        "# Apply the function to the Gender column\n",
        "train_df['Gender'] = train_df['Gender'].apply(clean_gender_column)\n",
        "\n",
        "# Fill NaN values with a placeholder or drop them\n",
        "# Here we fill NaN values with 'Unknown'\n",
        "train_df['Gender'].fillna('Unknown', inplace=True)\n",
        "\n",
        "# Verify the unique values after cleaning\n",
        "print(train_df['Gender'].unique())"
      ],
      "metadata": {
        "colab": {
          "base_uri": "https://localhost:8080/"
        },
        "id": "y5M4zHs-HYLL",
        "outputId": "f2711837-2513-4606-dabb-d25302d0f2c9"
      },
      "execution_count": 59,
      "outputs": [
        {
          "output_type": "stream",
          "name": "stdout",
          "text": [
            "['Female' 'Male' 'Non-binary' 'Unknown']\n"
          ]
        }
      ]
    },
    {
      "cell_type": "code",
      "source": [
        "train_df['Gender'].unique()"
      ],
      "metadata": {
        "colab": {
          "base_uri": "https://localhost:8080/"
        },
        "id": "Pt4V6pviHo7H",
        "outputId": "b9b123c3-1fd9-4479-dd26-e3e566469eef"
      },
      "execution_count": 60,
      "outputs": [
        {
          "output_type": "execute_result",
          "data": {
            "text/plain": [
              "array(['Female', 'Male', 'Non-binary', 'Unknown'], dtype=object)"
            ]
          },
          "metadata": {},
          "execution_count": 60
        }
      ]
    },
    {
      "cell_type": "code",
      "source": [
        "train_df['Gender'].value_counts()"
      ],
      "metadata": {
        "colab": {
          "base_uri": "https://localhost:8080/"
        },
        "id": "vNXB-6ruHsiF",
        "outputId": "58f1b8ca-d1f8-48bb-d971-92c83690a75a"
      },
      "execution_count": 61,
      "outputs": [
        {
          "output_type": "execute_result",
          "data": {
            "text/plain": [
              "Gender\n",
              "Female        344\n",
              "Male          332\n",
              "Non-binary    248\n",
              "Unknown        77\n",
              "Name: count, dtype: int64"
            ]
          },
          "metadata": {},
          "execution_count": 61
        }
      ]
    },
    {
      "cell_type": "code",
      "source": [
        "plt = px.histogram(train_df, x='Gender', title='Gender Distribution')\n",
        "plt.show()"
      ],
      "metadata": {
        "colab": {
          "base_uri": "https://localhost:8080/",
          "height": 542
        },
        "id": "Tp9pOURhHu-8",
        "outputId": "d6375175-1f22-41f1-e8ed-2a2bb0fbec81"
      },
      "execution_count": 62,
      "outputs": [
        {
          "output_type": "display_data",
          "data": {
            "text/html": [
              "<html>\n",
              "<head><meta charset=\"utf-8\" /></head>\n",
              "<body>\n",
              "    <div>            <script src=\"https://cdnjs.cloudflare.com/ajax/libs/mathjax/2.7.5/MathJax.js?config=TeX-AMS-MML_SVG\"></script><script type=\"text/javascript\">if (window.MathJax && window.MathJax.Hub && window.MathJax.Hub.Config) {window.MathJax.Hub.Config({SVG: {font: \"STIX-Web\"}});}</script>                <script type=\"text/javascript\">window.PlotlyConfig = {MathJaxConfig: 'local'};</script>\n",
              "        <script charset=\"utf-8\" src=\"https://cdn.plot.ly/plotly-2.24.1.min.js\"></script>                <div id=\"ed3aab23-c507-4420-ad3d-38eaf42bdb2e\" class=\"plotly-graph-div\" style=\"height:525px; width:100%;\"></div>            <script type=\"text/javascript\">                                    window.PLOTLYENV=window.PLOTLYENV || {};                                    if (document.getElementById(\"ed3aab23-c507-4420-ad3d-38eaf42bdb2e\")) {                    Plotly.newPlot(                        \"ed3aab23-c507-4420-ad3d-38eaf42bdb2e\",                        [{\"alignmentgroup\":\"True\",\"bingroup\":\"x\",\"hovertemplate\":\"Gender=%{x}\\u003cbr\\u003ecount=%{y}\\u003cextra\\u003e\\u003c\\u002fextra\\u003e\",\"legendgroup\":\"\",\"marker\":{\"color\":\"#636efa\",\"pattern\":{\"shape\":\"\"}},\"name\":\"\",\"offsetgroup\":\"\",\"orientation\":\"v\",\"showlegend\":false,\"x\":[\"Female\",\"Male\",\"Non-binary\",\"Female\",\"Male\",\"Male\",\"Female\",\"Non-binary\",\"Female\",\"Male\",\"Female\",\"Non-binary\",\"Male\",\"Female\",\"Male\",\"Non-binary\",\"Female\",\"Male\",\"Non-binary\",\"Female\",\"Male\",\"Female\",\"Male\",\"Non-binary\",\"Female\",\"Male\",\"Non-binary\",\"Female\",\"Male\",\"Non-binary\",\"Female\",\"Male\",\"Non-binary\",\"Female\",\"Male\",\"Non-binary\",\"Female\",\"Male\",\"Female\",\"Non-binary\",\"Male\",\"Female\",\"Male\",\"Non-binary\",\"Female\",\"Male\",\"Female\",\"Non-binary\",\"Male\",\"Female\",\"Male\",\"Female\",\"Non-binary\",\"Female\",\"Male\",\"Female\",\"Male\",\"Non-binary\",\"Female\",\"Male\",\"Female\",\"Male\",\"Non-binary\",\"Female\",\"Male\",\"Non-binary\",\"Male\",\"Female\",\"Male\",\"Non-binary\",\"Female\",\"Male\",\"Non-binary\",\"Female\",\"Male\",\"Non-binary\",\"Female\",\"Male\",\"Non-binary\",\"Female\",\"Male\",\"Non-binary\",\"Female\",\"Male\",\"Non-binary\",\"Female\",\"Male\",\"Non-binary\",\"Female\",\"Male\",\"Non-binary\",\"Female\",\"Male\",\"Female\",\"Male\",\"Non-binary\",\"Female\",\"Male\",\"Non-binary\",\"Female\",\"Female\",\"Male\",\"Non-binary\",\"Female\",\"Male\",\"Male\",\"Female\",\"Non-binary\",\"Female\",\"Male\",\"Female\",\"Non-binary\",\"Male\",\"Female\",\"Male\",\"Non-binary\",\"Female\",\"Male\",\"Non-binary\",\"Female\",\"Male\",\"Female\",\"Male\",\"Non-binary\",\"Female\",\"Male\",\"Non-binary\",\"Female\",\"Male\",\"Non-binary\",\"Female\",\"Male\",\"Non-binary\",\"Female\",\"Male\",\"Non-binary\",\"Female\",\"Male\",\"Female\",\"Non-binary\",\"Male\",\"Female\",\"Male\",\"Non-binary\",\"Female\",\"Male\",\"Female\",\"Non-binary\",\"Male\",\"Female\",\"Male\",\"Female\",\"Non-binary\",\"Female\",\"Male\",\"Female\",\"Male\",\"Non-binary\",\"Female\",\"Male\",\"Female\",\"Male\",\"Non-binary\",\"Female\",\"Male\",\"Non-binary\",\"Male\",\"Female\",\"Male\",\"Non-binary\",\"Female\",\"Male\",\"Non-binary\",\"Female\",\"Male\",\"Non-binary\",\"Female\",\"Male\",\"Non-binary\",\"Female\",\"Male\",\"Non-binary\",\"Female\",\"Male\",\"Non-binary\",\"Female\",\"Male\",\"Non-binary\",\"Female\",\"Male\",\"Non-binary\",\"Female\",\"Male\",\"Female\",\"Male\",\"Non-binary\",\"Female\",\"Male\",\"Non-binary\",\"Female\",\"Female\",\"Male\",\"Non-binary\",\"Female\",\"Male\",\"Male\",\"Female\",\"Non-binary\",\"Female\",\"Male\",\"Female\",\"Non-binary\",\"Male\",\"Female\",\"Male\",\"Non-binary\",\"Female\",\"Male\",\"Non-binary\",\"Female\",\"Male\",\"Female\",\"Male\",\"Non-binary\",\"Female\",\"Male\",\"Non-binary\",\"Female\",\"Male\",\"Non-binary\",\"Female\",\"Male\",\"Non-binary\",\"Female\",\"Male\",\"Non-binary\",\"Female\",\"Male\",\"Female\",\"Non-binary\",\"Male\",\"Female\",\"Male\",\"Non-binary\",\"Female\",\"Male\",\"Female\",\"Non-binary\",\"Male\",\"Female\",\"Unknown\",\"Unknown\",\"Unknown\",\"Unknown\",\"Unknown\",\"Unknown\",\"Unknown\",\"Unknown\",\"Unknown\",\"Unknown\",\"Unknown\",\"Unknown\",\"Unknown\",\"Unknown\",\"Unknown\",\"Unknown\",\"Unknown\",\"Unknown\",\"Unknown\",\"Unknown\",\"Unknown\",\"Unknown\",\"Unknown\",\"Unknown\",\"Unknown\",\"Unknown\",\"Unknown\",\"Unknown\",\"Unknown\",\"Unknown\",\"Unknown\",\"Unknown\",\"Unknown\",\"Unknown\",\"Unknown\",\"Unknown\",\"Unknown\",\"Unknown\",\"Female\",\"Male\",\"Non-binary\",\"Female\",\"Male\",\"Female\",\"Male\",\"Non-binary\",\"Female\",\"Male\",\"Non-binary\",\"Female\",\"Female\",\"Male\",\"Non-binary\",\"Female\",\"Male\",\"Male\",\"Female\",\"Non-binary\",\"Female\",\"Male\",\"Female\",\"Non-binary\",\"Male\",\"Female\",\"Male\",\"Non-binary\",\"Female\",\"Male\",\"Non-binary\",\"Female\",\"Male\",\"Female\",\"Male\",\"Non-binary\",\"Female\",\"Male\",\"Non-binary\",\"Female\",\"Male\",\"Non-binary\",\"Female\",\"Male\",\"Non-binary\",\"Female\",\"Male\",\"Non-binary\",\"Female\",\"Male\",\"Female\",\"Non-binary\",\"Male\",\"Female\",\"Male\",\"Non-binary\",\"Female\",\"Male\",\"Female\",\"Non-binary\",\"Male\",\"Female\",\"Male\",\"Female\",\"Non-binary\",\"Female\",\"Male\",\"Female\",\"Male\",\"Non-binary\",\"Female\",\"Male\",\"Female\",\"Male\",\"Non-binary\",\"Female\",\"Male\",\"Non-binary\",\"Male\",\"Female\",\"Male\",\"Non-binary\",\"Female\",\"Male\",\"Non-binary\",\"Female\",\"Male\",\"Non-binary\",\"Female\",\"Male\",\"Non-binary\",\"Female\",\"Male\",\"Non-binary\",\"Female\",\"Male\",\"Non-binary\",\"Female\",\"Male\",\"Non-binary\",\"Female\",\"Male\",\"Non-binary\",\"Female\",\"Male\",\"Female\",\"Male\",\"Non-binary\",\"Female\",\"Male\",\"Non-binary\",\"Female\",\"Female\",\"Male\",\"Non-binary\",\"Female\",\"Male\",\"Male\",\"Female\",\"Non-binary\",\"Female\",\"Male\",\"Female\",\"Non-binary\",\"Male\",\"Female\",\"Male\",\"Non-binary\",\"Female\",\"Male\",\"Non-binary\",\"Female\",\"Male\",\"Female\",\"Male\",\"Non-binary\",\"Female\",\"Male\",\"Non-binary\",\"Female\",\"Male\",\"Non-binary\",\"Female\",\"Male\",\"Non-binary\",\"Female\",\"Male\",\"Non-binary\",\"Female\",\"Male\",\"Female\",\"Non-binary\",\"Male\",\"Female\",\"Male\",\"Non-binary\",\"Female\",\"Male\",\"Female\",\"Non-binary\",\"Male\",\"Female\",\"Male\",\"Female\",\"Non-binary\",\"Female\",\"Male\",\"Female\",\"Male\",\"Non-binary\",\"Female\",\"Male\",\"Female\",\"Male\",\"Non-binary\",\"Female\",\"Male\",\"Non-binary\",\"Male\",\"Female\",\"Male\",\"Non-binary\",\"Female\",\"Male\",\"Non-binary\",\"Female\",\"Male\",\"Non-binary\",\"Female\",\"Male\",\"Non-binary\",\"Female\",\"Male\",\"Non-binary\",\"Female\",\"Male\",\"Non-binary\",\"Female\",\"Male\",\"Non-binary\",\"Female\",\"Male\",\"Non-binary\",\"Female\",\"Male\",\"Female\",\"Male\",\"Non-binary\",\"Female\",\"Male\",\"Non-binary\",\"Female\",\"Female\",\"Male\",\"Non-binary\",\"Female\",\"Male\",\"Male\",\"Female\",\"Non-binary\",\"Female\",\"Male\",\"Female\",\"Non-binary\",\"Male\",\"Female\",\"Male\",\"Non-binary\",\"Female\",\"Male\",\"Non-binary\",\"Female\",\"Male\",\"Female\",\"Male\",\"Non-binary\",\"Female\",\"Male\",\"Non-binary\",\"Female\",\"Male\",\"Non-binary\",\"Female\",\"Male\",\"Non-binary\",\"Female\",\"Male\",\"Non-binary\",\"Female\",\"Male\",\"Female\",\"Non-binary\",\"Male\",\"Female\",\"Male\",\"Non-binary\",\"Female\",\"Male\",\"Female\",\"Non-binary\",\"Male\",\"Female\",\"Male\",\"Female\",\"Non-binary\",\"Female\",\"Male\",\"Female\",\"Male\",\"Non-binary\",\"Female\",\"Male\",\"Female\",\"Male\",\"Non-binary\",\"Female\",\"Male\",\"Non-binary\",\"Male\",\"Female\",\"Male\",\"Non-binary\",\"Female\",\"Male\",\"Non-binary\",\"Female\",\"Male\",\"Non-binary\",\"Female\",\"Male\",\"Non-binary\",\"Female\",\"Male\",\"Non-binary\",\"Female\",\"Male\",\"Non-binary\",\"Female\",\"Male\",\"Non-binary\",\"Female\",\"Male\",\"Non-binary\",\"Female\",\"Male\",\"Female\",\"Male\",\"Non-binary\",\"Female\",\"Male\",\"Non-binary\",\"Female\",\"Female\",\"Male\",\"Non-binary\",\"Female\",\"Male\",\"Male\",\"Female\",\"Non-binary\",\"Female\",\"Male\",\"Female\",\"Non-binary\",\"Male\",\"Female\",\"Male\",\"Non-binary\",\"Female\",\"Male\",\"Non-binary\",\"Female\",\"Male\",\"Female\",\"Male\",\"Non-binary\",\"Female\",\"Male\",\"Non-binary\",\"Female\",\"Male\",\"Non-binary\",\"Female\",\"Male\",\"Non-binary\",\"Female\",\"Male\",\"Non-binary\",\"Female\",\"Male\",\"Female\",\"Non-binary\",\"Male\",\"Unknown\",\"Female\",\"Male\",\"Non-binary\",\"Female\",\"Male\",\"Female\",\"Non-binary\",\"Male\",\"Female\",\"Male\",\"Female\",\"Non-binary\",\"Female\",\"Male\",\"Female\",\"Male\",\"Non-binary\",\"Female\",\"Male\",\"Female\",\"Male\",\"Non-binary\",\"Female\",\"Male\",\"Non-binary\",\"Male\",\"Female\",\"Male\",\"Non-binary\",\"Female\",\"Male\",\"Non-binary\",\"Female\",\"Male\",\"Non-binary\",\"Female\",\"Male\",\"Non-binary\",\"Female\",\"Male\",\"Non-binary\",\"Female\",\"Male\",\"Non-binary\",\"Female\",\"Male\",\"Non-binary\",\"Female\",\"Male\",\"Non-binary\",\"Female\",\"Male\",\"Female\",\"Male\",\"Non-binary\",\"Female\",\"Male\",\"Non-binary\",\"Female\",\"Female\",\"Male\",\"Non-binary\",\"Female\",\"Male\",\"Male\",\"Female\",\"Non-binary\",\"Female\",\"Male\",\"Female\",\"Non-binary\",\"Male\",\"Female\",\"Male\",\"Non-binary\",\"Female\",\"Male\",\"Non-binary\",\"Female\",\"Male\",\"Female\",\"Male\",\"Non-binary\",\"Female\",\"Male\",\"Non-binary\",\"Female\",\"Male\",\"Non-binary\",\"Female\",\"Male\",\"Non-binary\",\"Female\",\"Male\",\"Non-binary\",\"Female\",\"Male\",\"Female\",\"Non-binary\",\"Male\",\"Female\",\"Male\",\"Non-binary\",\"Female\",\"Male\",\"Female\",\"Non-binary\",\"Male\",\"Female\",\"Unknown\",\"Unknown\",\"Unknown\",\"Unknown\",\"Unknown\",\"Unknown\",\"Unknown\",\"Unknown\",\"Unknown\",\"Unknown\",\"Unknown\",\"Unknown\",\"Unknown\",\"Unknown\",\"Unknown\",\"Unknown\",\"Unknown\",\"Unknown\",\"Unknown\",\"Unknown\",\"Unknown\",\"Unknown\",\"Unknown\",\"Unknown\",\"Unknown\",\"Unknown\",\"Unknown\",\"Unknown\",\"Unknown\",\"Unknown\",\"Unknown\",\"Unknown\",\"Unknown\",\"Unknown\",\"Unknown\",\"Unknown\",\"Unknown\",\"Unknown\",\"Female\",\"Male\",\"Non-binary\",\"Female\",\"Male\",\"Female\",\"Male\",\"Non-binary\",\"Female\",\"Male\",\"Non-binary\",\"Female\",\"Female\",\"Male\",\"Non-binary\",\"Female\",\"Male\",\"Male\",\"Female\",\"Non-binary\",\"Female\",\"Male\",\"Female\",\"Non-binary\",\"Male\",\"Female\",\"Male\",\"Non-binary\",\"Female\",\"Male\",\"Non-binary\",\"Female\",\"Male\",\"Female\",\"Male\",\"Non-binary\",\"Female\",\"Male\",\"Non-binary\",\"Female\",\"Male\",\"Non-binary\",\"Female\",\"Male\",\"Non-binary\",\"Female\",\"Male\",\"Non-binary\",\"Female\",\"Male\",\"Female\",\"Non-binary\",\"Male\",\"Female\",\"Male\",\"Non-binary\",\"Female\",\"Male\",\"Female\",\"Non-binary\",\"Male\",\"Female\",\"Male\",\"Female\",\"Non-binary\",\"Female\",\"Male\",\"Female\",\"Male\",\"Non-binary\",\"Female\",\"Male\",\"Female\",\"Male\",\"Non-binary\",\"Female\",\"Male\",\"Non-binary\",\"Male\",\"Female\",\"Male\",\"Non-binary\",\"Female\",\"Male\",\"Non-binary\",\"Female\",\"Male\",\"Non-binary\",\"Female\",\"Male\",\"Non-binary\",\"Female\",\"Male\",\"Non-binary\",\"Female\",\"Male\",\"Non-binary\",\"Female\",\"Male\",\"Non-binary\",\"Female\",\"Male\",\"Non-binary\",\"Female\",\"Male\",\"Female\",\"Male\",\"Non-binary\",\"Female\",\"Male\",\"Non-binary\",\"Female\",\"Female\",\"Male\",\"Non-binary\",\"Female\",\"Male\",\"Male\",\"Female\",\"Non-binary\",\"Female\",\"Male\",\"Female\",\"Non-binary\",\"Male\",\"Female\",\"Male\",\"Non-binary\",\"Female\",\"Male\",\"Non-binary\",\"Female\",\"Male\",\"Female\",\"Male\",\"Non-binary\",\"Female\",\"Male\",\"Non-binary\",\"Female\",\"Male\",\"Non-binary\",\"Female\",\"Male\",\"Non-binary\",\"Female\",\"Male\",\"Non-binary\",\"Female\",\"Male\",\"Female\",\"Non-binary\",\"Male\",\"Female\",\"Male\",\"Non-binary\",\"Female\",\"Male\",\"Female\",\"Non-binary\",\"Male\",\"Female\",\"Male\",\"Female\",\"Non-binary\",\"Female\",\"Male\",\"Female\",\"Male\",\"Non-binary\",\"Female\",\"Male\",\"Female\",\"Male\",\"Non-binary\",\"Female\",\"Male\",\"Non-binary\",\"Male\",\"Female\",\"Male\",\"Non-binary\",\"Female\",\"Male\",\"Non-binary\",\"Female\",\"Male\",\"Non-binary\",\"Female\",\"Male\",\"Non-binary\",\"Female\",\"Male\",\"Non-binary\",\"Female\",\"Male\",\"Non-binary\",\"Female\",\"Male\",\"Non-binary\",\"Female\",\"Male\",\"Non-binary\",\"Female\",\"Male\",\"Female\",\"Male\",\"Non-binary\",\"Female\",\"Male\",\"Non-binary\",\"Female\"],\"xaxis\":\"x\",\"yaxis\":\"y\",\"type\":\"histogram\"}],                        {\"template\":{\"data\":{\"histogram2dcontour\":[{\"type\":\"histogram2dcontour\",\"colorbar\":{\"outlinewidth\":0,\"ticks\":\"\"},\"colorscale\":[[0.0,\"#0d0887\"],[0.1111111111111111,\"#46039f\"],[0.2222222222222222,\"#7201a8\"],[0.3333333333333333,\"#9c179e\"],[0.4444444444444444,\"#bd3786\"],[0.5555555555555556,\"#d8576b\"],[0.6666666666666666,\"#ed7953\"],[0.7777777777777778,\"#fb9f3a\"],[0.8888888888888888,\"#fdca26\"],[1.0,\"#f0f921\"]]}],\"choropleth\":[{\"type\":\"choropleth\",\"colorbar\":{\"outlinewidth\":0,\"ticks\":\"\"}}],\"histogram2d\":[{\"type\":\"histogram2d\",\"colorbar\":{\"outlinewidth\":0,\"ticks\":\"\"},\"colorscale\":[[0.0,\"#0d0887\"],[0.1111111111111111,\"#46039f\"],[0.2222222222222222,\"#7201a8\"],[0.3333333333333333,\"#9c179e\"],[0.4444444444444444,\"#bd3786\"],[0.5555555555555556,\"#d8576b\"],[0.6666666666666666,\"#ed7953\"],[0.7777777777777778,\"#fb9f3a\"],[0.8888888888888888,\"#fdca26\"],[1.0,\"#f0f921\"]]}],\"heatmap\":[{\"type\":\"heatmap\",\"colorbar\":{\"outlinewidth\":0,\"ticks\":\"\"},\"colorscale\":[[0.0,\"#0d0887\"],[0.1111111111111111,\"#46039f\"],[0.2222222222222222,\"#7201a8\"],[0.3333333333333333,\"#9c179e\"],[0.4444444444444444,\"#bd3786\"],[0.5555555555555556,\"#d8576b\"],[0.6666666666666666,\"#ed7953\"],[0.7777777777777778,\"#fb9f3a\"],[0.8888888888888888,\"#fdca26\"],[1.0,\"#f0f921\"]]}],\"heatmapgl\":[{\"type\":\"heatmapgl\",\"colorbar\":{\"outlinewidth\":0,\"ticks\":\"\"},\"colorscale\":[[0.0,\"#0d0887\"],[0.1111111111111111,\"#46039f\"],[0.2222222222222222,\"#7201a8\"],[0.3333333333333333,\"#9c179e\"],[0.4444444444444444,\"#bd3786\"],[0.5555555555555556,\"#d8576b\"],[0.6666666666666666,\"#ed7953\"],[0.7777777777777778,\"#fb9f3a\"],[0.8888888888888888,\"#fdca26\"],[1.0,\"#f0f921\"]]}],\"contourcarpet\":[{\"type\":\"contourcarpet\",\"colorbar\":{\"outlinewidth\":0,\"ticks\":\"\"}}],\"contour\":[{\"type\":\"contour\",\"colorbar\":{\"outlinewidth\":0,\"ticks\":\"\"},\"colorscale\":[[0.0,\"#0d0887\"],[0.1111111111111111,\"#46039f\"],[0.2222222222222222,\"#7201a8\"],[0.3333333333333333,\"#9c179e\"],[0.4444444444444444,\"#bd3786\"],[0.5555555555555556,\"#d8576b\"],[0.6666666666666666,\"#ed7953\"],[0.7777777777777778,\"#fb9f3a\"],[0.8888888888888888,\"#fdca26\"],[1.0,\"#f0f921\"]]}],\"surface\":[{\"type\":\"surface\",\"colorbar\":{\"outlinewidth\":0,\"ticks\":\"\"},\"colorscale\":[[0.0,\"#0d0887\"],[0.1111111111111111,\"#46039f\"],[0.2222222222222222,\"#7201a8\"],[0.3333333333333333,\"#9c179e\"],[0.4444444444444444,\"#bd3786\"],[0.5555555555555556,\"#d8576b\"],[0.6666666666666666,\"#ed7953\"],[0.7777777777777778,\"#fb9f3a\"],[0.8888888888888888,\"#fdca26\"],[1.0,\"#f0f921\"]]}],\"mesh3d\":[{\"type\":\"mesh3d\",\"colorbar\":{\"outlinewidth\":0,\"ticks\":\"\"}}],\"scatter\":[{\"fillpattern\":{\"fillmode\":\"overlay\",\"size\":10,\"solidity\":0.2},\"type\":\"scatter\"}],\"parcoords\":[{\"type\":\"parcoords\",\"line\":{\"colorbar\":{\"outlinewidth\":0,\"ticks\":\"\"}}}],\"scatterpolargl\":[{\"type\":\"scatterpolargl\",\"marker\":{\"colorbar\":{\"outlinewidth\":0,\"ticks\":\"\"}}}],\"bar\":[{\"error_x\":{\"color\":\"#2a3f5f\"},\"error_y\":{\"color\":\"#2a3f5f\"},\"marker\":{\"line\":{\"color\":\"#E5ECF6\",\"width\":0.5},\"pattern\":{\"fillmode\":\"overlay\",\"size\":10,\"solidity\":0.2}},\"type\":\"bar\"}],\"scattergeo\":[{\"type\":\"scattergeo\",\"marker\":{\"colorbar\":{\"outlinewidth\":0,\"ticks\":\"\"}}}],\"scatterpolar\":[{\"type\":\"scatterpolar\",\"marker\":{\"colorbar\":{\"outlinewidth\":0,\"ticks\":\"\"}}}],\"histogram\":[{\"marker\":{\"pattern\":{\"fillmode\":\"overlay\",\"size\":10,\"solidity\":0.2}},\"type\":\"histogram\"}],\"scattergl\":[{\"type\":\"scattergl\",\"marker\":{\"colorbar\":{\"outlinewidth\":0,\"ticks\":\"\"}}}],\"scatter3d\":[{\"type\":\"scatter3d\",\"line\":{\"colorbar\":{\"outlinewidth\":0,\"ticks\":\"\"}},\"marker\":{\"colorbar\":{\"outlinewidth\":0,\"ticks\":\"\"}}}],\"scattermapbox\":[{\"type\":\"scattermapbox\",\"marker\":{\"colorbar\":{\"outlinewidth\":0,\"ticks\":\"\"}}}],\"scatterternary\":[{\"type\":\"scatterternary\",\"marker\":{\"colorbar\":{\"outlinewidth\":0,\"ticks\":\"\"}}}],\"scattercarpet\":[{\"type\":\"scattercarpet\",\"marker\":{\"colorbar\":{\"outlinewidth\":0,\"ticks\":\"\"}}}],\"carpet\":[{\"aaxis\":{\"endlinecolor\":\"#2a3f5f\",\"gridcolor\":\"white\",\"linecolor\":\"white\",\"minorgridcolor\":\"white\",\"startlinecolor\":\"#2a3f5f\"},\"baxis\":{\"endlinecolor\":\"#2a3f5f\",\"gridcolor\":\"white\",\"linecolor\":\"white\",\"minorgridcolor\":\"white\",\"startlinecolor\":\"#2a3f5f\"},\"type\":\"carpet\"}],\"table\":[{\"cells\":{\"fill\":{\"color\":\"#EBF0F8\"},\"line\":{\"color\":\"white\"}},\"header\":{\"fill\":{\"color\":\"#C8D4E3\"},\"line\":{\"color\":\"white\"}},\"type\":\"table\"}],\"barpolar\":[{\"marker\":{\"line\":{\"color\":\"#E5ECF6\",\"width\":0.5},\"pattern\":{\"fillmode\":\"overlay\",\"size\":10,\"solidity\":0.2}},\"type\":\"barpolar\"}],\"pie\":[{\"automargin\":true,\"type\":\"pie\"}]},\"layout\":{\"autotypenumbers\":\"strict\",\"colorway\":[\"#636efa\",\"#EF553B\",\"#00cc96\",\"#ab63fa\",\"#FFA15A\",\"#19d3f3\",\"#FF6692\",\"#B6E880\",\"#FF97FF\",\"#FECB52\"],\"font\":{\"color\":\"#2a3f5f\"},\"hovermode\":\"closest\",\"hoverlabel\":{\"align\":\"left\"},\"paper_bgcolor\":\"white\",\"plot_bgcolor\":\"#E5ECF6\",\"polar\":{\"bgcolor\":\"#E5ECF6\",\"angularaxis\":{\"gridcolor\":\"white\",\"linecolor\":\"white\",\"ticks\":\"\"},\"radialaxis\":{\"gridcolor\":\"white\",\"linecolor\":\"white\",\"ticks\":\"\"}},\"ternary\":{\"bgcolor\":\"#E5ECF6\",\"aaxis\":{\"gridcolor\":\"white\",\"linecolor\":\"white\",\"ticks\":\"\"},\"baxis\":{\"gridcolor\":\"white\",\"linecolor\":\"white\",\"ticks\":\"\"},\"caxis\":{\"gridcolor\":\"white\",\"linecolor\":\"white\",\"ticks\":\"\"}},\"coloraxis\":{\"colorbar\":{\"outlinewidth\":0,\"ticks\":\"\"}},\"colorscale\":{\"sequential\":[[0.0,\"#0d0887\"],[0.1111111111111111,\"#46039f\"],[0.2222222222222222,\"#7201a8\"],[0.3333333333333333,\"#9c179e\"],[0.4444444444444444,\"#bd3786\"],[0.5555555555555556,\"#d8576b\"],[0.6666666666666666,\"#ed7953\"],[0.7777777777777778,\"#fb9f3a\"],[0.8888888888888888,\"#fdca26\"],[1.0,\"#f0f921\"]],\"sequentialminus\":[[0.0,\"#0d0887\"],[0.1111111111111111,\"#46039f\"],[0.2222222222222222,\"#7201a8\"],[0.3333333333333333,\"#9c179e\"],[0.4444444444444444,\"#bd3786\"],[0.5555555555555556,\"#d8576b\"],[0.6666666666666666,\"#ed7953\"],[0.7777777777777778,\"#fb9f3a\"],[0.8888888888888888,\"#fdca26\"],[1.0,\"#f0f921\"]],\"diverging\":[[0,\"#8e0152\"],[0.1,\"#c51b7d\"],[0.2,\"#de77ae\"],[0.3,\"#f1b6da\"],[0.4,\"#fde0ef\"],[0.5,\"#f7f7f7\"],[0.6,\"#e6f5d0\"],[0.7,\"#b8e186\"],[0.8,\"#7fbc41\"],[0.9,\"#4d9221\"],[1,\"#276419\"]]},\"xaxis\":{\"gridcolor\":\"white\",\"linecolor\":\"white\",\"ticks\":\"\",\"title\":{\"standoff\":15},\"zerolinecolor\":\"white\",\"automargin\":true,\"zerolinewidth\":2},\"yaxis\":{\"gridcolor\":\"white\",\"linecolor\":\"white\",\"ticks\":\"\",\"title\":{\"standoff\":15},\"zerolinecolor\":\"white\",\"automargin\":true,\"zerolinewidth\":2},\"scene\":{\"xaxis\":{\"backgroundcolor\":\"#E5ECF6\",\"gridcolor\":\"white\",\"linecolor\":\"white\",\"showbackground\":true,\"ticks\":\"\",\"zerolinecolor\":\"white\",\"gridwidth\":2},\"yaxis\":{\"backgroundcolor\":\"#E5ECF6\",\"gridcolor\":\"white\",\"linecolor\":\"white\",\"showbackground\":true,\"ticks\":\"\",\"zerolinecolor\":\"white\",\"gridwidth\":2},\"zaxis\":{\"backgroundcolor\":\"#E5ECF6\",\"gridcolor\":\"white\",\"linecolor\":\"white\",\"showbackground\":true,\"ticks\":\"\",\"zerolinecolor\":\"white\",\"gridwidth\":2}},\"shapedefaults\":{\"line\":{\"color\":\"#2a3f5f\"}},\"annotationdefaults\":{\"arrowcolor\":\"#2a3f5f\",\"arrowhead\":0,\"arrowwidth\":1},\"geo\":{\"bgcolor\":\"white\",\"landcolor\":\"#E5ECF6\",\"subunitcolor\":\"white\",\"showland\":true,\"showlakes\":true,\"lakecolor\":\"white\"},\"title\":{\"x\":0.05},\"mapbox\":{\"style\":\"light\"}}},\"xaxis\":{\"anchor\":\"y\",\"domain\":[0.0,1.0],\"title\":{\"text\":\"Gender\"}},\"yaxis\":{\"anchor\":\"x\",\"domain\":[0.0,1.0],\"title\":{\"text\":\"count\"}},\"legend\":{\"tracegroupgap\":0},\"title\":{\"text\":\"Gender Distribution\"},\"barmode\":\"relative\"},                        {\"responsive\": true}                    ).then(function(){\n",
              "                            \n",
              "var gd = document.getElementById('ed3aab23-c507-4420-ad3d-38eaf42bdb2e');\n",
              "var x = new MutationObserver(function (mutations, observer) {{\n",
              "        var display = window.getComputedStyle(gd).display;\n",
              "        if (!display || display === 'none') {{\n",
              "            console.log([gd, 'removed!']);\n",
              "            Plotly.purge(gd);\n",
              "            observer.disconnect();\n",
              "        }}\n",
              "}});\n",
              "\n",
              "// Listen for the removal of the full notebook cells\n",
              "var notebookContainer = gd.closest('#notebook-container');\n",
              "if (notebookContainer) {{\n",
              "    x.observe(notebookContainer, {childList: true});\n",
              "}}\n",
              "\n",
              "// Listen for the clearing of the current output cell\n",
              "var outputEl = gd.closest('.output');\n",
              "if (outputEl) {{\n",
              "    x.observe(outputEl, {childList: true});\n",
              "}}\n",
              "\n",
              "                        })                };                            </script>        </div>\n",
              "</body>\n",
              "</html>"
            ]
          },
          "metadata": {}
        }
      ]
    },
    {
      "cell_type": "markdown",
      "source": [
        "Platform Distribution:"
      ],
      "metadata": {
        "id": "H2SxVwZ-H1ed"
      }
    },
    {
      "cell_type": "code",
      "source": [
        "train_df['Platform'].unique()"
      ],
      "metadata": {
        "colab": {
          "base_uri": "https://localhost:8080/"
        },
        "id": "sGKPh6TlHyuD",
        "outputId": "9c781584-d13f-4047-85e2-689898c3474f"
      },
      "execution_count": 63,
      "outputs": [
        {
          "output_type": "execute_result",
          "data": {
            "text/plain": [
              "array(['Instagram', 'Twitter', 'Facebook', 'LinkedIn', 'Whatsapp',\n",
              "       'Telegram', 'Snapchat', nan], dtype=object)"
            ]
          },
          "metadata": {},
          "execution_count": 63
        }
      ]
    },
    {
      "cell_type": "code",
      "source": [
        "train_df['Platform'].value_counts()"
      ],
      "metadata": {
        "colab": {
          "base_uri": "https://localhost:8080/"
        },
        "id": "ikWiECvVIBmt",
        "outputId": "11a564cb-3b98-4c64-9071-e9de99ef1c1f"
      },
      "execution_count": 64,
      "outputs": [
        {
          "output_type": "execute_result",
          "data": {
            "text/plain": [
              "Platform\n",
              "Instagram    250\n",
              "Twitter      200\n",
              "Facebook     190\n",
              "LinkedIn     120\n",
              "Whatsapp      80\n",
              "Telegram      80\n",
              "Snapchat      80\n",
              "Name: count, dtype: int64"
            ]
          },
          "metadata": {},
          "execution_count": 64
        }
      ]
    },
    {
      "cell_type": "code",
      "source": [
        "# filling with mode\n",
        "train_df['Platform'].fillna(train_df['Platform'].mode()[0], inplace=True)"
      ],
      "metadata": {
        "id": "0LI-CA2nIEoO"
      },
      "execution_count": 65,
      "outputs": []
    },
    {
      "cell_type": "code",
      "source": [
        "train_df['Platform'].unique()"
      ],
      "metadata": {
        "colab": {
          "base_uri": "https://localhost:8080/"
        },
        "id": "USInQBNbIIMB",
        "outputId": "c30c7d2f-2efb-433a-c546-8bf0b91473b4"
      },
      "execution_count": 66,
      "outputs": [
        {
          "output_type": "execute_result",
          "data": {
            "text/plain": [
              "array(['Instagram', 'Twitter', 'Facebook', 'LinkedIn', 'Whatsapp',\n",
              "       'Telegram', 'Snapchat'], dtype=object)"
            ]
          },
          "metadata": {},
          "execution_count": 66
        }
      ]
    },
    {
      "cell_type": "code",
      "source": [
        "train_df['Platform'].value_counts()"
      ],
      "metadata": {
        "colab": {
          "base_uri": "https://localhost:8080/"
        },
        "id": "TvCEfvC6ILv7",
        "outputId": "1504b8e2-9368-43d8-c372-ee2561ed0e41"
      },
      "execution_count": 67,
      "outputs": [
        {
          "output_type": "execute_result",
          "data": {
            "text/plain": [
              "Platform\n",
              "Instagram    251\n",
              "Twitter      200\n",
              "Facebook     190\n",
              "LinkedIn     120\n",
              "Whatsapp      80\n",
              "Telegram      80\n",
              "Snapchat      80\n",
              "Name: count, dtype: int64"
            ]
          },
          "metadata": {},
          "execution_count": 67
        }
      ]
    },
    {
      "cell_type": "code",
      "source": [
        "plt = px.histogram(train_df, x='Platform', title='Platform Distribution')\n",
        "plt.show()"
      ],
      "metadata": {
        "colab": {
          "base_uri": "https://localhost:8080/",
          "height": 542
        },
        "id": "oV80EcQiIPIk",
        "outputId": "a10215e2-91e7-4cb4-deb2-5a2a50194bc3"
      },
      "execution_count": 68,
      "outputs": [
        {
          "output_type": "display_data",
          "data": {
            "text/html": [
              "<html>\n",
              "<head><meta charset=\"utf-8\" /></head>\n",
              "<body>\n",
              "    <div>            <script src=\"https://cdnjs.cloudflare.com/ajax/libs/mathjax/2.7.5/MathJax.js?config=TeX-AMS-MML_SVG\"></script><script type=\"text/javascript\">if (window.MathJax && window.MathJax.Hub && window.MathJax.Hub.Config) {window.MathJax.Hub.Config({SVG: {font: \"STIX-Web\"}});}</script>                <script type=\"text/javascript\">window.PlotlyConfig = {MathJaxConfig: 'local'};</script>\n",
              "        <script charset=\"utf-8\" src=\"https://cdn.plot.ly/plotly-2.24.1.min.js\"></script>                <div id=\"cc052c2a-5a48-4c0c-b708-05c19e693275\" class=\"plotly-graph-div\" style=\"height:525px; width:100%;\"></div>            <script type=\"text/javascript\">                                    window.PLOTLYENV=window.PLOTLYENV || {};                                    if (document.getElementById(\"cc052c2a-5a48-4c0c-b708-05c19e693275\")) {                    Plotly.newPlot(                        \"cc052c2a-5a48-4c0c-b708-05c19e693275\",                        [{\"alignmentgroup\":\"True\",\"bingroup\":\"x\",\"hovertemplate\":\"Platform=%{x}\\u003cbr\\u003ecount=%{y}\\u003cextra\\u003e\\u003c\\u002fextra\\u003e\",\"legendgroup\":\"\",\"marker\":{\"color\":\"#636efa\",\"pattern\":{\"shape\":\"\"}},\"name\":\"\",\"offsetgroup\":\"\",\"orientation\":\"v\",\"showlegend\":false,\"x\":[\"Instagram\",\"Twitter\",\"Facebook\",\"Instagram\",\"LinkedIn\",\"Instagram\",\"Twitter\",\"Facebook\",\"LinkedIn\",\"Instagram\",\"Twitter\",\"Facebook\",\"LinkedIn\",\"Instagram\",\"Twitter\",\"Facebook\",\"Instagram\",\"Twitter\",\"LinkedIn\",\"Instagram\",\"Facebook\",\"Twitter\",\"LinkedIn\",\"Instagram\",\"Twitter\",\"Facebook\",\"LinkedIn\",\"Instagram\",\"Twitter\",\"Facebook\",\"LinkedIn\",\"Instagram\",\"Twitter\",\"Instagram\",\"Facebook\",\"LinkedIn\",\"Instagram\",\"Twitter\",\"Instagram\",\"Facebook\",\"LinkedIn\",\"Instagram\",\"Twitter\",\"Facebook\",\"LinkedIn\",\"Instagram\",\"Twitter\",\"Facebook\",\"Instagram\",\"LinkedIn\",\"Instagram\",\"Twitter\",\"Facebook\",\"Instagram\",\"LinkedIn\",\"Whatsapp\",\"Telegram\",\"Snapchat\",\"Twitter\",\"Facebook\",\"Instagram\",\"Whatsapp\",\"Telegram\",\"Snapchat\",\"Twitter\",\"Facebook\",\"Instagram\",\"Whatsapp\",\"Telegram\",\"Snapchat\",\"Instagram\",\"Twitter\",\"Facebook\",\"Whatsapp\",\"Telegram\",\"Snapchat\",\"Instagram\",\"Twitter\",\"Facebook\",\"Whatsapp\",\"Telegram\",\"Snapchat\",\"Instagram\",\"Twitter\",\"Facebook\",\"Whatsapp\",\"Telegram\",\"Snapchat\",\"Instagram\",\"Twitter\",\"Facebook\",\"Whatsapp\",\"Telegram\",\"Snapchat\",\"Instagram\",\"Twitter\",\"Facebook\",\"Whatsapp\",\"Telegram\",\"Snapchat\",\"Instagram\",\"Twitter\",\"Facebook\",\"Instagram\",\"LinkedIn\",\"Instagram\",\"Twitter\",\"Facebook\",\"LinkedIn\",\"Instagram\",\"Twitter\",\"Facebook\",\"LinkedIn\",\"Instagram\",\"Twitter\",\"Facebook\",\"Instagram\",\"Twitter\",\"LinkedIn\",\"Instagram\",\"Facebook\",\"Twitter\",\"LinkedIn\",\"Instagram\",\"Twitter\",\"Facebook\",\"LinkedIn\",\"Instagram\",\"Twitter\",\"Facebook\",\"LinkedIn\",\"Instagram\",\"Twitter\",\"Instagram\",\"Facebook\",\"LinkedIn\",\"Instagram\",\"Twitter\",\"Instagram\",\"Facebook\",\"LinkedIn\",\"Instagram\",\"Twitter\",\"Facebook\",\"LinkedIn\",\"Instagram\",\"Twitter\",\"Facebook\",\"Instagram\",\"LinkedIn\",\"Instagram\",\"Twitter\",\"Facebook\",\"Instagram\",\"LinkedIn\",\"Whatsapp\",\"Telegram\",\"Snapchat\",\"Twitter\",\"Facebook\",\"Instagram\",\"Whatsapp\",\"Telegram\",\"Snapchat\",\"Twitter\",\"Facebook\",\"Instagram\",\"Whatsapp\",\"Telegram\",\"Snapchat\",\"Instagram\",\"Twitter\",\"Facebook\",\"Whatsapp\",\"Telegram\",\"Snapchat\",\"Instagram\",\"Twitter\",\"Facebook\",\"Whatsapp\",\"Telegram\",\"Snapchat\",\"Instagram\",\"Twitter\",\"Facebook\",\"Whatsapp\",\"Telegram\",\"Snapchat\",\"Instagram\",\"Twitter\",\"Facebook\",\"Whatsapp\",\"Telegram\",\"Snapchat\",\"Instagram\",\"Twitter\",\"Facebook\",\"Whatsapp\",\"Telegram\",\"Snapchat\",\"Instagram\",\"Twitter\",\"Facebook\",\"Instagram\",\"LinkedIn\",\"Instagram\",\"Twitter\",\"Facebook\",\"LinkedIn\",\"Instagram\",\"Twitter\",\"Facebook\",\"LinkedIn\",\"Instagram\",\"Twitter\",\"Facebook\",\"Instagram\",\"Twitter\",\"LinkedIn\",\"Instagram\",\"Facebook\",\"Twitter\",\"LinkedIn\",\"Instagram\",\"Twitter\",\"Facebook\",\"LinkedIn\",\"Instagram\",\"Twitter\",\"Facebook\",\"LinkedIn\",\"Instagram\",\"Twitter\",\"Instagram\",\"Facebook\",\"LinkedIn\",\"Instagram\",\"Twitter\",\"Instagram\",\"Facebook\",\"LinkedIn\",\"Instagram\",\"Twitter\",\"Facebook\",\"LinkedIn\",\"Instagram\",\"Twitter\",\"Facebook\",\"Instagram\",\"LinkedIn\",\"Instagram\",\"Twitter\",\"Facebook\",\"Instagram\",\"LinkedIn\",\"Whatsapp\",\"Telegram\",\"Snapchat\",\"Twitter\",\"Facebook\",\"Instagram\",\"Whatsapp\",\"Telegram\",\"Snapchat\",\"Twitter\",\"Facebook\",\"Instagram\",\"Whatsapp\",\"Telegram\",\"Snapchat\",\"Instagram\",\"Twitter\",\"Facebook\",\"Whatsapp\",\"Telegram\",\"Snapchat\",\"Instagram\",\"Twitter\",\"Facebook\",\"Whatsapp\",\"Telegram\",\"Snapchat\",\"Instagram\",\"Twitter\",\"Facebook\",\"Whatsapp\",\"Telegram\",\"Snapchat\",\"Instagram\",\"Twitter\",\"Facebook\",\"Whatsapp\",\"Telegram\",\"Snapchat\",\"Instagram\",\"Twitter\",\"Facebook\",\"Whatsapp\",\"Telegram\",\"Snapchat\",\"Instagram\",\"Twitter\",\"Facebook\",\"Instagram\",\"LinkedIn\",\"Instagram\",\"Twitter\",\"Facebook\",\"LinkedIn\",\"Instagram\",\"Twitter\",\"Facebook\",\"LinkedIn\",\"Instagram\",\"Twitter\",\"Facebook\",\"Instagram\",\"Twitter\",\"LinkedIn\",\"Instagram\",\"Facebook\",\"Twitter\",\"LinkedIn\",\"Instagram\",\"Twitter\",\"Facebook\",\"LinkedIn\",\"Instagram\",\"Twitter\",\"Facebook\",\"LinkedIn\",\"Instagram\",\"Twitter\",\"Instagram\",\"Facebook\",\"LinkedIn\",\"Instagram\",\"Twitter\",\"Instagram\",\"Facebook\",\"LinkedIn\",\"Instagram\",\"Twitter\",\"Facebook\",\"LinkedIn\",\"Instagram\",\"Twitter\",\"Facebook\",\"Instagram\",\"LinkedIn\",\"Instagram\",\"Twitter\",\"Facebook\",\"Instagram\",\"LinkedIn\",\"Whatsapp\",\"Telegram\",\"Snapchat\",\"Twitter\",\"Facebook\",\"Instagram\",\"Whatsapp\",\"Telegram\",\"Snapchat\",\"Twitter\",\"Facebook\",\"Instagram\",\"Whatsapp\",\"Telegram\",\"Snapchat\",\"Instagram\",\"Twitter\",\"Facebook\",\"Whatsapp\",\"Telegram\",\"Snapchat\",\"Instagram\",\"Twitter\",\"Facebook\",\"Whatsapp\",\"Telegram\",\"Snapchat\",\"Instagram\",\"Twitter\",\"Facebook\",\"Whatsapp\",\"Telegram\",\"Snapchat\",\"Instagram\",\"Twitter\",\"Facebook\",\"Whatsapp\",\"Telegram\",\"Snapchat\",\"Instagram\",\"Twitter\",\"Facebook\",\"Whatsapp\",\"Telegram\",\"Snapchat\",\"Instagram\",\"Twitter\",\"Facebook\",\"Instagram\",\"LinkedIn\",\"Instagram\",\"Twitter\",\"Facebook\",\"LinkedIn\",\"Instagram\",\"Twitter\",\"Facebook\",\"LinkedIn\",\"Instagram\",\"Twitter\",\"Facebook\",\"Instagram\",\"Twitter\",\"LinkedIn\",\"Instagram\",\"Facebook\",\"Twitter\",\"LinkedIn\",\"Instagram\",\"Twitter\",\"Facebook\",\"LinkedIn\",\"Instagram\",\"Twitter\",\"Facebook\",\"LinkedIn\",\"Instagram\",\"Twitter\",\"Instagram\",\"Facebook\",\"LinkedIn\",\"Instagram\",\"Twitter\",\"Instagram\",\"Facebook\",\"LinkedIn\",\"Instagram\",\"Twitter\",\"Facebook\",\"LinkedIn\",\"Instagram\",\"Twitter\",\"Facebook\",\"Instagram\",\"LinkedIn\",\"Instagram\",\"Twitter\",\"Facebook\",\"Instagram\",\"LinkedIn\",\"Whatsapp\",\"Telegram\",\"Snapchat\",\"Twitter\",\"Facebook\",\"Instagram\",\"Whatsapp\",\"Telegram\",\"Snapchat\",\"Twitter\",\"Facebook\",\"Instagram\",\"Whatsapp\",\"Telegram\",\"Snapchat\",\"Instagram\",\"Twitter\",\"Facebook\",\"Whatsapp\",\"Telegram\",\"Snapchat\",\"Instagram\",\"Twitter\",\"Facebook\",\"Whatsapp\",\"Telegram\",\"Snapchat\",\"Instagram\",\"Twitter\",\"Facebook\",\"Whatsapp\",\"Telegram\",\"Snapchat\",\"Instagram\",\"Twitter\",\"Facebook\",\"Whatsapp\",\"Telegram\",\"Snapchat\",\"Instagram\",\"Twitter\",\"Facebook\",\"Whatsapp\",\"Telegram\",\"Snapchat\",\"Instagram\",\"Twitter\",\"Facebook\",\"Instagram\",\"LinkedIn\",\"Instagram\",\"Twitter\",\"Facebook\",\"LinkedIn\",\"Instagram\",\"Twitter\",\"Facebook\",\"LinkedIn\",\"Instagram\",\"Twitter\",\"Facebook\",\"Instagram\",\"Twitter\",\"LinkedIn\",\"Instagram\",\"Facebook\",\"Twitter\",\"LinkedIn\",\"Instagram\",\"Twitter\",\"Facebook\",\"LinkedIn\",\"Instagram\",\"Twitter\",\"Facebook\",\"LinkedIn\",\"Instagram\",\"Twitter\",\"Instagram\",\"Facebook\",\"LinkedIn\",\"Instagram\",\"Twitter\",\"Instagram\",\"Facebook\",\"LinkedIn\",\"Instagram\",\"Twitter\",\"Facebook\",\"LinkedIn\",\"Instagram\",\"Twitter\",\"Facebook\",\"Instagram\",\"LinkedIn\",\"Instagram\",\"Twitter\",\"Facebook\",\"Instagram\",\"LinkedIn\",\"Whatsapp\",\"Telegram\",\"Snapchat\",\"Twitter\",\"Facebook\",\"Instagram\",\"Whatsapp\",\"Telegram\",\"Snapchat\",\"Twitter\",\"Facebook\",\"Instagram\",\"Whatsapp\",\"Telegram\",\"Snapchat\",\"Instagram\",\"Twitter\",\"Facebook\",\"Whatsapp\",\"Telegram\",\"Snapchat\",\"Instagram\",\"Twitter\",\"Facebook\",\"Whatsapp\",\"Telegram\",\"Snapchat\",\"Instagram\",\"Twitter\",\"Facebook\",\"Whatsapp\",\"Telegram\",\"Snapchat\",\"Instagram\",\"Twitter\",\"Facebook\",\"Whatsapp\",\"Telegram\",\"Snapchat\",\"Instagram\",\"Twitter\",\"Facebook\",\"Whatsapp\",\"Telegram\",\"Snapchat\",\"Instagram\",\"Twitter\",\"Facebook\",\"Instagram\",\"LinkedIn\",\"Instagram\",\"Twitter\",\"Facebook\",\"LinkedIn\",\"Instagram\",\"Twitter\",\"Facebook\",\"LinkedIn\",\"Instagram\",\"Twitter\",\"Facebook\",\"Instagram\",\"Twitter\",\"LinkedIn\",\"Instagram\",\"Facebook\",\"Twitter\",\"LinkedIn\",\"Instagram\",\"Twitter\",\"Facebook\",\"LinkedIn\",\"Instagram\",\"Twitter\",\"Facebook\",\"LinkedIn\",\"Instagram\",\"Twitter\",\"Instagram\",\"Facebook\",\"LinkedIn\",\"Instagram\",\"Twitter\",\"Instagram\",\"Facebook\",\"LinkedIn\",\"Instagram\",\"Instagram\",\"Twitter\",\"Facebook\",\"LinkedIn\",\"Instagram\",\"Twitter\",\"Facebook\",\"Instagram\",\"LinkedIn\",\"Instagram\",\"Twitter\",\"Facebook\",\"Instagram\",\"LinkedIn\",\"Whatsapp\",\"Telegram\",\"Snapchat\",\"Twitter\",\"Facebook\",\"Instagram\",\"Whatsapp\",\"Telegram\",\"Snapchat\",\"Twitter\",\"Facebook\",\"Instagram\",\"Whatsapp\",\"Telegram\",\"Snapchat\",\"Instagram\",\"Twitter\",\"Facebook\",\"Whatsapp\",\"Telegram\",\"Snapchat\",\"Instagram\",\"Twitter\",\"Facebook\",\"Whatsapp\",\"Telegram\",\"Snapchat\",\"Instagram\",\"Twitter\",\"Facebook\",\"Whatsapp\",\"Telegram\",\"Snapchat\",\"Instagram\",\"Twitter\",\"Facebook\",\"Whatsapp\",\"Telegram\",\"Snapchat\",\"Instagram\",\"Twitter\",\"Facebook\",\"Whatsapp\",\"Telegram\",\"Snapchat\",\"Instagram\",\"Twitter\",\"Facebook\",\"Instagram\",\"LinkedIn\",\"Instagram\",\"Twitter\",\"Facebook\",\"LinkedIn\",\"Instagram\",\"Twitter\",\"Facebook\",\"LinkedIn\",\"Instagram\",\"Twitter\",\"Facebook\",\"Instagram\",\"Twitter\",\"LinkedIn\",\"Instagram\",\"Facebook\",\"Twitter\",\"LinkedIn\",\"Instagram\",\"Twitter\",\"Facebook\",\"LinkedIn\",\"Instagram\",\"Twitter\",\"Facebook\",\"LinkedIn\",\"Instagram\",\"Twitter\",\"Instagram\",\"Facebook\",\"LinkedIn\",\"Instagram\",\"Twitter\",\"Instagram\",\"Facebook\",\"LinkedIn\",\"Instagram\",\"Twitter\",\"Facebook\",\"LinkedIn\",\"Instagram\",\"Twitter\",\"Facebook\",\"Instagram\",\"LinkedIn\",\"Instagram\",\"Twitter\",\"Facebook\",\"Instagram\",\"LinkedIn\",\"Whatsapp\",\"Telegram\",\"Snapchat\",\"Twitter\",\"Facebook\",\"Instagram\",\"Whatsapp\",\"Telegram\",\"Snapchat\",\"Twitter\",\"Facebook\",\"Instagram\",\"Whatsapp\",\"Telegram\",\"Snapchat\",\"Instagram\",\"Twitter\",\"Facebook\",\"Whatsapp\",\"Telegram\",\"Snapchat\",\"Instagram\",\"Twitter\",\"Facebook\",\"Whatsapp\",\"Telegram\",\"Snapchat\",\"Instagram\",\"Twitter\",\"Facebook\",\"Whatsapp\",\"Telegram\",\"Snapchat\",\"Instagram\",\"Twitter\",\"Facebook\",\"Whatsapp\",\"Telegram\",\"Snapchat\",\"Instagram\",\"Twitter\",\"Facebook\",\"Whatsapp\",\"Telegram\",\"Snapchat\",\"Instagram\",\"Twitter\",\"Facebook\",\"Instagram\",\"LinkedIn\",\"Instagram\",\"Twitter\",\"Facebook\",\"LinkedIn\",\"Instagram\",\"Twitter\",\"Facebook\",\"LinkedIn\",\"Instagram\",\"Twitter\",\"Facebook\",\"Instagram\",\"Twitter\",\"LinkedIn\",\"Instagram\",\"Facebook\",\"Twitter\",\"LinkedIn\",\"Instagram\",\"Twitter\",\"Facebook\",\"LinkedIn\",\"Instagram\",\"Twitter\",\"Facebook\",\"LinkedIn\",\"Instagram\",\"Twitter\",\"Instagram\",\"Facebook\",\"LinkedIn\",\"Instagram\",\"Twitter\",\"Instagram\",\"Facebook\",\"LinkedIn\",\"Instagram\",\"Twitter\",\"Facebook\",\"LinkedIn\",\"Instagram\",\"Twitter\",\"Facebook\",\"Instagram\",\"LinkedIn\",\"Instagram\",\"Twitter\",\"Facebook\",\"Instagram\",\"LinkedIn\",\"Whatsapp\",\"Telegram\",\"Snapchat\",\"Twitter\",\"Facebook\",\"Instagram\",\"Whatsapp\",\"Telegram\",\"Snapchat\",\"Twitter\",\"Facebook\",\"Instagram\",\"Whatsapp\",\"Telegram\",\"Snapchat\",\"Instagram\",\"Twitter\",\"Facebook\",\"Whatsapp\",\"Telegram\",\"Snapchat\",\"Instagram\",\"Twitter\",\"Facebook\",\"Whatsapp\",\"Telegram\",\"Snapchat\",\"Instagram\",\"Twitter\",\"Facebook\",\"Whatsapp\",\"Telegram\",\"Snapchat\",\"Instagram\",\"Twitter\",\"Facebook\",\"Whatsapp\",\"Telegram\",\"Snapchat\",\"Instagram\",\"Twitter\",\"Facebook\",\"Whatsapp\",\"Telegram\",\"Snapchat\",\"Instagram\",\"Twitter\",\"Facebook\",\"Instagram\",\"LinkedIn\",\"Instagram\",\"Twitter\",\"Facebook\",\"LinkedIn\",\"Instagram\",\"Twitter\",\"Facebook\",\"LinkedIn\",\"Instagram\",\"Twitter\",\"Facebook\",\"Instagram\",\"Twitter\",\"LinkedIn\",\"Instagram\",\"Facebook\",\"Twitter\",\"LinkedIn\",\"Instagram\",\"Twitter\",\"Facebook\",\"LinkedIn\",\"Instagram\",\"Twitter\",\"Facebook\",\"LinkedIn\",\"Instagram\",\"Twitter\",\"Instagram\",\"Facebook\",\"LinkedIn\",\"Instagram\",\"Twitter\",\"Instagram\",\"Facebook\",\"LinkedIn\",\"Instagram\",\"Twitter\",\"Facebook\",\"LinkedIn\",\"Instagram\",\"Twitter\",\"Facebook\",\"Instagram\",\"LinkedIn\",\"Instagram\",\"Twitter\",\"Facebook\",\"Instagram\",\"LinkedIn\",\"Whatsapp\",\"Telegram\",\"Snapchat\",\"Twitter\",\"Facebook\",\"Instagram\",\"Whatsapp\",\"Telegram\",\"Snapchat\",\"Twitter\",\"Facebook\",\"Instagram\",\"Whatsapp\",\"Telegram\",\"Snapchat\",\"Instagram\",\"Twitter\",\"Facebook\",\"Whatsapp\",\"Telegram\",\"Snapchat\",\"Instagram\",\"Twitter\",\"Facebook\",\"Whatsapp\",\"Telegram\",\"Snapchat\",\"Instagram\",\"Twitter\",\"Facebook\",\"Whatsapp\",\"Telegram\",\"Snapchat\",\"Instagram\",\"Twitter\",\"Facebook\",\"Whatsapp\",\"Telegram\",\"Snapchat\",\"Instagram\",\"Twitter\",\"Facebook\",\"Whatsapp\",\"Telegram\",\"Snapchat\"],\"xaxis\":\"x\",\"yaxis\":\"y\",\"type\":\"histogram\"}],                        {\"template\":{\"data\":{\"histogram2dcontour\":[{\"type\":\"histogram2dcontour\",\"colorbar\":{\"outlinewidth\":0,\"ticks\":\"\"},\"colorscale\":[[0.0,\"#0d0887\"],[0.1111111111111111,\"#46039f\"],[0.2222222222222222,\"#7201a8\"],[0.3333333333333333,\"#9c179e\"],[0.4444444444444444,\"#bd3786\"],[0.5555555555555556,\"#d8576b\"],[0.6666666666666666,\"#ed7953\"],[0.7777777777777778,\"#fb9f3a\"],[0.8888888888888888,\"#fdca26\"],[1.0,\"#f0f921\"]]}],\"choropleth\":[{\"type\":\"choropleth\",\"colorbar\":{\"outlinewidth\":0,\"ticks\":\"\"}}],\"histogram2d\":[{\"type\":\"histogram2d\",\"colorbar\":{\"outlinewidth\":0,\"ticks\":\"\"},\"colorscale\":[[0.0,\"#0d0887\"],[0.1111111111111111,\"#46039f\"],[0.2222222222222222,\"#7201a8\"],[0.3333333333333333,\"#9c179e\"],[0.4444444444444444,\"#bd3786\"],[0.5555555555555556,\"#d8576b\"],[0.6666666666666666,\"#ed7953\"],[0.7777777777777778,\"#fb9f3a\"],[0.8888888888888888,\"#fdca26\"],[1.0,\"#f0f921\"]]}],\"heatmap\":[{\"type\":\"heatmap\",\"colorbar\":{\"outlinewidth\":0,\"ticks\":\"\"},\"colorscale\":[[0.0,\"#0d0887\"],[0.1111111111111111,\"#46039f\"],[0.2222222222222222,\"#7201a8\"],[0.3333333333333333,\"#9c179e\"],[0.4444444444444444,\"#bd3786\"],[0.5555555555555556,\"#d8576b\"],[0.6666666666666666,\"#ed7953\"],[0.7777777777777778,\"#fb9f3a\"],[0.8888888888888888,\"#fdca26\"],[1.0,\"#f0f921\"]]}],\"heatmapgl\":[{\"type\":\"heatmapgl\",\"colorbar\":{\"outlinewidth\":0,\"ticks\":\"\"},\"colorscale\":[[0.0,\"#0d0887\"],[0.1111111111111111,\"#46039f\"],[0.2222222222222222,\"#7201a8\"],[0.3333333333333333,\"#9c179e\"],[0.4444444444444444,\"#bd3786\"],[0.5555555555555556,\"#d8576b\"],[0.6666666666666666,\"#ed7953\"],[0.7777777777777778,\"#fb9f3a\"],[0.8888888888888888,\"#fdca26\"],[1.0,\"#f0f921\"]]}],\"contourcarpet\":[{\"type\":\"contourcarpet\",\"colorbar\":{\"outlinewidth\":0,\"ticks\":\"\"}}],\"contour\":[{\"type\":\"contour\",\"colorbar\":{\"outlinewidth\":0,\"ticks\":\"\"},\"colorscale\":[[0.0,\"#0d0887\"],[0.1111111111111111,\"#46039f\"],[0.2222222222222222,\"#7201a8\"],[0.3333333333333333,\"#9c179e\"],[0.4444444444444444,\"#bd3786\"],[0.5555555555555556,\"#d8576b\"],[0.6666666666666666,\"#ed7953\"],[0.7777777777777778,\"#fb9f3a\"],[0.8888888888888888,\"#fdca26\"],[1.0,\"#f0f921\"]]}],\"surface\":[{\"type\":\"surface\",\"colorbar\":{\"outlinewidth\":0,\"ticks\":\"\"},\"colorscale\":[[0.0,\"#0d0887\"],[0.1111111111111111,\"#46039f\"],[0.2222222222222222,\"#7201a8\"],[0.3333333333333333,\"#9c179e\"],[0.4444444444444444,\"#bd3786\"],[0.5555555555555556,\"#d8576b\"],[0.6666666666666666,\"#ed7953\"],[0.7777777777777778,\"#fb9f3a\"],[0.8888888888888888,\"#fdca26\"],[1.0,\"#f0f921\"]]}],\"mesh3d\":[{\"type\":\"mesh3d\",\"colorbar\":{\"outlinewidth\":0,\"ticks\":\"\"}}],\"scatter\":[{\"fillpattern\":{\"fillmode\":\"overlay\",\"size\":10,\"solidity\":0.2},\"type\":\"scatter\"}],\"parcoords\":[{\"type\":\"parcoords\",\"line\":{\"colorbar\":{\"outlinewidth\":0,\"ticks\":\"\"}}}],\"scatterpolargl\":[{\"type\":\"scatterpolargl\",\"marker\":{\"colorbar\":{\"outlinewidth\":0,\"ticks\":\"\"}}}],\"bar\":[{\"error_x\":{\"color\":\"#2a3f5f\"},\"error_y\":{\"color\":\"#2a3f5f\"},\"marker\":{\"line\":{\"color\":\"#E5ECF6\",\"width\":0.5},\"pattern\":{\"fillmode\":\"overlay\",\"size\":10,\"solidity\":0.2}},\"type\":\"bar\"}],\"scattergeo\":[{\"type\":\"scattergeo\",\"marker\":{\"colorbar\":{\"outlinewidth\":0,\"ticks\":\"\"}}}],\"scatterpolar\":[{\"type\":\"scatterpolar\",\"marker\":{\"colorbar\":{\"outlinewidth\":0,\"ticks\":\"\"}}}],\"histogram\":[{\"marker\":{\"pattern\":{\"fillmode\":\"overlay\",\"size\":10,\"solidity\":0.2}},\"type\":\"histogram\"}],\"scattergl\":[{\"type\":\"scattergl\",\"marker\":{\"colorbar\":{\"outlinewidth\":0,\"ticks\":\"\"}}}],\"scatter3d\":[{\"type\":\"scatter3d\",\"line\":{\"colorbar\":{\"outlinewidth\":0,\"ticks\":\"\"}},\"marker\":{\"colorbar\":{\"outlinewidth\":0,\"ticks\":\"\"}}}],\"scattermapbox\":[{\"type\":\"scattermapbox\",\"marker\":{\"colorbar\":{\"outlinewidth\":0,\"ticks\":\"\"}}}],\"scatterternary\":[{\"type\":\"scatterternary\",\"marker\":{\"colorbar\":{\"outlinewidth\":0,\"ticks\":\"\"}}}],\"scattercarpet\":[{\"type\":\"scattercarpet\",\"marker\":{\"colorbar\":{\"outlinewidth\":0,\"ticks\":\"\"}}}],\"carpet\":[{\"aaxis\":{\"endlinecolor\":\"#2a3f5f\",\"gridcolor\":\"white\",\"linecolor\":\"white\",\"minorgridcolor\":\"white\",\"startlinecolor\":\"#2a3f5f\"},\"baxis\":{\"endlinecolor\":\"#2a3f5f\",\"gridcolor\":\"white\",\"linecolor\":\"white\",\"minorgridcolor\":\"white\",\"startlinecolor\":\"#2a3f5f\"},\"type\":\"carpet\"}],\"table\":[{\"cells\":{\"fill\":{\"color\":\"#EBF0F8\"},\"line\":{\"color\":\"white\"}},\"header\":{\"fill\":{\"color\":\"#C8D4E3\"},\"line\":{\"color\":\"white\"}},\"type\":\"table\"}],\"barpolar\":[{\"marker\":{\"line\":{\"color\":\"#E5ECF6\",\"width\":0.5},\"pattern\":{\"fillmode\":\"overlay\",\"size\":10,\"solidity\":0.2}},\"type\":\"barpolar\"}],\"pie\":[{\"automargin\":true,\"type\":\"pie\"}]},\"layout\":{\"autotypenumbers\":\"strict\",\"colorway\":[\"#636efa\",\"#EF553B\",\"#00cc96\",\"#ab63fa\",\"#FFA15A\",\"#19d3f3\",\"#FF6692\",\"#B6E880\",\"#FF97FF\",\"#FECB52\"],\"font\":{\"color\":\"#2a3f5f\"},\"hovermode\":\"closest\",\"hoverlabel\":{\"align\":\"left\"},\"paper_bgcolor\":\"white\",\"plot_bgcolor\":\"#E5ECF6\",\"polar\":{\"bgcolor\":\"#E5ECF6\",\"angularaxis\":{\"gridcolor\":\"white\",\"linecolor\":\"white\",\"ticks\":\"\"},\"radialaxis\":{\"gridcolor\":\"white\",\"linecolor\":\"white\",\"ticks\":\"\"}},\"ternary\":{\"bgcolor\":\"#E5ECF6\",\"aaxis\":{\"gridcolor\":\"white\",\"linecolor\":\"white\",\"ticks\":\"\"},\"baxis\":{\"gridcolor\":\"white\",\"linecolor\":\"white\",\"ticks\":\"\"},\"caxis\":{\"gridcolor\":\"white\",\"linecolor\":\"white\",\"ticks\":\"\"}},\"coloraxis\":{\"colorbar\":{\"outlinewidth\":0,\"ticks\":\"\"}},\"colorscale\":{\"sequential\":[[0.0,\"#0d0887\"],[0.1111111111111111,\"#46039f\"],[0.2222222222222222,\"#7201a8\"],[0.3333333333333333,\"#9c179e\"],[0.4444444444444444,\"#bd3786\"],[0.5555555555555556,\"#d8576b\"],[0.6666666666666666,\"#ed7953\"],[0.7777777777777778,\"#fb9f3a\"],[0.8888888888888888,\"#fdca26\"],[1.0,\"#f0f921\"]],\"sequentialminus\":[[0.0,\"#0d0887\"],[0.1111111111111111,\"#46039f\"],[0.2222222222222222,\"#7201a8\"],[0.3333333333333333,\"#9c179e\"],[0.4444444444444444,\"#bd3786\"],[0.5555555555555556,\"#d8576b\"],[0.6666666666666666,\"#ed7953\"],[0.7777777777777778,\"#fb9f3a\"],[0.8888888888888888,\"#fdca26\"],[1.0,\"#f0f921\"]],\"diverging\":[[0,\"#8e0152\"],[0.1,\"#c51b7d\"],[0.2,\"#de77ae\"],[0.3,\"#f1b6da\"],[0.4,\"#fde0ef\"],[0.5,\"#f7f7f7\"],[0.6,\"#e6f5d0\"],[0.7,\"#b8e186\"],[0.8,\"#7fbc41\"],[0.9,\"#4d9221\"],[1,\"#276419\"]]},\"xaxis\":{\"gridcolor\":\"white\",\"linecolor\":\"white\",\"ticks\":\"\",\"title\":{\"standoff\":15},\"zerolinecolor\":\"white\",\"automargin\":true,\"zerolinewidth\":2},\"yaxis\":{\"gridcolor\":\"white\",\"linecolor\":\"white\",\"ticks\":\"\",\"title\":{\"standoff\":15},\"zerolinecolor\":\"white\",\"automargin\":true,\"zerolinewidth\":2},\"scene\":{\"xaxis\":{\"backgroundcolor\":\"#E5ECF6\",\"gridcolor\":\"white\",\"linecolor\":\"white\",\"showbackground\":true,\"ticks\":\"\",\"zerolinecolor\":\"white\",\"gridwidth\":2},\"yaxis\":{\"backgroundcolor\":\"#E5ECF6\",\"gridcolor\":\"white\",\"linecolor\":\"white\",\"showbackground\":true,\"ticks\":\"\",\"zerolinecolor\":\"white\",\"gridwidth\":2},\"zaxis\":{\"backgroundcolor\":\"#E5ECF6\",\"gridcolor\":\"white\",\"linecolor\":\"white\",\"showbackground\":true,\"ticks\":\"\",\"zerolinecolor\":\"white\",\"gridwidth\":2}},\"shapedefaults\":{\"line\":{\"color\":\"#2a3f5f\"}},\"annotationdefaults\":{\"arrowcolor\":\"#2a3f5f\",\"arrowhead\":0,\"arrowwidth\":1},\"geo\":{\"bgcolor\":\"white\",\"landcolor\":\"#E5ECF6\",\"subunitcolor\":\"white\",\"showland\":true,\"showlakes\":true,\"lakecolor\":\"white\"},\"title\":{\"x\":0.05},\"mapbox\":{\"style\":\"light\"}}},\"xaxis\":{\"anchor\":\"y\",\"domain\":[0.0,1.0],\"title\":{\"text\":\"Platform\"}},\"yaxis\":{\"anchor\":\"x\",\"domain\":[0.0,1.0],\"title\":{\"text\":\"count\"}},\"legend\":{\"tracegroupgap\":0},\"title\":{\"text\":\"Platform Distribution\"},\"barmode\":\"relative\"},                        {\"responsive\": true}                    ).then(function(){\n",
              "                            \n",
              "var gd = document.getElementById('cc052c2a-5a48-4c0c-b708-05c19e693275');\n",
              "var x = new MutationObserver(function (mutations, observer) {{\n",
              "        var display = window.getComputedStyle(gd).display;\n",
              "        if (!display || display === 'none') {{\n",
              "            console.log([gd, 'removed!']);\n",
              "            Plotly.purge(gd);\n",
              "            observer.disconnect();\n",
              "        }}\n",
              "}});\n",
              "\n",
              "// Listen for the removal of the full notebook cells\n",
              "var notebookContainer = gd.closest('#notebook-container');\n",
              "if (notebookContainer) {{\n",
              "    x.observe(notebookContainer, {childList: true});\n",
              "}}\n",
              "\n",
              "// Listen for the clearing of the current output cell\n",
              "var outputEl = gd.closest('.output');\n",
              "if (outputEl) {{\n",
              "    x.observe(outputEl, {childList: true});\n",
              "}}\n",
              "\n",
              "                        })                };                            </script>        </div>\n",
              "</body>\n",
              "</html>"
            ]
          },
          "metadata": {}
        }
      ]
    },
    {
      "cell_type": "markdown",
      "source": [
        "Daily Usage Time(minutes) Distribution:"
      ],
      "metadata": {
        "id": "UqaSp0GbIZAE"
      }
    },
    {
      "cell_type": "code",
      "source": [
        "plt = px.histogram(train_df, x='Daily_Usage_Time (minutes)', title='Daily Usage Time Distribution')\n",
        "plt.show()"
      ],
      "metadata": {
        "colab": {
          "base_uri": "https://localhost:8080/",
          "height": 542
        },
        "id": "dc-LdWZPIVVO",
        "outputId": "7c93a107-66ac-4752-a8a4-6f3481bc2d34"
      },
      "execution_count": 69,
      "outputs": [
        {
          "output_type": "display_data",
          "data": {
            "text/html": [
              "<html>\n",
              "<head><meta charset=\"utf-8\" /></head>\n",
              "<body>\n",
              "    <div>            <script src=\"https://cdnjs.cloudflare.com/ajax/libs/mathjax/2.7.5/MathJax.js?config=TeX-AMS-MML_SVG\"></script><script type=\"text/javascript\">if (window.MathJax && window.MathJax.Hub && window.MathJax.Hub.Config) {window.MathJax.Hub.Config({SVG: {font: \"STIX-Web\"}});}</script>                <script type=\"text/javascript\">window.PlotlyConfig = {MathJaxConfig: 'local'};</script>\n",
              "        <script charset=\"utf-8\" src=\"https://cdn.plot.ly/plotly-2.24.1.min.js\"></script>                <div id=\"5657bdae-e6f2-4e20-92c2-f8c5c8b662c3\" class=\"plotly-graph-div\" style=\"height:525px; width:100%;\"></div>            <script type=\"text/javascript\">                                    window.PLOTLYENV=window.PLOTLYENV || {};                                    if (document.getElementById(\"5657bdae-e6f2-4e20-92c2-f8c5c8b662c3\")) {                    Plotly.newPlot(                        \"5657bdae-e6f2-4e20-92c2-f8c5c8b662c3\",                        [{\"alignmentgroup\":\"True\",\"bingroup\":\"x\",\"hovertemplate\":\"Daily_Usage_Time (minutes)=%{x}\\u003cbr\\u003ecount=%{y}\\u003cextra\\u003e\\u003c\\u002fextra\\u003e\",\"legendgroup\":\"\",\"marker\":{\"color\":\"#636efa\",\"pattern\":{\"shape\":\"\"}},\"name\":\"\",\"offsetgroup\":\"\",\"orientation\":\"v\",\"showlegend\":false,\"x\":[120.0,90.0,60.0,200.0,45.0,150.0,85.0,110.0,55.0,170.0,75.0,95.0,65.0,180.0,100.0,40.0,125.0,90.0,50.0,140.0,75.0,105.0,60.0,190.0,70.0,80.0,55.0,160.0,90.0,45.0,65.0,145.0,70.0,130.0,65.0,55.0,170.0,85.0,115.0,100.0,45.0,150.0,95.0,105.0,60.0,175.0,90.0,75.0,130.0,55.0,165.0,75.0,85.0,145.0,60.0,70.0,90.0,50.0,95.0,60.0,175.0,70.0,80.0,120.0,90.0,60.0,165.0,65.0,105.0,75.0,140.0,70.0,55.0,90.0,80.0,115.0,155.0,75.0,65.0,90.0,50.0,85.0,120.0,70.0,75.0,100.0,85.0,60.0,170.0,70.0,50.0,105.0,75.0,95.0,150.0,85.0,70.0,110.0,60.0,120.0,120.0,90.0,60.0,200.0,45.0,150.0,85.0,110.0,55.0,170.0,75.0,95.0,65.0,180.0,100.0,40.0,125.0,90.0,50.0,140.0,75.0,105.0,60.0,190.0,70.0,80.0,55.0,160.0,90.0,45.0,65.0,145.0,70.0,130.0,65.0,55.0,170.0,85.0,115.0,100.0,45.0,150.0,95.0,105.0,60.0,175.0,90.0,75.0,130.0,55.0,165.0,75.0,85.0,145.0,60.0,70.0,90.0,50.0,95.0,60.0,175.0,70.0,80.0,120.0,90.0,60.0,165.0,65.0,105.0,75.0,140.0,70.0,55.0,90.0,80.0,115.0,155.0,75.0,65.0,90.0,50.0,85.0,120.0,70.0,75.0,100.0,85.0,60.0,170.0,70.0,50.0,105.0,75.0,95.0,150.0,85.0,70.0,110.0,60.0,120.0,120.0,90.0,60.0,200.0,45.0,150.0,85.0,110.0,55.0,170.0,75.0,95.0,65.0,180.0,100.0,40.0,125.0,90.0,50.0,140.0,75.0,105.0,60.0,190.0,70.0,80.0,55.0,160.0,90.0,45.0,65.0,145.0,70.0,130.0,65.0,55.0,170.0,85.0,115.0,100.0,45.0,150.0,95.0,105.0,60.0,175.0,90.0,75.0,130.0,55.0,165.0,75.0,85.0,145.0,60.0,70.0,90.0,50.0,95.0,60.0,175.0,70.0,80.0,120.0,90.0,60.0,165.0,65.0,105.0,75.0,140.0,70.0,55.0,90.0,80.0,115.0,155.0,75.0,65.0,90.0,50.0,85.0,120.0,70.0,75.0,100.0,85.0,60.0,170.0,70.0,50.0,105.0,75.0,95.0,150.0,85.0,70.0,110.0,60.0,120.0,120.0,90.0,60.0,200.0,45.0,150.0,85.0,110.0,55.0,170.0,75.0,95.0,65.0,180.0,100.0,40.0,125.0,90.0,50.0,140.0,75.0,105.0,60.0,190.0,70.0,80.0,55.0,160.0,90.0,45.0,65.0,145.0,70.0,130.0,65.0,55.0,170.0,85.0,115.0,100.0,45.0,150.0,95.0,105.0,60.0,175.0,90.0,75.0,130.0,55.0,165.0,75.0,85.0,145.0,60.0,70.0,90.0,50.0,95.0,60.0,175.0,70.0,80.0,120.0,90.0,60.0,165.0,65.0,105.0,75.0,140.0,70.0,55.0,90.0,80.0,115.0,155.0,75.0,65.0,90.0,50.0,85.0,120.0,70.0,75.0,100.0,85.0,60.0,170.0,70.0,50.0,105.0,75.0,95.0,150.0,85.0,70.0,110.0,60.0,120.0,120.0,90.0,60.0,200.0,45.0,150.0,85.0,110.0,55.0,170.0,75.0,95.0,65.0,180.0,100.0,40.0,125.0,90.0,50.0,140.0,75.0,105.0,60.0,190.0,70.0,80.0,55.0,160.0,90.0,45.0,65.0,145.0,70.0,130.0,65.0,55.0,170.0,85.0,115.0,100.0,45.0,150.0,95.0,105.0,60.0,175.0,90.0,75.0,130.0,55.0,165.0,75.0,85.0,145.0,60.0,70.0,90.0,50.0,95.0,60.0,175.0,70.0,80.0,120.0,90.0,60.0,165.0,65.0,105.0,75.0,140.0,70.0,55.0,90.0,80.0,115.0,155.0,75.0,65.0,90.0,50.0,85.0,120.0,70.0,75.0,100.0,85.0,60.0,170.0,70.0,50.0,105.0,75.0,95.0,150.0,85.0,70.0,110.0,60.0,120.0,120.0,90.0,60.0,200.0,45.0,150.0,85.0,110.0,55.0,170.0,75.0,95.0,65.0,180.0,100.0,40.0,125.0,90.0,50.0,140.0,75.0,105.0,60.0,190.0,70.0,80.0,55.0,160.0,90.0,45.0,65.0,145.0,70.0,130.0,65.0,55.0,170.0,85.0,115.0,100.0,45.0,150.0,95.0,105.0,60.0,175.0,90.0,75.0,130.0,55.0,165.0,75.0,85.0,145.0,60.0,70.0,90.0,50.0,95.0,60.0,175.0,70.0,80.0,120.0,90.0,60.0,165.0,65.0,105.0,75.0,140.0,70.0,55.0,90.0,80.0,115.0,155.0,75.0,65.0,90.0,50.0,85.0,120.0,70.0,75.0,100.0,85.0,60.0,170.0,70.0,50.0,105.0,75.0,95.0,150.0,85.0,70.0,110.0,60.0,120.0,120.0,90.0,60.0,200.0,45.0,150.0,85.0,110.0,55.0,170.0,75.0,95.0,65.0,180.0,100.0,40.0,125.0,90.0,50.0,140.0,75.0,105.0,60.0,190.0,70.0,80.0,55.0,160.0,90.0,45.0,65.0,145.0,70.0,130.0,65.0,55.0,170.0,85.0,115.0,100.0,45.0,null,150.0,95.0,105.0,60.0,175.0,90.0,75.0,130.0,55.0,165.0,75.0,85.0,145.0,60.0,70.0,90.0,50.0,95.0,60.0,175.0,70.0,80.0,120.0,90.0,60.0,165.0,65.0,105.0,75.0,140.0,70.0,55.0,90.0,80.0,115.0,155.0,75.0,65.0,90.0,50.0,85.0,120.0,70.0,75.0,100.0,85.0,60.0,170.0,70.0,50.0,105.0,75.0,95.0,150.0,85.0,70.0,110.0,60.0,120.0,120.0,90.0,60.0,200.0,45.0,150.0,85.0,110.0,55.0,170.0,75.0,95.0,65.0,180.0,100.0,40.0,125.0,90.0,50.0,140.0,75.0,105.0,60.0,190.0,70.0,80.0,55.0,160.0,90.0,45.0,65.0,145.0,70.0,130.0,65.0,55.0,170.0,85.0,115.0,100.0,45.0,150.0,95.0,105.0,60.0,175.0,90.0,75.0,130.0,55.0,165.0,75.0,85.0,145.0,60.0,70.0,90.0,50.0,95.0,60.0,175.0,70.0,80.0,120.0,90.0,60.0,165.0,65.0,105.0,75.0,140.0,70.0,55.0,90.0,80.0,115.0,155.0,75.0,65.0,90.0,50.0,85.0,120.0,70.0,75.0,100.0,85.0,60.0,170.0,70.0,50.0,105.0,75.0,95.0,150.0,85.0,70.0,110.0,60.0,120.0,120.0,90.0,60.0,200.0,45.0,150.0,85.0,110.0,55.0,170.0,75.0,95.0,65.0,180.0,100.0,40.0,125.0,90.0,50.0,140.0,75.0,105.0,60.0,190.0,70.0,80.0,55.0,160.0,90.0,45.0,65.0,145.0,70.0,130.0,65.0,55.0,170.0,85.0,115.0,100.0,45.0,150.0,95.0,105.0,60.0,175.0,90.0,75.0,130.0,55.0,165.0,75.0,85.0,145.0,60.0,70.0,90.0,50.0,95.0,60.0,175.0,70.0,80.0,120.0,90.0,60.0,165.0,65.0,105.0,75.0,140.0,70.0,55.0,90.0,80.0,115.0,155.0,75.0,65.0,90.0,50.0,85.0,120.0,70.0,75.0,100.0,85.0,60.0,170.0,70.0,50.0,105.0,75.0,95.0,150.0,85.0,70.0,110.0,60.0,120.0,120.0,90.0,60.0,200.0,45.0,150.0,85.0,110.0,55.0,170.0,75.0,95.0,65.0,180.0,100.0,40.0,125.0,90.0,50.0,140.0,75.0,105.0,60.0,190.0,70.0,80.0,55.0,160.0,90.0,45.0,65.0,145.0,70.0,130.0,65.0,55.0,170.0,85.0,115.0,100.0,45.0,150.0,95.0,105.0,60.0,175.0,90.0,75.0,130.0,55.0,165.0,75.0,85.0,145.0,60.0,70.0,90.0,50.0,95.0,60.0,175.0,70.0,80.0,120.0,90.0,60.0,165.0,65.0,105.0,75.0,140.0,70.0,55.0,90.0,80.0,115.0,155.0,75.0,65.0,90.0,50.0,85.0,120.0,70.0,75.0,100.0,85.0,60.0,170.0,70.0,50.0,105.0,75.0,95.0,150.0,85.0,70.0,110.0,60.0,120.0],\"xaxis\":\"x\",\"yaxis\":\"y\",\"type\":\"histogram\"}],                        {\"template\":{\"data\":{\"histogram2dcontour\":[{\"type\":\"histogram2dcontour\",\"colorbar\":{\"outlinewidth\":0,\"ticks\":\"\"},\"colorscale\":[[0.0,\"#0d0887\"],[0.1111111111111111,\"#46039f\"],[0.2222222222222222,\"#7201a8\"],[0.3333333333333333,\"#9c179e\"],[0.4444444444444444,\"#bd3786\"],[0.5555555555555556,\"#d8576b\"],[0.6666666666666666,\"#ed7953\"],[0.7777777777777778,\"#fb9f3a\"],[0.8888888888888888,\"#fdca26\"],[1.0,\"#f0f921\"]]}],\"choropleth\":[{\"type\":\"choropleth\",\"colorbar\":{\"outlinewidth\":0,\"ticks\":\"\"}}],\"histogram2d\":[{\"type\":\"histogram2d\",\"colorbar\":{\"outlinewidth\":0,\"ticks\":\"\"},\"colorscale\":[[0.0,\"#0d0887\"],[0.1111111111111111,\"#46039f\"],[0.2222222222222222,\"#7201a8\"],[0.3333333333333333,\"#9c179e\"],[0.4444444444444444,\"#bd3786\"],[0.5555555555555556,\"#d8576b\"],[0.6666666666666666,\"#ed7953\"],[0.7777777777777778,\"#fb9f3a\"],[0.8888888888888888,\"#fdca26\"],[1.0,\"#f0f921\"]]}],\"heatmap\":[{\"type\":\"heatmap\",\"colorbar\":{\"outlinewidth\":0,\"ticks\":\"\"},\"colorscale\":[[0.0,\"#0d0887\"],[0.1111111111111111,\"#46039f\"],[0.2222222222222222,\"#7201a8\"],[0.3333333333333333,\"#9c179e\"],[0.4444444444444444,\"#bd3786\"],[0.5555555555555556,\"#d8576b\"],[0.6666666666666666,\"#ed7953\"],[0.7777777777777778,\"#fb9f3a\"],[0.8888888888888888,\"#fdca26\"],[1.0,\"#f0f921\"]]}],\"heatmapgl\":[{\"type\":\"heatmapgl\",\"colorbar\":{\"outlinewidth\":0,\"ticks\":\"\"},\"colorscale\":[[0.0,\"#0d0887\"],[0.1111111111111111,\"#46039f\"],[0.2222222222222222,\"#7201a8\"],[0.3333333333333333,\"#9c179e\"],[0.4444444444444444,\"#bd3786\"],[0.5555555555555556,\"#d8576b\"],[0.6666666666666666,\"#ed7953\"],[0.7777777777777778,\"#fb9f3a\"],[0.8888888888888888,\"#fdca26\"],[1.0,\"#f0f921\"]]}],\"contourcarpet\":[{\"type\":\"contourcarpet\",\"colorbar\":{\"outlinewidth\":0,\"ticks\":\"\"}}],\"contour\":[{\"type\":\"contour\",\"colorbar\":{\"outlinewidth\":0,\"ticks\":\"\"},\"colorscale\":[[0.0,\"#0d0887\"],[0.1111111111111111,\"#46039f\"],[0.2222222222222222,\"#7201a8\"],[0.3333333333333333,\"#9c179e\"],[0.4444444444444444,\"#bd3786\"],[0.5555555555555556,\"#d8576b\"],[0.6666666666666666,\"#ed7953\"],[0.7777777777777778,\"#fb9f3a\"],[0.8888888888888888,\"#fdca26\"],[1.0,\"#f0f921\"]]}],\"surface\":[{\"type\":\"surface\",\"colorbar\":{\"outlinewidth\":0,\"ticks\":\"\"},\"colorscale\":[[0.0,\"#0d0887\"],[0.1111111111111111,\"#46039f\"],[0.2222222222222222,\"#7201a8\"],[0.3333333333333333,\"#9c179e\"],[0.4444444444444444,\"#bd3786\"],[0.5555555555555556,\"#d8576b\"],[0.6666666666666666,\"#ed7953\"],[0.7777777777777778,\"#fb9f3a\"],[0.8888888888888888,\"#fdca26\"],[1.0,\"#f0f921\"]]}],\"mesh3d\":[{\"type\":\"mesh3d\",\"colorbar\":{\"outlinewidth\":0,\"ticks\":\"\"}}],\"scatter\":[{\"fillpattern\":{\"fillmode\":\"overlay\",\"size\":10,\"solidity\":0.2},\"type\":\"scatter\"}],\"parcoords\":[{\"type\":\"parcoords\",\"line\":{\"colorbar\":{\"outlinewidth\":0,\"ticks\":\"\"}}}],\"scatterpolargl\":[{\"type\":\"scatterpolargl\",\"marker\":{\"colorbar\":{\"outlinewidth\":0,\"ticks\":\"\"}}}],\"bar\":[{\"error_x\":{\"color\":\"#2a3f5f\"},\"error_y\":{\"color\":\"#2a3f5f\"},\"marker\":{\"line\":{\"color\":\"#E5ECF6\",\"width\":0.5},\"pattern\":{\"fillmode\":\"overlay\",\"size\":10,\"solidity\":0.2}},\"type\":\"bar\"}],\"scattergeo\":[{\"type\":\"scattergeo\",\"marker\":{\"colorbar\":{\"outlinewidth\":0,\"ticks\":\"\"}}}],\"scatterpolar\":[{\"type\":\"scatterpolar\",\"marker\":{\"colorbar\":{\"outlinewidth\":0,\"ticks\":\"\"}}}],\"histogram\":[{\"marker\":{\"pattern\":{\"fillmode\":\"overlay\",\"size\":10,\"solidity\":0.2}},\"type\":\"histogram\"}],\"scattergl\":[{\"type\":\"scattergl\",\"marker\":{\"colorbar\":{\"outlinewidth\":0,\"ticks\":\"\"}}}],\"scatter3d\":[{\"type\":\"scatter3d\",\"line\":{\"colorbar\":{\"outlinewidth\":0,\"ticks\":\"\"}},\"marker\":{\"colorbar\":{\"outlinewidth\":0,\"ticks\":\"\"}}}],\"scattermapbox\":[{\"type\":\"scattermapbox\",\"marker\":{\"colorbar\":{\"outlinewidth\":0,\"ticks\":\"\"}}}],\"scatterternary\":[{\"type\":\"scatterternary\",\"marker\":{\"colorbar\":{\"outlinewidth\":0,\"ticks\":\"\"}}}],\"scattercarpet\":[{\"type\":\"scattercarpet\",\"marker\":{\"colorbar\":{\"outlinewidth\":0,\"ticks\":\"\"}}}],\"carpet\":[{\"aaxis\":{\"endlinecolor\":\"#2a3f5f\",\"gridcolor\":\"white\",\"linecolor\":\"white\",\"minorgridcolor\":\"white\",\"startlinecolor\":\"#2a3f5f\"},\"baxis\":{\"endlinecolor\":\"#2a3f5f\",\"gridcolor\":\"white\",\"linecolor\":\"white\",\"minorgridcolor\":\"white\",\"startlinecolor\":\"#2a3f5f\"},\"type\":\"carpet\"}],\"table\":[{\"cells\":{\"fill\":{\"color\":\"#EBF0F8\"},\"line\":{\"color\":\"white\"}},\"header\":{\"fill\":{\"color\":\"#C8D4E3\"},\"line\":{\"color\":\"white\"}},\"type\":\"table\"}],\"barpolar\":[{\"marker\":{\"line\":{\"color\":\"#E5ECF6\",\"width\":0.5},\"pattern\":{\"fillmode\":\"overlay\",\"size\":10,\"solidity\":0.2}},\"type\":\"barpolar\"}],\"pie\":[{\"automargin\":true,\"type\":\"pie\"}]},\"layout\":{\"autotypenumbers\":\"strict\",\"colorway\":[\"#636efa\",\"#EF553B\",\"#00cc96\",\"#ab63fa\",\"#FFA15A\",\"#19d3f3\",\"#FF6692\",\"#B6E880\",\"#FF97FF\",\"#FECB52\"],\"font\":{\"color\":\"#2a3f5f\"},\"hovermode\":\"closest\",\"hoverlabel\":{\"align\":\"left\"},\"paper_bgcolor\":\"white\",\"plot_bgcolor\":\"#E5ECF6\",\"polar\":{\"bgcolor\":\"#E5ECF6\",\"angularaxis\":{\"gridcolor\":\"white\",\"linecolor\":\"white\",\"ticks\":\"\"},\"radialaxis\":{\"gridcolor\":\"white\",\"linecolor\":\"white\",\"ticks\":\"\"}},\"ternary\":{\"bgcolor\":\"#E5ECF6\",\"aaxis\":{\"gridcolor\":\"white\",\"linecolor\":\"white\",\"ticks\":\"\"},\"baxis\":{\"gridcolor\":\"white\",\"linecolor\":\"white\",\"ticks\":\"\"},\"caxis\":{\"gridcolor\":\"white\",\"linecolor\":\"white\",\"ticks\":\"\"}},\"coloraxis\":{\"colorbar\":{\"outlinewidth\":0,\"ticks\":\"\"}},\"colorscale\":{\"sequential\":[[0.0,\"#0d0887\"],[0.1111111111111111,\"#46039f\"],[0.2222222222222222,\"#7201a8\"],[0.3333333333333333,\"#9c179e\"],[0.4444444444444444,\"#bd3786\"],[0.5555555555555556,\"#d8576b\"],[0.6666666666666666,\"#ed7953\"],[0.7777777777777778,\"#fb9f3a\"],[0.8888888888888888,\"#fdca26\"],[1.0,\"#f0f921\"]],\"sequentialminus\":[[0.0,\"#0d0887\"],[0.1111111111111111,\"#46039f\"],[0.2222222222222222,\"#7201a8\"],[0.3333333333333333,\"#9c179e\"],[0.4444444444444444,\"#bd3786\"],[0.5555555555555556,\"#d8576b\"],[0.6666666666666666,\"#ed7953\"],[0.7777777777777778,\"#fb9f3a\"],[0.8888888888888888,\"#fdca26\"],[1.0,\"#f0f921\"]],\"diverging\":[[0,\"#8e0152\"],[0.1,\"#c51b7d\"],[0.2,\"#de77ae\"],[0.3,\"#f1b6da\"],[0.4,\"#fde0ef\"],[0.5,\"#f7f7f7\"],[0.6,\"#e6f5d0\"],[0.7,\"#b8e186\"],[0.8,\"#7fbc41\"],[0.9,\"#4d9221\"],[1,\"#276419\"]]},\"xaxis\":{\"gridcolor\":\"white\",\"linecolor\":\"white\",\"ticks\":\"\",\"title\":{\"standoff\":15},\"zerolinecolor\":\"white\",\"automargin\":true,\"zerolinewidth\":2},\"yaxis\":{\"gridcolor\":\"white\",\"linecolor\":\"white\",\"ticks\":\"\",\"title\":{\"standoff\":15},\"zerolinecolor\":\"white\",\"automargin\":true,\"zerolinewidth\":2},\"scene\":{\"xaxis\":{\"backgroundcolor\":\"#E5ECF6\",\"gridcolor\":\"white\",\"linecolor\":\"white\",\"showbackground\":true,\"ticks\":\"\",\"zerolinecolor\":\"white\",\"gridwidth\":2},\"yaxis\":{\"backgroundcolor\":\"#E5ECF6\",\"gridcolor\":\"white\",\"linecolor\":\"white\",\"showbackground\":true,\"ticks\":\"\",\"zerolinecolor\":\"white\",\"gridwidth\":2},\"zaxis\":{\"backgroundcolor\":\"#E5ECF6\",\"gridcolor\":\"white\",\"linecolor\":\"white\",\"showbackground\":true,\"ticks\":\"\",\"zerolinecolor\":\"white\",\"gridwidth\":2}},\"shapedefaults\":{\"line\":{\"color\":\"#2a3f5f\"}},\"annotationdefaults\":{\"arrowcolor\":\"#2a3f5f\",\"arrowhead\":0,\"arrowwidth\":1},\"geo\":{\"bgcolor\":\"white\",\"landcolor\":\"#E5ECF6\",\"subunitcolor\":\"white\",\"showland\":true,\"showlakes\":true,\"lakecolor\":\"white\"},\"title\":{\"x\":0.05},\"mapbox\":{\"style\":\"light\"}}},\"xaxis\":{\"anchor\":\"y\",\"domain\":[0.0,1.0],\"title\":{\"text\":\"Daily_Usage_Time (minutes)\"}},\"yaxis\":{\"anchor\":\"x\",\"domain\":[0.0,1.0],\"title\":{\"text\":\"count\"}},\"legend\":{\"tracegroupgap\":0},\"title\":{\"text\":\"Daily Usage Time Distribution\"},\"barmode\":\"relative\"},                        {\"responsive\": true}                    ).then(function(){\n",
              "                            \n",
              "var gd = document.getElementById('5657bdae-e6f2-4e20-92c2-f8c5c8b662c3');\n",
              "var x = new MutationObserver(function (mutations, observer) {{\n",
              "        var display = window.getComputedStyle(gd).display;\n",
              "        if (!display || display === 'none') {{\n",
              "            console.log([gd, 'removed!']);\n",
              "            Plotly.purge(gd);\n",
              "            observer.disconnect();\n",
              "        }}\n",
              "}});\n",
              "\n",
              "// Listen for the removal of the full notebook cells\n",
              "var notebookContainer = gd.closest('#notebook-container');\n",
              "if (notebookContainer) {{\n",
              "    x.observe(notebookContainer, {childList: true});\n",
              "}}\n",
              "\n",
              "// Listen for the clearing of the current output cell\n",
              "var outputEl = gd.closest('.output');\n",
              "if (outputEl) {{\n",
              "    x.observe(outputEl, {childList: true});\n",
              "}}\n",
              "\n",
              "                        })                };                            </script>        </div>\n",
              "</body>\n",
              "</html>"
            ]
          },
          "metadata": {}
        }
      ]
    },
    {
      "cell_type": "markdown",
      "source": [
        "Post Per Day Distribution:\n"
      ],
      "metadata": {
        "id": "HEPMmKwHIn15"
      }
    },
    {
      "cell_type": "code",
      "source": [
        "train_df['Posts_Per_Day'].unique()"
      ],
      "metadata": {
        "colab": {
          "base_uri": "https://localhost:8080/"
        },
        "id": "suezm2T7Ij4Q",
        "outputId": "d226fbeb-eadf-4b50-b565-cb090c5656b7"
      },
      "execution_count": 70,
      "outputs": [
        {
          "output_type": "execute_result",
          "data": {
            "text/plain": [
              "array([ 3.,  5.,  2.,  8.,  1.,  4.,  6.,  7., nan])"
            ]
          },
          "metadata": {},
          "execution_count": 70
        }
      ]
    },
    {
      "cell_type": "code",
      "source": [
        "# fill with mode\n",
        "train_df['Posts_Per_Day'].fillna(train_df['Posts_Per_Day'].mode()[0], inplace=True)"
      ],
      "metadata": {
        "id": "VkRa0uTVIutv"
      },
      "execution_count": 71,
      "outputs": []
    },
    {
      "cell_type": "code",
      "source": [
        "plt = px.histogram(train_df, x='Posts_Per_Day', title='Posts Per Day Distribution')\n",
        "plt.show()"
      ],
      "metadata": {
        "colab": {
          "base_uri": "https://localhost:8080/",
          "height": 542
        },
        "id": "dCiwiXQCIypt",
        "outputId": "fb252304-5dbc-46ed-d486-5c5fcdfb992a"
      },
      "execution_count": 72,
      "outputs": [
        {
          "output_type": "display_data",
          "data": {
            "text/html": [
              "<html>\n",
              "<head><meta charset=\"utf-8\" /></head>\n",
              "<body>\n",
              "    <div>            <script src=\"https://cdnjs.cloudflare.com/ajax/libs/mathjax/2.7.5/MathJax.js?config=TeX-AMS-MML_SVG\"></script><script type=\"text/javascript\">if (window.MathJax && window.MathJax.Hub && window.MathJax.Hub.Config) {window.MathJax.Hub.Config({SVG: {font: \"STIX-Web\"}});}</script>                <script type=\"text/javascript\">window.PlotlyConfig = {MathJaxConfig: 'local'};</script>\n",
              "        <script charset=\"utf-8\" src=\"https://cdn.plot.ly/plotly-2.24.1.min.js\"></script>                <div id=\"2be14461-40de-4531-8eb4-ec0fba33e9eb\" class=\"plotly-graph-div\" style=\"height:525px; width:100%;\"></div>            <script type=\"text/javascript\">                                    window.PLOTLYENV=window.PLOTLYENV || {};                                    if (document.getElementById(\"2be14461-40de-4531-8eb4-ec0fba33e9eb\")) {                    Plotly.newPlot(                        \"2be14461-40de-4531-8eb4-ec0fba33e9eb\",                        [{\"alignmentgroup\":\"True\",\"bingroup\":\"x\",\"hovertemplate\":\"Posts_Per_Day=%{x}\\u003cbr\\u003ecount=%{y}\\u003cextra\\u003e\\u003c\\u002fextra\\u003e\",\"legendgroup\":\"\",\"marker\":{\"color\":\"#636efa\",\"pattern\":{\"shape\":\"\"}},\"name\":\"\",\"offsetgroup\":\"\",\"orientation\":\"v\",\"showlegend\":false,\"x\":[3.0,5.0,2.0,8.0,1.0,4.0,3.0,6.0,2.0,5.0,4.0,3.0,1.0,7.0,6.0,1.0,4.0,3.0,1.0,5.0,2.0,4.0,2.0,8.0,3.0,2.0,1.0,6.0,4.0,1.0,2.0,5.0,3.0,6.0,2.0,1.0,7.0,4.0,3.0,2.0,1.0,6.0,4.0,2.0,1.0,7.0,3.0,2.0,5.0,1.0,6.0,3.0,2.0,4.0,1.0,2.0,3.0,2.0,4.0,1.0,6.0,3.0,2.0,4.0,6.0,1.0,5.0,2.0,3.0,2.0,4.0,1.0,3.0,2.0,4.0,3.0,6.0,2.0,1.0,4.0,2.0,3.0,5.0,1.0,2.0,4.0,3.0,1.0,6.0,2.0,1.0,4.0,3.0,2.0,5.0,4.0,1.0,3.0,2.0,4.0,5.0,4.0,2.0,8.0,1.0,5.0,3.0,6.0,2.0,7.0,4.0,3.0,1.0,8.0,6.0,1.0,5.0,3.0,1.0,6.0,2.0,4.0,2.0,8.0,3.0,2.0,1.0,6.0,4.0,1.0,2.0,7.0,3.0,6.0,2.0,1.0,7.0,4.0,3.0,2.0,1.0,6.0,4.0,2.0,1.0,7.0,3.0,2.0,5.0,1.0,6.0,3.0,2.0,4.0,1.0,2.0,3.0,2.0,4.0,1.0,6.0,3.0,2.0,4.0,6.0,1.0,5.0,2.0,3.0,2.0,4.0,1.0,3.0,2.0,4.0,3.0,6.0,2.0,1.0,4.0,2.0,3.0,5.0,1.0,2.0,4.0,3.0,1.0,6.0,2.0,1.0,4.0,3.0,2.0,5.0,4.0,1.0,3.0,2.0,4.0,5.0,4.0,2.0,8.0,1.0,5.0,3.0,6.0,2.0,7.0,4.0,3.0,1.0,8.0,6.0,1.0,5.0,3.0,1.0,6.0,2.0,4.0,2.0,8.0,3.0,2.0,1.0,6.0,4.0,1.0,2.0,7.0,3.0,6.0,2.0,1.0,7.0,4.0,3.0,2.0,1.0,6.0,4.0,2.0,1.0,7.0,3.0,2.0,5.0,1.0,6.0,3.0,2.0,4.0,1.0,2.0,3.0,2.0,4.0,1.0,6.0,3.0,2.0,4.0,6.0,1.0,5.0,2.0,3.0,2.0,4.0,1.0,3.0,2.0,4.0,3.0,6.0,2.0,1.0,4.0,2.0,3.0,5.0,1.0,2.0,4.0,3.0,1.0,6.0,2.0,1.0,4.0,3.0,2.0,5.0,4.0,1.0,3.0,2.0,4.0,5.0,4.0,2.0,8.0,1.0,5.0,3.0,6.0,2.0,7.0,4.0,3.0,1.0,8.0,6.0,1.0,5.0,3.0,1.0,6.0,2.0,4.0,2.0,8.0,3.0,2.0,1.0,6.0,4.0,1.0,2.0,7.0,3.0,6.0,2.0,1.0,7.0,4.0,3.0,2.0,1.0,6.0,4.0,2.0,1.0,7.0,3.0,2.0,5.0,1.0,6.0,3.0,2.0,4.0,1.0,2.0,3.0,2.0,4.0,1.0,6.0,3.0,2.0,4.0,6.0,1.0,5.0,2.0,3.0,2.0,4.0,1.0,3.0,2.0,4.0,3.0,6.0,2.0,1.0,4.0,2.0,3.0,5.0,1.0,2.0,4.0,3.0,1.0,6.0,2.0,1.0,4.0,3.0,2.0,5.0,4.0,1.0,3.0,2.0,4.0,5.0,4.0,2.0,8.0,1.0,5.0,3.0,6.0,2.0,7.0,4.0,3.0,1.0,8.0,6.0,1.0,5.0,3.0,1.0,6.0,2.0,4.0,2.0,8.0,3.0,2.0,1.0,6.0,4.0,1.0,2.0,7.0,3.0,6.0,2.0,1.0,7.0,4.0,3.0,2.0,1.0,6.0,4.0,2.0,1.0,7.0,3.0,2.0,5.0,1.0,6.0,3.0,2.0,4.0,1.0,2.0,3.0,2.0,4.0,1.0,6.0,3.0,2.0,4.0,6.0,1.0,5.0,2.0,3.0,2.0,4.0,1.0,3.0,2.0,4.0,3.0,6.0,2.0,1.0,4.0,2.0,3.0,5.0,1.0,2.0,4.0,3.0,1.0,6.0,2.0,1.0,4.0,3.0,2.0,5.0,4.0,1.0,3.0,2.0,4.0,5.0,4.0,2.0,8.0,1.0,5.0,3.0,6.0,2.0,7.0,4.0,3.0,1.0,8.0,6.0,1.0,5.0,3.0,1.0,6.0,2.0,4.0,2.0,8.0,3.0,2.0,1.0,6.0,4.0,1.0,2.0,7.0,3.0,6.0,2.0,1.0,7.0,4.0,3.0,2.0,1.0,6.0,4.0,2.0,1.0,7.0,3.0,2.0,5.0,1.0,6.0,3.0,2.0,4.0,1.0,2.0,3.0,2.0,4.0,1.0,6.0,3.0,2.0,4.0,6.0,1.0,5.0,2.0,3.0,2.0,4.0,1.0,3.0,2.0,4.0,3.0,6.0,2.0,1.0,4.0,2.0,3.0,5.0,1.0,2.0,4.0,3.0,1.0,6.0,2.0,1.0,4.0,3.0,2.0,5.0,4.0,1.0,3.0,2.0,4.0,5.0,4.0,2.0,8.0,1.0,5.0,3.0,6.0,2.0,7.0,4.0,3.0,1.0,8.0,6.0,1.0,5.0,3.0,1.0,6.0,2.0,4.0,2.0,8.0,3.0,2.0,1.0,6.0,4.0,1.0,2.0,7.0,3.0,6.0,2.0,1.0,7.0,4.0,3.0,2.0,1.0,2.0,6.0,4.0,2.0,1.0,7.0,3.0,2.0,5.0,1.0,6.0,3.0,2.0,4.0,1.0,2.0,3.0,2.0,4.0,1.0,6.0,3.0,2.0,4.0,6.0,1.0,5.0,2.0,3.0,2.0,4.0,1.0,3.0,2.0,4.0,3.0,6.0,2.0,1.0,4.0,2.0,3.0,5.0,1.0,2.0,4.0,3.0,1.0,6.0,2.0,1.0,4.0,3.0,2.0,5.0,4.0,1.0,3.0,2.0,4.0,5.0,4.0,2.0,8.0,1.0,5.0,3.0,6.0,2.0,7.0,4.0,3.0,1.0,8.0,6.0,1.0,5.0,3.0,1.0,6.0,2.0,4.0,2.0,8.0,3.0,2.0,1.0,6.0,4.0,1.0,2.0,7.0,3.0,6.0,2.0,1.0,7.0,4.0,3.0,2.0,1.0,6.0,4.0,2.0,1.0,7.0,3.0,2.0,5.0,1.0,6.0,3.0,2.0,4.0,1.0,2.0,3.0,2.0,4.0,1.0,6.0,3.0,2.0,4.0,6.0,1.0,5.0,2.0,3.0,2.0,4.0,1.0,3.0,2.0,4.0,3.0,6.0,2.0,1.0,4.0,2.0,3.0,5.0,1.0,2.0,4.0,3.0,1.0,6.0,2.0,1.0,4.0,3.0,2.0,5.0,4.0,1.0,3.0,2.0,4.0,5.0,4.0,2.0,8.0,1.0,5.0,3.0,6.0,2.0,7.0,4.0,3.0,1.0,8.0,6.0,1.0,5.0,3.0,1.0,6.0,2.0,4.0,2.0,8.0,3.0,2.0,1.0,6.0,4.0,1.0,2.0,7.0,3.0,6.0,2.0,1.0,7.0,4.0,3.0,2.0,1.0,6.0,4.0,2.0,1.0,7.0,3.0,2.0,5.0,1.0,6.0,3.0,2.0,4.0,1.0,2.0,3.0,2.0,4.0,1.0,6.0,3.0,2.0,4.0,6.0,1.0,5.0,2.0,3.0,2.0,4.0,1.0,3.0,2.0,4.0,3.0,6.0,2.0,1.0,4.0,2.0,3.0,5.0,1.0,2.0,4.0,3.0,1.0,6.0,2.0,1.0,4.0,3.0,2.0,5.0,4.0,1.0,3.0,2.0,4.0,5.0,4.0,2.0,8.0,1.0,5.0,3.0,6.0,2.0,7.0,4.0,3.0,1.0,8.0,6.0,1.0,5.0,3.0,1.0,6.0,2.0,4.0,2.0,8.0,3.0,2.0,1.0,6.0,4.0,1.0,2.0,7.0,3.0,6.0,2.0,1.0,7.0,4.0,3.0,2.0,1.0,6.0,4.0,2.0,1.0,7.0,3.0,2.0,5.0,1.0,6.0,3.0,2.0,4.0,1.0,2.0,3.0,2.0,4.0,1.0,6.0,3.0,2.0,4.0,6.0,1.0,5.0,2.0,3.0,2.0,4.0,1.0,3.0,2.0,4.0,3.0,6.0,2.0,1.0,4.0,2.0,3.0,5.0,1.0,2.0,4.0,3.0,1.0,6.0,2.0,1.0,4.0,3.0,2.0,5.0,4.0,1.0,3.0,2.0,4.0],\"xaxis\":\"x\",\"yaxis\":\"y\",\"type\":\"histogram\"}],                        {\"template\":{\"data\":{\"histogram2dcontour\":[{\"type\":\"histogram2dcontour\",\"colorbar\":{\"outlinewidth\":0,\"ticks\":\"\"},\"colorscale\":[[0.0,\"#0d0887\"],[0.1111111111111111,\"#46039f\"],[0.2222222222222222,\"#7201a8\"],[0.3333333333333333,\"#9c179e\"],[0.4444444444444444,\"#bd3786\"],[0.5555555555555556,\"#d8576b\"],[0.6666666666666666,\"#ed7953\"],[0.7777777777777778,\"#fb9f3a\"],[0.8888888888888888,\"#fdca26\"],[1.0,\"#f0f921\"]]}],\"choropleth\":[{\"type\":\"choropleth\",\"colorbar\":{\"outlinewidth\":0,\"ticks\":\"\"}}],\"histogram2d\":[{\"type\":\"histogram2d\",\"colorbar\":{\"outlinewidth\":0,\"ticks\":\"\"},\"colorscale\":[[0.0,\"#0d0887\"],[0.1111111111111111,\"#46039f\"],[0.2222222222222222,\"#7201a8\"],[0.3333333333333333,\"#9c179e\"],[0.4444444444444444,\"#bd3786\"],[0.5555555555555556,\"#d8576b\"],[0.6666666666666666,\"#ed7953\"],[0.7777777777777778,\"#fb9f3a\"],[0.8888888888888888,\"#fdca26\"],[1.0,\"#f0f921\"]]}],\"heatmap\":[{\"type\":\"heatmap\",\"colorbar\":{\"outlinewidth\":0,\"ticks\":\"\"},\"colorscale\":[[0.0,\"#0d0887\"],[0.1111111111111111,\"#46039f\"],[0.2222222222222222,\"#7201a8\"],[0.3333333333333333,\"#9c179e\"],[0.4444444444444444,\"#bd3786\"],[0.5555555555555556,\"#d8576b\"],[0.6666666666666666,\"#ed7953\"],[0.7777777777777778,\"#fb9f3a\"],[0.8888888888888888,\"#fdca26\"],[1.0,\"#f0f921\"]]}],\"heatmapgl\":[{\"type\":\"heatmapgl\",\"colorbar\":{\"outlinewidth\":0,\"ticks\":\"\"},\"colorscale\":[[0.0,\"#0d0887\"],[0.1111111111111111,\"#46039f\"],[0.2222222222222222,\"#7201a8\"],[0.3333333333333333,\"#9c179e\"],[0.4444444444444444,\"#bd3786\"],[0.5555555555555556,\"#d8576b\"],[0.6666666666666666,\"#ed7953\"],[0.7777777777777778,\"#fb9f3a\"],[0.8888888888888888,\"#fdca26\"],[1.0,\"#f0f921\"]]}],\"contourcarpet\":[{\"type\":\"contourcarpet\",\"colorbar\":{\"outlinewidth\":0,\"ticks\":\"\"}}],\"contour\":[{\"type\":\"contour\",\"colorbar\":{\"outlinewidth\":0,\"ticks\":\"\"},\"colorscale\":[[0.0,\"#0d0887\"],[0.1111111111111111,\"#46039f\"],[0.2222222222222222,\"#7201a8\"],[0.3333333333333333,\"#9c179e\"],[0.4444444444444444,\"#bd3786\"],[0.5555555555555556,\"#d8576b\"],[0.6666666666666666,\"#ed7953\"],[0.7777777777777778,\"#fb9f3a\"],[0.8888888888888888,\"#fdca26\"],[1.0,\"#f0f921\"]]}],\"surface\":[{\"type\":\"surface\",\"colorbar\":{\"outlinewidth\":0,\"ticks\":\"\"},\"colorscale\":[[0.0,\"#0d0887\"],[0.1111111111111111,\"#46039f\"],[0.2222222222222222,\"#7201a8\"],[0.3333333333333333,\"#9c179e\"],[0.4444444444444444,\"#bd3786\"],[0.5555555555555556,\"#d8576b\"],[0.6666666666666666,\"#ed7953\"],[0.7777777777777778,\"#fb9f3a\"],[0.8888888888888888,\"#fdca26\"],[1.0,\"#f0f921\"]]}],\"mesh3d\":[{\"type\":\"mesh3d\",\"colorbar\":{\"outlinewidth\":0,\"ticks\":\"\"}}],\"scatter\":[{\"fillpattern\":{\"fillmode\":\"overlay\",\"size\":10,\"solidity\":0.2},\"type\":\"scatter\"}],\"parcoords\":[{\"type\":\"parcoords\",\"line\":{\"colorbar\":{\"outlinewidth\":0,\"ticks\":\"\"}}}],\"scatterpolargl\":[{\"type\":\"scatterpolargl\",\"marker\":{\"colorbar\":{\"outlinewidth\":0,\"ticks\":\"\"}}}],\"bar\":[{\"error_x\":{\"color\":\"#2a3f5f\"},\"error_y\":{\"color\":\"#2a3f5f\"},\"marker\":{\"line\":{\"color\":\"#E5ECF6\",\"width\":0.5},\"pattern\":{\"fillmode\":\"overlay\",\"size\":10,\"solidity\":0.2}},\"type\":\"bar\"}],\"scattergeo\":[{\"type\":\"scattergeo\",\"marker\":{\"colorbar\":{\"outlinewidth\":0,\"ticks\":\"\"}}}],\"scatterpolar\":[{\"type\":\"scatterpolar\",\"marker\":{\"colorbar\":{\"outlinewidth\":0,\"ticks\":\"\"}}}],\"histogram\":[{\"marker\":{\"pattern\":{\"fillmode\":\"overlay\",\"size\":10,\"solidity\":0.2}},\"type\":\"histogram\"}],\"scattergl\":[{\"type\":\"scattergl\",\"marker\":{\"colorbar\":{\"outlinewidth\":0,\"ticks\":\"\"}}}],\"scatter3d\":[{\"type\":\"scatter3d\",\"line\":{\"colorbar\":{\"outlinewidth\":0,\"ticks\":\"\"}},\"marker\":{\"colorbar\":{\"outlinewidth\":0,\"ticks\":\"\"}}}],\"scattermapbox\":[{\"type\":\"scattermapbox\",\"marker\":{\"colorbar\":{\"outlinewidth\":0,\"ticks\":\"\"}}}],\"scatterternary\":[{\"type\":\"scatterternary\",\"marker\":{\"colorbar\":{\"outlinewidth\":0,\"ticks\":\"\"}}}],\"scattercarpet\":[{\"type\":\"scattercarpet\",\"marker\":{\"colorbar\":{\"outlinewidth\":0,\"ticks\":\"\"}}}],\"carpet\":[{\"aaxis\":{\"endlinecolor\":\"#2a3f5f\",\"gridcolor\":\"white\",\"linecolor\":\"white\",\"minorgridcolor\":\"white\",\"startlinecolor\":\"#2a3f5f\"},\"baxis\":{\"endlinecolor\":\"#2a3f5f\",\"gridcolor\":\"white\",\"linecolor\":\"white\",\"minorgridcolor\":\"white\",\"startlinecolor\":\"#2a3f5f\"},\"type\":\"carpet\"}],\"table\":[{\"cells\":{\"fill\":{\"color\":\"#EBF0F8\"},\"line\":{\"color\":\"white\"}},\"header\":{\"fill\":{\"color\":\"#C8D4E3\"},\"line\":{\"color\":\"white\"}},\"type\":\"table\"}],\"barpolar\":[{\"marker\":{\"line\":{\"color\":\"#E5ECF6\",\"width\":0.5},\"pattern\":{\"fillmode\":\"overlay\",\"size\":10,\"solidity\":0.2}},\"type\":\"barpolar\"}],\"pie\":[{\"automargin\":true,\"type\":\"pie\"}]},\"layout\":{\"autotypenumbers\":\"strict\",\"colorway\":[\"#636efa\",\"#EF553B\",\"#00cc96\",\"#ab63fa\",\"#FFA15A\",\"#19d3f3\",\"#FF6692\",\"#B6E880\",\"#FF97FF\",\"#FECB52\"],\"font\":{\"color\":\"#2a3f5f\"},\"hovermode\":\"closest\",\"hoverlabel\":{\"align\":\"left\"},\"paper_bgcolor\":\"white\",\"plot_bgcolor\":\"#E5ECF6\",\"polar\":{\"bgcolor\":\"#E5ECF6\",\"angularaxis\":{\"gridcolor\":\"white\",\"linecolor\":\"white\",\"ticks\":\"\"},\"radialaxis\":{\"gridcolor\":\"white\",\"linecolor\":\"white\",\"ticks\":\"\"}},\"ternary\":{\"bgcolor\":\"#E5ECF6\",\"aaxis\":{\"gridcolor\":\"white\",\"linecolor\":\"white\",\"ticks\":\"\"},\"baxis\":{\"gridcolor\":\"white\",\"linecolor\":\"white\",\"ticks\":\"\"},\"caxis\":{\"gridcolor\":\"white\",\"linecolor\":\"white\",\"ticks\":\"\"}},\"coloraxis\":{\"colorbar\":{\"outlinewidth\":0,\"ticks\":\"\"}},\"colorscale\":{\"sequential\":[[0.0,\"#0d0887\"],[0.1111111111111111,\"#46039f\"],[0.2222222222222222,\"#7201a8\"],[0.3333333333333333,\"#9c179e\"],[0.4444444444444444,\"#bd3786\"],[0.5555555555555556,\"#d8576b\"],[0.6666666666666666,\"#ed7953\"],[0.7777777777777778,\"#fb9f3a\"],[0.8888888888888888,\"#fdca26\"],[1.0,\"#f0f921\"]],\"sequentialminus\":[[0.0,\"#0d0887\"],[0.1111111111111111,\"#46039f\"],[0.2222222222222222,\"#7201a8\"],[0.3333333333333333,\"#9c179e\"],[0.4444444444444444,\"#bd3786\"],[0.5555555555555556,\"#d8576b\"],[0.6666666666666666,\"#ed7953\"],[0.7777777777777778,\"#fb9f3a\"],[0.8888888888888888,\"#fdca26\"],[1.0,\"#f0f921\"]],\"diverging\":[[0,\"#8e0152\"],[0.1,\"#c51b7d\"],[0.2,\"#de77ae\"],[0.3,\"#f1b6da\"],[0.4,\"#fde0ef\"],[0.5,\"#f7f7f7\"],[0.6,\"#e6f5d0\"],[0.7,\"#b8e186\"],[0.8,\"#7fbc41\"],[0.9,\"#4d9221\"],[1,\"#276419\"]]},\"xaxis\":{\"gridcolor\":\"white\",\"linecolor\":\"white\",\"ticks\":\"\",\"title\":{\"standoff\":15},\"zerolinecolor\":\"white\",\"automargin\":true,\"zerolinewidth\":2},\"yaxis\":{\"gridcolor\":\"white\",\"linecolor\":\"white\",\"ticks\":\"\",\"title\":{\"standoff\":15},\"zerolinecolor\":\"white\",\"automargin\":true,\"zerolinewidth\":2},\"scene\":{\"xaxis\":{\"backgroundcolor\":\"#E5ECF6\",\"gridcolor\":\"white\",\"linecolor\":\"white\",\"showbackground\":true,\"ticks\":\"\",\"zerolinecolor\":\"white\",\"gridwidth\":2},\"yaxis\":{\"backgroundcolor\":\"#E5ECF6\",\"gridcolor\":\"white\",\"linecolor\":\"white\",\"showbackground\":true,\"ticks\":\"\",\"zerolinecolor\":\"white\",\"gridwidth\":2},\"zaxis\":{\"backgroundcolor\":\"#E5ECF6\",\"gridcolor\":\"white\",\"linecolor\":\"white\",\"showbackground\":true,\"ticks\":\"\",\"zerolinecolor\":\"white\",\"gridwidth\":2}},\"shapedefaults\":{\"line\":{\"color\":\"#2a3f5f\"}},\"annotationdefaults\":{\"arrowcolor\":\"#2a3f5f\",\"arrowhead\":0,\"arrowwidth\":1},\"geo\":{\"bgcolor\":\"white\",\"landcolor\":\"#E5ECF6\",\"subunitcolor\":\"white\",\"showland\":true,\"showlakes\":true,\"lakecolor\":\"white\"},\"title\":{\"x\":0.05},\"mapbox\":{\"style\":\"light\"}}},\"xaxis\":{\"anchor\":\"y\",\"domain\":[0.0,1.0],\"title\":{\"text\":\"Posts_Per_Day\"}},\"yaxis\":{\"anchor\":\"x\",\"domain\":[0.0,1.0],\"title\":{\"text\":\"count\"}},\"legend\":{\"tracegroupgap\":0},\"title\":{\"text\":\"Posts Per Day Distribution\"},\"barmode\":\"relative\"},                        {\"responsive\": true}                    ).then(function(){\n",
              "                            \n",
              "var gd = document.getElementById('2be14461-40de-4531-8eb4-ec0fba33e9eb');\n",
              "var x = new MutationObserver(function (mutations, observer) {{\n",
              "        var display = window.getComputedStyle(gd).display;\n",
              "        if (!display || display === 'none') {{\n",
              "            console.log([gd, 'removed!']);\n",
              "            Plotly.purge(gd);\n",
              "            observer.disconnect();\n",
              "        }}\n",
              "}});\n",
              "\n",
              "// Listen for the removal of the full notebook cells\n",
              "var notebookContainer = gd.closest('#notebook-container');\n",
              "if (notebookContainer) {{\n",
              "    x.observe(notebookContainer, {childList: true});\n",
              "}}\n",
              "\n",
              "// Listen for the clearing of the current output cell\n",
              "var outputEl = gd.closest('.output');\n",
              "if (outputEl) {{\n",
              "    x.observe(outputEl, {childList: true});\n",
              "}}\n",
              "\n",
              "                        })                };                            </script>        </div>\n",
              "</body>\n",
              "</html>"
            ]
          },
          "metadata": {}
        }
      ]
    },
    {
      "cell_type": "markdown",
      "source": [
        "Likes Per Day Distribution:"
      ],
      "metadata": {
        "id": "enP4ZZWbI7U2"
      }
    },
    {
      "cell_type": "code",
      "source": [
        "train_df['Likes_Received_Per_Day'].unique()"
      ],
      "metadata": {
        "colab": {
          "base_uri": "https://localhost:8080/"
        },
        "id": "GIO4rH2rI2D9",
        "outputId": "c8e45537-5516-435d-c7e3-0f0756234a9d"
      },
      "execution_count": 73,
      "outputs": [
        {
          "output_type": "execute_result",
          "data": {
            "text/plain": [
              "array([ 45.,  20.,  15., 100.,   5.,  60.,  30.,  25.,  10.,  80.,  35.,\n",
              "        12.,  90.,  40.,  55.,  33.,   8.,  70.,  28.,  11.,  95.,  18.,\n",
              "         9.,  85.,  38.,   6.,  13.,  75.,  27.,  88.,  22.,  78.,  29.,\n",
              "        50.,  36.,  72.,  65., 110.,  14.,  17., 105.,  43.,  37.,  42.,\n",
              "        48.,  21.,  24.,  23.,  83.,  nan])"
            ]
          },
          "metadata": {},
          "execution_count": 73
        }
      ]
    },
    {
      "cell_type": "code",
      "source": [
        "# filling wih mode\n",
        "train_df['Likes_Received_Per_Day'].fillna(train_df['Likes_Received_Per_Day'].mode()[0], inplace=True)"
      ],
      "metadata": {
        "id": "wc4tgADAJCNn"
      },
      "execution_count": 74,
      "outputs": []
    },
    {
      "cell_type": "code",
      "source": [
        "plt = px.histogram(train_df, x='Likes_Received_Per_Day', title='Posts Per Day Distribution')\n",
        "plt.show()"
      ],
      "metadata": {
        "colab": {
          "base_uri": "https://localhost:8080/",
          "height": 542
        },
        "id": "z1hjiBD1JLRo",
        "outputId": "3b850c35-55df-4277-f0a0-c07fd7971346"
      },
      "execution_count": 75,
      "outputs": [
        {
          "output_type": "display_data",
          "data": {
            "text/html": [
              "<html>\n",
              "<head><meta charset=\"utf-8\" /></head>\n",
              "<body>\n",
              "    <div>            <script src=\"https://cdnjs.cloudflare.com/ajax/libs/mathjax/2.7.5/MathJax.js?config=TeX-AMS-MML_SVG\"></script><script type=\"text/javascript\">if (window.MathJax && window.MathJax.Hub && window.MathJax.Hub.Config) {window.MathJax.Hub.Config({SVG: {font: \"STIX-Web\"}});}</script>                <script type=\"text/javascript\">window.PlotlyConfig = {MathJaxConfig: 'local'};</script>\n",
              "        <script charset=\"utf-8\" src=\"https://cdn.plot.ly/plotly-2.24.1.min.js\"></script>                <div id=\"6539f655-1a22-4c82-97c3-8199a36f2160\" class=\"plotly-graph-div\" style=\"height:525px; width:100%;\"></div>            <script type=\"text/javascript\">                                    window.PLOTLYENV=window.PLOTLYENV || {};                                    if (document.getElementById(\"6539f655-1a22-4c82-97c3-8199a36f2160\")) {                    Plotly.newPlot(                        \"6539f655-1a22-4c82-97c3-8199a36f2160\",                        [{\"alignmentgroup\":\"True\",\"bingroup\":\"x\",\"hovertemplate\":\"Likes_Received_Per_Day=%{x}\\u003cbr\\u003ecount=%{y}\\u003cextra\\u003e\\u003c\\u002fextra\\u003e\",\"legendgroup\":\"\",\"marker\":{\"color\":\"#636efa\",\"pattern\":{\"shape\":\"\"}},\"name\":\"\",\"offsetgroup\":\"\",\"orientation\":\"v\",\"showlegend\":false,\"x\":[45.0,20.0,15.0,100.0,5.0,60.0,30.0,25.0,10.0,80.0,35.0,20.0,12.0,90.0,40.0,5.0,55.0,33.0,8.0,70.0,25.0,28.0,11.0,95.0,20.0,18.0,9.0,85.0,38.0,6.0,13.0,75.0,27.0,88.0,22.0,10.0,90.0,35.0,55.0,18.0,6.0,80.0,40.0,20.0,12.0,85.0,33.0,28.0,70.0,8.0,78.0,29.0,25.0,60.0,10.0,40.0,20.0,15.0,45.0,10.0,70.0,20.0,18.0,50.0,40.0,8.0,75.0,25.0,45.0,18.0,60.0,12.0,15.0,20.0,28.0,36.0,72.0,22.0,12.0,35.0,18.0,30.0,55.0,20.0,18.0,35.0,40.0,15.0,78.0,28.0,8.0,50.0,33.0,20.0,65.0,30.0,12.0,45.0,15.0,38.0,50.0,30.0,20.0,110.0,10.0,65.0,40.0,35.0,15.0,90.0,45.0,30.0,14.0,100.0,50.0,10.0,65.0,40.0,12.0,75.0,30.0,35.0,17.0,105.0,25.0,20.0,12.0,85.0,43.0,8.0,17.0,80.0,30.0,95.0,27.0,11.0,95.0,45.0,60.0,22.0,9.0,90.0,50.0,25.0,15.0,100.0,37.0,30.0,80.0,12.0,85.0,33.0,27.0,65.0,15.0,42.0,22.0,18.0,48.0,12.0,72.0,22.0,21.0,55.0,42.0,12.0,78.0,27.0,48.0,21.0,65.0,13.0,17.0,24.0,30.0,38.0,75.0,23.0,13.0,37.0,20.0,33.0,60.0,22.0,20.0,37.0,45.0,18.0,83.0,30.0,10.0,55.0,37.0,23.0,70.0,35.0,14.0,50.0,18.0,40.0,50.0,30.0,20.0,110.0,10.0,65.0,40.0,35.0,15.0,90.0,45.0,30.0,14.0,100.0,50.0,10.0,65.0,40.0,12.0,75.0,30.0,35.0,17.0,105.0,25.0,20.0,12.0,85.0,43.0,8.0,17.0,80.0,30.0,95.0,27.0,11.0,95.0,45.0,60.0,22.0,9.0,90.0,50.0,25.0,15.0,100.0,37.0,30.0,80.0,12.0,85.0,33.0,27.0,65.0,15.0,42.0,22.0,18.0,48.0,12.0,72.0,22.0,21.0,55.0,42.0,12.0,78.0,27.0,48.0,21.0,65.0,13.0,17.0,24.0,30.0,38.0,75.0,23.0,13.0,37.0,20.0,33.0,60.0,22.0,20.0,37.0,45.0,18.0,83.0,30.0,10.0,55.0,37.0,23.0,70.0,35.0,14.0,50.0,18.0,40.0,50.0,30.0,20.0,110.0,10.0,65.0,40.0,35.0,15.0,90.0,45.0,30.0,14.0,100.0,50.0,10.0,65.0,40.0,12.0,75.0,30.0,35.0,17.0,105.0,25.0,20.0,12.0,85.0,43.0,8.0,17.0,80.0,30.0,95.0,27.0,11.0,95.0,45.0,60.0,22.0,9.0,90.0,50.0,25.0,15.0,100.0,37.0,30.0,80.0,12.0,85.0,33.0,27.0,65.0,15.0,42.0,22.0,18.0,48.0,12.0,72.0,22.0,21.0,55.0,42.0,12.0,78.0,27.0,48.0,21.0,65.0,13.0,17.0,24.0,30.0,38.0,75.0,23.0,13.0,37.0,20.0,33.0,60.0,22.0,20.0,37.0,45.0,18.0,83.0,30.0,10.0,55.0,37.0,23.0,70.0,35.0,14.0,50.0,18.0,40.0,50.0,30.0,20.0,110.0,10.0,65.0,40.0,35.0,15.0,90.0,45.0,30.0,14.0,100.0,50.0,10.0,65.0,40.0,12.0,75.0,30.0,35.0,17.0,105.0,25.0,20.0,12.0,85.0,43.0,8.0,17.0,80.0,30.0,95.0,27.0,11.0,95.0,45.0,60.0,22.0,9.0,90.0,50.0,25.0,15.0,100.0,37.0,30.0,80.0,12.0,85.0,33.0,27.0,65.0,15.0,42.0,22.0,18.0,48.0,12.0,72.0,22.0,21.0,55.0,42.0,12.0,78.0,27.0,48.0,21.0,65.0,13.0,17.0,24.0,30.0,38.0,75.0,23.0,13.0,37.0,20.0,33.0,60.0,22.0,20.0,37.0,45.0,18.0,83.0,30.0,10.0,55.0,37.0,23.0,70.0,35.0,14.0,50.0,18.0,40.0,50.0,30.0,20.0,110.0,10.0,65.0,40.0,35.0,15.0,90.0,45.0,30.0,14.0,100.0,50.0,10.0,65.0,40.0,12.0,75.0,30.0,35.0,17.0,105.0,25.0,20.0,12.0,85.0,43.0,8.0,17.0,80.0,30.0,95.0,27.0,11.0,95.0,45.0,60.0,22.0,9.0,90.0,50.0,25.0,15.0,100.0,37.0,30.0,80.0,12.0,85.0,33.0,27.0,65.0,15.0,42.0,22.0,18.0,48.0,12.0,72.0,22.0,21.0,55.0,42.0,12.0,78.0,27.0,48.0,21.0,65.0,13.0,17.0,24.0,30.0,38.0,75.0,23.0,13.0,37.0,20.0,33.0,60.0,22.0,20.0,37.0,45.0,18.0,83.0,30.0,10.0,55.0,37.0,23.0,70.0,35.0,14.0,50.0,18.0,40.0,50.0,30.0,20.0,110.0,10.0,65.0,40.0,35.0,15.0,90.0,45.0,30.0,14.0,100.0,50.0,10.0,65.0,40.0,12.0,75.0,30.0,35.0,17.0,105.0,25.0,20.0,12.0,85.0,43.0,8.0,17.0,80.0,30.0,95.0,27.0,11.0,95.0,45.0,60.0,22.0,9.0,30.0,90.0,50.0,25.0,15.0,100.0,37.0,30.0,80.0,12.0,85.0,33.0,27.0,65.0,15.0,42.0,22.0,18.0,48.0,12.0,72.0,22.0,21.0,55.0,42.0,12.0,78.0,27.0,48.0,21.0,65.0,13.0,17.0,24.0,30.0,38.0,75.0,23.0,13.0,37.0,20.0,33.0,60.0,22.0,20.0,37.0,45.0,18.0,83.0,30.0,10.0,55.0,37.0,23.0,70.0,35.0,14.0,50.0,18.0,40.0,50.0,30.0,20.0,110.0,10.0,65.0,40.0,35.0,15.0,90.0,45.0,30.0,14.0,100.0,50.0,10.0,65.0,40.0,12.0,75.0,30.0,35.0,17.0,105.0,25.0,20.0,12.0,85.0,43.0,8.0,17.0,80.0,30.0,95.0,27.0,11.0,95.0,45.0,60.0,22.0,9.0,90.0,50.0,25.0,15.0,100.0,37.0,30.0,80.0,12.0,85.0,33.0,27.0,65.0,15.0,42.0,22.0,18.0,48.0,12.0,72.0,22.0,21.0,55.0,42.0,12.0,78.0,27.0,48.0,21.0,65.0,13.0,17.0,24.0,30.0,38.0,75.0,23.0,13.0,37.0,20.0,33.0,60.0,22.0,20.0,37.0,45.0,18.0,83.0,30.0,10.0,55.0,37.0,23.0,70.0,35.0,14.0,50.0,18.0,40.0,50.0,30.0,20.0,110.0,10.0,65.0,40.0,35.0,15.0,90.0,45.0,30.0,14.0,100.0,50.0,10.0,65.0,40.0,12.0,75.0,30.0,35.0,17.0,105.0,25.0,20.0,12.0,85.0,43.0,8.0,17.0,80.0,30.0,95.0,27.0,11.0,95.0,45.0,60.0,22.0,9.0,90.0,50.0,25.0,15.0,100.0,37.0,30.0,80.0,12.0,85.0,33.0,27.0,65.0,15.0,42.0,22.0,18.0,48.0,12.0,72.0,22.0,21.0,55.0,42.0,12.0,78.0,27.0,48.0,21.0,65.0,13.0,17.0,24.0,30.0,38.0,75.0,23.0,13.0,37.0,20.0,33.0,60.0,22.0,20.0,37.0,45.0,18.0,83.0,30.0,10.0,55.0,37.0,23.0,70.0,35.0,14.0,50.0,18.0,40.0,50.0,30.0,20.0,110.0,10.0,65.0,40.0,35.0,15.0,90.0,45.0,30.0,14.0,100.0,50.0,10.0,65.0,40.0,12.0,75.0,30.0,35.0,17.0,105.0,25.0,20.0,12.0,85.0,43.0,8.0,17.0,80.0,30.0,95.0,27.0,11.0,95.0,45.0,60.0,22.0,9.0,90.0,50.0,25.0,15.0,100.0,37.0,30.0,80.0,12.0,85.0,33.0,27.0,65.0,15.0,42.0,22.0,18.0,48.0,12.0,72.0,22.0,21.0,55.0,42.0,12.0,78.0,27.0,48.0,21.0,65.0,13.0,17.0,24.0,30.0,38.0,75.0,23.0,13.0,37.0,20.0,33.0,60.0,22.0,20.0,37.0,45.0,18.0,83.0,30.0,10.0,55.0,37.0,23.0,70.0,35.0,14.0,50.0,18.0,40.0],\"xaxis\":\"x\",\"yaxis\":\"y\",\"type\":\"histogram\"}],                        {\"template\":{\"data\":{\"histogram2dcontour\":[{\"type\":\"histogram2dcontour\",\"colorbar\":{\"outlinewidth\":0,\"ticks\":\"\"},\"colorscale\":[[0.0,\"#0d0887\"],[0.1111111111111111,\"#46039f\"],[0.2222222222222222,\"#7201a8\"],[0.3333333333333333,\"#9c179e\"],[0.4444444444444444,\"#bd3786\"],[0.5555555555555556,\"#d8576b\"],[0.6666666666666666,\"#ed7953\"],[0.7777777777777778,\"#fb9f3a\"],[0.8888888888888888,\"#fdca26\"],[1.0,\"#f0f921\"]]}],\"choropleth\":[{\"type\":\"choropleth\",\"colorbar\":{\"outlinewidth\":0,\"ticks\":\"\"}}],\"histogram2d\":[{\"type\":\"histogram2d\",\"colorbar\":{\"outlinewidth\":0,\"ticks\":\"\"},\"colorscale\":[[0.0,\"#0d0887\"],[0.1111111111111111,\"#46039f\"],[0.2222222222222222,\"#7201a8\"],[0.3333333333333333,\"#9c179e\"],[0.4444444444444444,\"#bd3786\"],[0.5555555555555556,\"#d8576b\"],[0.6666666666666666,\"#ed7953\"],[0.7777777777777778,\"#fb9f3a\"],[0.8888888888888888,\"#fdca26\"],[1.0,\"#f0f921\"]]}],\"heatmap\":[{\"type\":\"heatmap\",\"colorbar\":{\"outlinewidth\":0,\"ticks\":\"\"},\"colorscale\":[[0.0,\"#0d0887\"],[0.1111111111111111,\"#46039f\"],[0.2222222222222222,\"#7201a8\"],[0.3333333333333333,\"#9c179e\"],[0.4444444444444444,\"#bd3786\"],[0.5555555555555556,\"#d8576b\"],[0.6666666666666666,\"#ed7953\"],[0.7777777777777778,\"#fb9f3a\"],[0.8888888888888888,\"#fdca26\"],[1.0,\"#f0f921\"]]}],\"heatmapgl\":[{\"type\":\"heatmapgl\",\"colorbar\":{\"outlinewidth\":0,\"ticks\":\"\"},\"colorscale\":[[0.0,\"#0d0887\"],[0.1111111111111111,\"#46039f\"],[0.2222222222222222,\"#7201a8\"],[0.3333333333333333,\"#9c179e\"],[0.4444444444444444,\"#bd3786\"],[0.5555555555555556,\"#d8576b\"],[0.6666666666666666,\"#ed7953\"],[0.7777777777777778,\"#fb9f3a\"],[0.8888888888888888,\"#fdca26\"],[1.0,\"#f0f921\"]]}],\"contourcarpet\":[{\"type\":\"contourcarpet\",\"colorbar\":{\"outlinewidth\":0,\"ticks\":\"\"}}],\"contour\":[{\"type\":\"contour\",\"colorbar\":{\"outlinewidth\":0,\"ticks\":\"\"},\"colorscale\":[[0.0,\"#0d0887\"],[0.1111111111111111,\"#46039f\"],[0.2222222222222222,\"#7201a8\"],[0.3333333333333333,\"#9c179e\"],[0.4444444444444444,\"#bd3786\"],[0.5555555555555556,\"#d8576b\"],[0.6666666666666666,\"#ed7953\"],[0.7777777777777778,\"#fb9f3a\"],[0.8888888888888888,\"#fdca26\"],[1.0,\"#f0f921\"]]}],\"surface\":[{\"type\":\"surface\",\"colorbar\":{\"outlinewidth\":0,\"ticks\":\"\"},\"colorscale\":[[0.0,\"#0d0887\"],[0.1111111111111111,\"#46039f\"],[0.2222222222222222,\"#7201a8\"],[0.3333333333333333,\"#9c179e\"],[0.4444444444444444,\"#bd3786\"],[0.5555555555555556,\"#d8576b\"],[0.6666666666666666,\"#ed7953\"],[0.7777777777777778,\"#fb9f3a\"],[0.8888888888888888,\"#fdca26\"],[1.0,\"#f0f921\"]]}],\"mesh3d\":[{\"type\":\"mesh3d\",\"colorbar\":{\"outlinewidth\":0,\"ticks\":\"\"}}],\"scatter\":[{\"fillpattern\":{\"fillmode\":\"overlay\",\"size\":10,\"solidity\":0.2},\"type\":\"scatter\"}],\"parcoords\":[{\"type\":\"parcoords\",\"line\":{\"colorbar\":{\"outlinewidth\":0,\"ticks\":\"\"}}}],\"scatterpolargl\":[{\"type\":\"scatterpolargl\",\"marker\":{\"colorbar\":{\"outlinewidth\":0,\"ticks\":\"\"}}}],\"bar\":[{\"error_x\":{\"color\":\"#2a3f5f\"},\"error_y\":{\"color\":\"#2a3f5f\"},\"marker\":{\"line\":{\"color\":\"#E5ECF6\",\"width\":0.5},\"pattern\":{\"fillmode\":\"overlay\",\"size\":10,\"solidity\":0.2}},\"type\":\"bar\"}],\"scattergeo\":[{\"type\":\"scattergeo\",\"marker\":{\"colorbar\":{\"outlinewidth\":0,\"ticks\":\"\"}}}],\"scatterpolar\":[{\"type\":\"scatterpolar\",\"marker\":{\"colorbar\":{\"outlinewidth\":0,\"ticks\":\"\"}}}],\"histogram\":[{\"marker\":{\"pattern\":{\"fillmode\":\"overlay\",\"size\":10,\"solidity\":0.2}},\"type\":\"histogram\"}],\"scattergl\":[{\"type\":\"scattergl\",\"marker\":{\"colorbar\":{\"outlinewidth\":0,\"ticks\":\"\"}}}],\"scatter3d\":[{\"type\":\"scatter3d\",\"line\":{\"colorbar\":{\"outlinewidth\":0,\"ticks\":\"\"}},\"marker\":{\"colorbar\":{\"outlinewidth\":0,\"ticks\":\"\"}}}],\"scattermapbox\":[{\"type\":\"scattermapbox\",\"marker\":{\"colorbar\":{\"outlinewidth\":0,\"ticks\":\"\"}}}],\"scatterternary\":[{\"type\":\"scatterternary\",\"marker\":{\"colorbar\":{\"outlinewidth\":0,\"ticks\":\"\"}}}],\"scattercarpet\":[{\"type\":\"scattercarpet\",\"marker\":{\"colorbar\":{\"outlinewidth\":0,\"ticks\":\"\"}}}],\"carpet\":[{\"aaxis\":{\"endlinecolor\":\"#2a3f5f\",\"gridcolor\":\"white\",\"linecolor\":\"white\",\"minorgridcolor\":\"white\",\"startlinecolor\":\"#2a3f5f\"},\"baxis\":{\"endlinecolor\":\"#2a3f5f\",\"gridcolor\":\"white\",\"linecolor\":\"white\",\"minorgridcolor\":\"white\",\"startlinecolor\":\"#2a3f5f\"},\"type\":\"carpet\"}],\"table\":[{\"cells\":{\"fill\":{\"color\":\"#EBF0F8\"},\"line\":{\"color\":\"white\"}},\"header\":{\"fill\":{\"color\":\"#C8D4E3\"},\"line\":{\"color\":\"white\"}},\"type\":\"table\"}],\"barpolar\":[{\"marker\":{\"line\":{\"color\":\"#E5ECF6\",\"width\":0.5},\"pattern\":{\"fillmode\":\"overlay\",\"size\":10,\"solidity\":0.2}},\"type\":\"barpolar\"}],\"pie\":[{\"automargin\":true,\"type\":\"pie\"}]},\"layout\":{\"autotypenumbers\":\"strict\",\"colorway\":[\"#636efa\",\"#EF553B\",\"#00cc96\",\"#ab63fa\",\"#FFA15A\",\"#19d3f3\",\"#FF6692\",\"#B6E880\",\"#FF97FF\",\"#FECB52\"],\"font\":{\"color\":\"#2a3f5f\"},\"hovermode\":\"closest\",\"hoverlabel\":{\"align\":\"left\"},\"paper_bgcolor\":\"white\",\"plot_bgcolor\":\"#E5ECF6\",\"polar\":{\"bgcolor\":\"#E5ECF6\",\"angularaxis\":{\"gridcolor\":\"white\",\"linecolor\":\"white\",\"ticks\":\"\"},\"radialaxis\":{\"gridcolor\":\"white\",\"linecolor\":\"white\",\"ticks\":\"\"}},\"ternary\":{\"bgcolor\":\"#E5ECF6\",\"aaxis\":{\"gridcolor\":\"white\",\"linecolor\":\"white\",\"ticks\":\"\"},\"baxis\":{\"gridcolor\":\"white\",\"linecolor\":\"white\",\"ticks\":\"\"},\"caxis\":{\"gridcolor\":\"white\",\"linecolor\":\"white\",\"ticks\":\"\"}},\"coloraxis\":{\"colorbar\":{\"outlinewidth\":0,\"ticks\":\"\"}},\"colorscale\":{\"sequential\":[[0.0,\"#0d0887\"],[0.1111111111111111,\"#46039f\"],[0.2222222222222222,\"#7201a8\"],[0.3333333333333333,\"#9c179e\"],[0.4444444444444444,\"#bd3786\"],[0.5555555555555556,\"#d8576b\"],[0.6666666666666666,\"#ed7953\"],[0.7777777777777778,\"#fb9f3a\"],[0.8888888888888888,\"#fdca26\"],[1.0,\"#f0f921\"]],\"sequentialminus\":[[0.0,\"#0d0887\"],[0.1111111111111111,\"#46039f\"],[0.2222222222222222,\"#7201a8\"],[0.3333333333333333,\"#9c179e\"],[0.4444444444444444,\"#bd3786\"],[0.5555555555555556,\"#d8576b\"],[0.6666666666666666,\"#ed7953\"],[0.7777777777777778,\"#fb9f3a\"],[0.8888888888888888,\"#fdca26\"],[1.0,\"#f0f921\"]],\"diverging\":[[0,\"#8e0152\"],[0.1,\"#c51b7d\"],[0.2,\"#de77ae\"],[0.3,\"#f1b6da\"],[0.4,\"#fde0ef\"],[0.5,\"#f7f7f7\"],[0.6,\"#e6f5d0\"],[0.7,\"#b8e186\"],[0.8,\"#7fbc41\"],[0.9,\"#4d9221\"],[1,\"#276419\"]]},\"xaxis\":{\"gridcolor\":\"white\",\"linecolor\":\"white\",\"ticks\":\"\",\"title\":{\"standoff\":15},\"zerolinecolor\":\"white\",\"automargin\":true,\"zerolinewidth\":2},\"yaxis\":{\"gridcolor\":\"white\",\"linecolor\":\"white\",\"ticks\":\"\",\"title\":{\"standoff\":15},\"zerolinecolor\":\"white\",\"automargin\":true,\"zerolinewidth\":2},\"scene\":{\"xaxis\":{\"backgroundcolor\":\"#E5ECF6\",\"gridcolor\":\"white\",\"linecolor\":\"white\",\"showbackground\":true,\"ticks\":\"\",\"zerolinecolor\":\"white\",\"gridwidth\":2},\"yaxis\":{\"backgroundcolor\":\"#E5ECF6\",\"gridcolor\":\"white\",\"linecolor\":\"white\",\"showbackground\":true,\"ticks\":\"\",\"zerolinecolor\":\"white\",\"gridwidth\":2},\"zaxis\":{\"backgroundcolor\":\"#E5ECF6\",\"gridcolor\":\"white\",\"linecolor\":\"white\",\"showbackground\":true,\"ticks\":\"\",\"zerolinecolor\":\"white\",\"gridwidth\":2}},\"shapedefaults\":{\"line\":{\"color\":\"#2a3f5f\"}},\"annotationdefaults\":{\"arrowcolor\":\"#2a3f5f\",\"arrowhead\":0,\"arrowwidth\":1},\"geo\":{\"bgcolor\":\"white\",\"landcolor\":\"#E5ECF6\",\"subunitcolor\":\"white\",\"showland\":true,\"showlakes\":true,\"lakecolor\":\"white\"},\"title\":{\"x\":0.05},\"mapbox\":{\"style\":\"light\"}}},\"xaxis\":{\"anchor\":\"y\",\"domain\":[0.0,1.0],\"title\":{\"text\":\"Likes_Received_Per_Day\"}},\"yaxis\":{\"anchor\":\"x\",\"domain\":[0.0,1.0],\"title\":{\"text\":\"count\"}},\"legend\":{\"tracegroupgap\":0},\"title\":{\"text\":\"Posts Per Day Distribution\"},\"barmode\":\"relative\"},                        {\"responsive\": true}                    ).then(function(){\n",
              "                            \n",
              "var gd = document.getElementById('6539f655-1a22-4c82-97c3-8199a36f2160');\n",
              "var x = new MutationObserver(function (mutations, observer) {{\n",
              "        var display = window.getComputedStyle(gd).display;\n",
              "        if (!display || display === 'none') {{\n",
              "            console.log([gd, 'removed!']);\n",
              "            Plotly.purge(gd);\n",
              "            observer.disconnect();\n",
              "        }}\n",
              "}});\n",
              "\n",
              "// Listen for the removal of the full notebook cells\n",
              "var notebookContainer = gd.closest('#notebook-container');\n",
              "if (notebookContainer) {{\n",
              "    x.observe(notebookContainer, {childList: true});\n",
              "}}\n",
              "\n",
              "// Listen for the clearing of the current output cell\n",
              "var outputEl = gd.closest('.output');\n",
              "if (outputEl) {{\n",
              "    x.observe(outputEl, {childList: true});\n",
              "}}\n",
              "\n",
              "                        })                };                            </script>        </div>\n",
              "</body>\n",
              "</html>"
            ]
          },
          "metadata": {}
        }
      ]
    },
    {
      "cell_type": "markdown",
      "source": [
        "Comments Per Day Distribution:"
      ],
      "metadata": {
        "id": "cgoi5CCWJQ-S"
      }
    },
    {
      "cell_type": "code",
      "source": [
        "train_df['Comments_Received_Per_Day'].unique()"
      ],
      "metadata": {
        "colab": {
          "base_uri": "https://localhost:8080/"
        },
        "id": "-f2ilb0_JObh",
        "outputId": "08a9d191-b37c-49eb-bdaf-f904b96cd4b8"
      },
      "execution_count": 76,
      "outputs": [
        {
          "output_type": "execute_result",
          "data": {
            "text/plain": [
              "array([10., 25.,  5., 30.,  2., 15., 12.,  3., 20.,  7.,  4., 23., 18.,\n",
              "       22., 14., 26.,  8., 19., 17., 11.,  6.,  9., 13., 40., 16., 35.,\n",
              "       38., 28., 36., 33., nan])"
            ]
          },
          "metadata": {},
          "execution_count": 76
        }
      ]
    },
    {
      "cell_type": "code",
      "source": [
        "# filling with mode\n",
        "train_df['Comments_Received_Per_Day'].fillna(train_df['Comments_Received_Per_Day'].mode()[0], inplace=True)"
      ],
      "metadata": {
        "id": "n3uQvmPgJYHb"
      },
      "execution_count": 77,
      "outputs": []
    },
    {
      "cell_type": "code",
      "source": [
        "train_df['Comments_Received_Per_Day'].unique()"
      ],
      "metadata": {
        "colab": {
          "base_uri": "https://localhost:8080/"
        },
        "id": "6IaRWwJgJbT1",
        "outputId": "9ac05e48-a8f3-40e7-f691-6d8abfecf245"
      },
      "execution_count": 78,
      "outputs": [
        {
          "output_type": "execute_result",
          "data": {
            "text/plain": [
              "array([10., 25.,  5., 30.,  2., 15., 12.,  3., 20.,  7.,  4., 23., 18.,\n",
              "       22., 14., 26.,  8., 19., 17., 11.,  6.,  9., 13., 40., 16., 35.,\n",
              "       38., 28., 36., 33.])"
            ]
          },
          "metadata": {},
          "execution_count": 78
        }
      ]
    },
    {
      "cell_type": "code",
      "source": [
        "plt = px.histogram(train_df, x='Comments_Received_Per_Day', title='Posts Per Day Distribution')\n",
        "plt.show()"
      ],
      "metadata": {
        "colab": {
          "base_uri": "https://localhost:8080/",
          "height": 542
        },
        "id": "_W4eqEXYJkOh",
        "outputId": "5155c8c3-b4da-46c0-d243-a9d8a9a158a5"
      },
      "execution_count": 79,
      "outputs": [
        {
          "output_type": "display_data",
          "data": {
            "text/html": [
              "<html>\n",
              "<head><meta charset=\"utf-8\" /></head>\n",
              "<body>\n",
              "    <div>            <script src=\"https://cdnjs.cloudflare.com/ajax/libs/mathjax/2.7.5/MathJax.js?config=TeX-AMS-MML_SVG\"></script><script type=\"text/javascript\">if (window.MathJax && window.MathJax.Hub && window.MathJax.Hub.Config) {window.MathJax.Hub.Config({SVG: {font: \"STIX-Web\"}});}</script>                <script type=\"text/javascript\">window.PlotlyConfig = {MathJaxConfig: 'local'};</script>\n",
              "        <script charset=\"utf-8\" src=\"https://cdn.plot.ly/plotly-2.24.1.min.js\"></script>                <div id=\"31024c47-f94b-41e5-846e-c9d51f484723\" class=\"plotly-graph-div\" style=\"height:525px; width:100%;\"></div>            <script type=\"text/javascript\">                                    window.PLOTLYENV=window.PLOTLYENV || {};                                    if (document.getElementById(\"31024c47-f94b-41e5-846e-c9d51f484723\")) {                    Plotly.newPlot(                        \"31024c47-f94b-41e5-846e-c9d51f484723\",                        [{\"alignmentgroup\":\"True\",\"bingroup\":\"x\",\"hovertemplate\":\"Comments_Received_Per_Day=%{x}\\u003cbr\\u003ecount=%{y}\\u003cextra\\u003e\\u003c\\u002fextra\\u003e\",\"legendgroup\":\"\",\"marker\":{\"color\":\"#636efa\",\"pattern\":{\"shape\":\"\"}},\"name\":\"\",\"offsetgroup\":\"\",\"orientation\":\"v\",\"showlegend\":false,\"x\":[10.0,25.0,5.0,30.0,2.0,15.0,10.0,12.0,3.0,20.0,7.0,10.0,4.0,25.0,23.0,2.0,18.0,15.0,3.0,22.0,10.0,14.0,5.0,26.0,12.0,8.0,2.0,19.0,17.0,3.0,4.0,20.0,11.0,15.0,8.0,5.0,25.0,15.0,12.0,10.0,2.0,18.0,20.0,8.0,5.0,23.0,12.0,11.0,19.0,4.0,22.0,15.0,7.0,18.0,3.0,8.0,10.0,5.0,20.0,4.0,23.0,8.0,7.0,15.0,12.0,2.0,18.0,8.0,15.0,6.0,18.0,7.0,5.0,9.0,11.0,12.0,20.0,10.0,5.0,14.0,6.0,13.0,19.0,5.0,8.0,12.0,15.0,5.0,22.0,10.0,2.0,18.0,13.0,7.0,20.0,13.0,5.0,20.0,6.0,13.0,20.0,20.0,10.0,40.0,5.0,25.0,18.0,16.0,5.0,35.0,20.0,14.0,6.0,38.0,30.0,4.0,22.0,16.0,6.0,28.0,14.0,20.0,8.0,36.0,16.0,10.0,5.0,26.0,19.0,4.0,5.0,30.0,14.0,22.0,11.0,6.0,30.0,18.0,17.0,12.0,4.0,26.0,22.0,12.0,7.0,33.0,14.0,12.0,28.0,6.0,30.0,18.0,9.0,23.0,7.0,10.0,11.0,7.0,22.0,5.0,30.0,10.0,8.0,18.0,14.0,4.0,23.0,10.0,20.0,8.0,22.0,8.0,7.0,12.0,13.0,18.0,25.0,12.0,7.0,18.0,10.0,20.0,25.0,7.0,8.0,14.0,20.0,7.0,30.0,12.0,4.0,25.0,16.0,10.0,25.0,18.0,6.0,25.0,8.0,18.0,20.0,20.0,10.0,40.0,5.0,25.0,18.0,16.0,5.0,35.0,20.0,14.0,6.0,38.0,30.0,4.0,22.0,16.0,6.0,28.0,14.0,20.0,8.0,36.0,16.0,10.0,5.0,26.0,19.0,4.0,5.0,30.0,14.0,22.0,11.0,6.0,30.0,18.0,17.0,12.0,4.0,26.0,22.0,12.0,7.0,33.0,14.0,12.0,28.0,6.0,30.0,18.0,9.0,23.0,7.0,10.0,11.0,7.0,22.0,5.0,30.0,10.0,8.0,18.0,14.0,4.0,23.0,10.0,20.0,8.0,22.0,8.0,7.0,12.0,13.0,18.0,25.0,12.0,7.0,18.0,10.0,20.0,25.0,7.0,8.0,14.0,20.0,7.0,30.0,12.0,4.0,25.0,16.0,10.0,25.0,18.0,6.0,25.0,8.0,18.0,20.0,20.0,10.0,40.0,5.0,25.0,18.0,16.0,5.0,35.0,20.0,14.0,6.0,38.0,30.0,4.0,22.0,16.0,6.0,28.0,14.0,20.0,8.0,36.0,16.0,10.0,5.0,26.0,19.0,4.0,5.0,30.0,14.0,22.0,11.0,6.0,30.0,18.0,17.0,12.0,4.0,26.0,22.0,12.0,7.0,33.0,14.0,12.0,28.0,6.0,30.0,18.0,9.0,23.0,7.0,10.0,11.0,7.0,22.0,5.0,30.0,10.0,8.0,18.0,14.0,4.0,23.0,10.0,20.0,8.0,22.0,8.0,7.0,12.0,13.0,18.0,25.0,12.0,7.0,18.0,10.0,20.0,25.0,7.0,8.0,14.0,20.0,7.0,30.0,12.0,4.0,25.0,16.0,10.0,25.0,18.0,6.0,25.0,8.0,18.0,20.0,20.0,10.0,40.0,5.0,25.0,18.0,16.0,5.0,35.0,20.0,14.0,6.0,38.0,30.0,4.0,22.0,16.0,6.0,28.0,14.0,20.0,8.0,36.0,16.0,10.0,5.0,26.0,19.0,4.0,5.0,30.0,14.0,22.0,11.0,6.0,30.0,18.0,17.0,12.0,4.0,26.0,22.0,12.0,7.0,33.0,14.0,12.0,28.0,6.0,30.0,18.0,9.0,23.0,7.0,10.0,11.0,7.0,22.0,5.0,30.0,10.0,8.0,18.0,14.0,4.0,23.0,10.0,20.0,8.0,22.0,8.0,7.0,12.0,13.0,18.0,25.0,12.0,7.0,18.0,10.0,20.0,25.0,7.0,8.0,14.0,20.0,7.0,30.0,12.0,4.0,25.0,16.0,10.0,25.0,18.0,6.0,25.0,8.0,18.0,20.0,20.0,10.0,40.0,5.0,25.0,18.0,16.0,5.0,35.0,20.0,14.0,6.0,38.0,30.0,4.0,22.0,16.0,6.0,28.0,14.0,20.0,8.0,36.0,16.0,10.0,5.0,26.0,19.0,4.0,5.0,30.0,14.0,22.0,11.0,6.0,30.0,18.0,17.0,12.0,4.0,26.0,22.0,12.0,7.0,33.0,14.0,12.0,28.0,6.0,30.0,18.0,9.0,23.0,7.0,10.0,11.0,7.0,22.0,5.0,30.0,10.0,8.0,18.0,14.0,4.0,23.0,10.0,20.0,8.0,22.0,8.0,7.0,12.0,13.0,18.0,25.0,12.0,7.0,18.0,10.0,20.0,25.0,7.0,8.0,14.0,20.0,7.0,30.0,12.0,4.0,25.0,16.0,10.0,25.0,18.0,6.0,25.0,8.0,18.0,20.0,20.0,10.0,40.0,5.0,25.0,18.0,16.0,5.0,35.0,20.0,14.0,6.0,38.0,30.0,4.0,22.0,16.0,6.0,28.0,14.0,20.0,8.0,36.0,16.0,10.0,5.0,26.0,19.0,4.0,5.0,30.0,14.0,22.0,11.0,6.0,30.0,18.0,17.0,12.0,4.0,18.0,26.0,22.0,12.0,7.0,33.0,14.0,12.0,28.0,6.0,30.0,18.0,9.0,23.0,7.0,10.0,11.0,7.0,22.0,5.0,30.0,10.0,8.0,18.0,14.0,4.0,23.0,10.0,20.0,8.0,22.0,8.0,7.0,12.0,13.0,18.0,25.0,12.0,7.0,18.0,10.0,20.0,25.0,7.0,8.0,14.0,20.0,7.0,30.0,12.0,4.0,25.0,16.0,10.0,25.0,18.0,6.0,25.0,8.0,18.0,20.0,20.0,10.0,40.0,5.0,25.0,18.0,16.0,5.0,35.0,20.0,14.0,6.0,38.0,30.0,4.0,22.0,16.0,6.0,28.0,14.0,20.0,8.0,36.0,16.0,10.0,5.0,26.0,19.0,4.0,5.0,30.0,14.0,22.0,11.0,6.0,30.0,18.0,17.0,12.0,4.0,26.0,22.0,12.0,7.0,33.0,14.0,12.0,28.0,6.0,30.0,18.0,9.0,23.0,7.0,10.0,11.0,7.0,22.0,5.0,30.0,10.0,8.0,18.0,14.0,4.0,23.0,10.0,20.0,8.0,22.0,8.0,7.0,12.0,13.0,18.0,25.0,12.0,7.0,18.0,10.0,20.0,25.0,7.0,8.0,14.0,20.0,7.0,30.0,12.0,4.0,25.0,16.0,10.0,25.0,18.0,6.0,25.0,8.0,18.0,20.0,20.0,10.0,40.0,5.0,25.0,18.0,16.0,5.0,35.0,20.0,14.0,6.0,38.0,30.0,4.0,22.0,16.0,6.0,28.0,14.0,20.0,8.0,36.0,16.0,10.0,5.0,26.0,19.0,4.0,5.0,30.0,14.0,22.0,11.0,6.0,30.0,18.0,17.0,12.0,4.0,26.0,22.0,12.0,7.0,33.0,14.0,12.0,28.0,6.0,30.0,18.0,9.0,23.0,7.0,10.0,11.0,7.0,22.0,5.0,30.0,10.0,8.0,18.0,14.0,4.0,23.0,10.0,20.0,8.0,22.0,8.0,7.0,12.0,13.0,18.0,25.0,12.0,7.0,18.0,10.0,20.0,25.0,7.0,8.0,14.0,20.0,7.0,30.0,12.0,4.0,25.0,16.0,10.0,25.0,18.0,6.0,25.0,8.0,18.0,20.0,20.0,10.0,40.0,5.0,25.0,18.0,16.0,5.0,35.0,20.0,14.0,6.0,38.0,30.0,4.0,22.0,16.0,6.0,28.0,14.0,20.0,8.0,36.0,16.0,10.0,5.0,26.0,19.0,4.0,5.0,30.0,14.0,22.0,11.0,6.0,30.0,18.0,17.0,12.0,4.0,26.0,22.0,12.0,7.0,33.0,14.0,12.0,28.0,6.0,30.0,18.0,9.0,23.0,7.0,10.0,11.0,7.0,22.0,5.0,30.0,10.0,8.0,18.0,14.0,4.0,23.0,10.0,20.0,8.0,22.0,8.0,7.0,12.0,13.0,18.0,25.0,12.0,7.0,18.0,10.0,20.0,25.0,7.0,8.0,14.0,20.0,7.0,30.0,12.0,4.0,25.0,16.0,10.0,25.0,18.0,6.0,25.0,8.0,18.0],\"xaxis\":\"x\",\"yaxis\":\"y\",\"type\":\"histogram\"}],                        {\"template\":{\"data\":{\"histogram2dcontour\":[{\"type\":\"histogram2dcontour\",\"colorbar\":{\"outlinewidth\":0,\"ticks\":\"\"},\"colorscale\":[[0.0,\"#0d0887\"],[0.1111111111111111,\"#46039f\"],[0.2222222222222222,\"#7201a8\"],[0.3333333333333333,\"#9c179e\"],[0.4444444444444444,\"#bd3786\"],[0.5555555555555556,\"#d8576b\"],[0.6666666666666666,\"#ed7953\"],[0.7777777777777778,\"#fb9f3a\"],[0.8888888888888888,\"#fdca26\"],[1.0,\"#f0f921\"]]}],\"choropleth\":[{\"type\":\"choropleth\",\"colorbar\":{\"outlinewidth\":0,\"ticks\":\"\"}}],\"histogram2d\":[{\"type\":\"histogram2d\",\"colorbar\":{\"outlinewidth\":0,\"ticks\":\"\"},\"colorscale\":[[0.0,\"#0d0887\"],[0.1111111111111111,\"#46039f\"],[0.2222222222222222,\"#7201a8\"],[0.3333333333333333,\"#9c179e\"],[0.4444444444444444,\"#bd3786\"],[0.5555555555555556,\"#d8576b\"],[0.6666666666666666,\"#ed7953\"],[0.7777777777777778,\"#fb9f3a\"],[0.8888888888888888,\"#fdca26\"],[1.0,\"#f0f921\"]]}],\"heatmap\":[{\"type\":\"heatmap\",\"colorbar\":{\"outlinewidth\":0,\"ticks\":\"\"},\"colorscale\":[[0.0,\"#0d0887\"],[0.1111111111111111,\"#46039f\"],[0.2222222222222222,\"#7201a8\"],[0.3333333333333333,\"#9c179e\"],[0.4444444444444444,\"#bd3786\"],[0.5555555555555556,\"#d8576b\"],[0.6666666666666666,\"#ed7953\"],[0.7777777777777778,\"#fb9f3a\"],[0.8888888888888888,\"#fdca26\"],[1.0,\"#f0f921\"]]}],\"heatmapgl\":[{\"type\":\"heatmapgl\",\"colorbar\":{\"outlinewidth\":0,\"ticks\":\"\"},\"colorscale\":[[0.0,\"#0d0887\"],[0.1111111111111111,\"#46039f\"],[0.2222222222222222,\"#7201a8\"],[0.3333333333333333,\"#9c179e\"],[0.4444444444444444,\"#bd3786\"],[0.5555555555555556,\"#d8576b\"],[0.6666666666666666,\"#ed7953\"],[0.7777777777777778,\"#fb9f3a\"],[0.8888888888888888,\"#fdca26\"],[1.0,\"#f0f921\"]]}],\"contourcarpet\":[{\"type\":\"contourcarpet\",\"colorbar\":{\"outlinewidth\":0,\"ticks\":\"\"}}],\"contour\":[{\"type\":\"contour\",\"colorbar\":{\"outlinewidth\":0,\"ticks\":\"\"},\"colorscale\":[[0.0,\"#0d0887\"],[0.1111111111111111,\"#46039f\"],[0.2222222222222222,\"#7201a8\"],[0.3333333333333333,\"#9c179e\"],[0.4444444444444444,\"#bd3786\"],[0.5555555555555556,\"#d8576b\"],[0.6666666666666666,\"#ed7953\"],[0.7777777777777778,\"#fb9f3a\"],[0.8888888888888888,\"#fdca26\"],[1.0,\"#f0f921\"]]}],\"surface\":[{\"type\":\"surface\",\"colorbar\":{\"outlinewidth\":0,\"ticks\":\"\"},\"colorscale\":[[0.0,\"#0d0887\"],[0.1111111111111111,\"#46039f\"],[0.2222222222222222,\"#7201a8\"],[0.3333333333333333,\"#9c179e\"],[0.4444444444444444,\"#bd3786\"],[0.5555555555555556,\"#d8576b\"],[0.6666666666666666,\"#ed7953\"],[0.7777777777777778,\"#fb9f3a\"],[0.8888888888888888,\"#fdca26\"],[1.0,\"#f0f921\"]]}],\"mesh3d\":[{\"type\":\"mesh3d\",\"colorbar\":{\"outlinewidth\":0,\"ticks\":\"\"}}],\"scatter\":[{\"fillpattern\":{\"fillmode\":\"overlay\",\"size\":10,\"solidity\":0.2},\"type\":\"scatter\"}],\"parcoords\":[{\"type\":\"parcoords\",\"line\":{\"colorbar\":{\"outlinewidth\":0,\"ticks\":\"\"}}}],\"scatterpolargl\":[{\"type\":\"scatterpolargl\",\"marker\":{\"colorbar\":{\"outlinewidth\":0,\"ticks\":\"\"}}}],\"bar\":[{\"error_x\":{\"color\":\"#2a3f5f\"},\"error_y\":{\"color\":\"#2a3f5f\"},\"marker\":{\"line\":{\"color\":\"#E5ECF6\",\"width\":0.5},\"pattern\":{\"fillmode\":\"overlay\",\"size\":10,\"solidity\":0.2}},\"type\":\"bar\"}],\"scattergeo\":[{\"type\":\"scattergeo\",\"marker\":{\"colorbar\":{\"outlinewidth\":0,\"ticks\":\"\"}}}],\"scatterpolar\":[{\"type\":\"scatterpolar\",\"marker\":{\"colorbar\":{\"outlinewidth\":0,\"ticks\":\"\"}}}],\"histogram\":[{\"marker\":{\"pattern\":{\"fillmode\":\"overlay\",\"size\":10,\"solidity\":0.2}},\"type\":\"histogram\"}],\"scattergl\":[{\"type\":\"scattergl\",\"marker\":{\"colorbar\":{\"outlinewidth\":0,\"ticks\":\"\"}}}],\"scatter3d\":[{\"type\":\"scatter3d\",\"line\":{\"colorbar\":{\"outlinewidth\":0,\"ticks\":\"\"}},\"marker\":{\"colorbar\":{\"outlinewidth\":0,\"ticks\":\"\"}}}],\"scattermapbox\":[{\"type\":\"scattermapbox\",\"marker\":{\"colorbar\":{\"outlinewidth\":0,\"ticks\":\"\"}}}],\"scatterternary\":[{\"type\":\"scatterternary\",\"marker\":{\"colorbar\":{\"outlinewidth\":0,\"ticks\":\"\"}}}],\"scattercarpet\":[{\"type\":\"scattercarpet\",\"marker\":{\"colorbar\":{\"outlinewidth\":0,\"ticks\":\"\"}}}],\"carpet\":[{\"aaxis\":{\"endlinecolor\":\"#2a3f5f\",\"gridcolor\":\"white\",\"linecolor\":\"white\",\"minorgridcolor\":\"white\",\"startlinecolor\":\"#2a3f5f\"},\"baxis\":{\"endlinecolor\":\"#2a3f5f\",\"gridcolor\":\"white\",\"linecolor\":\"white\",\"minorgridcolor\":\"white\",\"startlinecolor\":\"#2a3f5f\"},\"type\":\"carpet\"}],\"table\":[{\"cells\":{\"fill\":{\"color\":\"#EBF0F8\"},\"line\":{\"color\":\"white\"}},\"header\":{\"fill\":{\"color\":\"#C8D4E3\"},\"line\":{\"color\":\"white\"}},\"type\":\"table\"}],\"barpolar\":[{\"marker\":{\"line\":{\"color\":\"#E5ECF6\",\"width\":0.5},\"pattern\":{\"fillmode\":\"overlay\",\"size\":10,\"solidity\":0.2}},\"type\":\"barpolar\"}],\"pie\":[{\"automargin\":true,\"type\":\"pie\"}]},\"layout\":{\"autotypenumbers\":\"strict\",\"colorway\":[\"#636efa\",\"#EF553B\",\"#00cc96\",\"#ab63fa\",\"#FFA15A\",\"#19d3f3\",\"#FF6692\",\"#B6E880\",\"#FF97FF\",\"#FECB52\"],\"font\":{\"color\":\"#2a3f5f\"},\"hovermode\":\"closest\",\"hoverlabel\":{\"align\":\"left\"},\"paper_bgcolor\":\"white\",\"plot_bgcolor\":\"#E5ECF6\",\"polar\":{\"bgcolor\":\"#E5ECF6\",\"angularaxis\":{\"gridcolor\":\"white\",\"linecolor\":\"white\",\"ticks\":\"\"},\"radialaxis\":{\"gridcolor\":\"white\",\"linecolor\":\"white\",\"ticks\":\"\"}},\"ternary\":{\"bgcolor\":\"#E5ECF6\",\"aaxis\":{\"gridcolor\":\"white\",\"linecolor\":\"white\",\"ticks\":\"\"},\"baxis\":{\"gridcolor\":\"white\",\"linecolor\":\"white\",\"ticks\":\"\"},\"caxis\":{\"gridcolor\":\"white\",\"linecolor\":\"white\",\"ticks\":\"\"}},\"coloraxis\":{\"colorbar\":{\"outlinewidth\":0,\"ticks\":\"\"}},\"colorscale\":{\"sequential\":[[0.0,\"#0d0887\"],[0.1111111111111111,\"#46039f\"],[0.2222222222222222,\"#7201a8\"],[0.3333333333333333,\"#9c179e\"],[0.4444444444444444,\"#bd3786\"],[0.5555555555555556,\"#d8576b\"],[0.6666666666666666,\"#ed7953\"],[0.7777777777777778,\"#fb9f3a\"],[0.8888888888888888,\"#fdca26\"],[1.0,\"#f0f921\"]],\"sequentialminus\":[[0.0,\"#0d0887\"],[0.1111111111111111,\"#46039f\"],[0.2222222222222222,\"#7201a8\"],[0.3333333333333333,\"#9c179e\"],[0.4444444444444444,\"#bd3786\"],[0.5555555555555556,\"#d8576b\"],[0.6666666666666666,\"#ed7953\"],[0.7777777777777778,\"#fb9f3a\"],[0.8888888888888888,\"#fdca26\"],[1.0,\"#f0f921\"]],\"diverging\":[[0,\"#8e0152\"],[0.1,\"#c51b7d\"],[0.2,\"#de77ae\"],[0.3,\"#f1b6da\"],[0.4,\"#fde0ef\"],[0.5,\"#f7f7f7\"],[0.6,\"#e6f5d0\"],[0.7,\"#b8e186\"],[0.8,\"#7fbc41\"],[0.9,\"#4d9221\"],[1,\"#276419\"]]},\"xaxis\":{\"gridcolor\":\"white\",\"linecolor\":\"white\",\"ticks\":\"\",\"title\":{\"standoff\":15},\"zerolinecolor\":\"white\",\"automargin\":true,\"zerolinewidth\":2},\"yaxis\":{\"gridcolor\":\"white\",\"linecolor\":\"white\",\"ticks\":\"\",\"title\":{\"standoff\":15},\"zerolinecolor\":\"white\",\"automargin\":true,\"zerolinewidth\":2},\"scene\":{\"xaxis\":{\"backgroundcolor\":\"#E5ECF6\",\"gridcolor\":\"white\",\"linecolor\":\"white\",\"showbackground\":true,\"ticks\":\"\",\"zerolinecolor\":\"white\",\"gridwidth\":2},\"yaxis\":{\"backgroundcolor\":\"#E5ECF6\",\"gridcolor\":\"white\",\"linecolor\":\"white\",\"showbackground\":true,\"ticks\":\"\",\"zerolinecolor\":\"white\",\"gridwidth\":2},\"zaxis\":{\"backgroundcolor\":\"#E5ECF6\",\"gridcolor\":\"white\",\"linecolor\":\"white\",\"showbackground\":true,\"ticks\":\"\",\"zerolinecolor\":\"white\",\"gridwidth\":2}},\"shapedefaults\":{\"line\":{\"color\":\"#2a3f5f\"}},\"annotationdefaults\":{\"arrowcolor\":\"#2a3f5f\",\"arrowhead\":0,\"arrowwidth\":1},\"geo\":{\"bgcolor\":\"white\",\"landcolor\":\"#E5ECF6\",\"subunitcolor\":\"white\",\"showland\":true,\"showlakes\":true,\"lakecolor\":\"white\"},\"title\":{\"x\":0.05},\"mapbox\":{\"style\":\"light\"}}},\"xaxis\":{\"anchor\":\"y\",\"domain\":[0.0,1.0],\"title\":{\"text\":\"Comments_Received_Per_Day\"}},\"yaxis\":{\"anchor\":\"x\",\"domain\":[0.0,1.0],\"title\":{\"text\":\"count\"}},\"legend\":{\"tracegroupgap\":0},\"title\":{\"text\":\"Posts Per Day Distribution\"},\"barmode\":\"relative\"},                        {\"responsive\": true}                    ).then(function(){\n",
              "                            \n",
              "var gd = document.getElementById('31024c47-f94b-41e5-846e-c9d51f484723');\n",
              "var x = new MutationObserver(function (mutations, observer) {{\n",
              "        var display = window.getComputedStyle(gd).display;\n",
              "        if (!display || display === 'none') {{\n",
              "            console.log([gd, 'removed!']);\n",
              "            Plotly.purge(gd);\n",
              "            observer.disconnect();\n",
              "        }}\n",
              "}});\n",
              "\n",
              "// Listen for the removal of the full notebook cells\n",
              "var notebookContainer = gd.closest('#notebook-container');\n",
              "if (notebookContainer) {{\n",
              "    x.observe(notebookContainer, {childList: true});\n",
              "}}\n",
              "\n",
              "// Listen for the clearing of the current output cell\n",
              "var outputEl = gd.closest('.output');\n",
              "if (outputEl) {{\n",
              "    x.observe(outputEl, {childList: true});\n",
              "}}\n",
              "\n",
              "                        })                };                            </script>        </div>\n",
              "</body>\n",
              "</html>"
            ]
          },
          "metadata": {}
        }
      ]
    },
    {
      "cell_type": "markdown",
      "source": [
        "Messages Per Day Distribution:"
      ],
      "metadata": {
        "id": "AhlZfkmFJq2c"
      }
    },
    {
      "cell_type": "code",
      "source": [
        "plt = px.histogram(train_df, x='Messages_Sent_Per_Day', title='Posts Per Day Distribution')\n",
        "plt.show()"
      ],
      "metadata": {
        "colab": {
          "base_uri": "https://localhost:8080/",
          "height": 542
        },
        "id": "8gY14vuRJnmW",
        "outputId": "75a20739-cece-42ca-ff72-a701970a421e"
      },
      "execution_count": 80,
      "outputs": [
        {
          "output_type": "display_data",
          "data": {
            "text/html": [
              "<html>\n",
              "<head><meta charset=\"utf-8\" /></head>\n",
              "<body>\n",
              "    <div>            <script src=\"https://cdnjs.cloudflare.com/ajax/libs/mathjax/2.7.5/MathJax.js?config=TeX-AMS-MML_SVG\"></script><script type=\"text/javascript\">if (window.MathJax && window.MathJax.Hub && window.MathJax.Hub.Config) {window.MathJax.Hub.Config({SVG: {font: \"STIX-Web\"}});}</script>                <script type=\"text/javascript\">window.PlotlyConfig = {MathJaxConfig: 'local'};</script>\n",
              "        <script charset=\"utf-8\" src=\"https://cdn.plot.ly/plotly-2.24.1.min.js\"></script>                <div id=\"300d9f75-1cf2-4c45-a747-eff6214826e2\" class=\"plotly-graph-div\" style=\"height:525px; width:100%;\"></div>            <script type=\"text/javascript\">                                    window.PLOTLYENV=window.PLOTLYENV || {};                                    if (document.getElementById(\"300d9f75-1cf2-4c45-a747-eff6214826e2\")) {                    Plotly.newPlot(                        \"300d9f75-1cf2-4c45-a747-eff6214826e2\",                        [{\"alignmentgroup\":\"True\",\"bingroup\":\"x\",\"hovertemplate\":\"Messages_Sent_Per_Day=%{x}\\u003cbr\\u003ecount=%{y}\\u003cextra\\u003e\\u003c\\u002fextra\\u003e\",\"legendgroup\":\"\",\"marker\":{\"color\":\"#636efa\",\"pattern\":{\"shape\":\"\"}},\"name\":\"\",\"offsetgroup\":\"\",\"orientation\":\"v\",\"showlegend\":false,\"x\":[12.0,30.0,20.0,50.0,10.0,25.0,18.0,22.0,8.0,35.0,20.0,18.0,15.0,40.0,28.0,10.0,30.0,25.0,12.0,33.0,18.0,20.0,17.0,45.0,15.0,21.0,11.0,32.0,24.0,10.0,14.0,35.0,18.0,30.0,20.0,11.0,40.0,20.0,25.0,22.0,9.0,30.0,22.0,18.0,14.0,38.0,20.0,18.0,31.0,10.0,27.0,19.0,20.0,35.0,17.0,21.0,22.0,18.0,25.0,15.0,33.0,18.0,20.0,30.0,26.0,12.0,35.0,20.0,28.0,20.0,30.0,10.0,12.0,22.0,25.0,27.0,38.0,18.0,14.0,20.0,12.0,18.0,25.0,22.0,20.0,26.0,28.0,12.0,33.0,20.0,10.0,25.0,22.0,28.0,30.0,18.0,10.0,25.0,18.0,22.0,25.0,22.0,15.0,45.0,12.0,30.0,20.0,25.0,10.0,40.0,25.0,18.0,15.0,45.0,29.0,12.0,28.0,24.0,12.0,30.0,20.0,23.0,15.0,50.0,15.0,20.0,11.0,30.0,24.0,12.0,14.0,35.0,18.0,28.0,22.0,11.0,38.0,24.0,30.0,25.0,10.0,30.0,22.0,18.0,14.0,38.0,20.0,18.0,31.0,10.0,28.0,19.0,20.0,35.0,17.0,21.0,22.0,18.0,25.0,15.0,33.0,18.0,20.0,30.0,26.0,12.0,35.0,20.0,28.0,20.0,30.0,10.0,12.0,22.0,25.0,27.0,38.0,18.0,14.0,20.0,12.0,18.0,25.0,22.0,20.0,26.0,28.0,12.0,33.0,20.0,10.0,25.0,22.0,28.0,30.0,18.0,10.0,25.0,18.0,22.0,25.0,22.0,15.0,45.0,12.0,30.0,20.0,25.0,10.0,40.0,25.0,18.0,15.0,45.0,29.0,12.0,28.0,24.0,12.0,30.0,20.0,23.0,15.0,50.0,15.0,20.0,11.0,30.0,24.0,12.0,14.0,35.0,18.0,28.0,22.0,11.0,38.0,24.0,30.0,25.0,10.0,30.0,22.0,18.0,14.0,38.0,20.0,18.0,31.0,10.0,28.0,19.0,20.0,35.0,17.0,21.0,22.0,18.0,25.0,15.0,33.0,18.0,20.0,30.0,26.0,12.0,35.0,20.0,28.0,20.0,30.0,10.0,12.0,22.0,25.0,27.0,38.0,18.0,14.0,20.0,12.0,18.0,25.0,22.0,20.0,26.0,28.0,12.0,33.0,20.0,10.0,25.0,22.0,28.0,30.0,18.0,10.0,25.0,18.0,22.0,25.0,22.0,15.0,45.0,12.0,30.0,20.0,25.0,10.0,40.0,25.0,18.0,15.0,45.0,29.0,12.0,28.0,24.0,12.0,30.0,20.0,23.0,15.0,50.0,15.0,20.0,11.0,30.0,24.0,12.0,14.0,35.0,18.0,28.0,22.0,11.0,38.0,24.0,30.0,25.0,10.0,30.0,22.0,18.0,14.0,38.0,20.0,18.0,31.0,10.0,28.0,19.0,20.0,35.0,17.0,21.0,22.0,18.0,25.0,15.0,33.0,18.0,20.0,30.0,26.0,12.0,35.0,20.0,28.0,20.0,30.0,10.0,12.0,22.0,25.0,27.0,38.0,18.0,14.0,20.0,12.0,18.0,25.0,22.0,20.0,26.0,28.0,12.0,33.0,20.0,10.0,25.0,22.0,28.0,30.0,18.0,10.0,25.0,18.0,22.0,25.0,22.0,15.0,45.0,12.0,30.0,20.0,25.0,10.0,40.0,25.0,18.0,15.0,45.0,29.0,12.0,28.0,24.0,12.0,30.0,20.0,23.0,15.0,50.0,15.0,20.0,11.0,30.0,24.0,12.0,14.0,35.0,18.0,28.0,22.0,11.0,38.0,24.0,30.0,25.0,10.0,30.0,22.0,18.0,14.0,38.0,20.0,18.0,31.0,10.0,28.0,19.0,20.0,35.0,17.0,21.0,22.0,18.0,25.0,15.0,33.0,18.0,20.0,30.0,26.0,12.0,35.0,20.0,28.0,20.0,30.0,10.0,12.0,22.0,25.0,27.0,38.0,18.0,14.0,20.0,12.0,18.0,25.0,22.0,20.0,26.0,28.0,12.0,33.0,20.0,10.0,25.0,22.0,28.0,30.0,18.0,10.0,25.0,18.0,22.0,25.0,22.0,15.0,45.0,12.0,30.0,20.0,25.0,10.0,40.0,25.0,18.0,15.0,45.0,29.0,12.0,28.0,24.0,12.0,30.0,20.0,23.0,15.0,50.0,15.0,20.0,11.0,30.0,24.0,12.0,14.0,35.0,18.0,28.0,22.0,11.0,38.0,24.0,30.0,25.0,10.0,30.0,22.0,18.0,14.0,38.0,20.0,18.0,31.0,10.0,28.0,19.0,20.0,35.0,17.0,21.0,22.0,18.0,25.0,15.0,33.0,18.0,20.0,30.0,26.0,12.0,35.0,20.0,28.0,20.0,30.0,10.0,12.0,22.0,25.0,27.0,38.0,18.0,14.0,20.0,12.0,18.0,25.0,22.0,20.0,26.0,28.0,12.0,33.0,20.0,10.0,25.0,22.0,28.0,30.0,18.0,10.0,25.0,18.0,22.0,25.0,22.0,15.0,45.0,12.0,30.0,20.0,25.0,10.0,40.0,25.0,18.0,15.0,45.0,29.0,12.0,28.0,24.0,12.0,30.0,20.0,23.0,15.0,50.0,15.0,20.0,11.0,30.0,24.0,12.0,14.0,35.0,18.0,28.0,22.0,11.0,38.0,24.0,30.0,25.0,10.0,null,30.0,22.0,18.0,14.0,38.0,20.0,18.0,31.0,10.0,28.0,19.0,20.0,35.0,17.0,21.0,22.0,18.0,25.0,15.0,33.0,18.0,20.0,30.0,26.0,12.0,35.0,20.0,28.0,20.0,30.0,10.0,12.0,22.0,25.0,27.0,38.0,18.0,14.0,20.0,12.0,18.0,25.0,22.0,20.0,26.0,28.0,12.0,33.0,20.0,10.0,25.0,22.0,28.0,30.0,18.0,10.0,25.0,18.0,22.0,25.0,22.0,15.0,45.0,12.0,30.0,20.0,25.0,10.0,40.0,25.0,18.0,15.0,45.0,29.0,12.0,28.0,24.0,12.0,30.0,20.0,23.0,15.0,50.0,15.0,20.0,11.0,30.0,24.0,12.0,14.0,35.0,18.0,28.0,22.0,11.0,38.0,24.0,30.0,25.0,10.0,30.0,22.0,18.0,14.0,38.0,20.0,18.0,31.0,10.0,28.0,19.0,20.0,35.0,17.0,21.0,22.0,18.0,25.0,15.0,33.0,18.0,20.0,30.0,26.0,12.0,35.0,20.0,28.0,20.0,30.0,10.0,12.0,22.0,25.0,27.0,38.0,18.0,14.0,20.0,12.0,18.0,25.0,22.0,20.0,26.0,28.0,12.0,33.0,20.0,10.0,25.0,22.0,28.0,30.0,18.0,10.0,25.0,18.0,22.0,25.0,22.0,15.0,45.0,12.0,30.0,20.0,25.0,10.0,40.0,25.0,18.0,15.0,45.0,29.0,12.0,28.0,24.0,12.0,30.0,20.0,23.0,15.0,50.0,15.0,20.0,11.0,30.0,24.0,12.0,14.0,35.0,18.0,28.0,22.0,11.0,38.0,24.0,30.0,25.0,10.0,30.0,22.0,18.0,14.0,38.0,20.0,18.0,31.0,10.0,28.0,19.0,20.0,35.0,17.0,21.0,22.0,18.0,25.0,15.0,33.0,18.0,20.0,30.0,26.0,12.0,35.0,20.0,28.0,20.0,30.0,10.0,12.0,22.0,25.0,27.0,38.0,18.0,14.0,20.0,12.0,18.0,25.0,22.0,20.0,26.0,28.0,12.0,33.0,20.0,10.0,25.0,22.0,28.0,30.0,18.0,10.0,25.0,18.0,22.0,25.0,22.0,15.0,45.0,12.0,30.0,20.0,25.0,10.0,40.0,25.0,18.0,15.0,45.0,29.0,12.0,28.0,24.0,12.0,30.0,20.0,23.0,15.0,50.0,15.0,20.0,11.0,30.0,24.0,12.0,14.0,35.0,18.0,28.0,22.0,11.0,38.0,24.0,30.0,25.0,10.0,30.0,22.0,18.0,14.0,38.0,20.0,18.0,31.0,10.0,28.0,19.0,20.0,35.0,17.0,21.0,22.0,18.0,25.0,15.0,33.0,18.0,20.0,30.0,26.0,12.0,35.0,20.0,28.0,20.0,30.0,10.0,12.0,22.0,25.0,27.0,38.0,18.0,14.0,20.0,12.0,18.0,25.0,22.0,20.0,26.0,28.0,12.0,33.0,20.0,10.0,25.0,22.0,28.0,30.0,18.0,10.0,25.0,18.0,22.0],\"xaxis\":\"x\",\"yaxis\":\"y\",\"type\":\"histogram\"}],                        {\"template\":{\"data\":{\"histogram2dcontour\":[{\"type\":\"histogram2dcontour\",\"colorbar\":{\"outlinewidth\":0,\"ticks\":\"\"},\"colorscale\":[[0.0,\"#0d0887\"],[0.1111111111111111,\"#46039f\"],[0.2222222222222222,\"#7201a8\"],[0.3333333333333333,\"#9c179e\"],[0.4444444444444444,\"#bd3786\"],[0.5555555555555556,\"#d8576b\"],[0.6666666666666666,\"#ed7953\"],[0.7777777777777778,\"#fb9f3a\"],[0.8888888888888888,\"#fdca26\"],[1.0,\"#f0f921\"]]}],\"choropleth\":[{\"type\":\"choropleth\",\"colorbar\":{\"outlinewidth\":0,\"ticks\":\"\"}}],\"histogram2d\":[{\"type\":\"histogram2d\",\"colorbar\":{\"outlinewidth\":0,\"ticks\":\"\"},\"colorscale\":[[0.0,\"#0d0887\"],[0.1111111111111111,\"#46039f\"],[0.2222222222222222,\"#7201a8\"],[0.3333333333333333,\"#9c179e\"],[0.4444444444444444,\"#bd3786\"],[0.5555555555555556,\"#d8576b\"],[0.6666666666666666,\"#ed7953\"],[0.7777777777777778,\"#fb9f3a\"],[0.8888888888888888,\"#fdca26\"],[1.0,\"#f0f921\"]]}],\"heatmap\":[{\"type\":\"heatmap\",\"colorbar\":{\"outlinewidth\":0,\"ticks\":\"\"},\"colorscale\":[[0.0,\"#0d0887\"],[0.1111111111111111,\"#46039f\"],[0.2222222222222222,\"#7201a8\"],[0.3333333333333333,\"#9c179e\"],[0.4444444444444444,\"#bd3786\"],[0.5555555555555556,\"#d8576b\"],[0.6666666666666666,\"#ed7953\"],[0.7777777777777778,\"#fb9f3a\"],[0.8888888888888888,\"#fdca26\"],[1.0,\"#f0f921\"]]}],\"heatmapgl\":[{\"type\":\"heatmapgl\",\"colorbar\":{\"outlinewidth\":0,\"ticks\":\"\"},\"colorscale\":[[0.0,\"#0d0887\"],[0.1111111111111111,\"#46039f\"],[0.2222222222222222,\"#7201a8\"],[0.3333333333333333,\"#9c179e\"],[0.4444444444444444,\"#bd3786\"],[0.5555555555555556,\"#d8576b\"],[0.6666666666666666,\"#ed7953\"],[0.7777777777777778,\"#fb9f3a\"],[0.8888888888888888,\"#fdca26\"],[1.0,\"#f0f921\"]]}],\"contourcarpet\":[{\"type\":\"contourcarpet\",\"colorbar\":{\"outlinewidth\":0,\"ticks\":\"\"}}],\"contour\":[{\"type\":\"contour\",\"colorbar\":{\"outlinewidth\":0,\"ticks\":\"\"},\"colorscale\":[[0.0,\"#0d0887\"],[0.1111111111111111,\"#46039f\"],[0.2222222222222222,\"#7201a8\"],[0.3333333333333333,\"#9c179e\"],[0.4444444444444444,\"#bd3786\"],[0.5555555555555556,\"#d8576b\"],[0.6666666666666666,\"#ed7953\"],[0.7777777777777778,\"#fb9f3a\"],[0.8888888888888888,\"#fdca26\"],[1.0,\"#f0f921\"]]}],\"surface\":[{\"type\":\"surface\",\"colorbar\":{\"outlinewidth\":0,\"ticks\":\"\"},\"colorscale\":[[0.0,\"#0d0887\"],[0.1111111111111111,\"#46039f\"],[0.2222222222222222,\"#7201a8\"],[0.3333333333333333,\"#9c179e\"],[0.4444444444444444,\"#bd3786\"],[0.5555555555555556,\"#d8576b\"],[0.6666666666666666,\"#ed7953\"],[0.7777777777777778,\"#fb9f3a\"],[0.8888888888888888,\"#fdca26\"],[1.0,\"#f0f921\"]]}],\"mesh3d\":[{\"type\":\"mesh3d\",\"colorbar\":{\"outlinewidth\":0,\"ticks\":\"\"}}],\"scatter\":[{\"fillpattern\":{\"fillmode\":\"overlay\",\"size\":10,\"solidity\":0.2},\"type\":\"scatter\"}],\"parcoords\":[{\"type\":\"parcoords\",\"line\":{\"colorbar\":{\"outlinewidth\":0,\"ticks\":\"\"}}}],\"scatterpolargl\":[{\"type\":\"scatterpolargl\",\"marker\":{\"colorbar\":{\"outlinewidth\":0,\"ticks\":\"\"}}}],\"bar\":[{\"error_x\":{\"color\":\"#2a3f5f\"},\"error_y\":{\"color\":\"#2a3f5f\"},\"marker\":{\"line\":{\"color\":\"#E5ECF6\",\"width\":0.5},\"pattern\":{\"fillmode\":\"overlay\",\"size\":10,\"solidity\":0.2}},\"type\":\"bar\"}],\"scattergeo\":[{\"type\":\"scattergeo\",\"marker\":{\"colorbar\":{\"outlinewidth\":0,\"ticks\":\"\"}}}],\"scatterpolar\":[{\"type\":\"scatterpolar\",\"marker\":{\"colorbar\":{\"outlinewidth\":0,\"ticks\":\"\"}}}],\"histogram\":[{\"marker\":{\"pattern\":{\"fillmode\":\"overlay\",\"size\":10,\"solidity\":0.2}},\"type\":\"histogram\"}],\"scattergl\":[{\"type\":\"scattergl\",\"marker\":{\"colorbar\":{\"outlinewidth\":0,\"ticks\":\"\"}}}],\"scatter3d\":[{\"type\":\"scatter3d\",\"line\":{\"colorbar\":{\"outlinewidth\":0,\"ticks\":\"\"}},\"marker\":{\"colorbar\":{\"outlinewidth\":0,\"ticks\":\"\"}}}],\"scattermapbox\":[{\"type\":\"scattermapbox\",\"marker\":{\"colorbar\":{\"outlinewidth\":0,\"ticks\":\"\"}}}],\"scatterternary\":[{\"type\":\"scatterternary\",\"marker\":{\"colorbar\":{\"outlinewidth\":0,\"ticks\":\"\"}}}],\"scattercarpet\":[{\"type\":\"scattercarpet\",\"marker\":{\"colorbar\":{\"outlinewidth\":0,\"ticks\":\"\"}}}],\"carpet\":[{\"aaxis\":{\"endlinecolor\":\"#2a3f5f\",\"gridcolor\":\"white\",\"linecolor\":\"white\",\"minorgridcolor\":\"white\",\"startlinecolor\":\"#2a3f5f\"},\"baxis\":{\"endlinecolor\":\"#2a3f5f\",\"gridcolor\":\"white\",\"linecolor\":\"white\",\"minorgridcolor\":\"white\",\"startlinecolor\":\"#2a3f5f\"},\"type\":\"carpet\"}],\"table\":[{\"cells\":{\"fill\":{\"color\":\"#EBF0F8\"},\"line\":{\"color\":\"white\"}},\"header\":{\"fill\":{\"color\":\"#C8D4E3\"},\"line\":{\"color\":\"white\"}},\"type\":\"table\"}],\"barpolar\":[{\"marker\":{\"line\":{\"color\":\"#E5ECF6\",\"width\":0.5},\"pattern\":{\"fillmode\":\"overlay\",\"size\":10,\"solidity\":0.2}},\"type\":\"barpolar\"}],\"pie\":[{\"automargin\":true,\"type\":\"pie\"}]},\"layout\":{\"autotypenumbers\":\"strict\",\"colorway\":[\"#636efa\",\"#EF553B\",\"#00cc96\",\"#ab63fa\",\"#FFA15A\",\"#19d3f3\",\"#FF6692\",\"#B6E880\",\"#FF97FF\",\"#FECB52\"],\"font\":{\"color\":\"#2a3f5f\"},\"hovermode\":\"closest\",\"hoverlabel\":{\"align\":\"left\"},\"paper_bgcolor\":\"white\",\"plot_bgcolor\":\"#E5ECF6\",\"polar\":{\"bgcolor\":\"#E5ECF6\",\"angularaxis\":{\"gridcolor\":\"white\",\"linecolor\":\"white\",\"ticks\":\"\"},\"radialaxis\":{\"gridcolor\":\"white\",\"linecolor\":\"white\",\"ticks\":\"\"}},\"ternary\":{\"bgcolor\":\"#E5ECF6\",\"aaxis\":{\"gridcolor\":\"white\",\"linecolor\":\"white\",\"ticks\":\"\"},\"baxis\":{\"gridcolor\":\"white\",\"linecolor\":\"white\",\"ticks\":\"\"},\"caxis\":{\"gridcolor\":\"white\",\"linecolor\":\"white\",\"ticks\":\"\"}},\"coloraxis\":{\"colorbar\":{\"outlinewidth\":0,\"ticks\":\"\"}},\"colorscale\":{\"sequential\":[[0.0,\"#0d0887\"],[0.1111111111111111,\"#46039f\"],[0.2222222222222222,\"#7201a8\"],[0.3333333333333333,\"#9c179e\"],[0.4444444444444444,\"#bd3786\"],[0.5555555555555556,\"#d8576b\"],[0.6666666666666666,\"#ed7953\"],[0.7777777777777778,\"#fb9f3a\"],[0.8888888888888888,\"#fdca26\"],[1.0,\"#f0f921\"]],\"sequentialminus\":[[0.0,\"#0d0887\"],[0.1111111111111111,\"#46039f\"],[0.2222222222222222,\"#7201a8\"],[0.3333333333333333,\"#9c179e\"],[0.4444444444444444,\"#bd3786\"],[0.5555555555555556,\"#d8576b\"],[0.6666666666666666,\"#ed7953\"],[0.7777777777777778,\"#fb9f3a\"],[0.8888888888888888,\"#fdca26\"],[1.0,\"#f0f921\"]],\"diverging\":[[0,\"#8e0152\"],[0.1,\"#c51b7d\"],[0.2,\"#de77ae\"],[0.3,\"#f1b6da\"],[0.4,\"#fde0ef\"],[0.5,\"#f7f7f7\"],[0.6,\"#e6f5d0\"],[0.7,\"#b8e186\"],[0.8,\"#7fbc41\"],[0.9,\"#4d9221\"],[1,\"#276419\"]]},\"xaxis\":{\"gridcolor\":\"white\",\"linecolor\":\"white\",\"ticks\":\"\",\"title\":{\"standoff\":15},\"zerolinecolor\":\"white\",\"automargin\":true,\"zerolinewidth\":2},\"yaxis\":{\"gridcolor\":\"white\",\"linecolor\":\"white\",\"ticks\":\"\",\"title\":{\"standoff\":15},\"zerolinecolor\":\"white\",\"automargin\":true,\"zerolinewidth\":2},\"scene\":{\"xaxis\":{\"backgroundcolor\":\"#E5ECF6\",\"gridcolor\":\"white\",\"linecolor\":\"white\",\"showbackground\":true,\"ticks\":\"\",\"zerolinecolor\":\"white\",\"gridwidth\":2},\"yaxis\":{\"backgroundcolor\":\"#E5ECF6\",\"gridcolor\":\"white\",\"linecolor\":\"white\",\"showbackground\":true,\"ticks\":\"\",\"zerolinecolor\":\"white\",\"gridwidth\":2},\"zaxis\":{\"backgroundcolor\":\"#E5ECF6\",\"gridcolor\":\"white\",\"linecolor\":\"white\",\"showbackground\":true,\"ticks\":\"\",\"zerolinecolor\":\"white\",\"gridwidth\":2}},\"shapedefaults\":{\"line\":{\"color\":\"#2a3f5f\"}},\"annotationdefaults\":{\"arrowcolor\":\"#2a3f5f\",\"arrowhead\":0,\"arrowwidth\":1},\"geo\":{\"bgcolor\":\"white\",\"landcolor\":\"#E5ECF6\",\"subunitcolor\":\"white\",\"showland\":true,\"showlakes\":true,\"lakecolor\":\"white\"},\"title\":{\"x\":0.05},\"mapbox\":{\"style\":\"light\"}}},\"xaxis\":{\"anchor\":\"y\",\"domain\":[0.0,1.0],\"title\":{\"text\":\"Messages_Sent_Per_Day\"}},\"yaxis\":{\"anchor\":\"x\",\"domain\":[0.0,1.0],\"title\":{\"text\":\"count\"}},\"legend\":{\"tracegroupgap\":0},\"title\":{\"text\":\"Posts Per Day Distribution\"},\"barmode\":\"relative\"},                        {\"responsive\": true}                    ).then(function(){\n",
              "                            \n",
              "var gd = document.getElementById('300d9f75-1cf2-4c45-a747-eff6214826e2');\n",
              "var x = new MutationObserver(function (mutations, observer) {{\n",
              "        var display = window.getComputedStyle(gd).display;\n",
              "        if (!display || display === 'none') {{\n",
              "            console.log([gd, 'removed!']);\n",
              "            Plotly.purge(gd);\n",
              "            observer.disconnect();\n",
              "        }}\n",
              "}});\n",
              "\n",
              "// Listen for the removal of the full notebook cells\n",
              "var notebookContainer = gd.closest('#notebook-container');\n",
              "if (notebookContainer) {{\n",
              "    x.observe(notebookContainer, {childList: true});\n",
              "}}\n",
              "\n",
              "// Listen for the clearing of the current output cell\n",
              "var outputEl = gd.closest('.output');\n",
              "if (outputEl) {{\n",
              "    x.observe(outputEl, {childList: true});\n",
              "}}\n",
              "\n",
              "                        })                };                            </script>        </div>\n",
              "</body>\n",
              "</html>"
            ]
          },
          "metadata": {}
        }
      ]
    },
    {
      "cell_type": "markdown",
      "source": [
        "Emotion Distribution:"
      ],
      "metadata": {
        "id": "neO_IWINJ40Q"
      }
    },
    {
      "cell_type": "code",
      "source": [
        "train_df['Dominant_Emotion'].unique()"
      ],
      "metadata": {
        "colab": {
          "base_uri": "https://localhost:8080/"
        },
        "id": "0Wi9fYknJ0tb",
        "outputId": "1682b311-1f2c-47d3-dba5-825c7b87d503"
      },
      "execution_count": 81,
      "outputs": [
        {
          "output_type": "execute_result",
          "data": {
            "text/plain": [
              "array(['Happiness', 'Anger', 'Neutral', 'Anxiety', 'Boredom', 'Sadness',\n",
              "       nan], dtype=object)"
            ]
          },
          "metadata": {},
          "execution_count": 81
        }
      ]
    },
    {
      "cell_type": "code",
      "source": [
        "# fill with mode\n",
        "train_df['Dominant_Emotion'].fillna(train_df['Dominant_Emotion'].mode()[0], inplace=True)"
      ],
      "metadata": {
        "id": "Meu3UYtMJ-Ip"
      },
      "execution_count": 82,
      "outputs": []
    },
    {
      "cell_type": "code",
      "source": [
        "plt = px.pie(train_df, names='Dominant_Emotion', title='Dominant Emotion Distribution')\n",
        "# adding the values to the pie section\n",
        "plt.update_traces(textposition='inside', textinfo='percent+label')\n",
        "plt.show()"
      ],
      "metadata": {
        "colab": {
          "base_uri": "https://localhost:8080/",
          "height": 542
        },
        "id": "NAKSVqHvKCS7",
        "outputId": "64ba3251-79b1-46e5-d15e-42d51539a8e5"
      },
      "execution_count": 83,
      "outputs": [
        {
          "output_type": "display_data",
          "data": {
            "text/html": [
              "<html>\n",
              "<head><meta charset=\"utf-8\" /></head>\n",
              "<body>\n",
              "    <div>            <script src=\"https://cdnjs.cloudflare.com/ajax/libs/mathjax/2.7.5/MathJax.js?config=TeX-AMS-MML_SVG\"></script><script type=\"text/javascript\">if (window.MathJax && window.MathJax.Hub && window.MathJax.Hub.Config) {window.MathJax.Hub.Config({SVG: {font: \"STIX-Web\"}});}</script>                <script type=\"text/javascript\">window.PlotlyConfig = {MathJaxConfig: 'local'};</script>\n",
              "        <script charset=\"utf-8\" src=\"https://cdn.plot.ly/plotly-2.24.1.min.js\"></script>                <div id=\"51d3e876-9672-4041-8044-1d89d236c378\" class=\"plotly-graph-div\" style=\"height:525px; width:100%;\"></div>            <script type=\"text/javascript\">                                    window.PLOTLYENV=window.PLOTLYENV || {};                                    if (document.getElementById(\"51d3e876-9672-4041-8044-1d89d236c378\")) {                    Plotly.newPlot(                        \"51d3e876-9672-4041-8044-1d89d236c378\",                        [{\"domain\":{\"x\":[0.0,1.0],\"y\":[0.0,1.0]},\"hovertemplate\":\"Dominant_Emotion=%{label}\\u003cextra\\u003e\\u003c\\u002fextra\\u003e\",\"labels\":[\"Happiness\",\"Anger\",\"Neutral\",\"Anxiety\",\"Boredom\",\"Happiness\",\"Anger\",\"Sadness\",\"Neutral\",\"Happiness\",\"Anxiety\",\"Sadness\",\"Boredom\",\"Happiness\",\"Anger\",\"Neutral\",\"Anxiety\",\"Sadness\",\"Neutral\",\"Happiness\",\"Anxiety\",\"Anger\",\"Boredom\",\"Happiness\",\"Sadness\",\"Neutral\",\"Anxiety\",\"Happiness\",\"Anger\",\"Sadness\",\"Boredom\",\"Happiness\",\"Neutral\",\"Sadness\",\"Anxiety\",\"Boredom\",\"Happiness\",\"Anger\",\"Neutral\",\"Anxiety\",\"Sadness\",\"Happiness\",\"Anger\",\"Neutral\",\"Boredom\",\"Happiness\",\"Sadness\",\"Anxiety\",\"Neutral\",\"Boredom\",\"Happiness\",\"Anger\",\"Neutral\",\"Sadness\",\"Anxiety\",\"Anxiety\",\"Boredom\",\"Sadness\",\"Happiness\",\"Boredom\",\"Happiness\",\"Anger\",\"Neutral\",\"Anxiety\",\"Sadness\",\"Boredom\",\"Happiness\",\"Neutral\",\"Anxiety\",\"Sadness\",\"Happiness\",\"Boredom\",\"Neutral\",\"Anger\",\"Neutral\",\"Anxiety\",\"Happiness\",\"Sadness\",\"Anxiety\",\"Neutral\",\"Sadness\",\"Happiness\",\"Anger\",\"Neutral\",\"Boredom\",\"Anxiety\",\"Sadness\",\"Neutral\",\"Happiness\",\"Anxiety\",\"Boredom\",\"Anger\",\"Neutral\",\"Sadness\",\"Anxiety\",\"Boredom\",\"Neutral\",\"Happiness\",\"Anger\",\"Neutral\",\"Happiness\",\"Anger\",\"Neutral\",\"Anxiety\",\"Boredom\",\"Happiness\",\"Anger\",\"Sadness\",\"Neutral\",\"Happiness\",\"Anxiety\",\"Sadness\",\"Boredom\",\"Happiness\",\"Anger\",\"Neutral\",\"Anxiety\",\"Sadness\",\"Neutral\",\"Happiness\",\"Anxiety\",\"Anger\",\"Boredom\",\"Happiness\",\"Sadness\",\"Neutral\",\"Anxiety\",\"Happiness\",\"Anger\",\"Sadness\",\"Boredom\",\"Happiness\",\"Neutral\",\"Sadness\",\"Anxiety\",\"Boredom\",\"Happiness\",\"Anger\",\"Neutral\",\"Anxiety\",\"Sadness\",\"Happiness\",\"Anger\",\"Neutral\",\"Boredom\",\"Happiness\",\"Sadness\",\"Anxiety\",\"Neutral\",\"Boredom\",\"Happiness\",\"Anger\",\"Neutral\",\"Sadness\",\"Anxiety\",\"Anxiety\",\"Boredom\",\"Sadness\",\"Happiness\",\"Boredom\",\"Happiness\",\"Anger\",\"Neutral\",\"Anxiety\",\"Sadness\",\"Boredom\",\"Happiness\",\"Neutral\",\"Anxiety\",\"Sadness\",\"Happiness\",\"Boredom\",\"Neutral\",\"Anger\",\"Neutral\",\"Anxiety\",\"Happiness\",\"Sadness\",\"Anxiety\",\"Neutral\",\"Sadness\",\"Happiness\",\"Anger\",\"Neutral\",\"Boredom\",\"Anxiety\",\"Sadness\",\"Neutral\",\"Happiness\",\"Anxiety\",\"Boredom\",\"Anger\",\"Neutral\",\"Sadness\",\"Anxiety\",\"Boredom\",\"Neutral\",\"Happiness\",\"Anger\",\"Neutral\",\"Happiness\",\"Anger\",\"Neutral\",\"Anxiety\",\"Boredom\",\"Happiness\",\"Anger\",\"Sadness\",\"Neutral\",\"Happiness\",\"Anxiety\",\"Sadness\",\"Boredom\",\"Happiness\",\"Anger\",\"Neutral\",\"Anxiety\",\"Sadness\",\"Neutral\",\"Happiness\",\"Anxiety\",\"Anger\",\"Boredom\",\"Happiness\",\"Sadness\",\"Neutral\",\"Anxiety\",\"Happiness\",\"Anger\",\"Sadness\",\"Boredom\",\"Happiness\",\"Neutral\",\"Sadness\",\"Anxiety\",\"Boredom\",\"Happiness\",\"Anger\",\"Neutral\",\"Anxiety\",\"Sadness\",\"Happiness\",\"Anger\",\"Neutral\",\"Boredom\",\"Happiness\",\"Sadness\",\"Anxiety\",\"Neutral\",\"Boredom\",\"Happiness\",\"Anger\",\"Neutral\",\"Sadness\",\"Anxiety\",\"Anxiety\",\"Boredom\",\"Sadness\",\"Happiness\",\"Boredom\",\"Happiness\",\"Anger\",\"Neutral\",\"Anxiety\",\"Sadness\",\"Boredom\",\"Happiness\",\"Neutral\",\"Anxiety\",\"Sadness\",\"Happiness\",\"Boredom\",\"Neutral\",\"Anger\",\"Neutral\",\"Anxiety\",\"Happiness\",\"Sadness\",\"Anxiety\",\"Neutral\",\"Sadness\",\"Happiness\",\"Anger\",\"Neutral\",\"Boredom\",\"Anxiety\",\"Sadness\",\"Neutral\",\"Happiness\",\"Anxiety\",\"Boredom\",\"Anger\",\"Neutral\",\"Sadness\",\"Anxiety\",\"Boredom\",\"Neutral\",\"Happiness\",\"Anger\",\"Neutral\",\"Happiness\",\"Anger\",\"Neutral\",\"Anxiety\",\"Boredom\",\"Happiness\",\"Anger\",\"Sadness\",\"Neutral\",\"Happiness\",\"Anxiety\",\"Sadness\",\"Boredom\",\"Happiness\",\"Anger\",\"Neutral\",\"Anxiety\",\"Sadness\",\"Neutral\",\"Happiness\",\"Anxiety\",\"Anger\",\"Boredom\",\"Happiness\",\"Sadness\",\"Neutral\",\"Anxiety\",\"Happiness\",\"Anger\",\"Sadness\",\"Boredom\",\"Happiness\",\"Neutral\",\"Sadness\",\"Anxiety\",\"Boredom\",\"Happiness\",\"Anger\",\"Neutral\",\"Anxiety\",\"Sadness\",\"Happiness\",\"Anger\",\"Neutral\",\"Boredom\",\"Happiness\",\"Sadness\",\"Anxiety\",\"Neutral\",\"Boredom\",\"Happiness\",\"Anger\",\"Neutral\",\"Sadness\",\"Anxiety\",\"Anxiety\",\"Boredom\",\"Sadness\",\"Happiness\",\"Boredom\",\"Happiness\",\"Anger\",\"Neutral\",\"Anxiety\",\"Sadness\",\"Boredom\",\"Happiness\",\"Neutral\",\"Anxiety\",\"Sadness\",\"Happiness\",\"Boredom\",\"Neutral\",\"Anger\",\"Neutral\",\"Anxiety\",\"Happiness\",\"Sadness\",\"Anxiety\",\"Neutral\",\"Sadness\",\"Happiness\",\"Anger\",\"Neutral\",\"Boredom\",\"Anxiety\",\"Sadness\",\"Neutral\",\"Happiness\",\"Anxiety\",\"Boredom\",\"Anger\",\"Neutral\",\"Sadness\",\"Anxiety\",\"Boredom\",\"Neutral\",\"Happiness\",\"Anger\",\"Neutral\",\"Happiness\",\"Anger\",\"Neutral\",\"Anxiety\",\"Boredom\",\"Happiness\",\"Anger\",\"Sadness\",\"Neutral\",\"Happiness\",\"Anxiety\",\"Sadness\",\"Boredom\",\"Happiness\",\"Anger\",\"Neutral\",\"Anxiety\",\"Sadness\",\"Neutral\",\"Happiness\",\"Anxiety\",\"Anger\",\"Boredom\",\"Happiness\",\"Sadness\",\"Neutral\",\"Anxiety\",\"Happiness\",\"Anger\",\"Sadness\",\"Boredom\",\"Happiness\",\"Neutral\",\"Sadness\",\"Anxiety\",\"Boredom\",\"Happiness\",\"Anger\",\"Neutral\",\"Anxiety\",\"Sadness\",\"Happiness\",\"Anger\",\"Neutral\",\"Boredom\",\"Happiness\",\"Sadness\",\"Anxiety\",\"Neutral\",\"Boredom\",\"Happiness\",\"Anger\",\"Neutral\",\"Sadness\",\"Anxiety\",\"Anxiety\",\"Boredom\",\"Sadness\",\"Happiness\",\"Boredom\",\"Happiness\",\"Anger\",\"Neutral\",\"Anxiety\",\"Sadness\",\"Boredom\",\"Happiness\",\"Neutral\",\"Anxiety\",\"Sadness\",\"Happiness\",\"Boredom\",\"Neutral\",\"Anger\",\"Neutral\",\"Anxiety\",\"Happiness\",\"Sadness\",\"Anxiety\",\"Neutral\",\"Sadness\",\"Happiness\",\"Anger\",\"Neutral\",\"Boredom\",\"Anxiety\",\"Sadness\",\"Neutral\",\"Happiness\",\"Anxiety\",\"Boredom\",\"Anger\",\"Neutral\",\"Sadness\",\"Anxiety\",\"Boredom\",\"Neutral\",\"Happiness\",\"Anger\",\"Neutral\",\"Happiness\",\"Anger\",\"Neutral\",\"Anxiety\",\"Boredom\",\"Happiness\",\"Anger\",\"Sadness\",\"Neutral\",\"Happiness\",\"Anxiety\",\"Sadness\",\"Boredom\",\"Happiness\",\"Anger\",\"Neutral\",\"Anxiety\",\"Sadness\",\"Neutral\",\"Happiness\",\"Anxiety\",\"Anger\",\"Boredom\",\"Happiness\",\"Sadness\",\"Neutral\",\"Anxiety\",\"Happiness\",\"Anger\",\"Sadness\",\"Boredom\",\"Happiness\",\"Neutral\",\"Sadness\",\"Anxiety\",\"Boredom\",\"Happiness\",\"Anger\",\"Neutral\",\"Anxiety\",\"Sadness\",\"Happiness\",\"Anger\",\"Neutral\",\"Boredom\",\"Happiness\",\"Sadness\",\"Anxiety\",\"Neutral\",\"Boredom\",\"Happiness\",\"Anger\",\"Neutral\",\"Sadness\",\"Anxiety\",\"Anxiety\",\"Boredom\",\"Sadness\",\"Happiness\",\"Boredom\",\"Happiness\",\"Anger\",\"Neutral\",\"Anxiety\",\"Sadness\",\"Boredom\",\"Happiness\",\"Neutral\",\"Anxiety\",\"Sadness\",\"Happiness\",\"Boredom\",\"Neutral\",\"Anger\",\"Neutral\",\"Anxiety\",\"Happiness\",\"Sadness\",\"Anxiety\",\"Neutral\",\"Sadness\",\"Happiness\",\"Anger\",\"Neutral\",\"Boredom\",\"Anxiety\",\"Sadness\",\"Neutral\",\"Happiness\",\"Anxiety\",\"Boredom\",\"Anger\",\"Neutral\",\"Sadness\",\"Anxiety\",\"Boredom\",\"Neutral\",\"Happiness\",\"Anger\",\"Neutral\",\"Happiness\",\"Anger\",\"Neutral\",\"Anxiety\",\"Boredom\",\"Happiness\",\"Anger\",\"Sadness\",\"Neutral\",\"Happiness\",\"Anxiety\",\"Sadness\",\"Boredom\",\"Happiness\",\"Anger\",\"Neutral\",\"Anxiety\",\"Sadness\",\"Neutral\",\"Happiness\",\"Anxiety\",\"Anger\",\"Boredom\",\"Happiness\",\"Sadness\",\"Neutral\",\"Anxiety\",\"Happiness\",\"Anger\",\"Sadness\",\"Boredom\",\"Happiness\",\"Neutral\",\"Sadness\",\"Anxiety\",\"Boredom\",\"Happiness\",\"Anger\",\"Neutral\",\"Anxiety\",\"Sadness\",\"Happiness\",\"Happiness\",\"Anger\",\"Neutral\",\"Boredom\",\"Happiness\",\"Sadness\",\"Anxiety\",\"Neutral\",\"Boredom\",\"Happiness\",\"Anger\",\"Neutral\",\"Sadness\",\"Anxiety\",\"Anxiety\",\"Boredom\",\"Sadness\",\"Happiness\",\"Boredom\",\"Happiness\",\"Anger\",\"Neutral\",\"Anxiety\",\"Sadness\",\"Boredom\",\"Happiness\",\"Neutral\",\"Anxiety\",\"Sadness\",\"Happiness\",\"Boredom\",\"Neutral\",\"Anger\",\"Neutral\",\"Anxiety\",\"Happiness\",\"Sadness\",\"Anxiety\",\"Neutral\",\"Sadness\",\"Happiness\",\"Anger\",\"Neutral\",\"Boredom\",\"Anxiety\",\"Sadness\",\"Neutral\",\"Happiness\",\"Anxiety\",\"Boredom\",\"Anger\",\"Neutral\",\"Sadness\",\"Anxiety\",\"Boredom\",\"Neutral\",\"Happiness\",\"Anger\",\"Neutral\",\"Happiness\",\"Anger\",\"Neutral\",\"Anxiety\",\"Boredom\",\"Happiness\",\"Anger\",\"Sadness\",\"Neutral\",\"Happiness\",\"Anxiety\",\"Sadness\",\"Boredom\",\"Happiness\",\"Anger\",\"Neutral\",\"Anxiety\",\"Sadness\",\"Neutral\",\"Happiness\",\"Anxiety\",\"Anger\",\"Boredom\",\"Happiness\",\"Sadness\",\"Neutral\",\"Anxiety\",\"Happiness\",\"Anger\",\"Sadness\",\"Boredom\",\"Happiness\",\"Neutral\",\"Sadness\",\"Anxiety\",\"Boredom\",\"Happiness\",\"Anger\",\"Neutral\",\"Anxiety\",\"Sadness\",\"Happiness\",\"Anger\",\"Neutral\",\"Boredom\",\"Happiness\",\"Sadness\",\"Anxiety\",\"Neutral\",\"Boredom\",\"Happiness\",\"Anger\",\"Neutral\",\"Sadness\",\"Anxiety\",\"Anxiety\",\"Boredom\",\"Sadness\",\"Happiness\",\"Boredom\",\"Happiness\",\"Anger\",\"Neutral\",\"Anxiety\",\"Sadness\",\"Boredom\",\"Happiness\",\"Neutral\",\"Anxiety\",\"Sadness\",\"Happiness\",\"Boredom\",\"Neutral\",\"Anger\",\"Neutral\",\"Anxiety\",\"Happiness\",\"Sadness\",\"Anxiety\",\"Neutral\",\"Sadness\",\"Happiness\",\"Anger\",\"Neutral\",\"Boredom\",\"Anxiety\",\"Sadness\",\"Neutral\",\"Happiness\",\"Anxiety\",\"Boredom\",\"Anger\",\"Neutral\",\"Sadness\",\"Anxiety\",\"Boredom\",\"Neutral\",\"Happiness\",\"Anger\",\"Neutral\",\"Happiness\",\"Anger\",\"Neutral\",\"Anxiety\",\"Boredom\",\"Happiness\",\"Anger\",\"Sadness\",\"Neutral\",\"Happiness\",\"Anxiety\",\"Sadness\",\"Boredom\",\"Happiness\",\"Anger\",\"Neutral\",\"Anxiety\",\"Sadness\",\"Neutral\",\"Happiness\",\"Anxiety\",\"Anger\",\"Boredom\",\"Happiness\",\"Sadness\",\"Neutral\",\"Anxiety\",\"Happiness\",\"Anger\",\"Sadness\",\"Boredom\",\"Happiness\",\"Neutral\",\"Sadness\",\"Anxiety\",\"Boredom\",\"Happiness\",\"Anger\",\"Neutral\",\"Anxiety\",\"Sadness\",\"Happiness\",\"Anger\",\"Neutral\",\"Boredom\",\"Happiness\",\"Sadness\",\"Anxiety\",\"Neutral\",\"Boredom\",\"Happiness\",\"Anger\",\"Neutral\",\"Sadness\",\"Anxiety\",\"Anxiety\",\"Boredom\",\"Sadness\",\"Happiness\",\"Boredom\",\"Happiness\",\"Anger\",\"Neutral\",\"Anxiety\",\"Sadness\",\"Boredom\",\"Happiness\",\"Neutral\",\"Anxiety\",\"Sadness\",\"Happiness\",\"Boredom\",\"Neutral\",\"Anger\",\"Neutral\",\"Anxiety\",\"Happiness\",\"Sadness\",\"Anxiety\",\"Neutral\",\"Sadness\",\"Happiness\",\"Anger\",\"Neutral\",\"Boredom\",\"Anxiety\",\"Sadness\",\"Neutral\",\"Happiness\",\"Anxiety\",\"Boredom\",\"Anger\",\"Neutral\",\"Sadness\",\"Anxiety\",\"Boredom\",\"Neutral\",\"Happiness\",\"Anger\",\"Neutral\",\"Happiness\",\"Anger\",\"Neutral\",\"Anxiety\",\"Boredom\",\"Happiness\",\"Anger\",\"Sadness\",\"Neutral\",\"Happiness\",\"Anxiety\",\"Sadness\",\"Boredom\",\"Happiness\",\"Anger\",\"Neutral\",\"Anxiety\",\"Sadness\",\"Neutral\",\"Happiness\",\"Anxiety\",\"Anger\",\"Boredom\",\"Happiness\",\"Sadness\",\"Neutral\",\"Anxiety\",\"Happiness\",\"Anger\",\"Sadness\",\"Boredom\",\"Happiness\",\"Neutral\",\"Sadness\",\"Anxiety\",\"Boredom\",\"Happiness\",\"Anger\",\"Neutral\",\"Anxiety\",\"Sadness\",\"Happiness\",\"Anger\",\"Neutral\",\"Boredom\",\"Happiness\",\"Sadness\",\"Anxiety\",\"Neutral\",\"Boredom\",\"Happiness\",\"Anger\",\"Neutral\",\"Sadness\",\"Anxiety\",\"Anxiety\",\"Boredom\",\"Sadness\",\"Happiness\",\"Boredom\",\"Happiness\",\"Anger\",\"Neutral\",\"Anxiety\",\"Sadness\",\"Boredom\",\"Happiness\",\"Neutral\",\"Anxiety\",\"Sadness\",\"Happiness\",\"Boredom\",\"Neutral\",\"Anger\",\"Neutral\",\"Anxiety\",\"Happiness\",\"Sadness\",\"Anxiety\",\"Neutral\",\"Sadness\",\"Happiness\",\"Anger\",\"Neutral\",\"Boredom\",\"Anxiety\",\"Sadness\",\"Neutral\",\"Happiness\",\"Anxiety\",\"Boredom\",\"Anger\",\"Neutral\",\"Sadness\",\"Anxiety\",\"Boredom\",\"Neutral\",\"Happiness\",\"Anger\",\"Neutral\"],\"legendgroup\":\"\",\"name\":\"\",\"showlegend\":true,\"type\":\"pie\",\"textinfo\":\"percent+label\",\"textposition\":\"inside\"}],                        {\"template\":{\"data\":{\"histogram2dcontour\":[{\"type\":\"histogram2dcontour\",\"colorbar\":{\"outlinewidth\":0,\"ticks\":\"\"},\"colorscale\":[[0.0,\"#0d0887\"],[0.1111111111111111,\"#46039f\"],[0.2222222222222222,\"#7201a8\"],[0.3333333333333333,\"#9c179e\"],[0.4444444444444444,\"#bd3786\"],[0.5555555555555556,\"#d8576b\"],[0.6666666666666666,\"#ed7953\"],[0.7777777777777778,\"#fb9f3a\"],[0.8888888888888888,\"#fdca26\"],[1.0,\"#f0f921\"]]}],\"choropleth\":[{\"type\":\"choropleth\",\"colorbar\":{\"outlinewidth\":0,\"ticks\":\"\"}}],\"histogram2d\":[{\"type\":\"histogram2d\",\"colorbar\":{\"outlinewidth\":0,\"ticks\":\"\"},\"colorscale\":[[0.0,\"#0d0887\"],[0.1111111111111111,\"#46039f\"],[0.2222222222222222,\"#7201a8\"],[0.3333333333333333,\"#9c179e\"],[0.4444444444444444,\"#bd3786\"],[0.5555555555555556,\"#d8576b\"],[0.6666666666666666,\"#ed7953\"],[0.7777777777777778,\"#fb9f3a\"],[0.8888888888888888,\"#fdca26\"],[1.0,\"#f0f921\"]]}],\"heatmap\":[{\"type\":\"heatmap\",\"colorbar\":{\"outlinewidth\":0,\"ticks\":\"\"},\"colorscale\":[[0.0,\"#0d0887\"],[0.1111111111111111,\"#46039f\"],[0.2222222222222222,\"#7201a8\"],[0.3333333333333333,\"#9c179e\"],[0.4444444444444444,\"#bd3786\"],[0.5555555555555556,\"#d8576b\"],[0.6666666666666666,\"#ed7953\"],[0.7777777777777778,\"#fb9f3a\"],[0.8888888888888888,\"#fdca26\"],[1.0,\"#f0f921\"]]}],\"heatmapgl\":[{\"type\":\"heatmapgl\",\"colorbar\":{\"outlinewidth\":0,\"ticks\":\"\"},\"colorscale\":[[0.0,\"#0d0887\"],[0.1111111111111111,\"#46039f\"],[0.2222222222222222,\"#7201a8\"],[0.3333333333333333,\"#9c179e\"],[0.4444444444444444,\"#bd3786\"],[0.5555555555555556,\"#d8576b\"],[0.6666666666666666,\"#ed7953\"],[0.7777777777777778,\"#fb9f3a\"],[0.8888888888888888,\"#fdca26\"],[1.0,\"#f0f921\"]]}],\"contourcarpet\":[{\"type\":\"contourcarpet\",\"colorbar\":{\"outlinewidth\":0,\"ticks\":\"\"}}],\"contour\":[{\"type\":\"contour\",\"colorbar\":{\"outlinewidth\":0,\"ticks\":\"\"},\"colorscale\":[[0.0,\"#0d0887\"],[0.1111111111111111,\"#46039f\"],[0.2222222222222222,\"#7201a8\"],[0.3333333333333333,\"#9c179e\"],[0.4444444444444444,\"#bd3786\"],[0.5555555555555556,\"#d8576b\"],[0.6666666666666666,\"#ed7953\"],[0.7777777777777778,\"#fb9f3a\"],[0.8888888888888888,\"#fdca26\"],[1.0,\"#f0f921\"]]}],\"surface\":[{\"type\":\"surface\",\"colorbar\":{\"outlinewidth\":0,\"ticks\":\"\"},\"colorscale\":[[0.0,\"#0d0887\"],[0.1111111111111111,\"#46039f\"],[0.2222222222222222,\"#7201a8\"],[0.3333333333333333,\"#9c179e\"],[0.4444444444444444,\"#bd3786\"],[0.5555555555555556,\"#d8576b\"],[0.6666666666666666,\"#ed7953\"],[0.7777777777777778,\"#fb9f3a\"],[0.8888888888888888,\"#fdca26\"],[1.0,\"#f0f921\"]]}],\"mesh3d\":[{\"type\":\"mesh3d\",\"colorbar\":{\"outlinewidth\":0,\"ticks\":\"\"}}],\"scatter\":[{\"fillpattern\":{\"fillmode\":\"overlay\",\"size\":10,\"solidity\":0.2},\"type\":\"scatter\"}],\"parcoords\":[{\"type\":\"parcoords\",\"line\":{\"colorbar\":{\"outlinewidth\":0,\"ticks\":\"\"}}}],\"scatterpolargl\":[{\"type\":\"scatterpolargl\",\"marker\":{\"colorbar\":{\"outlinewidth\":0,\"ticks\":\"\"}}}],\"bar\":[{\"error_x\":{\"color\":\"#2a3f5f\"},\"error_y\":{\"color\":\"#2a3f5f\"},\"marker\":{\"line\":{\"color\":\"#E5ECF6\",\"width\":0.5},\"pattern\":{\"fillmode\":\"overlay\",\"size\":10,\"solidity\":0.2}},\"type\":\"bar\"}],\"scattergeo\":[{\"type\":\"scattergeo\",\"marker\":{\"colorbar\":{\"outlinewidth\":0,\"ticks\":\"\"}}}],\"scatterpolar\":[{\"type\":\"scatterpolar\",\"marker\":{\"colorbar\":{\"outlinewidth\":0,\"ticks\":\"\"}}}],\"histogram\":[{\"marker\":{\"pattern\":{\"fillmode\":\"overlay\",\"size\":10,\"solidity\":0.2}},\"type\":\"histogram\"}],\"scattergl\":[{\"type\":\"scattergl\",\"marker\":{\"colorbar\":{\"outlinewidth\":0,\"ticks\":\"\"}}}],\"scatter3d\":[{\"type\":\"scatter3d\",\"line\":{\"colorbar\":{\"outlinewidth\":0,\"ticks\":\"\"}},\"marker\":{\"colorbar\":{\"outlinewidth\":0,\"ticks\":\"\"}}}],\"scattermapbox\":[{\"type\":\"scattermapbox\",\"marker\":{\"colorbar\":{\"outlinewidth\":0,\"ticks\":\"\"}}}],\"scatterternary\":[{\"type\":\"scatterternary\",\"marker\":{\"colorbar\":{\"outlinewidth\":0,\"ticks\":\"\"}}}],\"scattercarpet\":[{\"type\":\"scattercarpet\",\"marker\":{\"colorbar\":{\"outlinewidth\":0,\"ticks\":\"\"}}}],\"carpet\":[{\"aaxis\":{\"endlinecolor\":\"#2a3f5f\",\"gridcolor\":\"white\",\"linecolor\":\"white\",\"minorgridcolor\":\"white\",\"startlinecolor\":\"#2a3f5f\"},\"baxis\":{\"endlinecolor\":\"#2a3f5f\",\"gridcolor\":\"white\",\"linecolor\":\"white\",\"minorgridcolor\":\"white\",\"startlinecolor\":\"#2a3f5f\"},\"type\":\"carpet\"}],\"table\":[{\"cells\":{\"fill\":{\"color\":\"#EBF0F8\"},\"line\":{\"color\":\"white\"}},\"header\":{\"fill\":{\"color\":\"#C8D4E3\"},\"line\":{\"color\":\"white\"}},\"type\":\"table\"}],\"barpolar\":[{\"marker\":{\"line\":{\"color\":\"#E5ECF6\",\"width\":0.5},\"pattern\":{\"fillmode\":\"overlay\",\"size\":10,\"solidity\":0.2}},\"type\":\"barpolar\"}],\"pie\":[{\"automargin\":true,\"type\":\"pie\"}]},\"layout\":{\"autotypenumbers\":\"strict\",\"colorway\":[\"#636efa\",\"#EF553B\",\"#00cc96\",\"#ab63fa\",\"#FFA15A\",\"#19d3f3\",\"#FF6692\",\"#B6E880\",\"#FF97FF\",\"#FECB52\"],\"font\":{\"color\":\"#2a3f5f\"},\"hovermode\":\"closest\",\"hoverlabel\":{\"align\":\"left\"},\"paper_bgcolor\":\"white\",\"plot_bgcolor\":\"#E5ECF6\",\"polar\":{\"bgcolor\":\"#E5ECF6\",\"angularaxis\":{\"gridcolor\":\"white\",\"linecolor\":\"white\",\"ticks\":\"\"},\"radialaxis\":{\"gridcolor\":\"white\",\"linecolor\":\"white\",\"ticks\":\"\"}},\"ternary\":{\"bgcolor\":\"#E5ECF6\",\"aaxis\":{\"gridcolor\":\"white\",\"linecolor\":\"white\",\"ticks\":\"\"},\"baxis\":{\"gridcolor\":\"white\",\"linecolor\":\"white\",\"ticks\":\"\"},\"caxis\":{\"gridcolor\":\"white\",\"linecolor\":\"white\",\"ticks\":\"\"}},\"coloraxis\":{\"colorbar\":{\"outlinewidth\":0,\"ticks\":\"\"}},\"colorscale\":{\"sequential\":[[0.0,\"#0d0887\"],[0.1111111111111111,\"#46039f\"],[0.2222222222222222,\"#7201a8\"],[0.3333333333333333,\"#9c179e\"],[0.4444444444444444,\"#bd3786\"],[0.5555555555555556,\"#d8576b\"],[0.6666666666666666,\"#ed7953\"],[0.7777777777777778,\"#fb9f3a\"],[0.8888888888888888,\"#fdca26\"],[1.0,\"#f0f921\"]],\"sequentialminus\":[[0.0,\"#0d0887\"],[0.1111111111111111,\"#46039f\"],[0.2222222222222222,\"#7201a8\"],[0.3333333333333333,\"#9c179e\"],[0.4444444444444444,\"#bd3786\"],[0.5555555555555556,\"#d8576b\"],[0.6666666666666666,\"#ed7953\"],[0.7777777777777778,\"#fb9f3a\"],[0.8888888888888888,\"#fdca26\"],[1.0,\"#f0f921\"]],\"diverging\":[[0,\"#8e0152\"],[0.1,\"#c51b7d\"],[0.2,\"#de77ae\"],[0.3,\"#f1b6da\"],[0.4,\"#fde0ef\"],[0.5,\"#f7f7f7\"],[0.6,\"#e6f5d0\"],[0.7,\"#b8e186\"],[0.8,\"#7fbc41\"],[0.9,\"#4d9221\"],[1,\"#276419\"]]},\"xaxis\":{\"gridcolor\":\"white\",\"linecolor\":\"white\",\"ticks\":\"\",\"title\":{\"standoff\":15},\"zerolinecolor\":\"white\",\"automargin\":true,\"zerolinewidth\":2},\"yaxis\":{\"gridcolor\":\"white\",\"linecolor\":\"white\",\"ticks\":\"\",\"title\":{\"standoff\":15},\"zerolinecolor\":\"white\",\"automargin\":true,\"zerolinewidth\":2},\"scene\":{\"xaxis\":{\"backgroundcolor\":\"#E5ECF6\",\"gridcolor\":\"white\",\"linecolor\":\"white\",\"showbackground\":true,\"ticks\":\"\",\"zerolinecolor\":\"white\",\"gridwidth\":2},\"yaxis\":{\"backgroundcolor\":\"#E5ECF6\",\"gridcolor\":\"white\",\"linecolor\":\"white\",\"showbackground\":true,\"ticks\":\"\",\"zerolinecolor\":\"white\",\"gridwidth\":2},\"zaxis\":{\"backgroundcolor\":\"#E5ECF6\",\"gridcolor\":\"white\",\"linecolor\":\"white\",\"showbackground\":true,\"ticks\":\"\",\"zerolinecolor\":\"white\",\"gridwidth\":2}},\"shapedefaults\":{\"line\":{\"color\":\"#2a3f5f\"}},\"annotationdefaults\":{\"arrowcolor\":\"#2a3f5f\",\"arrowhead\":0,\"arrowwidth\":1},\"geo\":{\"bgcolor\":\"white\",\"landcolor\":\"#E5ECF6\",\"subunitcolor\":\"white\",\"showland\":true,\"showlakes\":true,\"lakecolor\":\"white\"},\"title\":{\"x\":0.05},\"mapbox\":{\"style\":\"light\"}}},\"legend\":{\"tracegroupgap\":0},\"title\":{\"text\":\"Dominant Emotion Distribution\"}},                        {\"responsive\": true}                    ).then(function(){\n",
              "                            \n",
              "var gd = document.getElementById('51d3e876-9672-4041-8044-1d89d236c378');\n",
              "var x = new MutationObserver(function (mutations, observer) {{\n",
              "        var display = window.getComputedStyle(gd).display;\n",
              "        if (!display || display === 'none') {{\n",
              "            console.log([gd, 'removed!']);\n",
              "            Plotly.purge(gd);\n",
              "            observer.disconnect();\n",
              "        }}\n",
              "}});\n",
              "\n",
              "// Listen for the removal of the full notebook cells\n",
              "var notebookContainer = gd.closest('#notebook-container');\n",
              "if (notebookContainer) {{\n",
              "    x.observe(notebookContainer, {childList: true});\n",
              "}}\n",
              "\n",
              "// Listen for the clearing of the current output cell\n",
              "var outputEl = gd.closest('.output');\n",
              "if (outputEl) {{\n",
              "    x.observe(outputEl, {childList: true});\n",
              "}}\n",
              "\n",
              "                        })                };                            </script>        </div>\n",
              "</body>\n",
              "</html>"
            ]
          },
          "metadata": {}
        }
      ]
    },
    {
      "cell_type": "markdown",
      "source": [
        "RELATIONSHIP BETWEEN VARIABLES:"
      ],
      "metadata": {
        "id": "_Awb_dVOKKZO"
      }
    },
    {
      "cell_type": "markdown",
      "source": [
        "Gender and Platform:"
      ],
      "metadata": {
        "id": "0SOd42vzKRyn"
      }
    },
    {
      "cell_type": "code",
      "source": [
        "# Group the data by gender and platform\n",
        "grouped = train_df.groupby(['Gender', 'Platform'])\n",
        "\n",
        "# Count the number of rows in each group\n",
        "counts = grouped.size()\n",
        "\n",
        "# Print the counts\n",
        "print(counts)"
      ],
      "metadata": {
        "colab": {
          "base_uri": "https://localhost:8080/"
        },
        "id": "9jk90cJ8KFdd",
        "outputId": "f3f3d3df-2f00-40f6-9a6a-3ff2f3342946"
      },
      "execution_count": 84,
      "outputs": [
        {
          "output_type": "stream",
          "name": "stdout",
          "text": [
            "Gender      Platform \n",
            "Female      Facebook      10\n",
            "            Instagram    150\n",
            "            LinkedIn      40\n",
            "            Snapchat      28\n",
            "            Twitter       66\n",
            "            Whatsapp      50\n",
            "Male        Facebook      38\n",
            "            Instagram     76\n",
            "            LinkedIn      48\n",
            "            Telegram      50\n",
            "            Twitter      102\n",
            "            Whatsapp      18\n",
            "Non-binary  Facebook     130\n",
            "            Instagram     10\n",
            "            LinkedIn      30\n",
            "            Snapchat      40\n",
            "            Telegram      18\n",
            "            Twitter       20\n",
            "Unknown     Facebook      12\n",
            "            Instagram     15\n",
            "            LinkedIn       2\n",
            "            Snapchat      12\n",
            "            Telegram      12\n",
            "            Twitter       12\n",
            "            Whatsapp      12\n",
            "dtype: int64\n"
          ]
        }
      ]
    },
    {
      "cell_type": "code",
      "source": [
        "plt = px.histogram(train_df, x='Gender', color='Platform', title='Platform by Gender Usage')\n",
        "plt.show()"
      ],
      "metadata": {
        "colab": {
          "base_uri": "https://localhost:8080/",
          "height": 542
        },
        "id": "ktZ-hqFyKZBO",
        "outputId": "6066fa63-ec68-4f92-c836-493f8f0da9b9"
      },
      "execution_count": 85,
      "outputs": [
        {
          "output_type": "display_data",
          "data": {
            "text/html": [
              "<html>\n",
              "<head><meta charset=\"utf-8\" /></head>\n",
              "<body>\n",
              "    <div>            <script src=\"https://cdnjs.cloudflare.com/ajax/libs/mathjax/2.7.5/MathJax.js?config=TeX-AMS-MML_SVG\"></script><script type=\"text/javascript\">if (window.MathJax && window.MathJax.Hub && window.MathJax.Hub.Config) {window.MathJax.Hub.Config({SVG: {font: \"STIX-Web\"}});}</script>                <script type=\"text/javascript\">window.PlotlyConfig = {MathJaxConfig: 'local'};</script>\n",
              "        <script charset=\"utf-8\" src=\"https://cdn.plot.ly/plotly-2.24.1.min.js\"></script>                <div id=\"f9ce9c4d-1663-425c-8127-6f0177703f02\" class=\"plotly-graph-div\" style=\"height:525px; width:100%;\"></div>            <script type=\"text/javascript\">                                    window.PLOTLYENV=window.PLOTLYENV || {};                                    if (document.getElementById(\"f9ce9c4d-1663-425c-8127-6f0177703f02\")) {                    Plotly.newPlot(                        \"f9ce9c4d-1663-425c-8127-6f0177703f02\",                        [{\"alignmentgroup\":\"True\",\"bingroup\":\"x\",\"hovertemplate\":\"Platform=Instagram\\u003cbr\\u003eGender=%{x}\\u003cbr\\u003ecount=%{y}\\u003cextra\\u003e\\u003c\\u002fextra\\u003e\",\"legendgroup\":\"Instagram\",\"marker\":{\"color\":\"#636efa\",\"pattern\":{\"shape\":\"\"}},\"name\":\"Instagram\",\"offsetgroup\":\"Instagram\",\"orientation\":\"v\",\"showlegend\":true,\"x\":[\"Female\",\"Female\",\"Male\",\"Male\",\"Female\",\"Female\",\"Female\",\"Non-binary\",\"Female\",\"Male\",\"Female\",\"Female\",\"Female\",\"Female\",\"Male\",\"Male\",\"Male\",\"Female\",\"Female\",\"Male\",\"Female\",\"Female\",\"Female\",\"Female\",\"Male\",\"Female\",\"Female\",\"Male\",\"Male\",\"Female\",\"Female\",\"Female\",\"Non-binary\",\"Female\",\"Male\",\"Female\",\"Female\",\"Female\",\"Female\",\"Male\",\"Male\",\"Male\",\"Female\",\"Female\",\"Male\",\"Female\",\"Female\",\"Female\",\"Female\",\"Male\",\"Female\",\"Female\",\"Male\",\"Male\",\"Female\",\"Female\",\"Female\",\"Non-binary\",\"Female\",\"Male\",\"Female\",\"Female\",\"Female\",\"Female\",\"Male\",\"Male\",\"Unknown\",\"Unknown\",\"Unknown\",\"Unknown\",\"Unknown\",\"Unknown\",\"Unknown\",\"Female\",\"Male\",\"Female\",\"Female\",\"Male\",\"Male\",\"Female\",\"Female\",\"Female\",\"Non-binary\",\"Female\",\"Male\",\"Female\",\"Female\",\"Female\",\"Female\",\"Male\",\"Male\",\"Male\",\"Female\",\"Female\",\"Male\",\"Female\",\"Female\",\"Female\",\"Female\",\"Male\",\"Female\",\"Female\",\"Male\",\"Male\",\"Female\",\"Female\",\"Female\",\"Non-binary\",\"Female\",\"Male\",\"Female\",\"Female\",\"Female\",\"Female\",\"Male\",\"Male\",\"Male\",\"Female\",\"Female\",\"Male\",\"Female\",\"Female\",\"Female\",\"Female\",\"Male\",\"Female\",\"Female\",\"Male\",\"Male\",\"Female\",\"Female\",\"Female\",\"Non-binary\",\"Female\",\"Male\",\"Female\",\"Female\",\"Female\",\"Female\",\"Male\",\"Male\",\"Male\",\"Female\",\"Female\",\"Male\",\"Female\",\"Female\",\"Female\",\"Female\",\"Male\",\"Female\",\"Female\",\"Male\",\"Male\",\"Female\",\"Female\",\"Female\",\"Non-binary\",\"Female\",\"Male\",\"Female\",\"Female\",\"Female\",\"Unknown\",\"Female\",\"Male\",\"Male\",\"Male\",\"Female\",\"Female\",\"Male\",\"Female\",\"Female\",\"Female\",\"Female\",\"Male\",\"Female\",\"Female\",\"Male\",\"Male\",\"Female\",\"Female\",\"Female\",\"Non-binary\",\"Female\",\"Male\",\"Female\",\"Female\",\"Female\",\"Female\",\"Male\",\"Male\",\"Unknown\",\"Unknown\",\"Unknown\",\"Unknown\",\"Unknown\",\"Unknown\",\"Unknown\",\"Female\",\"Male\",\"Female\",\"Female\",\"Male\",\"Male\",\"Female\",\"Female\",\"Female\",\"Non-binary\",\"Female\",\"Male\",\"Female\",\"Female\",\"Female\",\"Female\",\"Male\",\"Male\",\"Male\",\"Female\",\"Female\",\"Male\",\"Female\",\"Female\",\"Female\",\"Female\",\"Male\",\"Female\",\"Female\",\"Male\",\"Male\",\"Female\",\"Female\",\"Female\",\"Non-binary\",\"Female\",\"Male\",\"Female\",\"Female\",\"Female\",\"Female\",\"Male\",\"Male\",\"Male\",\"Female\",\"Female\",\"Male\",\"Female\",\"Female\",\"Female\",\"Female\",\"Male\"],\"xaxis\":\"x\",\"yaxis\":\"y\",\"type\":\"histogram\"},{\"alignmentgroup\":\"True\",\"bingroup\":\"x\",\"hovertemplate\":\"Platform=Twitter\\u003cbr\\u003eGender=%{x}\\u003cbr\\u003ecount=%{y}\\u003cextra\\u003e\\u003c\\u002fextra\\u003e\",\"legendgroup\":\"Twitter\",\"marker\":{\"color\":\"#EF553B\",\"pattern\":{\"shape\":\"\"}},\"name\":\"Twitter\",\"offsetgroup\":\"Twitter\",\"orientation\":\"v\",\"showlegend\":true,\"x\":[\"Male\",\"Female\",\"Female\",\"Male\",\"Male\",\"Female\",\"Female\",\"Male\",\"Non-binary\",\"Male\",\"Male\",\"Female\",\"Female\",\"Female\",\"Male\",\"Male\",\"Male\",\"Male\",\"Male\",\"Non-binary\",\"Male\",\"Female\",\"Female\",\"Male\",\"Male\",\"Female\",\"Female\",\"Male\",\"Non-binary\",\"Male\",\"Male\",\"Female\",\"Female\",\"Female\",\"Male\",\"Male\",\"Male\",\"Male\",\"Male\",\"Non-binary\",\"Male\",\"Female\",\"Female\",\"Male\",\"Male\",\"Female\",\"Female\",\"Male\",\"Non-binary\",\"Male\",\"Male\",\"Female\",\"Unknown\",\"Unknown\",\"Unknown\",\"Unknown\",\"Unknown\",\"Unknown\",\"Male\",\"Non-binary\",\"Male\",\"Female\",\"Female\",\"Male\",\"Male\",\"Female\",\"Female\",\"Male\",\"Non-binary\",\"Male\",\"Male\",\"Female\",\"Female\",\"Female\",\"Male\",\"Male\",\"Male\",\"Male\",\"Male\",\"Non-binary\",\"Male\",\"Female\",\"Female\",\"Male\",\"Male\",\"Female\",\"Female\",\"Male\",\"Non-binary\",\"Male\",\"Male\",\"Female\",\"Female\",\"Female\",\"Male\",\"Male\",\"Male\",\"Male\",\"Male\",\"Non-binary\",\"Male\",\"Female\",\"Female\",\"Male\",\"Male\",\"Female\",\"Female\",\"Male\",\"Non-binary\",\"Male\",\"Male\",\"Female\",\"Female\",\"Female\",\"Male\",\"Male\",\"Male\",\"Male\",\"Male\",\"Non-binary\",\"Male\",\"Female\",\"Female\",\"Male\",\"Male\",\"Female\",\"Female\",\"Male\",\"Non-binary\",\"Male\",\"Male\",\"Female\",\"Female\",\"Female\",\"Male\",\"Male\",\"Male\",\"Male\",\"Male\",\"Non-binary\",\"Male\",\"Female\",\"Female\",\"Male\",\"Male\",\"Female\",\"Female\",\"Male\",\"Non-binary\",\"Male\",\"Male\",\"Female\",\"Unknown\",\"Unknown\",\"Unknown\",\"Unknown\",\"Unknown\",\"Unknown\",\"Male\",\"Non-binary\",\"Male\",\"Female\",\"Female\",\"Male\",\"Male\",\"Female\",\"Female\",\"Male\",\"Non-binary\",\"Male\",\"Male\",\"Female\",\"Female\",\"Female\",\"Male\",\"Male\",\"Male\",\"Male\",\"Male\",\"Non-binary\",\"Male\",\"Female\",\"Female\",\"Male\",\"Male\",\"Female\",\"Female\",\"Male\",\"Non-binary\",\"Male\",\"Male\",\"Female\",\"Female\",\"Female\",\"Male\",\"Male\",\"Male\",\"Male\",\"Male\",\"Non-binary\"],\"xaxis\":\"x\",\"yaxis\":\"y\",\"type\":\"histogram\"},{\"alignmentgroup\":\"True\",\"bingroup\":\"x\",\"hovertemplate\":\"Platform=Facebook\\u003cbr\\u003eGender=%{x}\\u003cbr\\u003ecount=%{y}\\u003cextra\\u003e\\u003c\\u002fextra\\u003e\",\"legendgroup\":\"Facebook\",\"marker\":{\"color\":\"#00cc96\",\"pattern\":{\"shape\":\"\"}},\"name\":\"Facebook\",\"offsetgroup\":\"Facebook\",\"orientation\":\"v\",\"showlegend\":true,\"x\":[\"Non-binary\",\"Non-binary\",\"Non-binary\",\"Non-binary\",\"Male\",\"Male\",\"Non-binary\",\"Male\",\"Non-binary\",\"Non-binary\",\"Non-binary\",\"Non-binary\",\"Male\",\"Non-binary\",\"Non-binary\",\"Non-binary\",\"Non-binary\",\"Non-binary\",\"Female\",\"Non-binary\",\"Non-binary\",\"Non-binary\",\"Non-binary\",\"Male\",\"Male\",\"Non-binary\",\"Male\",\"Non-binary\",\"Non-binary\",\"Non-binary\",\"Non-binary\",\"Male\",\"Non-binary\",\"Non-binary\",\"Non-binary\",\"Non-binary\",\"Non-binary\",\"Female\",\"Non-binary\",\"Non-binary\",\"Non-binary\",\"Non-binary\",\"Male\",\"Male\",\"Non-binary\",\"Male\",\"Non-binary\",\"Non-binary\",\"Non-binary\",\"Unknown\",\"Unknown\",\"Unknown\",\"Unknown\",\"Unknown\",\"Unknown\",\"Non-binary\",\"Female\",\"Non-binary\",\"Non-binary\",\"Non-binary\",\"Non-binary\",\"Male\",\"Male\",\"Non-binary\",\"Male\",\"Non-binary\",\"Non-binary\",\"Non-binary\",\"Non-binary\",\"Male\",\"Non-binary\",\"Non-binary\",\"Non-binary\",\"Non-binary\",\"Non-binary\",\"Female\",\"Non-binary\",\"Non-binary\",\"Non-binary\",\"Non-binary\",\"Male\",\"Male\",\"Non-binary\",\"Male\",\"Non-binary\",\"Non-binary\",\"Non-binary\",\"Non-binary\",\"Male\",\"Non-binary\",\"Non-binary\",\"Non-binary\",\"Non-binary\",\"Non-binary\",\"Female\",\"Non-binary\",\"Non-binary\",\"Non-binary\",\"Non-binary\",\"Male\",\"Male\",\"Non-binary\",\"Male\",\"Non-binary\",\"Non-binary\",\"Non-binary\",\"Non-binary\",\"Male\",\"Non-binary\",\"Non-binary\",\"Non-binary\",\"Non-binary\",\"Non-binary\",\"Female\",\"Non-binary\",\"Non-binary\",\"Non-binary\",\"Non-binary\",\"Male\",\"Male\",\"Non-binary\",\"Male\",\"Non-binary\",\"Non-binary\",\"Non-binary\",\"Non-binary\",\"Male\",\"Non-binary\",\"Non-binary\",\"Non-binary\",\"Non-binary\",\"Non-binary\",\"Female\",\"Non-binary\",\"Non-binary\",\"Non-binary\",\"Non-binary\",\"Male\",\"Male\",\"Non-binary\",\"Male\",\"Non-binary\",\"Non-binary\",\"Non-binary\",\"Unknown\",\"Unknown\",\"Unknown\",\"Unknown\",\"Unknown\",\"Unknown\",\"Non-binary\",\"Female\",\"Non-binary\",\"Non-binary\",\"Non-binary\",\"Non-binary\",\"Male\",\"Male\",\"Non-binary\",\"Male\",\"Non-binary\",\"Non-binary\",\"Non-binary\",\"Non-binary\",\"Male\",\"Non-binary\",\"Non-binary\",\"Non-binary\",\"Non-binary\",\"Non-binary\",\"Female\",\"Non-binary\",\"Non-binary\",\"Non-binary\",\"Non-binary\",\"Male\",\"Male\",\"Non-binary\",\"Male\",\"Non-binary\",\"Non-binary\",\"Non-binary\",\"Non-binary\",\"Male\",\"Non-binary\",\"Non-binary\",\"Non-binary\",\"Non-binary\",\"Non-binary\",\"Female\"],\"xaxis\":\"x\",\"yaxis\":\"y\",\"type\":\"histogram\"},{\"alignmentgroup\":\"True\",\"bingroup\":\"x\",\"hovertemplate\":\"Platform=LinkedIn\\u003cbr\\u003eGender=%{x}\\u003cbr\\u003ecount=%{y}\\u003cextra\\u003e\\u003c\\u002fextra\\u003e\",\"legendgroup\":\"LinkedIn\",\"marker\":{\"color\":\"#ab63fa\",\"pattern\":{\"shape\":\"\"}},\"name\":\"LinkedIn\",\"offsetgroup\":\"LinkedIn\",\"orientation\":\"v\",\"showlegend\":true,\"x\":[\"Male\",\"Female\",\"Male\",\"Non-binary\",\"Male\",\"Non-binary\",\"Female\",\"Non-binary\",\"Male\",\"Female\",\"Female\",\"Male\",\"Male\",\"Female\",\"Male\",\"Non-binary\",\"Male\",\"Non-binary\",\"Female\",\"Non-binary\",\"Male\",\"Female\",\"Female\",\"Male\",\"Male\",\"Female\",\"Male\",\"Non-binary\",\"Male\",\"Non-binary\",\"Female\",\"Non-binary\",\"Male\",\"Female\",\"Female\",\"Unknown\",\"Male\",\"Female\",\"Male\",\"Non-binary\",\"Male\",\"Non-binary\",\"Female\",\"Non-binary\",\"Male\",\"Female\",\"Female\",\"Male\",\"Male\",\"Female\",\"Male\",\"Non-binary\",\"Male\",\"Non-binary\",\"Female\",\"Non-binary\",\"Male\",\"Female\",\"Female\",\"Male\",\"Male\",\"Female\",\"Male\",\"Non-binary\",\"Male\",\"Non-binary\",\"Female\",\"Non-binary\",\"Male\",\"Female\",\"Female\",\"Male\",\"Male\",\"Female\",\"Male\",\"Non-binary\",\"Male\",\"Non-binary\",\"Female\",\"Non-binary\",\"Male\",\"Female\",\"Female\",\"Male\",\"Male\",\"Female\",\"Male\",\"Non-binary\",\"Male\",\"Non-binary\",\"Female\",\"Non-binary\",\"Male\",\"Female\",\"Female\",\"Unknown\",\"Male\",\"Female\",\"Male\",\"Non-binary\",\"Male\",\"Non-binary\",\"Female\",\"Non-binary\",\"Male\",\"Female\",\"Female\",\"Male\",\"Male\",\"Female\",\"Male\",\"Non-binary\",\"Male\",\"Non-binary\",\"Female\",\"Non-binary\",\"Male\",\"Female\",\"Female\",\"Male\"],\"xaxis\":\"x\",\"yaxis\":\"y\",\"type\":\"histogram\"},{\"alignmentgroup\":\"True\",\"bingroup\":\"x\",\"hovertemplate\":\"Platform=Whatsapp\\u003cbr\\u003eGender=%{x}\\u003cbr\\u003ecount=%{y}\\u003cextra\\u003e\\u003c\\u002fextra\\u003e\",\"legendgroup\":\"Whatsapp\",\"marker\":{\"color\":\"#FFA15A\",\"pattern\":{\"shape\":\"\"}},\"name\":\"Whatsapp\",\"offsetgroup\":\"Whatsapp\",\"orientation\":\"v\",\"showlegend\":true,\"x\":[\"Female\",\"Male\",\"Female\",\"Female\",\"Female\",\"Female\",\"Female\",\"Male\",\"Female\",\"Male\",\"Female\",\"Female\",\"Female\",\"Female\",\"Female\",\"Male\",\"Unknown\",\"Unknown\",\"Unknown\",\"Unknown\",\"Unknown\",\"Unknown\",\"Female\",\"Male\",\"Female\",\"Male\",\"Female\",\"Female\",\"Female\",\"Female\",\"Female\",\"Male\",\"Female\",\"Male\",\"Female\",\"Female\",\"Female\",\"Female\",\"Female\",\"Male\",\"Female\",\"Male\",\"Female\",\"Female\",\"Female\",\"Female\",\"Female\",\"Male\",\"Female\",\"Male\",\"Female\",\"Female\",\"Female\",\"Female\",\"Female\",\"Male\",\"Unknown\",\"Unknown\",\"Unknown\",\"Unknown\",\"Unknown\",\"Unknown\",\"Female\",\"Male\",\"Female\",\"Male\",\"Female\",\"Female\",\"Female\",\"Female\",\"Female\",\"Male\",\"Female\",\"Male\",\"Female\",\"Female\",\"Female\",\"Female\",\"Female\",\"Male\"],\"xaxis\":\"x\",\"yaxis\":\"y\",\"type\":\"histogram\"},{\"alignmentgroup\":\"True\",\"bingroup\":\"x\",\"hovertemplate\":\"Platform=Telegram\\u003cbr\\u003eGender=%{x}\\u003cbr\\u003ecount=%{y}\\u003cextra\\u003e\\u003c\\u002fextra\\u003e\",\"legendgroup\":\"Telegram\",\"marker\":{\"color\":\"#19d3f3\",\"pattern\":{\"shape\":\"\"}},\"name\":\"Telegram\",\"offsetgroup\":\"Telegram\",\"orientation\":\"v\",\"showlegend\":true,\"x\":[\"Male\",\"Non-binary\",\"Male\",\"Male\",\"Male\",\"Male\",\"Male\",\"Non-binary\",\"Male\",\"Non-binary\",\"Male\",\"Male\",\"Male\",\"Male\",\"Male\",\"Non-binary\",\"Unknown\",\"Unknown\",\"Unknown\",\"Unknown\",\"Unknown\",\"Unknown\",\"Male\",\"Non-binary\",\"Male\",\"Non-binary\",\"Male\",\"Male\",\"Male\",\"Male\",\"Male\",\"Non-binary\",\"Male\",\"Non-binary\",\"Male\",\"Male\",\"Male\",\"Male\",\"Male\",\"Non-binary\",\"Male\",\"Non-binary\",\"Male\",\"Male\",\"Male\",\"Male\",\"Male\",\"Non-binary\",\"Male\",\"Non-binary\",\"Male\",\"Male\",\"Male\",\"Male\",\"Male\",\"Non-binary\",\"Unknown\",\"Unknown\",\"Unknown\",\"Unknown\",\"Unknown\",\"Unknown\",\"Male\",\"Non-binary\",\"Male\",\"Non-binary\",\"Male\",\"Male\",\"Male\",\"Male\",\"Male\",\"Non-binary\",\"Male\",\"Non-binary\",\"Male\",\"Male\",\"Male\",\"Male\",\"Male\",\"Non-binary\"],\"xaxis\":\"x\",\"yaxis\":\"y\",\"type\":\"histogram\"},{\"alignmentgroup\":\"True\",\"bingroup\":\"x\",\"hovertemplate\":\"Platform=Snapchat\\u003cbr\\u003eGender=%{x}\\u003cbr\\u003ecount=%{y}\\u003cextra\\u003e\\u003c\\u002fextra\\u003e\",\"legendgroup\":\"Snapchat\",\"marker\":{\"color\":\"#FF6692\",\"pattern\":{\"shape\":\"\"}},\"name\":\"Snapchat\",\"offsetgroup\":\"Snapchat\",\"orientation\":\"v\",\"showlegend\":true,\"x\":[\"Non-binary\",\"Female\",\"Non-binary\",\"Non-binary\",\"Non-binary\",\"Non-binary\",\"Female\",\"Female\",\"Non-binary\",\"Female\",\"Non-binary\",\"Non-binary\",\"Non-binary\",\"Non-binary\",\"Female\",\"Female\",\"Unknown\",\"Unknown\",\"Unknown\",\"Unknown\",\"Unknown\",\"Unknown\",\"Female\",\"Female\",\"Non-binary\",\"Female\",\"Non-binary\",\"Non-binary\",\"Non-binary\",\"Non-binary\",\"Female\",\"Female\",\"Non-binary\",\"Female\",\"Non-binary\",\"Non-binary\",\"Non-binary\",\"Non-binary\",\"Female\",\"Female\",\"Non-binary\",\"Female\",\"Non-binary\",\"Non-binary\",\"Non-binary\",\"Non-binary\",\"Female\",\"Female\",\"Non-binary\",\"Female\",\"Non-binary\",\"Non-binary\",\"Non-binary\",\"Non-binary\",\"Female\",\"Female\",\"Unknown\",\"Unknown\",\"Unknown\",\"Unknown\",\"Unknown\",\"Unknown\",\"Female\",\"Female\",\"Non-binary\",\"Female\",\"Non-binary\",\"Non-binary\",\"Non-binary\",\"Non-binary\",\"Female\",\"Female\",\"Non-binary\",\"Female\",\"Non-binary\",\"Non-binary\",\"Non-binary\",\"Non-binary\",\"Female\",\"Female\"],\"xaxis\":\"x\",\"yaxis\":\"y\",\"type\":\"histogram\"}],                        {\"template\":{\"data\":{\"histogram2dcontour\":[{\"type\":\"histogram2dcontour\",\"colorbar\":{\"outlinewidth\":0,\"ticks\":\"\"},\"colorscale\":[[0.0,\"#0d0887\"],[0.1111111111111111,\"#46039f\"],[0.2222222222222222,\"#7201a8\"],[0.3333333333333333,\"#9c179e\"],[0.4444444444444444,\"#bd3786\"],[0.5555555555555556,\"#d8576b\"],[0.6666666666666666,\"#ed7953\"],[0.7777777777777778,\"#fb9f3a\"],[0.8888888888888888,\"#fdca26\"],[1.0,\"#f0f921\"]]}],\"choropleth\":[{\"type\":\"choropleth\",\"colorbar\":{\"outlinewidth\":0,\"ticks\":\"\"}}],\"histogram2d\":[{\"type\":\"histogram2d\",\"colorbar\":{\"outlinewidth\":0,\"ticks\":\"\"},\"colorscale\":[[0.0,\"#0d0887\"],[0.1111111111111111,\"#46039f\"],[0.2222222222222222,\"#7201a8\"],[0.3333333333333333,\"#9c179e\"],[0.4444444444444444,\"#bd3786\"],[0.5555555555555556,\"#d8576b\"],[0.6666666666666666,\"#ed7953\"],[0.7777777777777778,\"#fb9f3a\"],[0.8888888888888888,\"#fdca26\"],[1.0,\"#f0f921\"]]}],\"heatmap\":[{\"type\":\"heatmap\",\"colorbar\":{\"outlinewidth\":0,\"ticks\":\"\"},\"colorscale\":[[0.0,\"#0d0887\"],[0.1111111111111111,\"#46039f\"],[0.2222222222222222,\"#7201a8\"],[0.3333333333333333,\"#9c179e\"],[0.4444444444444444,\"#bd3786\"],[0.5555555555555556,\"#d8576b\"],[0.6666666666666666,\"#ed7953\"],[0.7777777777777778,\"#fb9f3a\"],[0.8888888888888888,\"#fdca26\"],[1.0,\"#f0f921\"]]}],\"heatmapgl\":[{\"type\":\"heatmapgl\",\"colorbar\":{\"outlinewidth\":0,\"ticks\":\"\"},\"colorscale\":[[0.0,\"#0d0887\"],[0.1111111111111111,\"#46039f\"],[0.2222222222222222,\"#7201a8\"],[0.3333333333333333,\"#9c179e\"],[0.4444444444444444,\"#bd3786\"],[0.5555555555555556,\"#d8576b\"],[0.6666666666666666,\"#ed7953\"],[0.7777777777777778,\"#fb9f3a\"],[0.8888888888888888,\"#fdca26\"],[1.0,\"#f0f921\"]]}],\"contourcarpet\":[{\"type\":\"contourcarpet\",\"colorbar\":{\"outlinewidth\":0,\"ticks\":\"\"}}],\"contour\":[{\"type\":\"contour\",\"colorbar\":{\"outlinewidth\":0,\"ticks\":\"\"},\"colorscale\":[[0.0,\"#0d0887\"],[0.1111111111111111,\"#46039f\"],[0.2222222222222222,\"#7201a8\"],[0.3333333333333333,\"#9c179e\"],[0.4444444444444444,\"#bd3786\"],[0.5555555555555556,\"#d8576b\"],[0.6666666666666666,\"#ed7953\"],[0.7777777777777778,\"#fb9f3a\"],[0.8888888888888888,\"#fdca26\"],[1.0,\"#f0f921\"]]}],\"surface\":[{\"type\":\"surface\",\"colorbar\":{\"outlinewidth\":0,\"ticks\":\"\"},\"colorscale\":[[0.0,\"#0d0887\"],[0.1111111111111111,\"#46039f\"],[0.2222222222222222,\"#7201a8\"],[0.3333333333333333,\"#9c179e\"],[0.4444444444444444,\"#bd3786\"],[0.5555555555555556,\"#d8576b\"],[0.6666666666666666,\"#ed7953\"],[0.7777777777777778,\"#fb9f3a\"],[0.8888888888888888,\"#fdca26\"],[1.0,\"#f0f921\"]]}],\"mesh3d\":[{\"type\":\"mesh3d\",\"colorbar\":{\"outlinewidth\":0,\"ticks\":\"\"}}],\"scatter\":[{\"fillpattern\":{\"fillmode\":\"overlay\",\"size\":10,\"solidity\":0.2},\"type\":\"scatter\"}],\"parcoords\":[{\"type\":\"parcoords\",\"line\":{\"colorbar\":{\"outlinewidth\":0,\"ticks\":\"\"}}}],\"scatterpolargl\":[{\"type\":\"scatterpolargl\",\"marker\":{\"colorbar\":{\"outlinewidth\":0,\"ticks\":\"\"}}}],\"bar\":[{\"error_x\":{\"color\":\"#2a3f5f\"},\"error_y\":{\"color\":\"#2a3f5f\"},\"marker\":{\"line\":{\"color\":\"#E5ECF6\",\"width\":0.5},\"pattern\":{\"fillmode\":\"overlay\",\"size\":10,\"solidity\":0.2}},\"type\":\"bar\"}],\"scattergeo\":[{\"type\":\"scattergeo\",\"marker\":{\"colorbar\":{\"outlinewidth\":0,\"ticks\":\"\"}}}],\"scatterpolar\":[{\"type\":\"scatterpolar\",\"marker\":{\"colorbar\":{\"outlinewidth\":0,\"ticks\":\"\"}}}],\"histogram\":[{\"marker\":{\"pattern\":{\"fillmode\":\"overlay\",\"size\":10,\"solidity\":0.2}},\"type\":\"histogram\"}],\"scattergl\":[{\"type\":\"scattergl\",\"marker\":{\"colorbar\":{\"outlinewidth\":0,\"ticks\":\"\"}}}],\"scatter3d\":[{\"type\":\"scatter3d\",\"line\":{\"colorbar\":{\"outlinewidth\":0,\"ticks\":\"\"}},\"marker\":{\"colorbar\":{\"outlinewidth\":0,\"ticks\":\"\"}}}],\"scattermapbox\":[{\"type\":\"scattermapbox\",\"marker\":{\"colorbar\":{\"outlinewidth\":0,\"ticks\":\"\"}}}],\"scatterternary\":[{\"type\":\"scatterternary\",\"marker\":{\"colorbar\":{\"outlinewidth\":0,\"ticks\":\"\"}}}],\"scattercarpet\":[{\"type\":\"scattercarpet\",\"marker\":{\"colorbar\":{\"outlinewidth\":0,\"ticks\":\"\"}}}],\"carpet\":[{\"aaxis\":{\"endlinecolor\":\"#2a3f5f\",\"gridcolor\":\"white\",\"linecolor\":\"white\",\"minorgridcolor\":\"white\",\"startlinecolor\":\"#2a3f5f\"},\"baxis\":{\"endlinecolor\":\"#2a3f5f\",\"gridcolor\":\"white\",\"linecolor\":\"white\",\"minorgridcolor\":\"white\",\"startlinecolor\":\"#2a3f5f\"},\"type\":\"carpet\"}],\"table\":[{\"cells\":{\"fill\":{\"color\":\"#EBF0F8\"},\"line\":{\"color\":\"white\"}},\"header\":{\"fill\":{\"color\":\"#C8D4E3\"},\"line\":{\"color\":\"white\"}},\"type\":\"table\"}],\"barpolar\":[{\"marker\":{\"line\":{\"color\":\"#E5ECF6\",\"width\":0.5},\"pattern\":{\"fillmode\":\"overlay\",\"size\":10,\"solidity\":0.2}},\"type\":\"barpolar\"}],\"pie\":[{\"automargin\":true,\"type\":\"pie\"}]},\"layout\":{\"autotypenumbers\":\"strict\",\"colorway\":[\"#636efa\",\"#EF553B\",\"#00cc96\",\"#ab63fa\",\"#FFA15A\",\"#19d3f3\",\"#FF6692\",\"#B6E880\",\"#FF97FF\",\"#FECB52\"],\"font\":{\"color\":\"#2a3f5f\"},\"hovermode\":\"closest\",\"hoverlabel\":{\"align\":\"left\"},\"paper_bgcolor\":\"white\",\"plot_bgcolor\":\"#E5ECF6\",\"polar\":{\"bgcolor\":\"#E5ECF6\",\"angularaxis\":{\"gridcolor\":\"white\",\"linecolor\":\"white\",\"ticks\":\"\"},\"radialaxis\":{\"gridcolor\":\"white\",\"linecolor\":\"white\",\"ticks\":\"\"}},\"ternary\":{\"bgcolor\":\"#E5ECF6\",\"aaxis\":{\"gridcolor\":\"white\",\"linecolor\":\"white\",\"ticks\":\"\"},\"baxis\":{\"gridcolor\":\"white\",\"linecolor\":\"white\",\"ticks\":\"\"},\"caxis\":{\"gridcolor\":\"white\",\"linecolor\":\"white\",\"ticks\":\"\"}},\"coloraxis\":{\"colorbar\":{\"outlinewidth\":0,\"ticks\":\"\"}},\"colorscale\":{\"sequential\":[[0.0,\"#0d0887\"],[0.1111111111111111,\"#46039f\"],[0.2222222222222222,\"#7201a8\"],[0.3333333333333333,\"#9c179e\"],[0.4444444444444444,\"#bd3786\"],[0.5555555555555556,\"#d8576b\"],[0.6666666666666666,\"#ed7953\"],[0.7777777777777778,\"#fb9f3a\"],[0.8888888888888888,\"#fdca26\"],[1.0,\"#f0f921\"]],\"sequentialminus\":[[0.0,\"#0d0887\"],[0.1111111111111111,\"#46039f\"],[0.2222222222222222,\"#7201a8\"],[0.3333333333333333,\"#9c179e\"],[0.4444444444444444,\"#bd3786\"],[0.5555555555555556,\"#d8576b\"],[0.6666666666666666,\"#ed7953\"],[0.7777777777777778,\"#fb9f3a\"],[0.8888888888888888,\"#fdca26\"],[1.0,\"#f0f921\"]],\"diverging\":[[0,\"#8e0152\"],[0.1,\"#c51b7d\"],[0.2,\"#de77ae\"],[0.3,\"#f1b6da\"],[0.4,\"#fde0ef\"],[0.5,\"#f7f7f7\"],[0.6,\"#e6f5d0\"],[0.7,\"#b8e186\"],[0.8,\"#7fbc41\"],[0.9,\"#4d9221\"],[1,\"#276419\"]]},\"xaxis\":{\"gridcolor\":\"white\",\"linecolor\":\"white\",\"ticks\":\"\",\"title\":{\"standoff\":15},\"zerolinecolor\":\"white\",\"automargin\":true,\"zerolinewidth\":2},\"yaxis\":{\"gridcolor\":\"white\",\"linecolor\":\"white\",\"ticks\":\"\",\"title\":{\"standoff\":15},\"zerolinecolor\":\"white\",\"automargin\":true,\"zerolinewidth\":2},\"scene\":{\"xaxis\":{\"backgroundcolor\":\"#E5ECF6\",\"gridcolor\":\"white\",\"linecolor\":\"white\",\"showbackground\":true,\"ticks\":\"\",\"zerolinecolor\":\"white\",\"gridwidth\":2},\"yaxis\":{\"backgroundcolor\":\"#E5ECF6\",\"gridcolor\":\"white\",\"linecolor\":\"white\",\"showbackground\":true,\"ticks\":\"\",\"zerolinecolor\":\"white\",\"gridwidth\":2},\"zaxis\":{\"backgroundcolor\":\"#E5ECF6\",\"gridcolor\":\"white\",\"linecolor\":\"white\",\"showbackground\":true,\"ticks\":\"\",\"zerolinecolor\":\"white\",\"gridwidth\":2}},\"shapedefaults\":{\"line\":{\"color\":\"#2a3f5f\"}},\"annotationdefaults\":{\"arrowcolor\":\"#2a3f5f\",\"arrowhead\":0,\"arrowwidth\":1},\"geo\":{\"bgcolor\":\"white\",\"landcolor\":\"#E5ECF6\",\"subunitcolor\":\"white\",\"showland\":true,\"showlakes\":true,\"lakecolor\":\"white\"},\"title\":{\"x\":0.05},\"mapbox\":{\"style\":\"light\"}}},\"xaxis\":{\"anchor\":\"y\",\"domain\":[0.0,1.0],\"title\":{\"text\":\"Gender\"}},\"yaxis\":{\"anchor\":\"x\",\"domain\":[0.0,1.0],\"title\":{\"text\":\"count\"}},\"legend\":{\"title\":{\"text\":\"Platform\"},\"tracegroupgap\":0},\"title\":{\"text\":\"Platform by Gender Usage\"},\"barmode\":\"relative\"},                        {\"responsive\": true}                    ).then(function(){\n",
              "                            \n",
              "var gd = document.getElementById('f9ce9c4d-1663-425c-8127-6f0177703f02');\n",
              "var x = new MutationObserver(function (mutations, observer) {{\n",
              "        var display = window.getComputedStyle(gd).display;\n",
              "        if (!display || display === 'none') {{\n",
              "            console.log([gd, 'removed!']);\n",
              "            Plotly.purge(gd);\n",
              "            observer.disconnect();\n",
              "        }}\n",
              "}});\n",
              "\n",
              "// Listen for the removal of the full notebook cells\n",
              "var notebookContainer = gd.closest('#notebook-container');\n",
              "if (notebookContainer) {{\n",
              "    x.observe(notebookContainer, {childList: true});\n",
              "}}\n",
              "\n",
              "// Listen for the clearing of the current output cell\n",
              "var outputEl = gd.closest('.output');\n",
              "if (outputEl) {{\n",
              "    x.observe(outputEl, {childList: true});\n",
              "}}\n",
              "\n",
              "                        })                };                            </script>        </div>\n",
              "</body>\n",
              "</html>"
            ]
          },
          "metadata": {}
        }
      ]
    },
    {
      "cell_type": "markdown",
      "source": [
        "Age and Gender:"
      ],
      "metadata": {
        "id": "k8JmpPyoKoSF"
      }
    },
    {
      "cell_type": "code",
      "source": [
        "# grouping age with gender\n",
        "grouped = train_df.groupby(['Age', 'Gender'])\n",
        "\n",
        "# count the number of rows in each group\n",
        "counts = grouped.size()\n",
        "\n",
        "# print the counts\n",
        "print(counts)"
      ],
      "metadata": {
        "colab": {
          "base_uri": "https://localhost:8080/"
        },
        "id": "WKkKee4nKjIA",
        "outputId": "e7835d3d-74b3-438b-b9d2-24b06aeaaa03"
      },
      "execution_count": 86,
      "outputs": [
        {
          "output_type": "stream",
          "name": "stdout",
          "text": [
            "Age   Gender    \n",
            "21.0  Female        20\n",
            "      Male          10\n",
            "      Non-binary    26\n",
            "22.0  Female        48\n",
            "      Male           8\n",
            "      Non-binary    18\n",
            "23.0  Female        10\n",
            "      Male           8\n",
            "      Non-binary    30\n",
            "24.0  Female        26\n",
            "      Male          10\n",
            "      Non-binary    28\n",
            "25.0  Female        40\n",
            "      Male          24\n",
            "26.0  Female         8\n",
            "      Male          28\n",
            "      Non-binary    30\n",
            "27.0  Female        28\n",
            "      Male          44\n",
            "      Non-binary    20\n",
            "      Unknown       77\n",
            "28.0  Female        36\n",
            "      Male          28\n",
            "      Non-binary    28\n",
            "29.0  Female        28\n",
            "      Male          30\n",
            "      Non-binary    32\n",
            "30.0  Female         8\n",
            "      Male          40\n",
            "31.0  Female         8\n",
            "      Male          54\n",
            "32.0  Female        28\n",
            "      Male          10\n",
            "33.0  Female        18\n",
            "      Male          10\n",
            "      Non-binary    28\n",
            "34.0  Female        18\n",
            "      Male          10\n",
            "      Non-binary     8\n",
            "35.0  Female        20\n",
            "      Male          18\n",
            "dtype: int64\n"
          ]
        }
      ]
    },
    {
      "cell_type": "code",
      "source": [
        "plt = px.histogram(train_df, x='Age', color='Gender', title='Age by Gender')\n",
        "plt.show()"
      ],
      "metadata": {
        "colab": {
          "base_uri": "https://localhost:8080/",
          "height": 542
        },
        "id": "OgI3SsKWKsw-",
        "outputId": "7dc9ffda-2c12-4ddd-9d01-5baba0e39a61"
      },
      "execution_count": 87,
      "outputs": [
        {
          "output_type": "display_data",
          "data": {
            "text/html": [
              "<html>\n",
              "<head><meta charset=\"utf-8\" /></head>\n",
              "<body>\n",
              "    <div>            <script src=\"https://cdnjs.cloudflare.com/ajax/libs/mathjax/2.7.5/MathJax.js?config=TeX-AMS-MML_SVG\"></script><script type=\"text/javascript\">if (window.MathJax && window.MathJax.Hub && window.MathJax.Hub.Config) {window.MathJax.Hub.Config({SVG: {font: \"STIX-Web\"}});}</script>                <script type=\"text/javascript\">window.PlotlyConfig = {MathJaxConfig: 'local'};</script>\n",
              "        <script charset=\"utf-8\" src=\"https://cdn.plot.ly/plotly-2.24.1.min.js\"></script>                <div id=\"c99083ba-247d-45ed-a8c9-d5807bc01796\" class=\"plotly-graph-div\" style=\"height:525px; width:100%;\"></div>            <script type=\"text/javascript\">                                    window.PLOTLYENV=window.PLOTLYENV || {};                                    if (document.getElementById(\"c99083ba-247d-45ed-a8c9-d5807bc01796\")) {                    Plotly.newPlot(                        \"c99083ba-247d-45ed-a8c9-d5807bc01796\",                        [{\"alignmentgroup\":\"True\",\"bingroup\":\"x\",\"hovertemplate\":\"Gender=Female\\u003cbr\\u003eAge=%{x}\\u003cbr\\u003ecount=%{y}\\u003cextra\\u003e\\u003c\\u002fextra\\u003e\",\"legendgroup\":\"Female\",\"marker\":{\"color\":\"#636efa\",\"pattern\":{\"shape\":\"\"}},\"name\":\"Female\",\"offsetgroup\":\"Female\",\"orientation\":\"v\",\"showlegend\":true,\"x\":[25.0,28.0,27.0,29.0,23.0,22.0,35.0,32.0,24.0,22.0,25.0,34.0,21.0,33.0,22.0,25.0,35.0,21.0,28.0,24.0,33.0,22.0,28.0,30.0,26.0,31.0,24.0,29.0,32.0,27.0,34.0,28.0,25.0,32.0,29.0,22.0,27.0,25.0,28.0,27.0,29.0,23.0,22.0,35.0,32.0,24.0,22.0,25.0,34.0,21.0,33.0,22.0,25.0,35.0,21.0,28.0,24.0,33.0,22.0,28.0,30.0,26.0,31.0,24.0,29.0,32.0,27.0,34.0,28.0,25.0,32.0,29.0,22.0,27.0,25.0,28.0,27.0,29.0,23.0,22.0,35.0,32.0,24.0,22.0,25.0,34.0,21.0,33.0,22.0,25.0,35.0,21.0,28.0,25.0,32.0,29.0,22.0,27.0,25.0,28.0,27.0,29.0,23.0,22.0,35.0,32.0,24.0,22.0,25.0,34.0,21.0,33.0,22.0,25.0,35.0,21.0,28.0,24.0,33.0,22.0,28.0,30.0,26.0,31.0,24.0,29.0,32.0,27.0,34.0,28.0,25.0,32.0,29.0,22.0,27.0,25.0,28.0,27.0,29.0,23.0,22.0,35.0,32.0,24.0,22.0,25.0,34.0,21.0,33.0,22.0,25.0,35.0,21.0,28.0,24.0,33.0,22.0,28.0,30.0,26.0,31.0,24.0,29.0,32.0,27.0,34.0,28.0,25.0,32.0,29.0,22.0,27.0,25.0,28.0,27.0,29.0,23.0,22.0,35.0,32.0,24.0,22.0,25.0,34.0,21.0,33.0,22.0,25.0,35.0,21.0,28.0,24.0,33.0,22.0,28.0,30.0,26.0,31.0,24.0,29.0,32.0,27.0,34.0,28.0,25.0,32.0,29.0,22.0,27.0,25.0,28.0,27.0,29.0,23.0,22.0,35.0,32.0,24.0,22.0,25.0,34.0,21.0,33.0,22.0,25.0,35.0,21.0,28.0,24.0,33.0,22.0,28.0,30.0,26.0,31.0,24.0,29.0,32.0,27.0,34.0,28.0,25.0,32.0,29.0,22.0,27.0,25.0,28.0,27.0,29.0,23.0,22.0,35.0,32.0,24.0,22.0,25.0,34.0,21.0,33.0,22.0,25.0,35.0,21.0,28.0,25.0,32.0,29.0,22.0,27.0,25.0,28.0,27.0,29.0,23.0,22.0,35.0,32.0,24.0,22.0,25.0,34.0,21.0,33.0,22.0,25.0,35.0,21.0,28.0,24.0,33.0,22.0,28.0,30.0,26.0,31.0,24.0,29.0,32.0,27.0,34.0,28.0,25.0,32.0,29.0,22.0,27.0,25.0,28.0,27.0,29.0,23.0,22.0,35.0,32.0,24.0,22.0,25.0,34.0,21.0,33.0,22.0,25.0,35.0,21.0,28.0,24.0,33.0,22.0,28.0,30.0,26.0,31.0,24.0,29.0,32.0,27.0,34.0,28.0,25.0,32.0,29.0,22.0,27.0],\"xaxis\":\"x\",\"yaxis\":\"y\",\"type\":\"histogram\"},{\"alignmentgroup\":\"True\",\"bingroup\":\"x\",\"hovertemplate\":\"Gender=Male\\u003cbr\\u003eAge=%{x}\\u003cbr\\u003ecount=%{y}\\u003cextra\\u003e\\u003c\\u002fextra\\u003e\",\"legendgroup\":\"Male\",\"marker\":{\"color\":\"#EF553B\",\"pattern\":{\"shape\":\"\"}},\"name\":\"Male\",\"offsetgroup\":\"Male\",\"orientation\":\"v\",\"showlegend\":true,\"x\":[30.0,33.0,21.0,31.0,34.0,28.0,27.0,26.0,29.0,31.0,30.0,28.0,29.0,27.0,31.0,29.0,30.0,32.0,27.0,31.0,25.0,27.0,23.0,25.0,28.0,27.0,35.0,25.0,26.0,31.0,22.0,31.0,30.0,24.0,26.0,35.0,30.0,33.0,21.0,31.0,34.0,28.0,27.0,26.0,29.0,31.0,30.0,28.0,29.0,27.0,31.0,29.0,30.0,32.0,27.0,31.0,25.0,27.0,23.0,25.0,28.0,27.0,35.0,25.0,26.0,31.0,22.0,31.0,30.0,24.0,26.0,35.0,30.0,33.0,21.0,31.0,34.0,28.0,27.0,26.0,29.0,31.0,30.0,28.0,29.0,27.0,31.0,29.0,30.0,32.0,30.0,24.0,26.0,35.0,30.0,33.0,21.0,31.0,34.0,28.0,27.0,26.0,29.0,31.0,30.0,28.0,29.0,27.0,31.0,29.0,30.0,32.0,27.0,31.0,25.0,27.0,23.0,25.0,28.0,27.0,35.0,25.0,26.0,31.0,22.0,31.0,30.0,24.0,26.0,35.0,30.0,33.0,21.0,31.0,34.0,28.0,27.0,26.0,29.0,31.0,30.0,28.0,29.0,27.0,31.0,29.0,30.0,32.0,27.0,31.0,25.0,27.0,23.0,25.0,28.0,27.0,35.0,25.0,26.0,31.0,22.0,31.0,30.0,24.0,26.0,35.0,30.0,33.0,21.0,31.0,34.0,28.0,27.0,26.0,29.0,31.0,30.0,28.0,29.0,27.0,31.0,29.0,30.0,32.0,27.0,31.0,25.0,27.0,23.0,25.0,28.0,27.0,35.0,25.0,26.0,31.0,22.0,31.0,30.0,24.0,26.0,35.0,30.0,33.0,21.0,31.0,34.0,28.0,27.0,26.0,29.0,31.0,30.0,28.0,29.0,27.0,31.0,29.0,30.0,32.0,27.0,31.0,25.0,27.0,23.0,25.0,28.0,27.0,35.0,25.0,26.0,31.0,22.0,31.0,30.0,24.0,26.0,35.0,30.0,33.0,21.0,31.0,34.0,28.0,27.0,26.0,29.0,31.0,30.0,28.0,29.0,27.0,31.0,29.0,30.0,32.0,30.0,24.0,26.0,35.0,30.0,33.0,21.0,31.0,34.0,28.0,27.0,26.0,29.0,31.0,30.0,28.0,29.0,27.0,31.0,29.0,30.0,32.0,27.0,31.0,25.0,27.0,23.0,25.0,28.0,27.0,35.0,25.0,26.0,31.0,22.0,31.0,30.0,24.0,26.0,35.0,30.0,33.0,21.0,31.0,34.0,28.0,27.0,26.0,29.0,31.0,30.0,28.0,29.0,27.0,31.0,29.0,30.0,32.0,27.0,31.0,25.0,27.0,23.0,25.0,28.0,27.0,35.0,25.0,26.0,31.0,22.0,31.0,30.0,24.0,26.0,35.0],\"xaxis\":\"x\",\"yaxis\":\"y\",\"type\":\"histogram\"},{\"alignmentgroup\":\"True\",\"bingroup\":\"x\",\"hovertemplate\":\"Gender=Non-binary\\u003cbr\\u003eAge=%{x}\\u003cbr\\u003ecount=%{y}\\u003cextra\\u003e\\u003c\\u002fextra\\u003e\",\"legendgroup\":\"Non-binary\",\"marker\":{\"color\":\"#00cc96\",\"pattern\":{\"shape\":\"\"}},\"name\":\"Non-binary\",\"offsetgroup\":\"Non-binary\",\"orientation\":\"v\",\"showlegend\":true,\"x\":[22.0,24.0,26.0,21.0,23.0,33.0,27.0,26.0,23.0,24.0,28.0,23.0,26.0,29.0,29.0,34.0,29.0,22.0,21.0,28.0,33.0,24.0,29.0,21.0,27.0,33.0,28.0,22.0,24.0,26.0,21.0,23.0,33.0,27.0,26.0,23.0,24.0,28.0,23.0,26.0,29.0,29.0,34.0,29.0,22.0,21.0,28.0,33.0,24.0,29.0,21.0,27.0,33.0,28.0,22.0,24.0,26.0,21.0,23.0,33.0,27.0,26.0,23.0,24.0,28.0,23.0,26.0,27.0,33.0,28.0,22.0,24.0,26.0,21.0,23.0,33.0,27.0,26.0,23.0,24.0,28.0,23.0,26.0,29.0,29.0,34.0,29.0,22.0,21.0,28.0,33.0,24.0,29.0,21.0,27.0,33.0,28.0,22.0,24.0,26.0,21.0,23.0,33.0,27.0,26.0,23.0,24.0,28.0,23.0,26.0,29.0,29.0,34.0,29.0,22.0,21.0,28.0,33.0,24.0,29.0,21.0,27.0,33.0,28.0,22.0,24.0,26.0,21.0,23.0,33.0,27.0,26.0,23.0,24.0,28.0,23.0,26.0,29.0,29.0,34.0,29.0,22.0,21.0,28.0,33.0,24.0,29.0,21.0,27.0,33.0,28.0,22.0,24.0,26.0,21.0,23.0,33.0,27.0,26.0,23.0,24.0,28.0,23.0,26.0,29.0,29.0,34.0,29.0,22.0,21.0,28.0,33.0,24.0,29.0,21.0,27.0,33.0,28.0,22.0,24.0,26.0,21.0,23.0,33.0,27.0,26.0,23.0,24.0,28.0,23.0,26.0,27.0,33.0,28.0,22.0,24.0,26.0,21.0,23.0,33.0,27.0,26.0,23.0,24.0,28.0,23.0,26.0,29.0,29.0,34.0,29.0,22.0,21.0,28.0,33.0,24.0,29.0,21.0,27.0,33.0,28.0,22.0,24.0,26.0,21.0,23.0,33.0,27.0,26.0,23.0,24.0,28.0,23.0,26.0,29.0,29.0,34.0,29.0,22.0,21.0,28.0,33.0,24.0,29.0,21.0,27.0,33.0,28.0],\"xaxis\":\"x\",\"yaxis\":\"y\",\"type\":\"histogram\"},{\"alignmentgroup\":\"True\",\"bingroup\":\"x\",\"hovertemplate\":\"Gender=Unknown\\u003cbr\\u003eAge=%{x}\\u003cbr\\u003ecount=%{y}\\u003cextra\\u003e\\u003c\\u002fextra\\u003e\",\"legendgroup\":\"Unknown\",\"marker\":{\"color\":\"#ab63fa\",\"pattern\":{\"shape\":\"\"}},\"name\":\"Unknown\",\"offsetgroup\":\"Unknown\",\"orientation\":\"v\",\"showlegend\":true,\"x\":[27.0,27.0,27.0,27.0,27.0,27.0,27.0,27.0,27.0,27.0,27.0,27.0,27.0,27.0,27.0,27.0,27.0,27.0,27.0,27.0,27.0,27.0,27.0,27.0,27.0,27.0,27.0,27.0,27.0,27.0,27.0,27.0,27.0,27.0,27.0,27.0,27.0,27.0,27.0,27.0,27.0,27.0,27.0,27.0,27.0,27.0,27.0,27.0,27.0,27.0,27.0,27.0,27.0,27.0,27.0,27.0,27.0,27.0,27.0,27.0,27.0,27.0,27.0,27.0,27.0,27.0,27.0,27.0,27.0,27.0,27.0,27.0,27.0,27.0,27.0,27.0,27.0],\"xaxis\":\"x\",\"yaxis\":\"y\",\"type\":\"histogram\"}],                        {\"template\":{\"data\":{\"histogram2dcontour\":[{\"type\":\"histogram2dcontour\",\"colorbar\":{\"outlinewidth\":0,\"ticks\":\"\"},\"colorscale\":[[0.0,\"#0d0887\"],[0.1111111111111111,\"#46039f\"],[0.2222222222222222,\"#7201a8\"],[0.3333333333333333,\"#9c179e\"],[0.4444444444444444,\"#bd3786\"],[0.5555555555555556,\"#d8576b\"],[0.6666666666666666,\"#ed7953\"],[0.7777777777777778,\"#fb9f3a\"],[0.8888888888888888,\"#fdca26\"],[1.0,\"#f0f921\"]]}],\"choropleth\":[{\"type\":\"choropleth\",\"colorbar\":{\"outlinewidth\":0,\"ticks\":\"\"}}],\"histogram2d\":[{\"type\":\"histogram2d\",\"colorbar\":{\"outlinewidth\":0,\"ticks\":\"\"},\"colorscale\":[[0.0,\"#0d0887\"],[0.1111111111111111,\"#46039f\"],[0.2222222222222222,\"#7201a8\"],[0.3333333333333333,\"#9c179e\"],[0.4444444444444444,\"#bd3786\"],[0.5555555555555556,\"#d8576b\"],[0.6666666666666666,\"#ed7953\"],[0.7777777777777778,\"#fb9f3a\"],[0.8888888888888888,\"#fdca26\"],[1.0,\"#f0f921\"]]}],\"heatmap\":[{\"type\":\"heatmap\",\"colorbar\":{\"outlinewidth\":0,\"ticks\":\"\"},\"colorscale\":[[0.0,\"#0d0887\"],[0.1111111111111111,\"#46039f\"],[0.2222222222222222,\"#7201a8\"],[0.3333333333333333,\"#9c179e\"],[0.4444444444444444,\"#bd3786\"],[0.5555555555555556,\"#d8576b\"],[0.6666666666666666,\"#ed7953\"],[0.7777777777777778,\"#fb9f3a\"],[0.8888888888888888,\"#fdca26\"],[1.0,\"#f0f921\"]]}],\"heatmapgl\":[{\"type\":\"heatmapgl\",\"colorbar\":{\"outlinewidth\":0,\"ticks\":\"\"},\"colorscale\":[[0.0,\"#0d0887\"],[0.1111111111111111,\"#46039f\"],[0.2222222222222222,\"#7201a8\"],[0.3333333333333333,\"#9c179e\"],[0.4444444444444444,\"#bd3786\"],[0.5555555555555556,\"#d8576b\"],[0.6666666666666666,\"#ed7953\"],[0.7777777777777778,\"#fb9f3a\"],[0.8888888888888888,\"#fdca26\"],[1.0,\"#f0f921\"]]}],\"contourcarpet\":[{\"type\":\"contourcarpet\",\"colorbar\":{\"outlinewidth\":0,\"ticks\":\"\"}}],\"contour\":[{\"type\":\"contour\",\"colorbar\":{\"outlinewidth\":0,\"ticks\":\"\"},\"colorscale\":[[0.0,\"#0d0887\"],[0.1111111111111111,\"#46039f\"],[0.2222222222222222,\"#7201a8\"],[0.3333333333333333,\"#9c179e\"],[0.4444444444444444,\"#bd3786\"],[0.5555555555555556,\"#d8576b\"],[0.6666666666666666,\"#ed7953\"],[0.7777777777777778,\"#fb9f3a\"],[0.8888888888888888,\"#fdca26\"],[1.0,\"#f0f921\"]]}],\"surface\":[{\"type\":\"surface\",\"colorbar\":{\"outlinewidth\":0,\"ticks\":\"\"},\"colorscale\":[[0.0,\"#0d0887\"],[0.1111111111111111,\"#46039f\"],[0.2222222222222222,\"#7201a8\"],[0.3333333333333333,\"#9c179e\"],[0.4444444444444444,\"#bd3786\"],[0.5555555555555556,\"#d8576b\"],[0.6666666666666666,\"#ed7953\"],[0.7777777777777778,\"#fb9f3a\"],[0.8888888888888888,\"#fdca26\"],[1.0,\"#f0f921\"]]}],\"mesh3d\":[{\"type\":\"mesh3d\",\"colorbar\":{\"outlinewidth\":0,\"ticks\":\"\"}}],\"scatter\":[{\"fillpattern\":{\"fillmode\":\"overlay\",\"size\":10,\"solidity\":0.2},\"type\":\"scatter\"}],\"parcoords\":[{\"type\":\"parcoords\",\"line\":{\"colorbar\":{\"outlinewidth\":0,\"ticks\":\"\"}}}],\"scatterpolargl\":[{\"type\":\"scatterpolargl\",\"marker\":{\"colorbar\":{\"outlinewidth\":0,\"ticks\":\"\"}}}],\"bar\":[{\"error_x\":{\"color\":\"#2a3f5f\"},\"error_y\":{\"color\":\"#2a3f5f\"},\"marker\":{\"line\":{\"color\":\"#E5ECF6\",\"width\":0.5},\"pattern\":{\"fillmode\":\"overlay\",\"size\":10,\"solidity\":0.2}},\"type\":\"bar\"}],\"scattergeo\":[{\"type\":\"scattergeo\",\"marker\":{\"colorbar\":{\"outlinewidth\":0,\"ticks\":\"\"}}}],\"scatterpolar\":[{\"type\":\"scatterpolar\",\"marker\":{\"colorbar\":{\"outlinewidth\":0,\"ticks\":\"\"}}}],\"histogram\":[{\"marker\":{\"pattern\":{\"fillmode\":\"overlay\",\"size\":10,\"solidity\":0.2}},\"type\":\"histogram\"}],\"scattergl\":[{\"type\":\"scattergl\",\"marker\":{\"colorbar\":{\"outlinewidth\":0,\"ticks\":\"\"}}}],\"scatter3d\":[{\"type\":\"scatter3d\",\"line\":{\"colorbar\":{\"outlinewidth\":0,\"ticks\":\"\"}},\"marker\":{\"colorbar\":{\"outlinewidth\":0,\"ticks\":\"\"}}}],\"scattermapbox\":[{\"type\":\"scattermapbox\",\"marker\":{\"colorbar\":{\"outlinewidth\":0,\"ticks\":\"\"}}}],\"scatterternary\":[{\"type\":\"scatterternary\",\"marker\":{\"colorbar\":{\"outlinewidth\":0,\"ticks\":\"\"}}}],\"scattercarpet\":[{\"type\":\"scattercarpet\",\"marker\":{\"colorbar\":{\"outlinewidth\":0,\"ticks\":\"\"}}}],\"carpet\":[{\"aaxis\":{\"endlinecolor\":\"#2a3f5f\",\"gridcolor\":\"white\",\"linecolor\":\"white\",\"minorgridcolor\":\"white\",\"startlinecolor\":\"#2a3f5f\"},\"baxis\":{\"endlinecolor\":\"#2a3f5f\",\"gridcolor\":\"white\",\"linecolor\":\"white\",\"minorgridcolor\":\"white\",\"startlinecolor\":\"#2a3f5f\"},\"type\":\"carpet\"}],\"table\":[{\"cells\":{\"fill\":{\"color\":\"#EBF0F8\"},\"line\":{\"color\":\"white\"}},\"header\":{\"fill\":{\"color\":\"#C8D4E3\"},\"line\":{\"color\":\"white\"}},\"type\":\"table\"}],\"barpolar\":[{\"marker\":{\"line\":{\"color\":\"#E5ECF6\",\"width\":0.5},\"pattern\":{\"fillmode\":\"overlay\",\"size\":10,\"solidity\":0.2}},\"type\":\"barpolar\"}],\"pie\":[{\"automargin\":true,\"type\":\"pie\"}]},\"layout\":{\"autotypenumbers\":\"strict\",\"colorway\":[\"#636efa\",\"#EF553B\",\"#00cc96\",\"#ab63fa\",\"#FFA15A\",\"#19d3f3\",\"#FF6692\",\"#B6E880\",\"#FF97FF\",\"#FECB52\"],\"font\":{\"color\":\"#2a3f5f\"},\"hovermode\":\"closest\",\"hoverlabel\":{\"align\":\"left\"},\"paper_bgcolor\":\"white\",\"plot_bgcolor\":\"#E5ECF6\",\"polar\":{\"bgcolor\":\"#E5ECF6\",\"angularaxis\":{\"gridcolor\":\"white\",\"linecolor\":\"white\",\"ticks\":\"\"},\"radialaxis\":{\"gridcolor\":\"white\",\"linecolor\":\"white\",\"ticks\":\"\"}},\"ternary\":{\"bgcolor\":\"#E5ECF6\",\"aaxis\":{\"gridcolor\":\"white\",\"linecolor\":\"white\",\"ticks\":\"\"},\"baxis\":{\"gridcolor\":\"white\",\"linecolor\":\"white\",\"ticks\":\"\"},\"caxis\":{\"gridcolor\":\"white\",\"linecolor\":\"white\",\"ticks\":\"\"}},\"coloraxis\":{\"colorbar\":{\"outlinewidth\":0,\"ticks\":\"\"}},\"colorscale\":{\"sequential\":[[0.0,\"#0d0887\"],[0.1111111111111111,\"#46039f\"],[0.2222222222222222,\"#7201a8\"],[0.3333333333333333,\"#9c179e\"],[0.4444444444444444,\"#bd3786\"],[0.5555555555555556,\"#d8576b\"],[0.6666666666666666,\"#ed7953\"],[0.7777777777777778,\"#fb9f3a\"],[0.8888888888888888,\"#fdca26\"],[1.0,\"#f0f921\"]],\"sequentialminus\":[[0.0,\"#0d0887\"],[0.1111111111111111,\"#46039f\"],[0.2222222222222222,\"#7201a8\"],[0.3333333333333333,\"#9c179e\"],[0.4444444444444444,\"#bd3786\"],[0.5555555555555556,\"#d8576b\"],[0.6666666666666666,\"#ed7953\"],[0.7777777777777778,\"#fb9f3a\"],[0.8888888888888888,\"#fdca26\"],[1.0,\"#f0f921\"]],\"diverging\":[[0,\"#8e0152\"],[0.1,\"#c51b7d\"],[0.2,\"#de77ae\"],[0.3,\"#f1b6da\"],[0.4,\"#fde0ef\"],[0.5,\"#f7f7f7\"],[0.6,\"#e6f5d0\"],[0.7,\"#b8e186\"],[0.8,\"#7fbc41\"],[0.9,\"#4d9221\"],[1,\"#276419\"]]},\"xaxis\":{\"gridcolor\":\"white\",\"linecolor\":\"white\",\"ticks\":\"\",\"title\":{\"standoff\":15},\"zerolinecolor\":\"white\",\"automargin\":true,\"zerolinewidth\":2},\"yaxis\":{\"gridcolor\":\"white\",\"linecolor\":\"white\",\"ticks\":\"\",\"title\":{\"standoff\":15},\"zerolinecolor\":\"white\",\"automargin\":true,\"zerolinewidth\":2},\"scene\":{\"xaxis\":{\"backgroundcolor\":\"#E5ECF6\",\"gridcolor\":\"white\",\"linecolor\":\"white\",\"showbackground\":true,\"ticks\":\"\",\"zerolinecolor\":\"white\",\"gridwidth\":2},\"yaxis\":{\"backgroundcolor\":\"#E5ECF6\",\"gridcolor\":\"white\",\"linecolor\":\"white\",\"showbackground\":true,\"ticks\":\"\",\"zerolinecolor\":\"white\",\"gridwidth\":2},\"zaxis\":{\"backgroundcolor\":\"#E5ECF6\",\"gridcolor\":\"white\",\"linecolor\":\"white\",\"showbackground\":true,\"ticks\":\"\",\"zerolinecolor\":\"white\",\"gridwidth\":2}},\"shapedefaults\":{\"line\":{\"color\":\"#2a3f5f\"}},\"annotationdefaults\":{\"arrowcolor\":\"#2a3f5f\",\"arrowhead\":0,\"arrowwidth\":1},\"geo\":{\"bgcolor\":\"white\",\"landcolor\":\"#E5ECF6\",\"subunitcolor\":\"white\",\"showland\":true,\"showlakes\":true,\"lakecolor\":\"white\"},\"title\":{\"x\":0.05},\"mapbox\":{\"style\":\"light\"}}},\"xaxis\":{\"anchor\":\"y\",\"domain\":[0.0,1.0],\"title\":{\"text\":\"Age\"}},\"yaxis\":{\"anchor\":\"x\",\"domain\":[0.0,1.0],\"title\":{\"text\":\"count\"}},\"legend\":{\"title\":{\"text\":\"Gender\"},\"tracegroupgap\":0},\"title\":{\"text\":\"Age by Gender\"},\"barmode\":\"relative\"},                        {\"responsive\": true}                    ).then(function(){\n",
              "                            \n",
              "var gd = document.getElementById('c99083ba-247d-45ed-a8c9-d5807bc01796');\n",
              "var x = new MutationObserver(function (mutations, observer) {{\n",
              "        var display = window.getComputedStyle(gd).display;\n",
              "        if (!display || display === 'none') {{\n",
              "            console.log([gd, 'removed!']);\n",
              "            Plotly.purge(gd);\n",
              "            observer.disconnect();\n",
              "        }}\n",
              "}});\n",
              "\n",
              "// Listen for the removal of the full notebook cells\n",
              "var notebookContainer = gd.closest('#notebook-container');\n",
              "if (notebookContainer) {{\n",
              "    x.observe(notebookContainer, {childList: true});\n",
              "}}\n",
              "\n",
              "// Listen for the clearing of the current output cell\n",
              "var outputEl = gd.closest('.output');\n",
              "if (outputEl) {{\n",
              "    x.observe(outputEl, {childList: true});\n",
              "}}\n",
              "\n",
              "                        })                };                            </script>        </div>\n",
              "</body>\n",
              "</html>"
            ]
          },
          "metadata": {}
        }
      ]
    },
    {
      "cell_type": "markdown",
      "source": [
        "Gender and Platform vs Daily Usage Time:"
      ],
      "metadata": {
        "id": "7Pee8javK2JF"
      }
    },
    {
      "cell_type": "code",
      "source": [
        "plt = px.histogram(train_df, x='Posts_Per_Day', y='Platform' ,color='Gender', title='Posts Per Day by Gender')\n",
        "plt.show()"
      ],
      "metadata": {
        "colab": {
          "base_uri": "https://localhost:8080/",
          "height": 542
        },
        "id": "ewpr40_NKxM6",
        "outputId": "14980141-323b-480e-8ba3-2483076237fa"
      },
      "execution_count": 88,
      "outputs": [
        {
          "output_type": "display_data",
          "data": {
            "text/html": [
              "<html>\n",
              "<head><meta charset=\"utf-8\" /></head>\n",
              "<body>\n",
              "    <div>            <script src=\"https://cdnjs.cloudflare.com/ajax/libs/mathjax/2.7.5/MathJax.js?config=TeX-AMS-MML_SVG\"></script><script type=\"text/javascript\">if (window.MathJax && window.MathJax.Hub && window.MathJax.Hub.Config) {window.MathJax.Hub.Config({SVG: {font: \"STIX-Web\"}});}</script>                <script type=\"text/javascript\">window.PlotlyConfig = {MathJaxConfig: 'local'};</script>\n",
              "        <script charset=\"utf-8\" src=\"https://cdn.plot.ly/plotly-2.24.1.min.js\"></script>                <div id=\"8beca99a-135e-4444-9e66-7128aaaf184d\" class=\"plotly-graph-div\" style=\"height:525px; width:100%;\"></div>            <script type=\"text/javascript\">                                    window.PLOTLYENV=window.PLOTLYENV || {};                                    if (document.getElementById(\"8beca99a-135e-4444-9e66-7128aaaf184d\")) {                    Plotly.newPlot(                        \"8beca99a-135e-4444-9e66-7128aaaf184d\",                        [{\"alignmentgroup\":\"True\",\"bingroup\":\"y\",\"histfunc\":\"sum\",\"hovertemplate\":\"Gender=Female\\u003cbr\\u003esum of Posts_Per_Day=%{x}\\u003cbr\\u003ePlatform=%{y}\\u003cextra\\u003e\\u003c\\u002fextra\\u003e\",\"legendgroup\":\"Female\",\"marker\":{\"color\":\"#636efa\",\"pattern\":{\"shape\":\"\"}},\"name\":\"Female\",\"offsetgroup\":\"Female\",\"orientation\":\"h\",\"showlegend\":true,\"x\":[3.0,8.0,3.0,2.0,4.0,7.0,4.0,5.0,4.0,3.0,6.0,2.0,6.0,7.0,3.0,6.0,1.0,3.0,1.0,3.0,4.0,2.0,4.0,6.0,4.0,2.0,4.0,2.0,6.0,4.0,5.0,4.0,6.0,4.0,2.0,1.0,4.0,5.0,8.0,3.0,2.0,4.0,8.0,5.0,6.0,4.0,3.0,6.0,2.0,6.0,7.0,3.0,6.0,1.0,3.0,1.0,3.0,4.0,2.0,4.0,6.0,4.0,2.0,4.0,2.0,6.0,4.0,5.0,4.0,6.0,4.0,2.0,1.0,4.0,5.0,8.0,3.0,2.0,4.0,8.0,5.0,6.0,4.0,3.0,6.0,2.0,6.0,7.0,3.0,6.0,1.0,3.0,1.0,6.0,4.0,2.0,1.0,4.0,5.0,8.0,3.0,2.0,4.0,8.0,5.0,6.0,4.0,3.0,6.0,2.0,6.0,7.0,3.0,6.0,1.0,3.0,1.0,3.0,4.0,2.0,4.0,6.0,4.0,2.0,4.0,2.0,6.0,4.0,5.0,4.0,6.0,4.0,2.0,1.0,4.0,5.0,8.0,3.0,2.0,4.0,8.0,5.0,6.0,4.0,3.0,6.0,2.0,6.0,7.0,3.0,6.0,1.0,3.0,1.0,3.0,4.0,2.0,4.0,6.0,4.0,2.0,4.0,2.0,6.0,4.0,5.0,4.0,6.0,4.0,2.0,1.0,4.0,5.0,8.0,3.0,2.0,4.0,8.0,5.0,6.0,4.0,3.0,6.0,2.0,6.0,7.0,3.0,6.0,1.0,3.0,1.0,3.0,4.0,2.0,4.0,6.0,4.0,2.0,4.0,2.0,6.0,4.0,5.0,4.0,6.0,4.0,2.0,1.0,4.0,5.0,8.0,3.0,2.0,4.0,8.0,5.0,6.0,4.0,3.0,6.0,2.0,6.0,7.0,3.0,6.0,1.0,3.0,1.0,3.0,4.0,2.0,4.0,6.0,4.0,2.0,4.0,2.0,6.0,4.0,5.0,4.0,6.0,4.0,2.0,1.0,4.0,5.0,8.0,3.0,2.0,4.0,8.0,5.0,6.0,4.0,3.0,6.0,2.0,6.0,7.0,3.0,6.0,1.0,3.0,1.0,6.0,4.0,2.0,1.0,4.0,5.0,8.0,3.0,2.0,4.0,8.0,5.0,6.0,4.0,3.0,6.0,2.0,6.0,7.0,3.0,6.0,1.0,3.0,1.0,3.0,4.0,2.0,4.0,6.0,4.0,2.0,4.0,2.0,6.0,4.0,5.0,4.0,6.0,4.0,2.0,1.0,4.0,5.0,8.0,3.0,2.0,4.0,8.0,5.0,6.0,4.0,3.0,6.0,2.0,6.0,7.0,3.0,6.0,1.0,3.0,1.0,3.0,4.0,2.0,4.0,6.0,4.0,2.0,4.0,2.0,6.0,4.0,5.0,4.0,6.0,4.0,2.0,1.0,4.0],\"xaxis\":\"x\",\"y\":[\"Instagram\",\"Instagram\",\"Twitter\",\"LinkedIn\",\"Twitter\",\"Instagram\",\"Instagram\",\"Instagram\",\"Twitter\",\"Twitter\",\"Instagram\",\"LinkedIn\",\"Instagram\",\"Instagram\",\"Instagram\",\"Instagram\",\"LinkedIn\",\"Twitter\",\"LinkedIn\",\"Twitter\",\"Instagram\",\"Whatsapp\",\"Twitter\",\"Instagram\",\"Snapchat\",\"Whatsapp\",\"Instagram\",\"Whatsapp\",\"Instagram\",\"Whatsapp\",\"Instagram\",\"Whatsapp\",\"Instagram\",\"Whatsapp\",\"Snapchat\",\"Facebook\",\"Snapchat\",\"Instagram\",\"Instagram\",\"Twitter\",\"LinkedIn\",\"Twitter\",\"Instagram\",\"Instagram\",\"Instagram\",\"Twitter\",\"Twitter\",\"Instagram\",\"LinkedIn\",\"Instagram\",\"Instagram\",\"Instagram\",\"Instagram\",\"LinkedIn\",\"Twitter\",\"LinkedIn\",\"Twitter\",\"Instagram\",\"Whatsapp\",\"Twitter\",\"Instagram\",\"Snapchat\",\"Whatsapp\",\"Instagram\",\"Whatsapp\",\"Instagram\",\"Whatsapp\",\"Instagram\",\"Whatsapp\",\"Instagram\",\"Whatsapp\",\"Snapchat\",\"Facebook\",\"Snapchat\",\"Instagram\",\"Instagram\",\"Twitter\",\"LinkedIn\",\"Twitter\",\"Instagram\",\"Instagram\",\"Instagram\",\"Twitter\",\"Twitter\",\"Instagram\",\"LinkedIn\",\"Instagram\",\"Instagram\",\"Instagram\",\"Instagram\",\"LinkedIn\",\"Twitter\",\"LinkedIn\",\"Instagram\",\"Whatsapp\",\"Snapchat\",\"Facebook\",\"Snapchat\",\"Instagram\",\"Instagram\",\"Twitter\",\"LinkedIn\",\"Twitter\",\"Instagram\",\"Instagram\",\"Instagram\",\"Twitter\",\"Twitter\",\"Instagram\",\"LinkedIn\",\"Instagram\",\"Instagram\",\"Instagram\",\"Instagram\",\"LinkedIn\",\"Twitter\",\"LinkedIn\",\"Twitter\",\"Instagram\",\"Whatsapp\",\"Twitter\",\"Instagram\",\"Snapchat\",\"Whatsapp\",\"Instagram\",\"Whatsapp\",\"Instagram\",\"Whatsapp\",\"Instagram\",\"Whatsapp\",\"Instagram\",\"Whatsapp\",\"Snapchat\",\"Facebook\",\"Snapchat\",\"Instagram\",\"Instagram\",\"Twitter\",\"LinkedIn\",\"Twitter\",\"Instagram\",\"Instagram\",\"Instagram\",\"Twitter\",\"Twitter\",\"Instagram\",\"LinkedIn\",\"Instagram\",\"Instagram\",\"Instagram\",\"Instagram\",\"LinkedIn\",\"Twitter\",\"LinkedIn\",\"Twitter\",\"Instagram\",\"Whatsapp\",\"Twitter\",\"Instagram\",\"Snapchat\",\"Whatsapp\",\"Instagram\",\"Whatsapp\",\"Instagram\",\"Whatsapp\",\"Instagram\",\"Whatsapp\",\"Instagram\",\"Whatsapp\",\"Snapchat\",\"Facebook\",\"Snapchat\",\"Instagram\",\"Instagram\",\"Twitter\",\"LinkedIn\",\"Twitter\",\"Instagram\",\"Instagram\",\"Instagram\",\"Twitter\",\"Twitter\",\"Instagram\",\"LinkedIn\",\"Instagram\",\"Instagram\",\"Instagram\",\"Instagram\",\"LinkedIn\",\"Twitter\",\"LinkedIn\",\"Twitter\",\"Instagram\",\"Whatsapp\",\"Twitter\",\"Instagram\",\"Snapchat\",\"Whatsapp\",\"Instagram\",\"Whatsapp\",\"Instagram\",\"Whatsapp\",\"Instagram\",\"Whatsapp\",\"Instagram\",\"Whatsapp\",\"Snapchat\",\"Facebook\",\"Snapchat\",\"Instagram\",\"Instagram\",\"Twitter\",\"LinkedIn\",\"Twitter\",\"Instagram\",\"Instagram\",\"Instagram\",\"Twitter\",\"Twitter\",\"Instagram\",\"LinkedIn\",\"Instagram\",\"Instagram\",\"Instagram\",\"Instagram\",\"LinkedIn\",\"Twitter\",\"LinkedIn\",\"Twitter\",\"Instagram\",\"Whatsapp\",\"Twitter\",\"Instagram\",\"Snapchat\",\"Whatsapp\",\"Instagram\",\"Whatsapp\",\"Instagram\",\"Whatsapp\",\"Instagram\",\"Whatsapp\",\"Instagram\",\"Whatsapp\",\"Snapchat\",\"Facebook\",\"Snapchat\",\"Instagram\",\"Instagram\",\"Twitter\",\"LinkedIn\",\"Twitter\",\"Instagram\",\"Instagram\",\"Instagram\",\"Twitter\",\"Twitter\",\"Instagram\",\"LinkedIn\",\"Instagram\",\"Instagram\",\"Instagram\",\"Instagram\",\"LinkedIn\",\"Twitter\",\"LinkedIn\",\"Instagram\",\"Whatsapp\",\"Snapchat\",\"Facebook\",\"Snapchat\",\"Instagram\",\"Instagram\",\"Twitter\",\"LinkedIn\",\"Twitter\",\"Instagram\",\"Instagram\",\"Instagram\",\"Twitter\",\"Twitter\",\"Instagram\",\"LinkedIn\",\"Instagram\",\"Instagram\",\"Instagram\",\"Instagram\",\"LinkedIn\",\"Twitter\",\"LinkedIn\",\"Twitter\",\"Instagram\",\"Whatsapp\",\"Twitter\",\"Instagram\",\"Snapchat\",\"Whatsapp\",\"Instagram\",\"Whatsapp\",\"Instagram\",\"Whatsapp\",\"Instagram\",\"Whatsapp\",\"Instagram\",\"Whatsapp\",\"Snapchat\",\"Facebook\",\"Snapchat\",\"Instagram\",\"Instagram\",\"Twitter\",\"LinkedIn\",\"Twitter\",\"Instagram\",\"Instagram\",\"Instagram\",\"Twitter\",\"Twitter\",\"Instagram\",\"LinkedIn\",\"Instagram\",\"Instagram\",\"Instagram\",\"Instagram\",\"LinkedIn\",\"Twitter\",\"LinkedIn\",\"Twitter\",\"Instagram\",\"Whatsapp\",\"Twitter\",\"Instagram\",\"Snapchat\",\"Whatsapp\",\"Instagram\",\"Whatsapp\",\"Instagram\",\"Whatsapp\",\"Instagram\",\"Whatsapp\",\"Instagram\",\"Whatsapp\",\"Snapchat\",\"Facebook\",\"Snapchat\"],\"yaxis\":\"y\",\"type\":\"histogram\"},{\"alignmentgroup\":\"True\",\"bingroup\":\"y\",\"histfunc\":\"sum\",\"hovertemplate\":\"Gender=Male\\u003cbr\\u003esum of Posts_Per_Day=%{x}\\u003cbr\\u003ePlatform=%{y}\\u003cextra\\u003e\\u003c\\u002fextra\\u003e\",\"legendgroup\":\"Male\",\"marker\":{\"color\":\"#EF553B\",\"pattern\":{\"shape\":\"\"}},\"name\":\"Male\",\"offsetgroup\":\"Male\",\"orientation\":\"h\",\"showlegend\":true,\"x\":[5.0,1.0,4.0,5.0,1.0,6.0,3.0,2.0,2.0,2.0,4.0,5.0,2.0,4.0,1.0,4.0,7.0,5.0,6.0,1.0,3.0,1.0,3.0,6.0,5.0,3.0,1.0,4.0,2.0,2.0,1.0,3.0,2.0,3.0,5.0,3.0,4.0,1.0,5.0,7.0,1.0,6.0,3.0,2.0,2.0,2.0,4.0,7.0,2.0,4.0,1.0,4.0,7.0,5.0,6.0,1.0,3.0,1.0,3.0,6.0,5.0,3.0,1.0,4.0,2.0,2.0,1.0,3.0,2.0,3.0,5.0,3.0,4.0,1.0,5.0,7.0,1.0,6.0,3.0,2.0,2.0,2.0,4.0,7.0,2.0,4.0,1.0,4.0,7.0,5.0,2.0,3.0,5.0,3.0,4.0,1.0,5.0,7.0,1.0,6.0,3.0,2.0,2.0,2.0,4.0,7.0,2.0,4.0,1.0,4.0,7.0,5.0,6.0,1.0,3.0,1.0,3.0,6.0,5.0,3.0,1.0,4.0,2.0,2.0,1.0,3.0,2.0,3.0,5.0,3.0,4.0,1.0,5.0,7.0,1.0,6.0,3.0,2.0,2.0,2.0,4.0,7.0,2.0,4.0,1.0,4.0,7.0,5.0,6.0,1.0,3.0,1.0,3.0,6.0,5.0,3.0,1.0,4.0,2.0,2.0,1.0,3.0,2.0,3.0,5.0,3.0,4.0,1.0,5.0,7.0,1.0,6.0,3.0,2.0,2.0,2.0,4.0,7.0,2.0,4.0,1.0,4.0,7.0,5.0,6.0,1.0,3.0,1.0,3.0,6.0,5.0,3.0,1.0,4.0,2.0,2.0,1.0,3.0,2.0,3.0,5.0,3.0,4.0,1.0,5.0,7.0,1.0,6.0,3.0,2.0,2.0,2.0,4.0,7.0,2.0,4.0,1.0,4.0,7.0,5.0,6.0,1.0,3.0,1.0,3.0,6.0,5.0,3.0,1.0,4.0,2.0,2.0,1.0,3.0,2.0,3.0,5.0,3.0,4.0,1.0,5.0,7.0,1.0,6.0,3.0,2.0,2.0,2.0,4.0,7.0,2.0,4.0,1.0,4.0,7.0,5.0,2.0,3.0,5.0,3.0,4.0,1.0,5.0,7.0,1.0,6.0,3.0,2.0,2.0,2.0,4.0,7.0,2.0,4.0,1.0,4.0,7.0,5.0,6.0,1.0,3.0,1.0,3.0,6.0,5.0,3.0,1.0,4.0,2.0,2.0,1.0,3.0,2.0,3.0,5.0,3.0,4.0,1.0,5.0,7.0,1.0,6.0,3.0,2.0,2.0,2.0,4.0,7.0,2.0,4.0,1.0,4.0,7.0,5.0,6.0,1.0,3.0,1.0,3.0,6.0,5.0,3.0,1.0,4.0,2.0,2.0,1.0,3.0,2.0,3.0,5.0,3.0],\"xaxis\":\"x\",\"y\":[\"Twitter\",\"LinkedIn\",\"Instagram\",\"Instagram\",\"LinkedIn\",\"Twitter\",\"Twitter\",\"Facebook\",\"LinkedIn\",\"Facebook\",\"Twitter\",\"Instagram\",\"Facebook\",\"Twitter\",\"LinkedIn\",\"Twitter\",\"Instagram\",\"Instagram\",\"Instagram\",\"LinkedIn\",\"Telegram\",\"Facebook\",\"Whatsapp\",\"Twitter\",\"Instagram\",\"Telegram\",\"Twitter\",\"Telegram\",\"Twitter\",\"Telegram\",\"Twitter\",\"Telegram\",\"Twitter\",\"Telegram\",\"Instagram\",\"Whatsapp\",\"Twitter\",\"LinkedIn\",\"Instagram\",\"Instagram\",\"LinkedIn\",\"Twitter\",\"Twitter\",\"Facebook\",\"LinkedIn\",\"Facebook\",\"Twitter\",\"Instagram\",\"Facebook\",\"Twitter\",\"LinkedIn\",\"Twitter\",\"Instagram\",\"Instagram\",\"Instagram\",\"LinkedIn\",\"Telegram\",\"Facebook\",\"Whatsapp\",\"Twitter\",\"Instagram\",\"Telegram\",\"Twitter\",\"Telegram\",\"Twitter\",\"Telegram\",\"Twitter\",\"Telegram\",\"Twitter\",\"Telegram\",\"Instagram\",\"Whatsapp\",\"Twitter\",\"LinkedIn\",\"Instagram\",\"Instagram\",\"LinkedIn\",\"Twitter\",\"Twitter\",\"Facebook\",\"LinkedIn\",\"Facebook\",\"Twitter\",\"Instagram\",\"Facebook\",\"Twitter\",\"LinkedIn\",\"Twitter\",\"Instagram\",\"Instagram\",\"Twitter\",\"Telegram\",\"Instagram\",\"Whatsapp\",\"Twitter\",\"LinkedIn\",\"Instagram\",\"Instagram\",\"LinkedIn\",\"Twitter\",\"Twitter\",\"Facebook\",\"LinkedIn\",\"Facebook\",\"Twitter\",\"Instagram\",\"Facebook\",\"Twitter\",\"LinkedIn\",\"Twitter\",\"Instagram\",\"Instagram\",\"Instagram\",\"LinkedIn\",\"Telegram\",\"Facebook\",\"Whatsapp\",\"Twitter\",\"Instagram\",\"Telegram\",\"Twitter\",\"Telegram\",\"Twitter\",\"Telegram\",\"Twitter\",\"Telegram\",\"Twitter\",\"Telegram\",\"Instagram\",\"Whatsapp\",\"Twitter\",\"LinkedIn\",\"Instagram\",\"Instagram\",\"LinkedIn\",\"Twitter\",\"Twitter\",\"Facebook\",\"LinkedIn\",\"Facebook\",\"Twitter\",\"Instagram\",\"Facebook\",\"Twitter\",\"LinkedIn\",\"Twitter\",\"Instagram\",\"Instagram\",\"Instagram\",\"LinkedIn\",\"Telegram\",\"Facebook\",\"Whatsapp\",\"Twitter\",\"Instagram\",\"Telegram\",\"Twitter\",\"Telegram\",\"Twitter\",\"Telegram\",\"Twitter\",\"Telegram\",\"Twitter\",\"Telegram\",\"Instagram\",\"Whatsapp\",\"Twitter\",\"LinkedIn\",\"Instagram\",\"Instagram\",\"LinkedIn\",\"Twitter\",\"Twitter\",\"Facebook\",\"LinkedIn\",\"Facebook\",\"Twitter\",\"Instagram\",\"Facebook\",\"Twitter\",\"LinkedIn\",\"Twitter\",\"Instagram\",\"Instagram\",\"Instagram\",\"LinkedIn\",\"Telegram\",\"Facebook\",\"Whatsapp\",\"Twitter\",\"Instagram\",\"Telegram\",\"Twitter\",\"Telegram\",\"Twitter\",\"Telegram\",\"Twitter\",\"Telegram\",\"Twitter\",\"Telegram\",\"Instagram\",\"Whatsapp\",\"Twitter\",\"LinkedIn\",\"Instagram\",\"Instagram\",\"LinkedIn\",\"Twitter\",\"Twitter\",\"Facebook\",\"LinkedIn\",\"Facebook\",\"Twitter\",\"Instagram\",\"Facebook\",\"Twitter\",\"LinkedIn\",\"Twitter\",\"Instagram\",\"Instagram\",\"Instagram\",\"LinkedIn\",\"Telegram\",\"Facebook\",\"Whatsapp\",\"Twitter\",\"Instagram\",\"Telegram\",\"Twitter\",\"Telegram\",\"Twitter\",\"Telegram\",\"Twitter\",\"Telegram\",\"Twitter\",\"Telegram\",\"Instagram\",\"Whatsapp\",\"Twitter\",\"LinkedIn\",\"Instagram\",\"Instagram\",\"LinkedIn\",\"Twitter\",\"Twitter\",\"Facebook\",\"LinkedIn\",\"Facebook\",\"Twitter\",\"Instagram\",\"Facebook\",\"Twitter\",\"LinkedIn\",\"Twitter\",\"Instagram\",\"Instagram\",\"Twitter\",\"Telegram\",\"Instagram\",\"Whatsapp\",\"Twitter\",\"LinkedIn\",\"Instagram\",\"Instagram\",\"LinkedIn\",\"Twitter\",\"Twitter\",\"Facebook\",\"LinkedIn\",\"Facebook\",\"Twitter\",\"Instagram\",\"Facebook\",\"Twitter\",\"LinkedIn\",\"Twitter\",\"Instagram\",\"Instagram\",\"Instagram\",\"LinkedIn\",\"Telegram\",\"Facebook\",\"Whatsapp\",\"Twitter\",\"Instagram\",\"Telegram\",\"Twitter\",\"Telegram\",\"Twitter\",\"Telegram\",\"Twitter\",\"Telegram\",\"Twitter\",\"Telegram\",\"Instagram\",\"Whatsapp\",\"Twitter\",\"LinkedIn\",\"Instagram\",\"Instagram\",\"LinkedIn\",\"Twitter\",\"Twitter\",\"Facebook\",\"LinkedIn\",\"Facebook\",\"Twitter\",\"Instagram\",\"Facebook\",\"Twitter\",\"LinkedIn\",\"Twitter\",\"Instagram\",\"Instagram\",\"Instagram\",\"LinkedIn\",\"Telegram\",\"Facebook\",\"Whatsapp\",\"Twitter\",\"Instagram\",\"Telegram\",\"Twitter\",\"Telegram\",\"Twitter\",\"Telegram\",\"Twitter\",\"Telegram\",\"Twitter\",\"Telegram\",\"Instagram\",\"Whatsapp\"],\"yaxis\":\"y\",\"type\":\"histogram\"},{\"alignmentgroup\":\"True\",\"bingroup\":\"y\",\"histfunc\":\"sum\",\"hovertemplate\":\"Gender=Non-binary\\u003cbr\\u003esum of Posts_Per_Day=%{x}\\u003cbr\\u003ePlatform=%{y}\\u003cextra\\u003e\\u003c\\u002fextra\\u003e\",\"legendgroup\":\"Non-binary\",\"marker\":{\"color\":\"#00cc96\",\"pattern\":{\"shape\":\"\"}},\"name\":\"Non-binary\",\"offsetgroup\":\"Non-binary\",\"orientation\":\"h\",\"showlegend\":true,\"x\":[2.0,6.0,3.0,1.0,1.0,8.0,1.0,1.0,3.0,1.0,2.0,2.0,2.0,2.0,2.0,2.0,1.0,2.0,3.0,3.0,1.0,3.0,2.0,1.0,1.0,4.0,2.0,2.0,6.0,3.0,1.0,1.0,8.0,1.0,1.0,3.0,1.0,2.0,2.0,2.0,2.0,2.0,2.0,1.0,2.0,3.0,3.0,1.0,3.0,2.0,1.0,1.0,4.0,2.0,2.0,6.0,3.0,1.0,1.0,8.0,1.0,1.0,3.0,1.0,2.0,2.0,2.0,1.0,4.0,2.0,2.0,6.0,3.0,1.0,1.0,8.0,1.0,1.0,3.0,1.0,2.0,2.0,2.0,2.0,2.0,2.0,1.0,2.0,3.0,3.0,1.0,3.0,2.0,1.0,1.0,4.0,2.0,2.0,6.0,3.0,1.0,1.0,8.0,1.0,1.0,3.0,1.0,2.0,2.0,2.0,2.0,2.0,2.0,1.0,2.0,3.0,3.0,1.0,3.0,2.0,1.0,1.0,4.0,2.0,2.0,6.0,3.0,1.0,1.0,8.0,1.0,1.0,3.0,1.0,2.0,2.0,2.0,2.0,2.0,2.0,1.0,2.0,3.0,3.0,1.0,3.0,2.0,1.0,1.0,4.0,2.0,2.0,6.0,3.0,1.0,1.0,8.0,1.0,1.0,3.0,1.0,2.0,2.0,2.0,2.0,2.0,2.0,1.0,2.0,3.0,3.0,1.0,3.0,2.0,1.0,1.0,4.0,2.0,2.0,6.0,3.0,1.0,1.0,8.0,1.0,1.0,3.0,1.0,2.0,2.0,2.0,1.0,4.0,2.0,2.0,6.0,3.0,1.0,1.0,8.0,1.0,1.0,3.0,1.0,2.0,2.0,2.0,2.0,2.0,2.0,1.0,2.0,3.0,3.0,1.0,3.0,2.0,1.0,1.0,4.0,2.0,2.0,6.0,3.0,1.0,1.0,8.0,1.0,1.0,3.0,1.0,2.0,2.0,2.0,2.0,2.0,2.0,1.0,2.0,3.0,3.0,1.0,3.0,2.0,1.0,1.0,4.0,2.0],\"xaxis\":\"x\",\"y\":[\"Facebook\",\"Facebook\",\"Facebook\",\"Facebook\",\"LinkedIn\",\"Instagram\",\"LinkedIn\",\"Facebook\",\"Twitter\",\"LinkedIn\",\"Facebook\",\"Facebook\",\"Facebook\",\"Facebook\",\"Snapchat\",\"Telegram\",\"Facebook\",\"Snapchat\",\"Facebook\",\"Snapchat\",\"Facebook\",\"Snapchat\",\"Facebook\",\"Snapchat\",\"Facebook\",\"Twitter\",\"Telegram\",\"Facebook\",\"Facebook\",\"Facebook\",\"Facebook\",\"LinkedIn\",\"Instagram\",\"LinkedIn\",\"Facebook\",\"Twitter\",\"LinkedIn\",\"Facebook\",\"Facebook\",\"Facebook\",\"Facebook\",\"Snapchat\",\"Telegram\",\"Facebook\",\"Snapchat\",\"Facebook\",\"Snapchat\",\"Facebook\",\"Snapchat\",\"Facebook\",\"Snapchat\",\"Facebook\",\"Twitter\",\"Telegram\",\"Facebook\",\"Facebook\",\"Facebook\",\"Facebook\",\"LinkedIn\",\"Instagram\",\"LinkedIn\",\"Facebook\",\"Twitter\",\"LinkedIn\",\"Facebook\",\"Facebook\",\"Facebook\",\"Facebook\",\"Twitter\",\"Telegram\",\"Facebook\",\"Facebook\",\"Facebook\",\"Facebook\",\"LinkedIn\",\"Instagram\",\"LinkedIn\",\"Facebook\",\"Twitter\",\"LinkedIn\",\"Facebook\",\"Facebook\",\"Facebook\",\"Facebook\",\"Snapchat\",\"Telegram\",\"Facebook\",\"Snapchat\",\"Facebook\",\"Snapchat\",\"Facebook\",\"Snapchat\",\"Facebook\",\"Snapchat\",\"Facebook\",\"Twitter\",\"Telegram\",\"Facebook\",\"Facebook\",\"Facebook\",\"Facebook\",\"LinkedIn\",\"Instagram\",\"LinkedIn\",\"Facebook\",\"Twitter\",\"LinkedIn\",\"Facebook\",\"Facebook\",\"Facebook\",\"Facebook\",\"Snapchat\",\"Telegram\",\"Facebook\",\"Snapchat\",\"Facebook\",\"Snapchat\",\"Facebook\",\"Snapchat\",\"Facebook\",\"Snapchat\",\"Facebook\",\"Twitter\",\"Telegram\",\"Facebook\",\"Facebook\",\"Facebook\",\"Facebook\",\"LinkedIn\",\"Instagram\",\"LinkedIn\",\"Facebook\",\"Twitter\",\"LinkedIn\",\"Facebook\",\"Facebook\",\"Facebook\",\"Facebook\",\"Snapchat\",\"Telegram\",\"Facebook\",\"Snapchat\",\"Facebook\",\"Snapchat\",\"Facebook\",\"Snapchat\",\"Facebook\",\"Snapchat\",\"Facebook\",\"Twitter\",\"Telegram\",\"Facebook\",\"Facebook\",\"Facebook\",\"Facebook\",\"LinkedIn\",\"Instagram\",\"LinkedIn\",\"Facebook\",\"Twitter\",\"LinkedIn\",\"Facebook\",\"Facebook\",\"Facebook\",\"Facebook\",\"Snapchat\",\"Telegram\",\"Facebook\",\"Snapchat\",\"Facebook\",\"Snapchat\",\"Facebook\",\"Snapchat\",\"Facebook\",\"Snapchat\",\"Facebook\",\"Twitter\",\"Telegram\",\"Facebook\",\"Facebook\",\"Facebook\",\"Facebook\",\"LinkedIn\",\"Instagram\",\"LinkedIn\",\"Facebook\",\"Twitter\",\"LinkedIn\",\"Facebook\",\"Facebook\",\"Facebook\",\"Facebook\",\"Twitter\",\"Telegram\",\"Facebook\",\"Facebook\",\"Facebook\",\"Facebook\",\"LinkedIn\",\"Instagram\",\"LinkedIn\",\"Facebook\",\"Twitter\",\"LinkedIn\",\"Facebook\",\"Facebook\",\"Facebook\",\"Facebook\",\"Snapchat\",\"Telegram\",\"Facebook\",\"Snapchat\",\"Facebook\",\"Snapchat\",\"Facebook\",\"Snapchat\",\"Facebook\",\"Snapchat\",\"Facebook\",\"Twitter\",\"Telegram\",\"Facebook\",\"Facebook\",\"Facebook\",\"Facebook\",\"LinkedIn\",\"Instagram\",\"LinkedIn\",\"Facebook\",\"Twitter\",\"LinkedIn\",\"Facebook\",\"Facebook\",\"Facebook\",\"Facebook\",\"Snapchat\",\"Telegram\",\"Facebook\",\"Snapchat\",\"Facebook\",\"Snapchat\",\"Facebook\",\"Snapchat\",\"Facebook\",\"Snapchat\",\"Facebook\",\"Twitter\",\"Telegram\"],\"yaxis\":\"y\",\"type\":\"histogram\"},{\"alignmentgroup\":\"True\",\"bingroup\":\"y\",\"histfunc\":\"sum\",\"hovertemplate\":\"Gender=Unknown\\u003cbr\\u003esum of Posts_Per_Day=%{x}\\u003cbr\\u003ePlatform=%{y}\\u003cextra\\u003e\\u003c\\u002fextra\\u003e\",\"legendgroup\":\"Unknown\",\"marker\":{\"color\":\"#ab63fa\",\"pattern\":{\"shape\":\"\"}},\"name\":\"Unknown\",\"offsetgroup\":\"Unknown\",\"orientation\":\"h\",\"showlegend\":true,\"x\":[6.0,3.0,2.0,4.0,1.0,2.0,3.0,2.0,4.0,1.0,6.0,3.0,2.0,4.0,6.0,1.0,5.0,2.0,3.0,2.0,4.0,1.0,3.0,2.0,4.0,3.0,6.0,2.0,1.0,4.0,2.0,3.0,5.0,1.0,2.0,4.0,3.0,1.0,2.0,6.0,3.0,2.0,4.0,1.0,2.0,3.0,2.0,4.0,1.0,6.0,3.0,2.0,4.0,6.0,1.0,5.0,2.0,3.0,2.0,4.0,1.0,3.0,2.0,4.0,3.0,6.0,2.0,1.0,4.0,2.0,3.0,5.0,1.0,2.0,4.0,3.0,1.0],\"xaxis\":\"x\",\"y\":[\"Instagram\",\"Twitter\",\"Facebook\",\"Instagram\",\"LinkedIn\",\"Whatsapp\",\"Telegram\",\"Snapchat\",\"Twitter\",\"Facebook\",\"Instagram\",\"Whatsapp\",\"Telegram\",\"Snapchat\",\"Twitter\",\"Facebook\",\"Instagram\",\"Whatsapp\",\"Telegram\",\"Snapchat\",\"Instagram\",\"Twitter\",\"Facebook\",\"Whatsapp\",\"Telegram\",\"Snapchat\",\"Instagram\",\"Twitter\",\"Facebook\",\"Whatsapp\",\"Telegram\",\"Snapchat\",\"Instagram\",\"Twitter\",\"Facebook\",\"Whatsapp\",\"Telegram\",\"Snapchat\",\"Instagram\",\"Instagram\",\"Twitter\",\"Facebook\",\"Instagram\",\"LinkedIn\",\"Whatsapp\",\"Telegram\",\"Snapchat\",\"Twitter\",\"Facebook\",\"Instagram\",\"Whatsapp\",\"Telegram\",\"Snapchat\",\"Twitter\",\"Facebook\",\"Instagram\",\"Whatsapp\",\"Telegram\",\"Snapchat\",\"Instagram\",\"Twitter\",\"Facebook\",\"Whatsapp\",\"Telegram\",\"Snapchat\",\"Instagram\",\"Twitter\",\"Facebook\",\"Whatsapp\",\"Telegram\",\"Snapchat\",\"Instagram\",\"Twitter\",\"Facebook\",\"Whatsapp\",\"Telegram\",\"Snapchat\"],\"yaxis\":\"y\",\"type\":\"histogram\"}],                        {\"template\":{\"data\":{\"histogram2dcontour\":[{\"type\":\"histogram2dcontour\",\"colorbar\":{\"outlinewidth\":0,\"ticks\":\"\"},\"colorscale\":[[0.0,\"#0d0887\"],[0.1111111111111111,\"#46039f\"],[0.2222222222222222,\"#7201a8\"],[0.3333333333333333,\"#9c179e\"],[0.4444444444444444,\"#bd3786\"],[0.5555555555555556,\"#d8576b\"],[0.6666666666666666,\"#ed7953\"],[0.7777777777777778,\"#fb9f3a\"],[0.8888888888888888,\"#fdca26\"],[1.0,\"#f0f921\"]]}],\"choropleth\":[{\"type\":\"choropleth\",\"colorbar\":{\"outlinewidth\":0,\"ticks\":\"\"}}],\"histogram2d\":[{\"type\":\"histogram2d\",\"colorbar\":{\"outlinewidth\":0,\"ticks\":\"\"},\"colorscale\":[[0.0,\"#0d0887\"],[0.1111111111111111,\"#46039f\"],[0.2222222222222222,\"#7201a8\"],[0.3333333333333333,\"#9c179e\"],[0.4444444444444444,\"#bd3786\"],[0.5555555555555556,\"#d8576b\"],[0.6666666666666666,\"#ed7953\"],[0.7777777777777778,\"#fb9f3a\"],[0.8888888888888888,\"#fdca26\"],[1.0,\"#f0f921\"]]}],\"heatmap\":[{\"type\":\"heatmap\",\"colorbar\":{\"outlinewidth\":0,\"ticks\":\"\"},\"colorscale\":[[0.0,\"#0d0887\"],[0.1111111111111111,\"#46039f\"],[0.2222222222222222,\"#7201a8\"],[0.3333333333333333,\"#9c179e\"],[0.4444444444444444,\"#bd3786\"],[0.5555555555555556,\"#d8576b\"],[0.6666666666666666,\"#ed7953\"],[0.7777777777777778,\"#fb9f3a\"],[0.8888888888888888,\"#fdca26\"],[1.0,\"#f0f921\"]]}],\"heatmapgl\":[{\"type\":\"heatmapgl\",\"colorbar\":{\"outlinewidth\":0,\"ticks\":\"\"},\"colorscale\":[[0.0,\"#0d0887\"],[0.1111111111111111,\"#46039f\"],[0.2222222222222222,\"#7201a8\"],[0.3333333333333333,\"#9c179e\"],[0.4444444444444444,\"#bd3786\"],[0.5555555555555556,\"#d8576b\"],[0.6666666666666666,\"#ed7953\"],[0.7777777777777778,\"#fb9f3a\"],[0.8888888888888888,\"#fdca26\"],[1.0,\"#f0f921\"]]}],\"contourcarpet\":[{\"type\":\"contourcarpet\",\"colorbar\":{\"outlinewidth\":0,\"ticks\":\"\"}}],\"contour\":[{\"type\":\"contour\",\"colorbar\":{\"outlinewidth\":0,\"ticks\":\"\"},\"colorscale\":[[0.0,\"#0d0887\"],[0.1111111111111111,\"#46039f\"],[0.2222222222222222,\"#7201a8\"],[0.3333333333333333,\"#9c179e\"],[0.4444444444444444,\"#bd3786\"],[0.5555555555555556,\"#d8576b\"],[0.6666666666666666,\"#ed7953\"],[0.7777777777777778,\"#fb9f3a\"],[0.8888888888888888,\"#fdca26\"],[1.0,\"#f0f921\"]]}],\"surface\":[{\"type\":\"surface\",\"colorbar\":{\"outlinewidth\":0,\"ticks\":\"\"},\"colorscale\":[[0.0,\"#0d0887\"],[0.1111111111111111,\"#46039f\"],[0.2222222222222222,\"#7201a8\"],[0.3333333333333333,\"#9c179e\"],[0.4444444444444444,\"#bd3786\"],[0.5555555555555556,\"#d8576b\"],[0.6666666666666666,\"#ed7953\"],[0.7777777777777778,\"#fb9f3a\"],[0.8888888888888888,\"#fdca26\"],[1.0,\"#f0f921\"]]}],\"mesh3d\":[{\"type\":\"mesh3d\",\"colorbar\":{\"outlinewidth\":0,\"ticks\":\"\"}}],\"scatter\":[{\"fillpattern\":{\"fillmode\":\"overlay\",\"size\":10,\"solidity\":0.2},\"type\":\"scatter\"}],\"parcoords\":[{\"type\":\"parcoords\",\"line\":{\"colorbar\":{\"outlinewidth\":0,\"ticks\":\"\"}}}],\"scatterpolargl\":[{\"type\":\"scatterpolargl\",\"marker\":{\"colorbar\":{\"outlinewidth\":0,\"ticks\":\"\"}}}],\"bar\":[{\"error_x\":{\"color\":\"#2a3f5f\"},\"error_y\":{\"color\":\"#2a3f5f\"},\"marker\":{\"line\":{\"color\":\"#E5ECF6\",\"width\":0.5},\"pattern\":{\"fillmode\":\"overlay\",\"size\":10,\"solidity\":0.2}},\"type\":\"bar\"}],\"scattergeo\":[{\"type\":\"scattergeo\",\"marker\":{\"colorbar\":{\"outlinewidth\":0,\"ticks\":\"\"}}}],\"scatterpolar\":[{\"type\":\"scatterpolar\",\"marker\":{\"colorbar\":{\"outlinewidth\":0,\"ticks\":\"\"}}}],\"histogram\":[{\"marker\":{\"pattern\":{\"fillmode\":\"overlay\",\"size\":10,\"solidity\":0.2}},\"type\":\"histogram\"}],\"scattergl\":[{\"type\":\"scattergl\",\"marker\":{\"colorbar\":{\"outlinewidth\":0,\"ticks\":\"\"}}}],\"scatter3d\":[{\"type\":\"scatter3d\",\"line\":{\"colorbar\":{\"outlinewidth\":0,\"ticks\":\"\"}},\"marker\":{\"colorbar\":{\"outlinewidth\":0,\"ticks\":\"\"}}}],\"scattermapbox\":[{\"type\":\"scattermapbox\",\"marker\":{\"colorbar\":{\"outlinewidth\":0,\"ticks\":\"\"}}}],\"scatterternary\":[{\"type\":\"scatterternary\",\"marker\":{\"colorbar\":{\"outlinewidth\":0,\"ticks\":\"\"}}}],\"scattercarpet\":[{\"type\":\"scattercarpet\",\"marker\":{\"colorbar\":{\"outlinewidth\":0,\"ticks\":\"\"}}}],\"carpet\":[{\"aaxis\":{\"endlinecolor\":\"#2a3f5f\",\"gridcolor\":\"white\",\"linecolor\":\"white\",\"minorgridcolor\":\"white\",\"startlinecolor\":\"#2a3f5f\"},\"baxis\":{\"endlinecolor\":\"#2a3f5f\",\"gridcolor\":\"white\",\"linecolor\":\"white\",\"minorgridcolor\":\"white\",\"startlinecolor\":\"#2a3f5f\"},\"type\":\"carpet\"}],\"table\":[{\"cells\":{\"fill\":{\"color\":\"#EBF0F8\"},\"line\":{\"color\":\"white\"}},\"header\":{\"fill\":{\"color\":\"#C8D4E3\"},\"line\":{\"color\":\"white\"}},\"type\":\"table\"}],\"barpolar\":[{\"marker\":{\"line\":{\"color\":\"#E5ECF6\",\"width\":0.5},\"pattern\":{\"fillmode\":\"overlay\",\"size\":10,\"solidity\":0.2}},\"type\":\"barpolar\"}],\"pie\":[{\"automargin\":true,\"type\":\"pie\"}]},\"layout\":{\"autotypenumbers\":\"strict\",\"colorway\":[\"#636efa\",\"#EF553B\",\"#00cc96\",\"#ab63fa\",\"#FFA15A\",\"#19d3f3\",\"#FF6692\",\"#B6E880\",\"#FF97FF\",\"#FECB52\"],\"font\":{\"color\":\"#2a3f5f\"},\"hovermode\":\"closest\",\"hoverlabel\":{\"align\":\"left\"},\"paper_bgcolor\":\"white\",\"plot_bgcolor\":\"#E5ECF6\",\"polar\":{\"bgcolor\":\"#E5ECF6\",\"angularaxis\":{\"gridcolor\":\"white\",\"linecolor\":\"white\",\"ticks\":\"\"},\"radialaxis\":{\"gridcolor\":\"white\",\"linecolor\":\"white\",\"ticks\":\"\"}},\"ternary\":{\"bgcolor\":\"#E5ECF6\",\"aaxis\":{\"gridcolor\":\"white\",\"linecolor\":\"white\",\"ticks\":\"\"},\"baxis\":{\"gridcolor\":\"white\",\"linecolor\":\"white\",\"ticks\":\"\"},\"caxis\":{\"gridcolor\":\"white\",\"linecolor\":\"white\",\"ticks\":\"\"}},\"coloraxis\":{\"colorbar\":{\"outlinewidth\":0,\"ticks\":\"\"}},\"colorscale\":{\"sequential\":[[0.0,\"#0d0887\"],[0.1111111111111111,\"#46039f\"],[0.2222222222222222,\"#7201a8\"],[0.3333333333333333,\"#9c179e\"],[0.4444444444444444,\"#bd3786\"],[0.5555555555555556,\"#d8576b\"],[0.6666666666666666,\"#ed7953\"],[0.7777777777777778,\"#fb9f3a\"],[0.8888888888888888,\"#fdca26\"],[1.0,\"#f0f921\"]],\"sequentialminus\":[[0.0,\"#0d0887\"],[0.1111111111111111,\"#46039f\"],[0.2222222222222222,\"#7201a8\"],[0.3333333333333333,\"#9c179e\"],[0.4444444444444444,\"#bd3786\"],[0.5555555555555556,\"#d8576b\"],[0.6666666666666666,\"#ed7953\"],[0.7777777777777778,\"#fb9f3a\"],[0.8888888888888888,\"#fdca26\"],[1.0,\"#f0f921\"]],\"diverging\":[[0,\"#8e0152\"],[0.1,\"#c51b7d\"],[0.2,\"#de77ae\"],[0.3,\"#f1b6da\"],[0.4,\"#fde0ef\"],[0.5,\"#f7f7f7\"],[0.6,\"#e6f5d0\"],[0.7,\"#b8e186\"],[0.8,\"#7fbc41\"],[0.9,\"#4d9221\"],[1,\"#276419\"]]},\"xaxis\":{\"gridcolor\":\"white\",\"linecolor\":\"white\",\"ticks\":\"\",\"title\":{\"standoff\":15},\"zerolinecolor\":\"white\",\"automargin\":true,\"zerolinewidth\":2},\"yaxis\":{\"gridcolor\":\"white\",\"linecolor\":\"white\",\"ticks\":\"\",\"title\":{\"standoff\":15},\"zerolinecolor\":\"white\",\"automargin\":true,\"zerolinewidth\":2},\"scene\":{\"xaxis\":{\"backgroundcolor\":\"#E5ECF6\",\"gridcolor\":\"white\",\"linecolor\":\"white\",\"showbackground\":true,\"ticks\":\"\",\"zerolinecolor\":\"white\",\"gridwidth\":2},\"yaxis\":{\"backgroundcolor\":\"#E5ECF6\",\"gridcolor\":\"white\",\"linecolor\":\"white\",\"showbackground\":true,\"ticks\":\"\",\"zerolinecolor\":\"white\",\"gridwidth\":2},\"zaxis\":{\"backgroundcolor\":\"#E5ECF6\",\"gridcolor\":\"white\",\"linecolor\":\"white\",\"showbackground\":true,\"ticks\":\"\",\"zerolinecolor\":\"white\",\"gridwidth\":2}},\"shapedefaults\":{\"line\":{\"color\":\"#2a3f5f\"}},\"annotationdefaults\":{\"arrowcolor\":\"#2a3f5f\",\"arrowhead\":0,\"arrowwidth\":1},\"geo\":{\"bgcolor\":\"white\",\"landcolor\":\"#E5ECF6\",\"subunitcolor\":\"white\",\"showland\":true,\"showlakes\":true,\"lakecolor\":\"white\"},\"title\":{\"x\":0.05},\"mapbox\":{\"style\":\"light\"}}},\"xaxis\":{\"anchor\":\"y\",\"domain\":[0.0,1.0],\"title\":{\"text\":\"sum of Posts_Per_Day\"}},\"yaxis\":{\"anchor\":\"x\",\"domain\":[0.0,1.0],\"title\":{\"text\":\"Platform\"}},\"legend\":{\"title\":{\"text\":\"Gender\"},\"tracegroupgap\":0},\"title\":{\"text\":\"Posts Per Day by Gender\"},\"barmode\":\"relative\"},                        {\"responsive\": true}                    ).then(function(){\n",
              "                            \n",
              "var gd = document.getElementById('8beca99a-135e-4444-9e66-7128aaaf184d');\n",
              "var x = new MutationObserver(function (mutations, observer) {{\n",
              "        var display = window.getComputedStyle(gd).display;\n",
              "        if (!display || display === 'none') {{\n",
              "            console.log([gd, 'removed!']);\n",
              "            Plotly.purge(gd);\n",
              "            observer.disconnect();\n",
              "        }}\n",
              "}});\n",
              "\n",
              "// Listen for the removal of the full notebook cells\n",
              "var notebookContainer = gd.closest('#notebook-container');\n",
              "if (notebookContainer) {{\n",
              "    x.observe(notebookContainer, {childList: true});\n",
              "}}\n",
              "\n",
              "// Listen for the clearing of the current output cell\n",
              "var outputEl = gd.closest('.output');\n",
              "if (outputEl) {{\n",
              "    x.observe(outputEl, {childList: true});\n",
              "}}\n",
              "\n",
              "                        })                };                            </script>        </div>\n",
              "</body>\n",
              "</html>"
            ]
          },
          "metadata": {}
        }
      ]
    },
    {
      "cell_type": "markdown",
      "source": [
        "Gender vs Emotions:"
      ],
      "metadata": {
        "id": "JLChaBCVLIfs"
      }
    },
    {
      "cell_type": "code",
      "source": [
        "# checking the Gender againest the Dominant_Emotion\n",
        "grouped = train_df.groupby(['Gender', 'Dominant_Emotion'])\n",
        "\n",
        "# count the number of rows in each group\n",
        "counts = grouped.size()\n",
        "\n",
        "# print the counts\n",
        "print(counts)"
      ],
      "metadata": {
        "colab": {
          "base_uri": "https://localhost:8080/"
        },
        "id": "HSQKR_JeLEXX",
        "outputId": "8a384bd4-9f61-4dfe-b617-6a2e09abef89"
      },
      "execution_count": 89,
      "outputs": [
        {
          "output_type": "stream",
          "name": "stdout",
          "text": [
            "Gender      Dominant_Emotion\n",
            "Female      Anger                54\n",
            "            Anxiety              54\n",
            "            Boredom              30\n",
            "            Happiness           102\n",
            "            Neutral              56\n",
            "            Sadness              48\n",
            "Male        Anger                58\n",
            "            Anxiety              56\n",
            "            Boredom              54\n",
            "            Happiness            66\n",
            "            Neutral              46\n",
            "            Sadness              52\n",
            "Non-binary  Anger                10\n",
            "            Anxiety              46\n",
            "            Boredom              46\n",
            "            Happiness            18\n",
            "            Neutral              82\n",
            "            Sadness              46\n",
            "Unknown     Anger                 8\n",
            "            Anxiety              14\n",
            "            Boredom              10\n",
            "            Happiness            15\n",
            "            Neutral              16\n",
            "            Sadness              14\n",
            "dtype: int64\n"
          ]
        }
      ]
    },
    {
      "cell_type": "code",
      "source": [
        "# ploting\n",
        "plt = px.histogram(train_df, x='Gender', color='Dominant_Emotion', title='Dominant Emotion by Gender')\n",
        "plt.show()"
      ],
      "metadata": {
        "colab": {
          "base_uri": "https://localhost:8080/",
          "height": 542
        },
        "id": "UfjgJWTOLNty",
        "outputId": "20ea6f84-35c1-484f-e78e-55deb0571e2b"
      },
      "execution_count": 90,
      "outputs": [
        {
          "output_type": "display_data",
          "data": {
            "text/html": [
              "<html>\n",
              "<head><meta charset=\"utf-8\" /></head>\n",
              "<body>\n",
              "    <div>            <script src=\"https://cdnjs.cloudflare.com/ajax/libs/mathjax/2.7.5/MathJax.js?config=TeX-AMS-MML_SVG\"></script><script type=\"text/javascript\">if (window.MathJax && window.MathJax.Hub && window.MathJax.Hub.Config) {window.MathJax.Hub.Config({SVG: {font: \"STIX-Web\"}});}</script>                <script type=\"text/javascript\">window.PlotlyConfig = {MathJaxConfig: 'local'};</script>\n",
              "        <script charset=\"utf-8\" src=\"https://cdn.plot.ly/plotly-2.24.1.min.js\"></script>                <div id=\"896beb34-fd5d-4b05-9c68-a1e9d3f0da49\" class=\"plotly-graph-div\" style=\"height:525px; width:100%;\"></div>            <script type=\"text/javascript\">                                    window.PLOTLYENV=window.PLOTLYENV || {};                                    if (document.getElementById(\"896beb34-fd5d-4b05-9c68-a1e9d3f0da49\")) {                    Plotly.newPlot(                        \"896beb34-fd5d-4b05-9c68-a1e9d3f0da49\",                        [{\"alignmentgroup\":\"True\",\"bingroup\":\"x\",\"hovertemplate\":\"Dominant_Emotion=Happiness\\u003cbr\\u003eGender=%{x}\\u003cbr\\u003ecount=%{y}\\u003cextra\\u003e\\u003c\\u002fextra\\u003e\",\"legendgroup\":\"Happiness\",\"marker\":{\"color\":\"#636efa\",\"pattern\":{\"shape\":\"\"}},\"name\":\"Happiness\",\"offsetgroup\":\"Happiness\",\"orientation\":\"v\",\"showlegend\":true,\"x\":[\"Female\",\"Male\",\"Male\",\"Female\",\"Female\",\"Non-binary\",\"Female\",\"Male\",\"Female\",\"Female\",\"Male\",\"Male\",\"Female\",\"Female\",\"Male\",\"Female\",\"Female\",\"Non-binary\",\"Female\",\"Male\",\"Female\",\"Male\",\"Male\",\"Female\",\"Female\",\"Non-binary\",\"Female\",\"Male\",\"Female\",\"Female\",\"Male\",\"Male\",\"Female\",\"Female\",\"Male\",\"Female\",\"Female\",\"Non-binary\",\"Female\",\"Male\",\"Female\",\"Male\",\"Male\",\"Female\",\"Female\",\"Non-binary\",\"Female\",\"Male\",\"Female\",\"Female\",\"Male\",\"Unknown\",\"Unknown\",\"Unknown\",\"Unknown\",\"Unknown\",\"Unknown\",\"Unknown\",\"Female\",\"Male\",\"Female\",\"Male\",\"Male\",\"Female\",\"Female\",\"Non-binary\",\"Female\",\"Male\",\"Female\",\"Female\",\"Male\",\"Male\",\"Female\",\"Female\",\"Male\",\"Female\",\"Female\",\"Non-binary\",\"Female\",\"Male\",\"Female\",\"Male\",\"Male\",\"Female\",\"Female\",\"Non-binary\",\"Female\",\"Male\",\"Female\",\"Female\",\"Male\",\"Male\",\"Female\",\"Female\",\"Male\",\"Female\",\"Female\",\"Non-binary\",\"Female\",\"Male\",\"Female\",\"Male\",\"Male\",\"Female\",\"Female\",\"Non-binary\",\"Female\",\"Male\",\"Female\",\"Female\",\"Male\",\"Male\",\"Female\",\"Female\",\"Male\",\"Female\",\"Female\",\"Non-binary\",\"Female\",\"Male\",\"Female\",\"Male\",\"Male\",\"Female\",\"Female\",\"Non-binary\",\"Female\",\"Male\",\"Female\",\"Unknown\",\"Female\",\"Male\",\"Male\",\"Female\",\"Female\",\"Male\",\"Female\",\"Female\",\"Non-binary\",\"Female\",\"Male\",\"Female\",\"Male\",\"Male\",\"Female\",\"Female\",\"Non-binary\",\"Female\",\"Male\",\"Female\",\"Female\",\"Male\",\"Unknown\",\"Unknown\",\"Unknown\",\"Unknown\",\"Unknown\",\"Unknown\",\"Unknown\",\"Female\",\"Male\",\"Female\",\"Male\",\"Male\",\"Female\",\"Female\",\"Non-binary\",\"Female\",\"Male\",\"Female\",\"Female\",\"Male\",\"Male\",\"Female\",\"Female\",\"Male\",\"Female\",\"Female\",\"Non-binary\",\"Female\",\"Male\",\"Female\",\"Male\",\"Male\",\"Female\",\"Female\",\"Non-binary\",\"Female\",\"Male\",\"Female\",\"Female\",\"Male\",\"Male\",\"Female\",\"Female\",\"Male\",\"Female\",\"Female\",\"Non-binary\",\"Female\",\"Male\"],\"xaxis\":\"x\",\"yaxis\":\"y\",\"type\":\"histogram\"},{\"alignmentgroup\":\"True\",\"bingroup\":\"x\",\"hovertemplate\":\"Dominant_Emotion=Anger\\u003cbr\\u003eGender=%{x}\\u003cbr\\u003ecount=%{y}\\u003cextra\\u003e\\u003c\\u002fextra\\u003e\",\"legendgroup\":\"Anger\",\"marker\":{\"color\":\"#EF553B\",\"pattern\":{\"shape\":\"\"}},\"name\":\"Anger\",\"offsetgroup\":\"Anger\",\"orientation\":\"v\",\"showlegend\":true,\"x\":[\"Male\",\"Female\",\"Male\",\"Female\",\"Male\",\"Male\",\"Male\",\"Female\",\"Male\",\"Female\",\"Female\",\"Female\",\"Non-binary\",\"Male\",\"Female\",\"Male\",\"Female\",\"Male\",\"Male\",\"Male\",\"Female\",\"Male\",\"Female\",\"Female\",\"Female\",\"Non-binary\",\"Male\",\"Female\",\"Male\",\"Female\",\"Male\",\"Male\",\"Male\",\"Unknown\",\"Unknown\",\"Unknown\",\"Unknown\",\"Female\",\"Non-binary\",\"Male\",\"Female\",\"Male\",\"Female\",\"Male\",\"Male\",\"Male\",\"Female\",\"Male\",\"Female\",\"Female\",\"Female\",\"Non-binary\",\"Male\",\"Female\",\"Male\",\"Female\",\"Male\",\"Male\",\"Male\",\"Female\",\"Male\",\"Female\",\"Female\",\"Female\",\"Non-binary\",\"Male\",\"Female\",\"Male\",\"Female\",\"Male\",\"Male\",\"Male\",\"Female\",\"Male\",\"Female\",\"Female\",\"Female\",\"Non-binary\",\"Male\",\"Female\",\"Male\",\"Female\",\"Male\",\"Male\",\"Male\",\"Female\",\"Male\",\"Female\",\"Female\",\"Female\",\"Non-binary\",\"Male\",\"Female\",\"Male\",\"Female\",\"Male\",\"Male\",\"Male\",\"Unknown\",\"Unknown\",\"Unknown\",\"Unknown\",\"Female\",\"Non-binary\",\"Male\",\"Female\",\"Male\",\"Female\",\"Male\",\"Male\",\"Male\",\"Female\",\"Male\",\"Female\",\"Female\",\"Female\",\"Non-binary\",\"Male\",\"Female\",\"Male\",\"Female\",\"Male\",\"Male\",\"Male\",\"Female\",\"Male\",\"Female\",\"Female\",\"Female\",\"Non-binary\"],\"xaxis\":\"x\",\"yaxis\":\"y\",\"type\":\"histogram\"},{\"alignmentgroup\":\"True\",\"bingroup\":\"x\",\"hovertemplate\":\"Dominant_Emotion=Neutral\\u003cbr\\u003eGender=%{x}\\u003cbr\\u003ecount=%{y}\\u003cextra\\u003e\\u003c\\u002fextra\\u003e\",\"legendgroup\":\"Neutral\",\"marker\":{\"color\":\"#00cc96\",\"pattern\":{\"shape\":\"\"}},\"name\":\"Neutral\",\"offsetgroup\":\"Neutral\",\"orientation\":\"v\",\"showlegend\":true,\"x\":[\"Non-binary\",\"Female\",\"Non-binary\",\"Non-binary\",\"Male\",\"Non-binary\",\"Female\",\"Non-binary\",\"Male\",\"Non-binary\",\"Non-binary\",\"Female\",\"Non-binary\",\"Male\",\"Female\",\"Male\",\"Non-binary\",\"Male\",\"Female\",\"Female\",\"Non-binary\",\"Female\",\"Non-binary\",\"Non-binary\",\"Male\",\"Non-binary\",\"Female\",\"Non-binary\",\"Male\",\"Non-binary\",\"Non-binary\",\"Female\",\"Non-binary\",\"Male\",\"Female\",\"Male\",\"Non-binary\",\"Male\",\"Female\",\"Female\",\"Non-binary\",\"Female\",\"Non-binary\",\"Non-binary\",\"Male\",\"Non-binary\",\"Female\",\"Non-binary\",\"Male\",\"Unknown\",\"Unknown\",\"Unknown\",\"Unknown\",\"Unknown\",\"Unknown\",\"Unknown\",\"Unknown\",\"Male\",\"Female\",\"Female\",\"Non-binary\",\"Female\",\"Non-binary\",\"Non-binary\",\"Male\",\"Non-binary\",\"Female\",\"Non-binary\",\"Male\",\"Non-binary\",\"Non-binary\",\"Female\",\"Non-binary\",\"Male\",\"Female\",\"Male\",\"Non-binary\",\"Male\",\"Female\",\"Female\",\"Non-binary\",\"Female\",\"Non-binary\",\"Non-binary\",\"Male\",\"Non-binary\",\"Female\",\"Non-binary\",\"Male\",\"Non-binary\",\"Non-binary\",\"Female\",\"Non-binary\",\"Male\",\"Female\",\"Male\",\"Non-binary\",\"Male\",\"Female\",\"Female\",\"Non-binary\",\"Female\",\"Non-binary\",\"Non-binary\",\"Male\",\"Non-binary\",\"Female\",\"Non-binary\",\"Male\",\"Non-binary\",\"Non-binary\",\"Female\",\"Non-binary\",\"Male\",\"Female\",\"Male\",\"Non-binary\",\"Male\",\"Female\",\"Female\",\"Non-binary\",\"Female\",\"Non-binary\",\"Non-binary\",\"Male\",\"Non-binary\",\"Female\",\"Non-binary\",\"Male\",\"Non-binary\",\"Non-binary\",\"Female\",\"Non-binary\",\"Male\",\"Female\",\"Male\",\"Non-binary\",\"Male\",\"Female\",\"Female\",\"Non-binary\",\"Female\",\"Non-binary\",\"Non-binary\",\"Male\",\"Non-binary\",\"Female\",\"Non-binary\",\"Male\",\"Unknown\",\"Unknown\",\"Unknown\",\"Unknown\",\"Unknown\",\"Unknown\",\"Unknown\",\"Unknown\",\"Male\",\"Female\",\"Female\",\"Non-binary\",\"Female\",\"Non-binary\",\"Non-binary\",\"Male\",\"Non-binary\",\"Female\",\"Non-binary\",\"Male\",\"Non-binary\",\"Non-binary\",\"Female\",\"Non-binary\",\"Male\",\"Female\",\"Male\",\"Non-binary\",\"Male\",\"Female\",\"Female\",\"Non-binary\",\"Female\",\"Non-binary\",\"Non-binary\",\"Male\",\"Non-binary\",\"Female\",\"Non-binary\",\"Male\",\"Non-binary\",\"Non-binary\",\"Female\",\"Non-binary\",\"Male\",\"Female\",\"Male\",\"Non-binary\",\"Male\",\"Female\",\"Female\"],\"xaxis\":\"x\",\"yaxis\":\"y\",\"type\":\"histogram\"},{\"alignmentgroup\":\"True\",\"bingroup\":\"x\",\"hovertemplate\":\"Dominant_Emotion=Anxiety\\u003cbr\\u003eGender=%{x}\\u003cbr\\u003ecount=%{y}\\u003cextra\\u003e\\u003c\\u002fextra\\u003e\",\"legendgroup\":\"Anxiety\",\"marker\":{\"color\":\"#ab63fa\",\"pattern\":{\"shape\":\"\"}},\"name\":\"Anxiety\",\"offsetgroup\":\"Anxiety\",\"orientation\":\"v\",\"showlegend\":true,\"x\":[\"Female\",\"Female\",\"Female\",\"Male\",\"Non-binary\",\"Male\",\"Non-binary\",\"Non-binary\",\"Male\",\"Female\",\"Female\",\"Male\",\"Non-binary\",\"Non-binary\",\"Female\",\"Male\",\"Male\",\"Female\",\"Female\",\"Female\",\"Male\",\"Non-binary\",\"Male\",\"Non-binary\",\"Non-binary\",\"Male\",\"Female\",\"Female\",\"Male\",\"Non-binary\",\"Non-binary\",\"Female\",\"Male\",\"Male\",\"Female\",\"Female\",\"Female\",\"Male\",\"Non-binary\",\"Male\",\"Non-binary\",\"Non-binary\",\"Unknown\",\"Unknown\",\"Unknown\",\"Unknown\",\"Unknown\",\"Unknown\",\"Unknown\",\"Male\",\"Male\",\"Female\",\"Female\",\"Female\",\"Male\",\"Non-binary\",\"Male\",\"Non-binary\",\"Non-binary\",\"Male\",\"Female\",\"Female\",\"Male\",\"Non-binary\",\"Non-binary\",\"Female\",\"Male\",\"Male\",\"Female\",\"Female\",\"Female\",\"Male\",\"Non-binary\",\"Male\",\"Non-binary\",\"Non-binary\",\"Male\",\"Female\",\"Female\",\"Male\",\"Non-binary\",\"Non-binary\",\"Female\",\"Male\",\"Male\",\"Female\",\"Female\",\"Female\",\"Male\",\"Non-binary\",\"Male\",\"Non-binary\",\"Non-binary\",\"Male\",\"Female\",\"Female\",\"Male\",\"Non-binary\",\"Non-binary\",\"Female\",\"Male\",\"Male\",\"Female\",\"Female\",\"Female\",\"Male\",\"Non-binary\",\"Male\",\"Non-binary\",\"Non-binary\",\"Male\",\"Female\",\"Female\",\"Male\",\"Non-binary\",\"Non-binary\",\"Female\",\"Male\",\"Male\",\"Female\",\"Female\",\"Female\",\"Male\",\"Non-binary\",\"Male\",\"Non-binary\",\"Non-binary\",\"Unknown\",\"Unknown\",\"Unknown\",\"Unknown\",\"Unknown\",\"Unknown\",\"Unknown\",\"Male\",\"Male\",\"Female\",\"Female\",\"Female\",\"Male\",\"Non-binary\",\"Male\",\"Non-binary\",\"Non-binary\",\"Male\",\"Female\",\"Female\",\"Male\",\"Non-binary\",\"Non-binary\",\"Female\",\"Male\",\"Male\",\"Female\",\"Female\",\"Female\",\"Male\",\"Non-binary\",\"Male\",\"Non-binary\",\"Non-binary\",\"Male\",\"Female\",\"Female\",\"Male\",\"Non-binary\",\"Non-binary\",\"Female\",\"Male\",\"Male\"],\"xaxis\":\"x\",\"yaxis\":\"y\",\"type\":\"histogram\"},{\"alignmentgroup\":\"True\",\"bingroup\":\"x\",\"hovertemplate\":\"Dominant_Emotion=Boredom\\u003cbr\\u003eGender=%{x}\\u003cbr\\u003ecount=%{y}\\u003cextra\\u003e\\u003c\\u002fextra\\u003e\",\"legendgroup\":\"Boredom\",\"marker\":{\"color\":\"#FFA15A\",\"pattern\":{\"shape\":\"\"}},\"name\":\"Boredom\",\"offsetgroup\":\"Boredom\",\"orientation\":\"v\",\"showlegend\":true,\"x\":[\"Male\",\"Male\",\"Male\",\"Female\",\"Non-binary\",\"Female\",\"Female\",\"Male\",\"Male\",\"Non-binary\",\"Male\",\"Non-binary\",\"Non-binary\",\"Non-binary\",\"Male\",\"Male\",\"Male\",\"Female\",\"Non-binary\",\"Female\",\"Female\",\"Male\",\"Male\",\"Non-binary\",\"Male\",\"Non-binary\",\"Non-binary\",\"Non-binary\",\"Male\",\"Male\",\"Male\",\"Female\",\"Non-binary\",\"Female\",\"Female\",\"Unknown\",\"Unknown\",\"Unknown\",\"Unknown\",\"Unknown\",\"Non-binary\",\"Non-binary\",\"Male\",\"Male\",\"Male\",\"Female\",\"Non-binary\",\"Female\",\"Female\",\"Male\",\"Male\",\"Non-binary\",\"Male\",\"Non-binary\",\"Non-binary\",\"Non-binary\",\"Male\",\"Male\",\"Male\",\"Female\",\"Non-binary\",\"Female\",\"Female\",\"Male\",\"Male\",\"Non-binary\",\"Male\",\"Non-binary\",\"Non-binary\",\"Non-binary\",\"Male\",\"Male\",\"Male\",\"Female\",\"Non-binary\",\"Female\",\"Female\",\"Male\",\"Male\",\"Non-binary\",\"Male\",\"Non-binary\",\"Non-binary\",\"Non-binary\",\"Male\",\"Male\",\"Male\",\"Female\",\"Non-binary\",\"Female\",\"Female\",\"Male\",\"Male\",\"Non-binary\",\"Male\",\"Non-binary\",\"Non-binary\",\"Non-binary\",\"Male\",\"Male\",\"Male\",\"Female\",\"Non-binary\",\"Female\",\"Female\",\"Unknown\",\"Unknown\",\"Unknown\",\"Unknown\",\"Unknown\",\"Non-binary\",\"Non-binary\",\"Male\",\"Male\",\"Male\",\"Female\",\"Non-binary\",\"Female\",\"Female\",\"Male\",\"Male\",\"Non-binary\",\"Male\",\"Non-binary\",\"Non-binary\",\"Non-binary\",\"Male\",\"Male\",\"Male\",\"Female\",\"Non-binary\",\"Female\",\"Female\",\"Male\",\"Male\",\"Non-binary\",\"Male\",\"Non-binary\",\"Non-binary\",\"Non-binary\"],\"xaxis\":\"x\",\"yaxis\":\"y\",\"type\":\"histogram\"},{\"alignmentgroup\":\"True\",\"bingroup\":\"x\",\"hovertemplate\":\"Dominant_Emotion=Sadness\\u003cbr\\u003eGender=%{x}\\u003cbr\\u003ecount=%{y}\\u003cextra\\u003e\\u003c\\u002fextra\\u003e\",\"legendgroup\":\"Sadness\",\"marker\":{\"color\":\"#19d3f3\",\"pattern\":{\"shape\":\"\"}},\"name\":\"Sadness\",\"offsetgroup\":\"Sadness\",\"orientation\":\"v\",\"showlegend\":true,\"x\":[\"Non-binary\",\"Non-binary\",\"Male\",\"Female\",\"Non-binary\",\"Female\",\"Male\",\"Female\",\"Female\",\"Non-binary\",\"Male\",\"Non-binary\",\"Male\",\"Male\",\"Male\",\"Female\",\"Non-binary\",\"Non-binary\",\"Male\",\"Female\",\"Non-binary\",\"Female\",\"Male\",\"Female\",\"Female\",\"Non-binary\",\"Male\",\"Non-binary\",\"Male\",\"Male\",\"Male\",\"Female\",\"Non-binary\",\"Non-binary\",\"Male\",\"Female\",\"Non-binary\",\"Female\",\"Male\",\"Female\",\"Unknown\",\"Unknown\",\"Unknown\",\"Unknown\",\"Unknown\",\"Unknown\",\"Unknown\",\"Female\",\"Non-binary\",\"Non-binary\",\"Male\",\"Female\",\"Non-binary\",\"Female\",\"Male\",\"Female\",\"Female\",\"Non-binary\",\"Male\",\"Non-binary\",\"Male\",\"Male\",\"Male\",\"Female\",\"Non-binary\",\"Non-binary\",\"Male\",\"Female\",\"Non-binary\",\"Female\",\"Male\",\"Female\",\"Female\",\"Non-binary\",\"Male\",\"Non-binary\",\"Male\",\"Male\",\"Male\",\"Female\",\"Non-binary\",\"Non-binary\",\"Male\",\"Female\",\"Non-binary\",\"Female\",\"Male\",\"Female\",\"Female\",\"Non-binary\",\"Male\",\"Non-binary\",\"Male\",\"Male\",\"Male\",\"Female\",\"Non-binary\",\"Non-binary\",\"Male\",\"Female\",\"Non-binary\",\"Female\",\"Male\",\"Female\",\"Female\",\"Non-binary\",\"Male\",\"Non-binary\",\"Male\",\"Male\",\"Male\",\"Female\",\"Non-binary\",\"Non-binary\",\"Male\",\"Female\",\"Non-binary\",\"Female\",\"Male\",\"Female\",\"Unknown\",\"Unknown\",\"Unknown\",\"Unknown\",\"Unknown\",\"Unknown\",\"Unknown\",\"Female\",\"Non-binary\",\"Non-binary\",\"Male\",\"Female\",\"Non-binary\",\"Female\",\"Male\",\"Female\",\"Female\",\"Non-binary\",\"Male\",\"Non-binary\",\"Male\",\"Male\",\"Male\",\"Female\",\"Non-binary\",\"Non-binary\",\"Male\",\"Female\",\"Non-binary\",\"Female\",\"Male\",\"Female\",\"Female\",\"Non-binary\",\"Male\",\"Non-binary\",\"Male\",\"Male\",\"Male\",\"Female\"],\"xaxis\":\"x\",\"yaxis\":\"y\",\"type\":\"histogram\"}],                        {\"template\":{\"data\":{\"histogram2dcontour\":[{\"type\":\"histogram2dcontour\",\"colorbar\":{\"outlinewidth\":0,\"ticks\":\"\"},\"colorscale\":[[0.0,\"#0d0887\"],[0.1111111111111111,\"#46039f\"],[0.2222222222222222,\"#7201a8\"],[0.3333333333333333,\"#9c179e\"],[0.4444444444444444,\"#bd3786\"],[0.5555555555555556,\"#d8576b\"],[0.6666666666666666,\"#ed7953\"],[0.7777777777777778,\"#fb9f3a\"],[0.8888888888888888,\"#fdca26\"],[1.0,\"#f0f921\"]]}],\"choropleth\":[{\"type\":\"choropleth\",\"colorbar\":{\"outlinewidth\":0,\"ticks\":\"\"}}],\"histogram2d\":[{\"type\":\"histogram2d\",\"colorbar\":{\"outlinewidth\":0,\"ticks\":\"\"},\"colorscale\":[[0.0,\"#0d0887\"],[0.1111111111111111,\"#46039f\"],[0.2222222222222222,\"#7201a8\"],[0.3333333333333333,\"#9c179e\"],[0.4444444444444444,\"#bd3786\"],[0.5555555555555556,\"#d8576b\"],[0.6666666666666666,\"#ed7953\"],[0.7777777777777778,\"#fb9f3a\"],[0.8888888888888888,\"#fdca26\"],[1.0,\"#f0f921\"]]}],\"heatmap\":[{\"type\":\"heatmap\",\"colorbar\":{\"outlinewidth\":0,\"ticks\":\"\"},\"colorscale\":[[0.0,\"#0d0887\"],[0.1111111111111111,\"#46039f\"],[0.2222222222222222,\"#7201a8\"],[0.3333333333333333,\"#9c179e\"],[0.4444444444444444,\"#bd3786\"],[0.5555555555555556,\"#d8576b\"],[0.6666666666666666,\"#ed7953\"],[0.7777777777777778,\"#fb9f3a\"],[0.8888888888888888,\"#fdca26\"],[1.0,\"#f0f921\"]]}],\"heatmapgl\":[{\"type\":\"heatmapgl\",\"colorbar\":{\"outlinewidth\":0,\"ticks\":\"\"},\"colorscale\":[[0.0,\"#0d0887\"],[0.1111111111111111,\"#46039f\"],[0.2222222222222222,\"#7201a8\"],[0.3333333333333333,\"#9c179e\"],[0.4444444444444444,\"#bd3786\"],[0.5555555555555556,\"#d8576b\"],[0.6666666666666666,\"#ed7953\"],[0.7777777777777778,\"#fb9f3a\"],[0.8888888888888888,\"#fdca26\"],[1.0,\"#f0f921\"]]}],\"contourcarpet\":[{\"type\":\"contourcarpet\",\"colorbar\":{\"outlinewidth\":0,\"ticks\":\"\"}}],\"contour\":[{\"type\":\"contour\",\"colorbar\":{\"outlinewidth\":0,\"ticks\":\"\"},\"colorscale\":[[0.0,\"#0d0887\"],[0.1111111111111111,\"#46039f\"],[0.2222222222222222,\"#7201a8\"],[0.3333333333333333,\"#9c179e\"],[0.4444444444444444,\"#bd3786\"],[0.5555555555555556,\"#d8576b\"],[0.6666666666666666,\"#ed7953\"],[0.7777777777777778,\"#fb9f3a\"],[0.8888888888888888,\"#fdca26\"],[1.0,\"#f0f921\"]]}],\"surface\":[{\"type\":\"surface\",\"colorbar\":{\"outlinewidth\":0,\"ticks\":\"\"},\"colorscale\":[[0.0,\"#0d0887\"],[0.1111111111111111,\"#46039f\"],[0.2222222222222222,\"#7201a8\"],[0.3333333333333333,\"#9c179e\"],[0.4444444444444444,\"#bd3786\"],[0.5555555555555556,\"#d8576b\"],[0.6666666666666666,\"#ed7953\"],[0.7777777777777778,\"#fb9f3a\"],[0.8888888888888888,\"#fdca26\"],[1.0,\"#f0f921\"]]}],\"mesh3d\":[{\"type\":\"mesh3d\",\"colorbar\":{\"outlinewidth\":0,\"ticks\":\"\"}}],\"scatter\":[{\"fillpattern\":{\"fillmode\":\"overlay\",\"size\":10,\"solidity\":0.2},\"type\":\"scatter\"}],\"parcoords\":[{\"type\":\"parcoords\",\"line\":{\"colorbar\":{\"outlinewidth\":0,\"ticks\":\"\"}}}],\"scatterpolargl\":[{\"type\":\"scatterpolargl\",\"marker\":{\"colorbar\":{\"outlinewidth\":0,\"ticks\":\"\"}}}],\"bar\":[{\"error_x\":{\"color\":\"#2a3f5f\"},\"error_y\":{\"color\":\"#2a3f5f\"},\"marker\":{\"line\":{\"color\":\"#E5ECF6\",\"width\":0.5},\"pattern\":{\"fillmode\":\"overlay\",\"size\":10,\"solidity\":0.2}},\"type\":\"bar\"}],\"scattergeo\":[{\"type\":\"scattergeo\",\"marker\":{\"colorbar\":{\"outlinewidth\":0,\"ticks\":\"\"}}}],\"scatterpolar\":[{\"type\":\"scatterpolar\",\"marker\":{\"colorbar\":{\"outlinewidth\":0,\"ticks\":\"\"}}}],\"histogram\":[{\"marker\":{\"pattern\":{\"fillmode\":\"overlay\",\"size\":10,\"solidity\":0.2}},\"type\":\"histogram\"}],\"scattergl\":[{\"type\":\"scattergl\",\"marker\":{\"colorbar\":{\"outlinewidth\":0,\"ticks\":\"\"}}}],\"scatter3d\":[{\"type\":\"scatter3d\",\"line\":{\"colorbar\":{\"outlinewidth\":0,\"ticks\":\"\"}},\"marker\":{\"colorbar\":{\"outlinewidth\":0,\"ticks\":\"\"}}}],\"scattermapbox\":[{\"type\":\"scattermapbox\",\"marker\":{\"colorbar\":{\"outlinewidth\":0,\"ticks\":\"\"}}}],\"scatterternary\":[{\"type\":\"scatterternary\",\"marker\":{\"colorbar\":{\"outlinewidth\":0,\"ticks\":\"\"}}}],\"scattercarpet\":[{\"type\":\"scattercarpet\",\"marker\":{\"colorbar\":{\"outlinewidth\":0,\"ticks\":\"\"}}}],\"carpet\":[{\"aaxis\":{\"endlinecolor\":\"#2a3f5f\",\"gridcolor\":\"white\",\"linecolor\":\"white\",\"minorgridcolor\":\"white\",\"startlinecolor\":\"#2a3f5f\"},\"baxis\":{\"endlinecolor\":\"#2a3f5f\",\"gridcolor\":\"white\",\"linecolor\":\"white\",\"minorgridcolor\":\"white\",\"startlinecolor\":\"#2a3f5f\"},\"type\":\"carpet\"}],\"table\":[{\"cells\":{\"fill\":{\"color\":\"#EBF0F8\"},\"line\":{\"color\":\"white\"}},\"header\":{\"fill\":{\"color\":\"#C8D4E3\"},\"line\":{\"color\":\"white\"}},\"type\":\"table\"}],\"barpolar\":[{\"marker\":{\"line\":{\"color\":\"#E5ECF6\",\"width\":0.5},\"pattern\":{\"fillmode\":\"overlay\",\"size\":10,\"solidity\":0.2}},\"type\":\"barpolar\"}],\"pie\":[{\"automargin\":true,\"type\":\"pie\"}]},\"layout\":{\"autotypenumbers\":\"strict\",\"colorway\":[\"#636efa\",\"#EF553B\",\"#00cc96\",\"#ab63fa\",\"#FFA15A\",\"#19d3f3\",\"#FF6692\",\"#B6E880\",\"#FF97FF\",\"#FECB52\"],\"font\":{\"color\":\"#2a3f5f\"},\"hovermode\":\"closest\",\"hoverlabel\":{\"align\":\"left\"},\"paper_bgcolor\":\"white\",\"plot_bgcolor\":\"#E5ECF6\",\"polar\":{\"bgcolor\":\"#E5ECF6\",\"angularaxis\":{\"gridcolor\":\"white\",\"linecolor\":\"white\",\"ticks\":\"\"},\"radialaxis\":{\"gridcolor\":\"white\",\"linecolor\":\"white\",\"ticks\":\"\"}},\"ternary\":{\"bgcolor\":\"#E5ECF6\",\"aaxis\":{\"gridcolor\":\"white\",\"linecolor\":\"white\",\"ticks\":\"\"},\"baxis\":{\"gridcolor\":\"white\",\"linecolor\":\"white\",\"ticks\":\"\"},\"caxis\":{\"gridcolor\":\"white\",\"linecolor\":\"white\",\"ticks\":\"\"}},\"coloraxis\":{\"colorbar\":{\"outlinewidth\":0,\"ticks\":\"\"}},\"colorscale\":{\"sequential\":[[0.0,\"#0d0887\"],[0.1111111111111111,\"#46039f\"],[0.2222222222222222,\"#7201a8\"],[0.3333333333333333,\"#9c179e\"],[0.4444444444444444,\"#bd3786\"],[0.5555555555555556,\"#d8576b\"],[0.6666666666666666,\"#ed7953\"],[0.7777777777777778,\"#fb9f3a\"],[0.8888888888888888,\"#fdca26\"],[1.0,\"#f0f921\"]],\"sequentialminus\":[[0.0,\"#0d0887\"],[0.1111111111111111,\"#46039f\"],[0.2222222222222222,\"#7201a8\"],[0.3333333333333333,\"#9c179e\"],[0.4444444444444444,\"#bd3786\"],[0.5555555555555556,\"#d8576b\"],[0.6666666666666666,\"#ed7953\"],[0.7777777777777778,\"#fb9f3a\"],[0.8888888888888888,\"#fdca26\"],[1.0,\"#f0f921\"]],\"diverging\":[[0,\"#8e0152\"],[0.1,\"#c51b7d\"],[0.2,\"#de77ae\"],[0.3,\"#f1b6da\"],[0.4,\"#fde0ef\"],[0.5,\"#f7f7f7\"],[0.6,\"#e6f5d0\"],[0.7,\"#b8e186\"],[0.8,\"#7fbc41\"],[0.9,\"#4d9221\"],[1,\"#276419\"]]},\"xaxis\":{\"gridcolor\":\"white\",\"linecolor\":\"white\",\"ticks\":\"\",\"title\":{\"standoff\":15},\"zerolinecolor\":\"white\",\"automargin\":true,\"zerolinewidth\":2},\"yaxis\":{\"gridcolor\":\"white\",\"linecolor\":\"white\",\"ticks\":\"\",\"title\":{\"standoff\":15},\"zerolinecolor\":\"white\",\"automargin\":true,\"zerolinewidth\":2},\"scene\":{\"xaxis\":{\"backgroundcolor\":\"#E5ECF6\",\"gridcolor\":\"white\",\"linecolor\":\"white\",\"showbackground\":true,\"ticks\":\"\",\"zerolinecolor\":\"white\",\"gridwidth\":2},\"yaxis\":{\"backgroundcolor\":\"#E5ECF6\",\"gridcolor\":\"white\",\"linecolor\":\"white\",\"showbackground\":true,\"ticks\":\"\",\"zerolinecolor\":\"white\",\"gridwidth\":2},\"zaxis\":{\"backgroundcolor\":\"#E5ECF6\",\"gridcolor\":\"white\",\"linecolor\":\"white\",\"showbackground\":true,\"ticks\":\"\",\"zerolinecolor\":\"white\",\"gridwidth\":2}},\"shapedefaults\":{\"line\":{\"color\":\"#2a3f5f\"}},\"annotationdefaults\":{\"arrowcolor\":\"#2a3f5f\",\"arrowhead\":0,\"arrowwidth\":1},\"geo\":{\"bgcolor\":\"white\",\"landcolor\":\"#E5ECF6\",\"subunitcolor\":\"white\",\"showland\":true,\"showlakes\":true,\"lakecolor\":\"white\"},\"title\":{\"x\":0.05},\"mapbox\":{\"style\":\"light\"}}},\"xaxis\":{\"anchor\":\"y\",\"domain\":[0.0,1.0],\"title\":{\"text\":\"Gender\"}},\"yaxis\":{\"anchor\":\"x\",\"domain\":[0.0,1.0],\"title\":{\"text\":\"count\"}},\"legend\":{\"title\":{\"text\":\"Dominant_Emotion\"},\"tracegroupgap\":0},\"title\":{\"text\":\"Dominant Emotion by Gender\"},\"barmode\":\"relative\"},                        {\"responsive\": true}                    ).then(function(){\n",
              "                            \n",
              "var gd = document.getElementById('896beb34-fd5d-4b05-9c68-a1e9d3f0da49');\n",
              "var x = new MutationObserver(function (mutations, observer) {{\n",
              "        var display = window.getComputedStyle(gd).display;\n",
              "        if (!display || display === 'none') {{\n",
              "            console.log([gd, 'removed!']);\n",
              "            Plotly.purge(gd);\n",
              "            observer.disconnect();\n",
              "        }}\n",
              "}});\n",
              "\n",
              "// Listen for the removal of the full notebook cells\n",
              "var notebookContainer = gd.closest('#notebook-container');\n",
              "if (notebookContainer) {{\n",
              "    x.observe(notebookContainer, {childList: true});\n",
              "}}\n",
              "\n",
              "// Listen for the clearing of the current output cell\n",
              "var outputEl = gd.closest('.output');\n",
              "if (outputEl) {{\n",
              "    x.observe(outputEl, {childList: true});\n",
              "}}\n",
              "\n",
              "                        })                };                            </script>        </div>\n",
              "</body>\n",
              "</html>"
            ]
          },
          "metadata": {}
        }
      ]
    },
    {
      "cell_type": "markdown",
      "source": [
        "Platform vs Emotions:"
      ],
      "metadata": {
        "id": "ro3APssKLWEc"
      }
    },
    {
      "cell_type": "code",
      "source": [
        "# checking the Platformagainest the Dominant_Emotion\n",
        "grouped = train_df.groupby(['Platform', 'Dominant_Emotion'])\n",
        "\n",
        "# count the number of rows in each group\n",
        "counts = grouped.size()\n",
        "\n",
        "# print the counts\n",
        "print(counts)"
      ],
      "metadata": {
        "colab": {
          "base_uri": "https://localhost:8080/"
        },
        "id": "0bW2BGd_LSaO",
        "outputId": "57bb14c3-d457-4c40-b5ad-550b6c4e5c3f"
      },
      "execution_count": 91,
      "outputs": [
        {
          "output_type": "stream",
          "name": "stdout",
          "text": [
            "Platform   Dominant_Emotion\n",
            "Facebook   Anxiety              50\n",
            "           Boredom              40\n",
            "           Neutral              70\n",
            "           Sadness              30\n",
            "Instagram  Anger                10\n",
            "           Anxiety              30\n",
            "           Happiness           171\n",
            "           Neutral              20\n",
            "           Sadness              20\n",
            "LinkedIn   Anxiety              20\n",
            "           Boredom              70\n",
            "           Neutral              20\n",
            "           Sadness              10\n",
            "Snapchat   Anxiety              20\n",
            "           Happiness            10\n",
            "           Neutral              20\n",
            "           Sadness              30\n",
            "Telegram   Anger                10\n",
            "           Anxiety              10\n",
            "           Boredom              10\n",
            "           Neutral              30\n",
            "           Sadness              20\n",
            "Twitter    Anger                80\n",
            "           Anxiety              20\n",
            "           Boredom              20\n",
            "           Happiness            10\n",
            "           Neutral              20\n",
            "           Sadness              50\n",
            "Whatsapp   Anger                30\n",
            "           Anxiety              20\n",
            "           Happiness            10\n",
            "           Neutral              20\n",
            "dtype: int64\n"
          ]
        }
      ]
    },
    {
      "cell_type": "code",
      "source": [
        "Plt = px.histogram(train_df, x='Platform', color='Dominant_Emotion', title='Dominant Emotion by Platform')\n",
        "Plt.show()"
      ],
      "metadata": {
        "colab": {
          "base_uri": "https://localhost:8080/",
          "height": 542
        },
        "id": "ihAyXedJLbim",
        "outputId": "6a6ff7ed-db17-44fc-90a1-e1991aa91549"
      },
      "execution_count": 92,
      "outputs": [
        {
          "output_type": "display_data",
          "data": {
            "text/html": [
              "<html>\n",
              "<head><meta charset=\"utf-8\" /></head>\n",
              "<body>\n",
              "    <div>            <script src=\"https://cdnjs.cloudflare.com/ajax/libs/mathjax/2.7.5/MathJax.js?config=TeX-AMS-MML_SVG\"></script><script type=\"text/javascript\">if (window.MathJax && window.MathJax.Hub && window.MathJax.Hub.Config) {window.MathJax.Hub.Config({SVG: {font: \"STIX-Web\"}});}</script>                <script type=\"text/javascript\">window.PlotlyConfig = {MathJaxConfig: 'local'};</script>\n",
              "        <script charset=\"utf-8\" src=\"https://cdn.plot.ly/plotly-2.24.1.min.js\"></script>                <div id=\"499d3657-e26e-474e-8441-99fc257fea81\" class=\"plotly-graph-div\" style=\"height:525px; width:100%;\"></div>            <script type=\"text/javascript\">                                    window.PLOTLYENV=window.PLOTLYENV || {};                                    if (document.getElementById(\"499d3657-e26e-474e-8441-99fc257fea81\")) {                    Plotly.newPlot(                        \"499d3657-e26e-474e-8441-99fc257fea81\",                        [{\"alignmentgroup\":\"True\",\"bingroup\":\"x\",\"hovertemplate\":\"Dominant_Emotion=Happiness\\u003cbr\\u003ePlatform=%{x}\\u003cbr\\u003ecount=%{y}\\u003cextra\\u003e\\u003c\\u002fextra\\u003e\",\"legendgroup\":\"Happiness\",\"marker\":{\"color\":\"#636efa\",\"pattern\":{\"shape\":\"\"}},\"name\":\"Happiness\",\"offsetgroup\":\"Happiness\",\"orientation\":\"v\",\"showlegend\":true,\"x\":[\"Instagram\",\"Instagram\",\"Instagram\",\"Instagram\",\"Instagram\",\"Instagram\",\"Instagram\",\"Instagram\",\"Instagram\",\"Instagram\",\"Instagram\",\"Instagram\",\"Twitter\",\"Instagram\",\"Instagram\",\"Instagram\",\"Instagram\",\"Snapchat\",\"Instagram\",\"Whatsapp\",\"Instagram\",\"Instagram\",\"Instagram\",\"Instagram\",\"Instagram\",\"Instagram\",\"Instagram\",\"Instagram\",\"Instagram\",\"Instagram\",\"Instagram\",\"Instagram\",\"Twitter\",\"Instagram\",\"Instagram\",\"Instagram\",\"Instagram\",\"Snapchat\",\"Instagram\",\"Whatsapp\",\"Instagram\",\"Instagram\",\"Instagram\",\"Instagram\",\"Instagram\",\"Instagram\",\"Instagram\",\"Instagram\",\"Instagram\",\"Instagram\",\"Instagram\",\"Instagram\",\"Twitter\",\"Instagram\",\"Instagram\",\"Instagram\",\"Instagram\",\"Snapchat\",\"Instagram\",\"Whatsapp\",\"Instagram\",\"Instagram\",\"Instagram\",\"Instagram\",\"Instagram\",\"Instagram\",\"Instagram\",\"Instagram\",\"Instagram\",\"Instagram\",\"Instagram\",\"Instagram\",\"Twitter\",\"Instagram\",\"Instagram\",\"Instagram\",\"Instagram\",\"Snapchat\",\"Instagram\",\"Whatsapp\",\"Instagram\",\"Instagram\",\"Instagram\",\"Instagram\",\"Instagram\",\"Instagram\",\"Instagram\",\"Instagram\",\"Instagram\",\"Instagram\",\"Instagram\",\"Instagram\",\"Twitter\",\"Instagram\",\"Instagram\",\"Instagram\",\"Instagram\",\"Snapchat\",\"Instagram\",\"Whatsapp\",\"Instagram\",\"Instagram\",\"Instagram\",\"Instagram\",\"Instagram\",\"Instagram\",\"Instagram\",\"Instagram\",\"Instagram\",\"Instagram\",\"Instagram\",\"Instagram\",\"Twitter\",\"Instagram\",\"Instagram\",\"Instagram\",\"Instagram\",\"Snapchat\",\"Instagram\",\"Whatsapp\",\"Instagram\",\"Instagram\",\"Instagram\",\"Instagram\",\"Instagram\",\"Instagram\",\"Instagram\",\"Instagram\",\"Instagram\",\"Instagram\",\"Instagram\",\"Instagram\",\"Instagram\",\"Twitter\",\"Instagram\",\"Instagram\",\"Instagram\",\"Instagram\",\"Snapchat\",\"Instagram\",\"Whatsapp\",\"Instagram\",\"Instagram\",\"Instagram\",\"Instagram\",\"Instagram\",\"Instagram\",\"Instagram\",\"Instagram\",\"Instagram\",\"Instagram\",\"Instagram\",\"Instagram\",\"Twitter\",\"Instagram\",\"Instagram\",\"Instagram\",\"Instagram\",\"Snapchat\",\"Instagram\",\"Whatsapp\",\"Instagram\",\"Instagram\",\"Instagram\",\"Instagram\",\"Instagram\",\"Instagram\",\"Instagram\",\"Instagram\",\"Instagram\",\"Instagram\",\"Instagram\",\"Instagram\",\"Twitter\",\"Instagram\",\"Instagram\",\"Instagram\",\"Instagram\",\"Snapchat\",\"Instagram\",\"Whatsapp\",\"Instagram\",\"Instagram\",\"Instagram\",\"Instagram\",\"Instagram\",\"Instagram\",\"Instagram\",\"Instagram\",\"Instagram\",\"Instagram\",\"Instagram\",\"Instagram\",\"Twitter\",\"Instagram\",\"Instagram\",\"Instagram\",\"Instagram\",\"Snapchat\",\"Instagram\",\"Whatsapp\"],\"xaxis\":\"x\",\"yaxis\":\"y\",\"type\":\"histogram\"},{\"alignmentgroup\":\"True\",\"bingroup\":\"x\",\"hovertemplate\":\"Dominant_Emotion=Anger\\u003cbr\\u003ePlatform=%{x}\\u003cbr\\u003ecount=%{y}\\u003cextra\\u003e\\u003c\\u002fextra\\u003e\",\"legendgroup\":\"Anger\",\"marker\":{\"color\":\"#EF553B\",\"pattern\":{\"shape\":\"\"}},\"name\":\"Anger\",\"offsetgroup\":\"Anger\",\"orientation\":\"v\",\"showlegend\":true,\"x\":[\"Twitter\",\"Twitter\",\"Twitter\",\"Twitter\",\"Twitter\",\"Twitter\",\"Twitter\",\"Twitter\",\"Whatsapp\",\"Whatsapp\",\"Instagram\",\"Whatsapp\",\"Telegram\",\"Twitter\",\"Twitter\",\"Twitter\",\"Twitter\",\"Twitter\",\"Twitter\",\"Twitter\",\"Twitter\",\"Whatsapp\",\"Whatsapp\",\"Instagram\",\"Whatsapp\",\"Telegram\",\"Twitter\",\"Twitter\",\"Twitter\",\"Twitter\",\"Twitter\",\"Twitter\",\"Twitter\",\"Twitter\",\"Whatsapp\",\"Whatsapp\",\"Instagram\",\"Whatsapp\",\"Telegram\",\"Twitter\",\"Twitter\",\"Twitter\",\"Twitter\",\"Twitter\",\"Twitter\",\"Twitter\",\"Twitter\",\"Whatsapp\",\"Whatsapp\",\"Instagram\",\"Whatsapp\",\"Telegram\",\"Twitter\",\"Twitter\",\"Twitter\",\"Twitter\",\"Twitter\",\"Twitter\",\"Twitter\",\"Twitter\",\"Whatsapp\",\"Whatsapp\",\"Instagram\",\"Whatsapp\",\"Telegram\",\"Twitter\",\"Twitter\",\"Twitter\",\"Twitter\",\"Twitter\",\"Twitter\",\"Twitter\",\"Twitter\",\"Whatsapp\",\"Whatsapp\",\"Instagram\",\"Whatsapp\",\"Telegram\",\"Twitter\",\"Twitter\",\"Twitter\",\"Twitter\",\"Twitter\",\"Twitter\",\"Twitter\",\"Twitter\",\"Whatsapp\",\"Whatsapp\",\"Instagram\",\"Whatsapp\",\"Telegram\",\"Twitter\",\"Twitter\",\"Twitter\",\"Twitter\",\"Twitter\",\"Twitter\",\"Twitter\",\"Twitter\",\"Whatsapp\",\"Whatsapp\",\"Instagram\",\"Whatsapp\",\"Telegram\",\"Twitter\",\"Twitter\",\"Twitter\",\"Twitter\",\"Twitter\",\"Twitter\",\"Twitter\",\"Twitter\",\"Whatsapp\",\"Whatsapp\",\"Instagram\",\"Whatsapp\",\"Telegram\",\"Twitter\",\"Twitter\",\"Twitter\",\"Twitter\",\"Twitter\",\"Twitter\",\"Twitter\",\"Twitter\",\"Whatsapp\",\"Whatsapp\",\"Instagram\",\"Whatsapp\",\"Telegram\"],\"xaxis\":\"x\",\"yaxis\":\"y\",\"type\":\"histogram\"},{\"alignmentgroup\":\"True\",\"bingroup\":\"x\",\"hovertemplate\":\"Dominant_Emotion=Neutral\\u003cbr\\u003ePlatform=%{x}\\u003cbr\\u003ecount=%{y}\\u003cextra\\u003e\\u003c\\u002fextra\\u003e\",\"legendgroup\":\"Neutral\",\"marker\":{\"color\":\"#00cc96\",\"pattern\":{\"shape\":\"\"}},\"name\":\"Neutral\",\"offsetgroup\":\"Neutral\",\"orientation\":\"v\",\"showlegend\":true,\"x\":[\"Facebook\",\"LinkedIn\",\"Facebook\",\"LinkedIn\",\"Facebook\",\"Twitter\",\"Instagram\",\"Facebook\",\"Instagram\",\"Facebook\",\"Telegram\",\"Whatsapp\",\"Facebook\",\"Telegram\",\"Whatsapp\",\"Twitter\",\"Snapchat\",\"Telegram\",\"Facebook\",\"Snapchat\",\"Facebook\",\"LinkedIn\",\"Facebook\",\"LinkedIn\",\"Facebook\",\"Twitter\",\"Instagram\",\"Facebook\",\"Instagram\",\"Facebook\",\"Telegram\",\"Whatsapp\",\"Facebook\",\"Telegram\",\"Whatsapp\",\"Twitter\",\"Snapchat\",\"Telegram\",\"Facebook\",\"Snapchat\",\"Facebook\",\"LinkedIn\",\"Facebook\",\"LinkedIn\",\"Facebook\",\"Twitter\",\"Instagram\",\"Facebook\",\"Instagram\",\"Facebook\",\"Telegram\",\"Whatsapp\",\"Facebook\",\"Telegram\",\"Whatsapp\",\"Twitter\",\"Snapchat\",\"Telegram\",\"Facebook\",\"Snapchat\",\"Facebook\",\"LinkedIn\",\"Facebook\",\"LinkedIn\",\"Facebook\",\"Twitter\",\"Instagram\",\"Facebook\",\"Instagram\",\"Facebook\",\"Telegram\",\"Whatsapp\",\"Facebook\",\"Telegram\",\"Whatsapp\",\"Twitter\",\"Snapchat\",\"Telegram\",\"Facebook\",\"Snapchat\",\"Facebook\",\"LinkedIn\",\"Facebook\",\"LinkedIn\",\"Facebook\",\"Twitter\",\"Instagram\",\"Facebook\",\"Instagram\",\"Facebook\",\"Telegram\",\"Whatsapp\",\"Facebook\",\"Telegram\",\"Whatsapp\",\"Twitter\",\"Snapchat\",\"Telegram\",\"Facebook\",\"Snapchat\",\"Facebook\",\"LinkedIn\",\"Facebook\",\"LinkedIn\",\"Facebook\",\"Twitter\",\"Instagram\",\"Facebook\",\"Instagram\",\"Facebook\",\"Telegram\",\"Whatsapp\",\"Facebook\",\"Telegram\",\"Whatsapp\",\"Twitter\",\"Snapchat\",\"Telegram\",\"Facebook\",\"Snapchat\",\"Facebook\",\"LinkedIn\",\"Facebook\",\"LinkedIn\",\"Facebook\",\"Twitter\",\"Instagram\",\"Facebook\",\"Instagram\",\"Facebook\",\"Telegram\",\"Whatsapp\",\"Facebook\",\"Telegram\",\"Whatsapp\",\"Twitter\",\"Snapchat\",\"Telegram\",\"Facebook\",\"Snapchat\",\"Facebook\",\"LinkedIn\",\"Facebook\",\"LinkedIn\",\"Facebook\",\"Twitter\",\"Instagram\",\"Facebook\",\"Instagram\",\"Facebook\",\"Telegram\",\"Whatsapp\",\"Facebook\",\"Telegram\",\"Whatsapp\",\"Twitter\",\"Snapchat\",\"Telegram\",\"Facebook\",\"Snapchat\",\"Facebook\",\"LinkedIn\",\"Facebook\",\"LinkedIn\",\"Facebook\",\"Twitter\",\"Instagram\",\"Facebook\",\"Instagram\",\"Facebook\",\"Telegram\",\"Whatsapp\",\"Facebook\",\"Telegram\",\"Whatsapp\",\"Twitter\",\"Snapchat\",\"Telegram\",\"Facebook\",\"Snapchat\",\"Facebook\",\"LinkedIn\",\"Facebook\",\"LinkedIn\",\"Facebook\",\"Twitter\",\"Instagram\",\"Facebook\",\"Instagram\",\"Facebook\",\"Telegram\",\"Whatsapp\",\"Facebook\",\"Telegram\",\"Whatsapp\",\"Twitter\",\"Snapchat\",\"Telegram\",\"Facebook\",\"Snapchat\"],\"xaxis\":\"x\",\"yaxis\":\"y\",\"type\":\"histogram\"},{\"alignmentgroup\":\"True\",\"bingroup\":\"x\",\"hovertemplate\":\"Dominant_Emotion=Anxiety\\u003cbr\\u003ePlatform=%{x}\\u003cbr\\u003ecount=%{y}\\u003cextra\\u003e\\u003c\\u002fextra\\u003e\",\"legendgroup\":\"Anxiety\",\"marker\":{\"color\":\"#ab63fa\",\"pattern\":{\"shape\":\"\"}},\"name\":\"Anxiety\",\"offsetgroup\":\"Anxiety\",\"orientation\":\"v\",\"showlegend\":true,\"x\":[\"Instagram\",\"Twitter\",\"Instagram\",\"Facebook\",\"LinkedIn\",\"Facebook\",\"Facebook\",\"Facebook\",\"LinkedIn\",\"Whatsapp\",\"Snapchat\",\"Telegram\",\"Snapchat\",\"Facebook\",\"Whatsapp\",\"Twitter\",\"Instagram\",\"Instagram\",\"Twitter\",\"Instagram\",\"Facebook\",\"LinkedIn\",\"Facebook\",\"Facebook\",\"Facebook\",\"LinkedIn\",\"Whatsapp\",\"Snapchat\",\"Telegram\",\"Snapchat\",\"Facebook\",\"Whatsapp\",\"Twitter\",\"Instagram\",\"Instagram\",\"Twitter\",\"Instagram\",\"Facebook\",\"LinkedIn\",\"Facebook\",\"Facebook\",\"Facebook\",\"LinkedIn\",\"Whatsapp\",\"Snapchat\",\"Telegram\",\"Snapchat\",\"Facebook\",\"Whatsapp\",\"Twitter\",\"Instagram\",\"Instagram\",\"Twitter\",\"Instagram\",\"Facebook\",\"LinkedIn\",\"Facebook\",\"Facebook\",\"Facebook\",\"LinkedIn\",\"Whatsapp\",\"Snapchat\",\"Telegram\",\"Snapchat\",\"Facebook\",\"Whatsapp\",\"Twitter\",\"Instagram\",\"Instagram\",\"Twitter\",\"Instagram\",\"Facebook\",\"LinkedIn\",\"Facebook\",\"Facebook\",\"Facebook\",\"LinkedIn\",\"Whatsapp\",\"Snapchat\",\"Telegram\",\"Snapchat\",\"Facebook\",\"Whatsapp\",\"Twitter\",\"Instagram\",\"Instagram\",\"Twitter\",\"Instagram\",\"Facebook\",\"LinkedIn\",\"Facebook\",\"Facebook\",\"Facebook\",\"LinkedIn\",\"Whatsapp\",\"Snapchat\",\"Telegram\",\"Snapchat\",\"Facebook\",\"Whatsapp\",\"Twitter\",\"Instagram\",\"Instagram\",\"Twitter\",\"Instagram\",\"Facebook\",\"LinkedIn\",\"Facebook\",\"Facebook\",\"Facebook\",\"LinkedIn\",\"Whatsapp\",\"Snapchat\",\"Telegram\",\"Snapchat\",\"Facebook\",\"Whatsapp\",\"Twitter\",\"Instagram\",\"Instagram\",\"Twitter\",\"Instagram\",\"Facebook\",\"LinkedIn\",\"Facebook\",\"Facebook\",\"Facebook\",\"LinkedIn\",\"Whatsapp\",\"Snapchat\",\"Telegram\",\"Snapchat\",\"Facebook\",\"Whatsapp\",\"Twitter\",\"Instagram\",\"Instagram\",\"Twitter\",\"Instagram\",\"Facebook\",\"LinkedIn\",\"Facebook\",\"Facebook\",\"Facebook\",\"LinkedIn\",\"Whatsapp\",\"Snapchat\",\"Telegram\",\"Snapchat\",\"Facebook\",\"Whatsapp\",\"Twitter\",\"Instagram\",\"Instagram\",\"Twitter\",\"Instagram\",\"Facebook\",\"LinkedIn\",\"Facebook\",\"Facebook\",\"Facebook\",\"LinkedIn\",\"Whatsapp\",\"Snapchat\",\"Telegram\",\"Snapchat\",\"Facebook\",\"Whatsapp\",\"Twitter\",\"Instagram\"],\"xaxis\":\"x\",\"yaxis\":\"y\",\"type\":\"histogram\"},{\"alignmentgroup\":\"True\",\"bingroup\":\"x\",\"hovertemplate\":\"Dominant_Emotion=Boredom\\u003cbr\\u003ePlatform=%{x}\\u003cbr\\u003ecount=%{y}\\u003cextra\\u003e\\u003c\\u002fextra\\u003e\",\"legendgroup\":\"Boredom\",\"marker\":{\"color\":\"#FFA15A\",\"pattern\":{\"shape\":\"\"}},\"name\":\"Boredom\",\"offsetgroup\":\"Boredom\",\"orientation\":\"v\",\"showlegend\":true,\"x\":[\"LinkedIn\",\"LinkedIn\",\"LinkedIn\",\"LinkedIn\",\"LinkedIn\",\"LinkedIn\",\"LinkedIn\",\"Telegram\",\"Facebook\",\"Facebook\",\"Twitter\",\"Facebook\",\"Facebook\",\"Twitter\",\"LinkedIn\",\"LinkedIn\",\"LinkedIn\",\"LinkedIn\",\"LinkedIn\",\"LinkedIn\",\"LinkedIn\",\"Telegram\",\"Facebook\",\"Facebook\",\"Twitter\",\"Facebook\",\"Facebook\",\"Twitter\",\"LinkedIn\",\"LinkedIn\",\"LinkedIn\",\"LinkedIn\",\"LinkedIn\",\"LinkedIn\",\"LinkedIn\",\"Telegram\",\"Facebook\",\"Facebook\",\"Twitter\",\"Facebook\",\"Facebook\",\"Twitter\",\"LinkedIn\",\"LinkedIn\",\"LinkedIn\",\"LinkedIn\",\"LinkedIn\",\"LinkedIn\",\"LinkedIn\",\"Telegram\",\"Facebook\",\"Facebook\",\"Twitter\",\"Facebook\",\"Facebook\",\"Twitter\",\"LinkedIn\",\"LinkedIn\",\"LinkedIn\",\"LinkedIn\",\"LinkedIn\",\"LinkedIn\",\"LinkedIn\",\"Telegram\",\"Facebook\",\"Facebook\",\"Twitter\",\"Facebook\",\"Facebook\",\"Twitter\",\"LinkedIn\",\"LinkedIn\",\"LinkedIn\",\"LinkedIn\",\"LinkedIn\",\"LinkedIn\",\"LinkedIn\",\"Telegram\",\"Facebook\",\"Facebook\",\"Twitter\",\"Facebook\",\"Facebook\",\"Twitter\",\"LinkedIn\",\"LinkedIn\",\"LinkedIn\",\"LinkedIn\",\"LinkedIn\",\"LinkedIn\",\"LinkedIn\",\"Telegram\",\"Facebook\",\"Facebook\",\"Twitter\",\"Facebook\",\"Facebook\",\"Twitter\",\"LinkedIn\",\"LinkedIn\",\"LinkedIn\",\"LinkedIn\",\"LinkedIn\",\"LinkedIn\",\"LinkedIn\",\"Telegram\",\"Facebook\",\"Facebook\",\"Twitter\",\"Facebook\",\"Facebook\",\"Twitter\",\"LinkedIn\",\"LinkedIn\",\"LinkedIn\",\"LinkedIn\",\"LinkedIn\",\"LinkedIn\",\"LinkedIn\",\"Telegram\",\"Facebook\",\"Facebook\",\"Twitter\",\"Facebook\",\"Facebook\",\"Twitter\",\"LinkedIn\",\"LinkedIn\",\"LinkedIn\",\"LinkedIn\",\"LinkedIn\",\"LinkedIn\",\"LinkedIn\",\"Telegram\",\"Facebook\",\"Facebook\",\"Twitter\",\"Facebook\",\"Facebook\",\"Twitter\"],\"xaxis\":\"x\",\"yaxis\":\"y\",\"type\":\"histogram\"},{\"alignmentgroup\":\"True\",\"bingroup\":\"x\",\"hovertemplate\":\"Dominant_Emotion=Sadness\\u003cbr\\u003ePlatform=%{x}\\u003cbr\\u003ecount=%{y}\\u003cextra\\u003e\\u003c\\u002fextra\\u003e\",\"legendgroup\":\"Sadness\",\"marker\":{\"color\":\"#19d3f3\",\"pattern\":{\"shape\":\"\"}},\"name\":\"Sadness\",\"offsetgroup\":\"Sadness\",\"orientation\":\"v\",\"showlegend\":true,\"x\":[\"Facebook\",\"Facebook\",\"Twitter\",\"Twitter\",\"Facebook\",\"Instagram\",\"LinkedIn\",\"Twitter\",\"Instagram\",\"Snapchat\",\"Twitter\",\"Snapchat\",\"Twitter\",\"Telegram\",\"Telegram\",\"Snapchat\",\"Facebook\",\"Facebook\",\"Twitter\",\"Twitter\",\"Facebook\",\"Instagram\",\"LinkedIn\",\"Twitter\",\"Instagram\",\"Snapchat\",\"Twitter\",\"Snapchat\",\"Twitter\",\"Telegram\",\"Telegram\",\"Snapchat\",\"Facebook\",\"Facebook\",\"Twitter\",\"Twitter\",\"Facebook\",\"Instagram\",\"LinkedIn\",\"Twitter\",\"Instagram\",\"Snapchat\",\"Twitter\",\"Snapchat\",\"Twitter\",\"Telegram\",\"Telegram\",\"Snapchat\",\"Facebook\",\"Facebook\",\"Twitter\",\"Twitter\",\"Facebook\",\"Instagram\",\"LinkedIn\",\"Twitter\",\"Instagram\",\"Snapchat\",\"Twitter\",\"Snapchat\",\"Twitter\",\"Telegram\",\"Telegram\",\"Snapchat\",\"Facebook\",\"Facebook\",\"Twitter\",\"Twitter\",\"Facebook\",\"Instagram\",\"LinkedIn\",\"Twitter\",\"Instagram\",\"Snapchat\",\"Twitter\",\"Snapchat\",\"Twitter\",\"Telegram\",\"Telegram\",\"Snapchat\",\"Facebook\",\"Facebook\",\"Twitter\",\"Twitter\",\"Facebook\",\"Instagram\",\"LinkedIn\",\"Twitter\",\"Instagram\",\"Snapchat\",\"Twitter\",\"Snapchat\",\"Twitter\",\"Telegram\",\"Telegram\",\"Snapchat\",\"Facebook\",\"Facebook\",\"Twitter\",\"Twitter\",\"Facebook\",\"Instagram\",\"LinkedIn\",\"Twitter\",\"Instagram\",\"Snapchat\",\"Twitter\",\"Snapchat\",\"Twitter\",\"Telegram\",\"Telegram\",\"Snapchat\",\"Facebook\",\"Facebook\",\"Twitter\",\"Twitter\",\"Facebook\",\"Instagram\",\"LinkedIn\",\"Twitter\",\"Instagram\",\"Snapchat\",\"Twitter\",\"Snapchat\",\"Twitter\",\"Telegram\",\"Telegram\",\"Snapchat\",\"Facebook\",\"Facebook\",\"Twitter\",\"Twitter\",\"Facebook\",\"Instagram\",\"LinkedIn\",\"Twitter\",\"Instagram\",\"Snapchat\",\"Twitter\",\"Snapchat\",\"Twitter\",\"Telegram\",\"Telegram\",\"Snapchat\",\"Facebook\",\"Facebook\",\"Twitter\",\"Twitter\",\"Facebook\",\"Instagram\",\"LinkedIn\",\"Twitter\",\"Instagram\",\"Snapchat\",\"Twitter\",\"Snapchat\",\"Twitter\",\"Telegram\",\"Telegram\",\"Snapchat\"],\"xaxis\":\"x\",\"yaxis\":\"y\",\"type\":\"histogram\"}],                        {\"template\":{\"data\":{\"histogram2dcontour\":[{\"type\":\"histogram2dcontour\",\"colorbar\":{\"outlinewidth\":0,\"ticks\":\"\"},\"colorscale\":[[0.0,\"#0d0887\"],[0.1111111111111111,\"#46039f\"],[0.2222222222222222,\"#7201a8\"],[0.3333333333333333,\"#9c179e\"],[0.4444444444444444,\"#bd3786\"],[0.5555555555555556,\"#d8576b\"],[0.6666666666666666,\"#ed7953\"],[0.7777777777777778,\"#fb9f3a\"],[0.8888888888888888,\"#fdca26\"],[1.0,\"#f0f921\"]]}],\"choropleth\":[{\"type\":\"choropleth\",\"colorbar\":{\"outlinewidth\":0,\"ticks\":\"\"}}],\"histogram2d\":[{\"type\":\"histogram2d\",\"colorbar\":{\"outlinewidth\":0,\"ticks\":\"\"},\"colorscale\":[[0.0,\"#0d0887\"],[0.1111111111111111,\"#46039f\"],[0.2222222222222222,\"#7201a8\"],[0.3333333333333333,\"#9c179e\"],[0.4444444444444444,\"#bd3786\"],[0.5555555555555556,\"#d8576b\"],[0.6666666666666666,\"#ed7953\"],[0.7777777777777778,\"#fb9f3a\"],[0.8888888888888888,\"#fdca26\"],[1.0,\"#f0f921\"]]}],\"heatmap\":[{\"type\":\"heatmap\",\"colorbar\":{\"outlinewidth\":0,\"ticks\":\"\"},\"colorscale\":[[0.0,\"#0d0887\"],[0.1111111111111111,\"#46039f\"],[0.2222222222222222,\"#7201a8\"],[0.3333333333333333,\"#9c179e\"],[0.4444444444444444,\"#bd3786\"],[0.5555555555555556,\"#d8576b\"],[0.6666666666666666,\"#ed7953\"],[0.7777777777777778,\"#fb9f3a\"],[0.8888888888888888,\"#fdca26\"],[1.0,\"#f0f921\"]]}],\"heatmapgl\":[{\"type\":\"heatmapgl\",\"colorbar\":{\"outlinewidth\":0,\"ticks\":\"\"},\"colorscale\":[[0.0,\"#0d0887\"],[0.1111111111111111,\"#46039f\"],[0.2222222222222222,\"#7201a8\"],[0.3333333333333333,\"#9c179e\"],[0.4444444444444444,\"#bd3786\"],[0.5555555555555556,\"#d8576b\"],[0.6666666666666666,\"#ed7953\"],[0.7777777777777778,\"#fb9f3a\"],[0.8888888888888888,\"#fdca26\"],[1.0,\"#f0f921\"]]}],\"contourcarpet\":[{\"type\":\"contourcarpet\",\"colorbar\":{\"outlinewidth\":0,\"ticks\":\"\"}}],\"contour\":[{\"type\":\"contour\",\"colorbar\":{\"outlinewidth\":0,\"ticks\":\"\"},\"colorscale\":[[0.0,\"#0d0887\"],[0.1111111111111111,\"#46039f\"],[0.2222222222222222,\"#7201a8\"],[0.3333333333333333,\"#9c179e\"],[0.4444444444444444,\"#bd3786\"],[0.5555555555555556,\"#d8576b\"],[0.6666666666666666,\"#ed7953\"],[0.7777777777777778,\"#fb9f3a\"],[0.8888888888888888,\"#fdca26\"],[1.0,\"#f0f921\"]]}],\"surface\":[{\"type\":\"surface\",\"colorbar\":{\"outlinewidth\":0,\"ticks\":\"\"},\"colorscale\":[[0.0,\"#0d0887\"],[0.1111111111111111,\"#46039f\"],[0.2222222222222222,\"#7201a8\"],[0.3333333333333333,\"#9c179e\"],[0.4444444444444444,\"#bd3786\"],[0.5555555555555556,\"#d8576b\"],[0.6666666666666666,\"#ed7953\"],[0.7777777777777778,\"#fb9f3a\"],[0.8888888888888888,\"#fdca26\"],[1.0,\"#f0f921\"]]}],\"mesh3d\":[{\"type\":\"mesh3d\",\"colorbar\":{\"outlinewidth\":0,\"ticks\":\"\"}}],\"scatter\":[{\"fillpattern\":{\"fillmode\":\"overlay\",\"size\":10,\"solidity\":0.2},\"type\":\"scatter\"}],\"parcoords\":[{\"type\":\"parcoords\",\"line\":{\"colorbar\":{\"outlinewidth\":0,\"ticks\":\"\"}}}],\"scatterpolargl\":[{\"type\":\"scatterpolargl\",\"marker\":{\"colorbar\":{\"outlinewidth\":0,\"ticks\":\"\"}}}],\"bar\":[{\"error_x\":{\"color\":\"#2a3f5f\"},\"error_y\":{\"color\":\"#2a3f5f\"},\"marker\":{\"line\":{\"color\":\"#E5ECF6\",\"width\":0.5},\"pattern\":{\"fillmode\":\"overlay\",\"size\":10,\"solidity\":0.2}},\"type\":\"bar\"}],\"scattergeo\":[{\"type\":\"scattergeo\",\"marker\":{\"colorbar\":{\"outlinewidth\":0,\"ticks\":\"\"}}}],\"scatterpolar\":[{\"type\":\"scatterpolar\",\"marker\":{\"colorbar\":{\"outlinewidth\":0,\"ticks\":\"\"}}}],\"histogram\":[{\"marker\":{\"pattern\":{\"fillmode\":\"overlay\",\"size\":10,\"solidity\":0.2}},\"type\":\"histogram\"}],\"scattergl\":[{\"type\":\"scattergl\",\"marker\":{\"colorbar\":{\"outlinewidth\":0,\"ticks\":\"\"}}}],\"scatter3d\":[{\"type\":\"scatter3d\",\"line\":{\"colorbar\":{\"outlinewidth\":0,\"ticks\":\"\"}},\"marker\":{\"colorbar\":{\"outlinewidth\":0,\"ticks\":\"\"}}}],\"scattermapbox\":[{\"type\":\"scattermapbox\",\"marker\":{\"colorbar\":{\"outlinewidth\":0,\"ticks\":\"\"}}}],\"scatterternary\":[{\"type\":\"scatterternary\",\"marker\":{\"colorbar\":{\"outlinewidth\":0,\"ticks\":\"\"}}}],\"scattercarpet\":[{\"type\":\"scattercarpet\",\"marker\":{\"colorbar\":{\"outlinewidth\":0,\"ticks\":\"\"}}}],\"carpet\":[{\"aaxis\":{\"endlinecolor\":\"#2a3f5f\",\"gridcolor\":\"white\",\"linecolor\":\"white\",\"minorgridcolor\":\"white\",\"startlinecolor\":\"#2a3f5f\"},\"baxis\":{\"endlinecolor\":\"#2a3f5f\",\"gridcolor\":\"white\",\"linecolor\":\"white\",\"minorgridcolor\":\"white\",\"startlinecolor\":\"#2a3f5f\"},\"type\":\"carpet\"}],\"table\":[{\"cells\":{\"fill\":{\"color\":\"#EBF0F8\"},\"line\":{\"color\":\"white\"}},\"header\":{\"fill\":{\"color\":\"#C8D4E3\"},\"line\":{\"color\":\"white\"}},\"type\":\"table\"}],\"barpolar\":[{\"marker\":{\"line\":{\"color\":\"#E5ECF6\",\"width\":0.5},\"pattern\":{\"fillmode\":\"overlay\",\"size\":10,\"solidity\":0.2}},\"type\":\"barpolar\"}],\"pie\":[{\"automargin\":true,\"type\":\"pie\"}]},\"layout\":{\"autotypenumbers\":\"strict\",\"colorway\":[\"#636efa\",\"#EF553B\",\"#00cc96\",\"#ab63fa\",\"#FFA15A\",\"#19d3f3\",\"#FF6692\",\"#B6E880\",\"#FF97FF\",\"#FECB52\"],\"font\":{\"color\":\"#2a3f5f\"},\"hovermode\":\"closest\",\"hoverlabel\":{\"align\":\"left\"},\"paper_bgcolor\":\"white\",\"plot_bgcolor\":\"#E5ECF6\",\"polar\":{\"bgcolor\":\"#E5ECF6\",\"angularaxis\":{\"gridcolor\":\"white\",\"linecolor\":\"white\",\"ticks\":\"\"},\"radialaxis\":{\"gridcolor\":\"white\",\"linecolor\":\"white\",\"ticks\":\"\"}},\"ternary\":{\"bgcolor\":\"#E5ECF6\",\"aaxis\":{\"gridcolor\":\"white\",\"linecolor\":\"white\",\"ticks\":\"\"},\"baxis\":{\"gridcolor\":\"white\",\"linecolor\":\"white\",\"ticks\":\"\"},\"caxis\":{\"gridcolor\":\"white\",\"linecolor\":\"white\",\"ticks\":\"\"}},\"coloraxis\":{\"colorbar\":{\"outlinewidth\":0,\"ticks\":\"\"}},\"colorscale\":{\"sequential\":[[0.0,\"#0d0887\"],[0.1111111111111111,\"#46039f\"],[0.2222222222222222,\"#7201a8\"],[0.3333333333333333,\"#9c179e\"],[0.4444444444444444,\"#bd3786\"],[0.5555555555555556,\"#d8576b\"],[0.6666666666666666,\"#ed7953\"],[0.7777777777777778,\"#fb9f3a\"],[0.8888888888888888,\"#fdca26\"],[1.0,\"#f0f921\"]],\"sequentialminus\":[[0.0,\"#0d0887\"],[0.1111111111111111,\"#46039f\"],[0.2222222222222222,\"#7201a8\"],[0.3333333333333333,\"#9c179e\"],[0.4444444444444444,\"#bd3786\"],[0.5555555555555556,\"#d8576b\"],[0.6666666666666666,\"#ed7953\"],[0.7777777777777778,\"#fb9f3a\"],[0.8888888888888888,\"#fdca26\"],[1.0,\"#f0f921\"]],\"diverging\":[[0,\"#8e0152\"],[0.1,\"#c51b7d\"],[0.2,\"#de77ae\"],[0.3,\"#f1b6da\"],[0.4,\"#fde0ef\"],[0.5,\"#f7f7f7\"],[0.6,\"#e6f5d0\"],[0.7,\"#b8e186\"],[0.8,\"#7fbc41\"],[0.9,\"#4d9221\"],[1,\"#276419\"]]},\"xaxis\":{\"gridcolor\":\"white\",\"linecolor\":\"white\",\"ticks\":\"\",\"title\":{\"standoff\":15},\"zerolinecolor\":\"white\",\"automargin\":true,\"zerolinewidth\":2},\"yaxis\":{\"gridcolor\":\"white\",\"linecolor\":\"white\",\"ticks\":\"\",\"title\":{\"standoff\":15},\"zerolinecolor\":\"white\",\"automargin\":true,\"zerolinewidth\":2},\"scene\":{\"xaxis\":{\"backgroundcolor\":\"#E5ECF6\",\"gridcolor\":\"white\",\"linecolor\":\"white\",\"showbackground\":true,\"ticks\":\"\",\"zerolinecolor\":\"white\",\"gridwidth\":2},\"yaxis\":{\"backgroundcolor\":\"#E5ECF6\",\"gridcolor\":\"white\",\"linecolor\":\"white\",\"showbackground\":true,\"ticks\":\"\",\"zerolinecolor\":\"white\",\"gridwidth\":2},\"zaxis\":{\"backgroundcolor\":\"#E5ECF6\",\"gridcolor\":\"white\",\"linecolor\":\"white\",\"showbackground\":true,\"ticks\":\"\",\"zerolinecolor\":\"white\",\"gridwidth\":2}},\"shapedefaults\":{\"line\":{\"color\":\"#2a3f5f\"}},\"annotationdefaults\":{\"arrowcolor\":\"#2a3f5f\",\"arrowhead\":0,\"arrowwidth\":1},\"geo\":{\"bgcolor\":\"white\",\"landcolor\":\"#E5ECF6\",\"subunitcolor\":\"white\",\"showland\":true,\"showlakes\":true,\"lakecolor\":\"white\"},\"title\":{\"x\":0.05},\"mapbox\":{\"style\":\"light\"}}},\"xaxis\":{\"anchor\":\"y\",\"domain\":[0.0,1.0],\"title\":{\"text\":\"Platform\"}},\"yaxis\":{\"anchor\":\"x\",\"domain\":[0.0,1.0],\"title\":{\"text\":\"count\"}},\"legend\":{\"title\":{\"text\":\"Dominant_Emotion\"},\"tracegroupgap\":0},\"title\":{\"text\":\"Dominant Emotion by Platform\"},\"barmode\":\"relative\"},                        {\"responsive\": true}                    ).then(function(){\n",
              "                            \n",
              "var gd = document.getElementById('499d3657-e26e-474e-8441-99fc257fea81');\n",
              "var x = new MutationObserver(function (mutations, observer) {{\n",
              "        var display = window.getComputedStyle(gd).display;\n",
              "        if (!display || display === 'none') {{\n",
              "            console.log([gd, 'removed!']);\n",
              "            Plotly.purge(gd);\n",
              "            observer.disconnect();\n",
              "        }}\n",
              "}});\n",
              "\n",
              "// Listen for the removal of the full notebook cells\n",
              "var notebookContainer = gd.closest('#notebook-container');\n",
              "if (notebookContainer) {{\n",
              "    x.observe(notebookContainer, {childList: true});\n",
              "}}\n",
              "\n",
              "// Listen for the clearing of the current output cell\n",
              "var outputEl = gd.closest('.output');\n",
              "if (outputEl) {{\n",
              "    x.observe(outputEl, {childList: true});\n",
              "}}\n",
              "\n",
              "                        })                };                            </script>        </div>\n",
              "</body>\n",
              "</html>"
            ]
          },
          "metadata": {}
        }
      ]
    },
    {
      "cell_type": "code",
      "source": [
        "# Create a contingency table\n",
        "contingency_table = pd.crosstab(train_df['Platform'], train_df['Dominant_Emotion'])\n",
        "\n",
        "# Plot the heatmap\n",
        "fig = px.imshow(contingency_table, title='Platform vs Dominant Emotion Heatmap')\n",
        "fig.show()"
      ],
      "metadata": {
        "colab": {
          "base_uri": "https://localhost:8080/",
          "height": 542
        },
        "id": "mEEmak9KLfcB",
        "outputId": "3646f448-57eb-4025-da0a-097813e755e6"
      },
      "execution_count": 93,
      "outputs": [
        {
          "output_type": "display_data",
          "data": {
            "text/html": [
              "<html>\n",
              "<head><meta charset=\"utf-8\" /></head>\n",
              "<body>\n",
              "    <div>            <script src=\"https://cdnjs.cloudflare.com/ajax/libs/mathjax/2.7.5/MathJax.js?config=TeX-AMS-MML_SVG\"></script><script type=\"text/javascript\">if (window.MathJax && window.MathJax.Hub && window.MathJax.Hub.Config) {window.MathJax.Hub.Config({SVG: {font: \"STIX-Web\"}});}</script>                <script type=\"text/javascript\">window.PlotlyConfig = {MathJaxConfig: 'local'};</script>\n",
              "        <script charset=\"utf-8\" src=\"https://cdn.plot.ly/plotly-2.24.1.min.js\"></script>                <div id=\"7bb36e75-1505-4a5a-98b1-bbcc83cdbaae\" class=\"plotly-graph-div\" style=\"height:525px; width:100%;\"></div>            <script type=\"text/javascript\">                                    window.PLOTLYENV=window.PLOTLYENV || {};                                    if (document.getElementById(\"7bb36e75-1505-4a5a-98b1-bbcc83cdbaae\")) {                    Plotly.newPlot(                        \"7bb36e75-1505-4a5a-98b1-bbcc83cdbaae\",                        [{\"coloraxis\":\"coloraxis\",\"name\":\"0\",\"x\":[\"Anger\",\"Anxiety\",\"Boredom\",\"Happiness\",\"Neutral\",\"Sadness\"],\"y\":[\"Facebook\",\"Instagram\",\"LinkedIn\",\"Snapchat\",\"Telegram\",\"Twitter\",\"Whatsapp\"],\"z\":[[0,50,40,0,70,30],[10,30,0,171,20,20],[0,20,70,0,20,10],[0,20,0,10,20,30],[10,10,10,0,30,20],[80,20,20,10,20,50],[30,20,0,10,20,0]],\"type\":\"heatmap\",\"xaxis\":\"x\",\"yaxis\":\"y\",\"hovertemplate\":\"Dominant_Emotion: %{x}\\u003cbr\\u003ePlatform: %{y}\\u003cbr\\u003ecolor: %{z}\\u003cextra\\u003e\\u003c\\u002fextra\\u003e\"}],                        {\"template\":{\"data\":{\"histogram2dcontour\":[{\"type\":\"histogram2dcontour\",\"colorbar\":{\"outlinewidth\":0,\"ticks\":\"\"},\"colorscale\":[[0.0,\"#0d0887\"],[0.1111111111111111,\"#46039f\"],[0.2222222222222222,\"#7201a8\"],[0.3333333333333333,\"#9c179e\"],[0.4444444444444444,\"#bd3786\"],[0.5555555555555556,\"#d8576b\"],[0.6666666666666666,\"#ed7953\"],[0.7777777777777778,\"#fb9f3a\"],[0.8888888888888888,\"#fdca26\"],[1.0,\"#f0f921\"]]}],\"choropleth\":[{\"type\":\"choropleth\",\"colorbar\":{\"outlinewidth\":0,\"ticks\":\"\"}}],\"histogram2d\":[{\"type\":\"histogram2d\",\"colorbar\":{\"outlinewidth\":0,\"ticks\":\"\"},\"colorscale\":[[0.0,\"#0d0887\"],[0.1111111111111111,\"#46039f\"],[0.2222222222222222,\"#7201a8\"],[0.3333333333333333,\"#9c179e\"],[0.4444444444444444,\"#bd3786\"],[0.5555555555555556,\"#d8576b\"],[0.6666666666666666,\"#ed7953\"],[0.7777777777777778,\"#fb9f3a\"],[0.8888888888888888,\"#fdca26\"],[1.0,\"#f0f921\"]]}],\"heatmap\":[{\"type\":\"heatmap\",\"colorbar\":{\"outlinewidth\":0,\"ticks\":\"\"},\"colorscale\":[[0.0,\"#0d0887\"],[0.1111111111111111,\"#46039f\"],[0.2222222222222222,\"#7201a8\"],[0.3333333333333333,\"#9c179e\"],[0.4444444444444444,\"#bd3786\"],[0.5555555555555556,\"#d8576b\"],[0.6666666666666666,\"#ed7953\"],[0.7777777777777778,\"#fb9f3a\"],[0.8888888888888888,\"#fdca26\"],[1.0,\"#f0f921\"]]}],\"heatmapgl\":[{\"type\":\"heatmapgl\",\"colorbar\":{\"outlinewidth\":0,\"ticks\":\"\"},\"colorscale\":[[0.0,\"#0d0887\"],[0.1111111111111111,\"#46039f\"],[0.2222222222222222,\"#7201a8\"],[0.3333333333333333,\"#9c179e\"],[0.4444444444444444,\"#bd3786\"],[0.5555555555555556,\"#d8576b\"],[0.6666666666666666,\"#ed7953\"],[0.7777777777777778,\"#fb9f3a\"],[0.8888888888888888,\"#fdca26\"],[1.0,\"#f0f921\"]]}],\"contourcarpet\":[{\"type\":\"contourcarpet\",\"colorbar\":{\"outlinewidth\":0,\"ticks\":\"\"}}],\"contour\":[{\"type\":\"contour\",\"colorbar\":{\"outlinewidth\":0,\"ticks\":\"\"},\"colorscale\":[[0.0,\"#0d0887\"],[0.1111111111111111,\"#46039f\"],[0.2222222222222222,\"#7201a8\"],[0.3333333333333333,\"#9c179e\"],[0.4444444444444444,\"#bd3786\"],[0.5555555555555556,\"#d8576b\"],[0.6666666666666666,\"#ed7953\"],[0.7777777777777778,\"#fb9f3a\"],[0.8888888888888888,\"#fdca26\"],[1.0,\"#f0f921\"]]}],\"surface\":[{\"type\":\"surface\",\"colorbar\":{\"outlinewidth\":0,\"ticks\":\"\"},\"colorscale\":[[0.0,\"#0d0887\"],[0.1111111111111111,\"#46039f\"],[0.2222222222222222,\"#7201a8\"],[0.3333333333333333,\"#9c179e\"],[0.4444444444444444,\"#bd3786\"],[0.5555555555555556,\"#d8576b\"],[0.6666666666666666,\"#ed7953\"],[0.7777777777777778,\"#fb9f3a\"],[0.8888888888888888,\"#fdca26\"],[1.0,\"#f0f921\"]]}],\"mesh3d\":[{\"type\":\"mesh3d\",\"colorbar\":{\"outlinewidth\":0,\"ticks\":\"\"}}],\"scatter\":[{\"fillpattern\":{\"fillmode\":\"overlay\",\"size\":10,\"solidity\":0.2},\"type\":\"scatter\"}],\"parcoords\":[{\"type\":\"parcoords\",\"line\":{\"colorbar\":{\"outlinewidth\":0,\"ticks\":\"\"}}}],\"scatterpolargl\":[{\"type\":\"scatterpolargl\",\"marker\":{\"colorbar\":{\"outlinewidth\":0,\"ticks\":\"\"}}}],\"bar\":[{\"error_x\":{\"color\":\"#2a3f5f\"},\"error_y\":{\"color\":\"#2a3f5f\"},\"marker\":{\"line\":{\"color\":\"#E5ECF6\",\"width\":0.5},\"pattern\":{\"fillmode\":\"overlay\",\"size\":10,\"solidity\":0.2}},\"type\":\"bar\"}],\"scattergeo\":[{\"type\":\"scattergeo\",\"marker\":{\"colorbar\":{\"outlinewidth\":0,\"ticks\":\"\"}}}],\"scatterpolar\":[{\"type\":\"scatterpolar\",\"marker\":{\"colorbar\":{\"outlinewidth\":0,\"ticks\":\"\"}}}],\"histogram\":[{\"marker\":{\"pattern\":{\"fillmode\":\"overlay\",\"size\":10,\"solidity\":0.2}},\"type\":\"histogram\"}],\"scattergl\":[{\"type\":\"scattergl\",\"marker\":{\"colorbar\":{\"outlinewidth\":0,\"ticks\":\"\"}}}],\"scatter3d\":[{\"type\":\"scatter3d\",\"line\":{\"colorbar\":{\"outlinewidth\":0,\"ticks\":\"\"}},\"marker\":{\"colorbar\":{\"outlinewidth\":0,\"ticks\":\"\"}}}],\"scattermapbox\":[{\"type\":\"scattermapbox\",\"marker\":{\"colorbar\":{\"outlinewidth\":0,\"ticks\":\"\"}}}],\"scatterternary\":[{\"type\":\"scatterternary\",\"marker\":{\"colorbar\":{\"outlinewidth\":0,\"ticks\":\"\"}}}],\"scattercarpet\":[{\"type\":\"scattercarpet\",\"marker\":{\"colorbar\":{\"outlinewidth\":0,\"ticks\":\"\"}}}],\"carpet\":[{\"aaxis\":{\"endlinecolor\":\"#2a3f5f\",\"gridcolor\":\"white\",\"linecolor\":\"white\",\"minorgridcolor\":\"white\",\"startlinecolor\":\"#2a3f5f\"},\"baxis\":{\"endlinecolor\":\"#2a3f5f\",\"gridcolor\":\"white\",\"linecolor\":\"white\",\"minorgridcolor\":\"white\",\"startlinecolor\":\"#2a3f5f\"},\"type\":\"carpet\"}],\"table\":[{\"cells\":{\"fill\":{\"color\":\"#EBF0F8\"},\"line\":{\"color\":\"white\"}},\"header\":{\"fill\":{\"color\":\"#C8D4E3\"},\"line\":{\"color\":\"white\"}},\"type\":\"table\"}],\"barpolar\":[{\"marker\":{\"line\":{\"color\":\"#E5ECF6\",\"width\":0.5},\"pattern\":{\"fillmode\":\"overlay\",\"size\":10,\"solidity\":0.2}},\"type\":\"barpolar\"}],\"pie\":[{\"automargin\":true,\"type\":\"pie\"}]},\"layout\":{\"autotypenumbers\":\"strict\",\"colorway\":[\"#636efa\",\"#EF553B\",\"#00cc96\",\"#ab63fa\",\"#FFA15A\",\"#19d3f3\",\"#FF6692\",\"#B6E880\",\"#FF97FF\",\"#FECB52\"],\"font\":{\"color\":\"#2a3f5f\"},\"hovermode\":\"closest\",\"hoverlabel\":{\"align\":\"left\"},\"paper_bgcolor\":\"white\",\"plot_bgcolor\":\"#E5ECF6\",\"polar\":{\"bgcolor\":\"#E5ECF6\",\"angularaxis\":{\"gridcolor\":\"white\",\"linecolor\":\"white\",\"ticks\":\"\"},\"radialaxis\":{\"gridcolor\":\"white\",\"linecolor\":\"white\",\"ticks\":\"\"}},\"ternary\":{\"bgcolor\":\"#E5ECF6\",\"aaxis\":{\"gridcolor\":\"white\",\"linecolor\":\"white\",\"ticks\":\"\"},\"baxis\":{\"gridcolor\":\"white\",\"linecolor\":\"white\",\"ticks\":\"\"},\"caxis\":{\"gridcolor\":\"white\",\"linecolor\":\"white\",\"ticks\":\"\"}},\"coloraxis\":{\"colorbar\":{\"outlinewidth\":0,\"ticks\":\"\"}},\"colorscale\":{\"sequential\":[[0.0,\"#0d0887\"],[0.1111111111111111,\"#46039f\"],[0.2222222222222222,\"#7201a8\"],[0.3333333333333333,\"#9c179e\"],[0.4444444444444444,\"#bd3786\"],[0.5555555555555556,\"#d8576b\"],[0.6666666666666666,\"#ed7953\"],[0.7777777777777778,\"#fb9f3a\"],[0.8888888888888888,\"#fdca26\"],[1.0,\"#f0f921\"]],\"sequentialminus\":[[0.0,\"#0d0887\"],[0.1111111111111111,\"#46039f\"],[0.2222222222222222,\"#7201a8\"],[0.3333333333333333,\"#9c179e\"],[0.4444444444444444,\"#bd3786\"],[0.5555555555555556,\"#d8576b\"],[0.6666666666666666,\"#ed7953\"],[0.7777777777777778,\"#fb9f3a\"],[0.8888888888888888,\"#fdca26\"],[1.0,\"#f0f921\"]],\"diverging\":[[0,\"#8e0152\"],[0.1,\"#c51b7d\"],[0.2,\"#de77ae\"],[0.3,\"#f1b6da\"],[0.4,\"#fde0ef\"],[0.5,\"#f7f7f7\"],[0.6,\"#e6f5d0\"],[0.7,\"#b8e186\"],[0.8,\"#7fbc41\"],[0.9,\"#4d9221\"],[1,\"#276419\"]]},\"xaxis\":{\"gridcolor\":\"white\",\"linecolor\":\"white\",\"ticks\":\"\",\"title\":{\"standoff\":15},\"zerolinecolor\":\"white\",\"automargin\":true,\"zerolinewidth\":2},\"yaxis\":{\"gridcolor\":\"white\",\"linecolor\":\"white\",\"ticks\":\"\",\"title\":{\"standoff\":15},\"zerolinecolor\":\"white\",\"automargin\":true,\"zerolinewidth\":2},\"scene\":{\"xaxis\":{\"backgroundcolor\":\"#E5ECF6\",\"gridcolor\":\"white\",\"linecolor\":\"white\",\"showbackground\":true,\"ticks\":\"\",\"zerolinecolor\":\"white\",\"gridwidth\":2},\"yaxis\":{\"backgroundcolor\":\"#E5ECF6\",\"gridcolor\":\"white\",\"linecolor\":\"white\",\"showbackground\":true,\"ticks\":\"\",\"zerolinecolor\":\"white\",\"gridwidth\":2},\"zaxis\":{\"backgroundcolor\":\"#E5ECF6\",\"gridcolor\":\"white\",\"linecolor\":\"white\",\"showbackground\":true,\"ticks\":\"\",\"zerolinecolor\":\"white\",\"gridwidth\":2}},\"shapedefaults\":{\"line\":{\"color\":\"#2a3f5f\"}},\"annotationdefaults\":{\"arrowcolor\":\"#2a3f5f\",\"arrowhead\":0,\"arrowwidth\":1},\"geo\":{\"bgcolor\":\"white\",\"landcolor\":\"#E5ECF6\",\"subunitcolor\":\"white\",\"showland\":true,\"showlakes\":true,\"lakecolor\":\"white\"},\"title\":{\"x\":0.05},\"mapbox\":{\"style\":\"light\"}}},\"xaxis\":{\"anchor\":\"y\",\"domain\":[0.0,1.0],\"scaleanchor\":\"y\",\"constrain\":\"domain\",\"title\":{\"text\":\"Dominant_Emotion\"}},\"yaxis\":{\"anchor\":\"x\",\"domain\":[0.0,1.0],\"autorange\":\"reversed\",\"constrain\":\"domain\",\"title\":{\"text\":\"Platform\"}},\"coloraxis\":{\"colorscale\":[[0.0,\"#0d0887\"],[0.1111111111111111,\"#46039f\"],[0.2222222222222222,\"#7201a8\"],[0.3333333333333333,\"#9c179e\"],[0.4444444444444444,\"#bd3786\"],[0.5555555555555556,\"#d8576b\"],[0.6666666666666666,\"#ed7953\"],[0.7777777777777778,\"#fb9f3a\"],[0.8888888888888888,\"#fdca26\"],[1.0,\"#f0f921\"]]},\"title\":{\"text\":\"Platform vs Dominant Emotion Heatmap\"}},                        {\"responsive\": true}                    ).then(function(){\n",
              "                            \n",
              "var gd = document.getElementById('7bb36e75-1505-4a5a-98b1-bbcc83cdbaae');\n",
              "var x = new MutationObserver(function (mutations, observer) {{\n",
              "        var display = window.getComputedStyle(gd).display;\n",
              "        if (!display || display === 'none') {{\n",
              "            console.log([gd, 'removed!']);\n",
              "            Plotly.purge(gd);\n",
              "            observer.disconnect();\n",
              "        }}\n",
              "}});\n",
              "\n",
              "// Listen for the removal of the full notebook cells\n",
              "var notebookContainer = gd.closest('#notebook-container');\n",
              "if (notebookContainer) {{\n",
              "    x.observe(notebookContainer, {childList: true});\n",
              "}}\n",
              "\n",
              "// Listen for the clearing of the current output cell\n",
              "var outputEl = gd.closest('.output');\n",
              "if (outputEl) {{\n",
              "    x.observe(outputEl, {childList: true});\n",
              "}}\n",
              "\n",
              "                        })                };                            </script>        </div>\n",
              "</body>\n",
              "</html>"
            ]
          },
          "metadata": {}
        }
      ]
    },
    {
      "cell_type": "markdown",
      "source": [
        "Time Spent vs Emotions"
      ],
      "metadata": {
        "id": "Tv8tOTEpMUiA"
      }
    },
    {
      "cell_type": "code",
      "source": [
        "# Daily Usage time by Dominant_Emotion\n",
        "plt = px.histogram(train_df, x='Daily_Usage_Time (minutes)', color='Dominant_Emotion', title='Time Usage by Dominant Emotion')\n",
        "plt.show()"
      ],
      "metadata": {
        "colab": {
          "base_uri": "https://localhost:8080/",
          "height": 542
        },
        "id": "pt2DnozbMIAd",
        "outputId": "ed11b2f9-f5de-4b46-a585-d8bb5a08bc35"
      },
      "execution_count": 94,
      "outputs": [
        {
          "output_type": "display_data",
          "data": {
            "text/html": [
              "<html>\n",
              "<head><meta charset=\"utf-8\" /></head>\n",
              "<body>\n",
              "    <div>            <script src=\"https://cdnjs.cloudflare.com/ajax/libs/mathjax/2.7.5/MathJax.js?config=TeX-AMS-MML_SVG\"></script><script type=\"text/javascript\">if (window.MathJax && window.MathJax.Hub && window.MathJax.Hub.Config) {window.MathJax.Hub.Config({SVG: {font: \"STIX-Web\"}});}</script>                <script type=\"text/javascript\">window.PlotlyConfig = {MathJaxConfig: 'local'};</script>\n",
              "        <script charset=\"utf-8\" src=\"https://cdn.plot.ly/plotly-2.24.1.min.js\"></script>                <div id=\"44ed0880-ef23-4346-9167-6fe72a859ea3\" class=\"plotly-graph-div\" style=\"height:525px; width:100%;\"></div>            <script type=\"text/javascript\">                                    window.PLOTLYENV=window.PLOTLYENV || {};                                    if (document.getElementById(\"44ed0880-ef23-4346-9167-6fe72a859ea3\")) {                    Plotly.newPlot(                        \"44ed0880-ef23-4346-9167-6fe72a859ea3\",                        [{\"alignmentgroup\":\"True\",\"bingroup\":\"x\",\"hovertemplate\":\"Dominant_Emotion=Happiness\\u003cbr\\u003eDaily_Usage_Time (minutes)=%{x}\\u003cbr\\u003ecount=%{y}\\u003cextra\\u003e\\u003c\\u002fextra\\u003e\",\"legendgroup\":\"Happiness\",\"marker\":{\"color\":\"#636efa\",\"pattern\":{\"shape\":\"\"}},\"name\":\"Happiness\",\"offsetgroup\":\"Happiness\",\"orientation\":\"v\",\"showlegend\":true,\"x\":[120.0,150.0,170.0,180.0,140.0,190.0,160.0,145.0,170.0,150.0,175.0,165.0,95.0,175.0,165.0,140.0,155.0,85.0,170.0,110.0,120.0,150.0,170.0,180.0,140.0,190.0,160.0,145.0,170.0,150.0,175.0,165.0,95.0,175.0,165.0,140.0,155.0,85.0,170.0,110.0,120.0,150.0,170.0,180.0,140.0,190.0,160.0,145.0,170.0,150.0,175.0,165.0,95.0,175.0,165.0,140.0,155.0,85.0,170.0,110.0,120.0,150.0,170.0,180.0,140.0,190.0,160.0,145.0,170.0,150.0,175.0,165.0,95.0,175.0,165.0,140.0,155.0,85.0,170.0,110.0,120.0,150.0,170.0,180.0,140.0,190.0,160.0,145.0,170.0,150.0,175.0,165.0,95.0,175.0,165.0,140.0,155.0,85.0,170.0,110.0,120.0,150.0,170.0,180.0,140.0,190.0,160.0,145.0,170.0,150.0,175.0,165.0,95.0,175.0,165.0,140.0,155.0,85.0,170.0,110.0,120.0,150.0,170.0,180.0,140.0,190.0,160.0,145.0,170.0,null,150.0,175.0,165.0,95.0,175.0,165.0,140.0,155.0,85.0,170.0,110.0,120.0,150.0,170.0,180.0,140.0,190.0,160.0,145.0,170.0,150.0,175.0,165.0,95.0,175.0,165.0,140.0,155.0,85.0,170.0,110.0,120.0,150.0,170.0,180.0,140.0,190.0,160.0,145.0,170.0,150.0,175.0,165.0,95.0,175.0,165.0,140.0,155.0,85.0,170.0,110.0,120.0,150.0,170.0,180.0,140.0,190.0,160.0,145.0,170.0,150.0,175.0,165.0,95.0,175.0,165.0,140.0,155.0,85.0,170.0,110.0],\"xaxis\":\"x\",\"yaxis\":\"y\",\"type\":\"histogram\"},{\"alignmentgroup\":\"True\",\"bingroup\":\"x\",\"hovertemplate\":\"Dominant_Emotion=Anger\\u003cbr\\u003eDaily_Usage_Time (minutes)=%{x}\\u003cbr\\u003ecount=%{y}\\u003cextra\\u003e\\u003c\\u002fextra\\u003e\",\"legendgroup\":\"Anger\",\"marker\":{\"color\":\"#EF553B\",\"pattern\":{\"shape\":\"\"}},\"name\":\"Anger\",\"offsetgroup\":\"Anger\",\"orientation\":\"v\",\"showlegend\":true,\"x\":[90.0,85.0,100.0,105.0,90.0,85.0,95.0,75.0,70.0,90.0,120.0,105.0,60.0,90.0,85.0,100.0,105.0,90.0,85.0,95.0,75.0,70.0,90.0,120.0,105.0,60.0,90.0,85.0,100.0,105.0,90.0,85.0,95.0,75.0,70.0,90.0,120.0,105.0,60.0,90.0,85.0,100.0,105.0,90.0,85.0,95.0,75.0,70.0,90.0,120.0,105.0,60.0,90.0,85.0,100.0,105.0,90.0,85.0,95.0,75.0,70.0,90.0,120.0,105.0,60.0,90.0,85.0,100.0,105.0,90.0,85.0,95.0,75.0,70.0,90.0,120.0,105.0,60.0,90.0,85.0,100.0,105.0,90.0,85.0,95.0,75.0,70.0,90.0,120.0,105.0,60.0,90.0,85.0,100.0,105.0,90.0,85.0,95.0,75.0,70.0,90.0,120.0,105.0,60.0,90.0,85.0,100.0,105.0,90.0,85.0,95.0,75.0,70.0,90.0,120.0,105.0,60.0,90.0,85.0,100.0,105.0,90.0,85.0,95.0,75.0,70.0,90.0,120.0,105.0,60.0],\"xaxis\":\"x\",\"yaxis\":\"y\",\"type\":\"histogram\"},{\"alignmentgroup\":\"True\",\"bingroup\":\"x\",\"hovertemplate\":\"Dominant_Emotion=Neutral\\u003cbr\\u003eDaily_Usage_Time (minutes)=%{x}\\u003cbr\\u003ecount=%{y}\\u003cextra\\u003e\\u003c\\u002fextra\\u003e\",\"legendgroup\":\"Neutral\",\"marker\":{\"color\":\"#00cc96\",\"pattern\":{\"shape\":\"\"}},\"name\":\"Neutral\",\"offsetgroup\":\"Neutral\",\"orientation\":\"v\",\"showlegend\":true,\"x\":[60.0,55.0,40.0,50.0,80.0,70.0,115.0,105.0,130.0,85.0,80.0,65.0,55.0,80.0,90.0,70.0,60.0,75.0,70.0,120.0,60.0,55.0,40.0,50.0,80.0,70.0,115.0,105.0,130.0,85.0,80.0,65.0,55.0,80.0,90.0,70.0,60.0,75.0,70.0,120.0,60.0,55.0,40.0,50.0,80.0,70.0,115.0,105.0,130.0,85.0,80.0,65.0,55.0,80.0,90.0,70.0,60.0,75.0,70.0,120.0,60.0,55.0,40.0,50.0,80.0,70.0,115.0,105.0,130.0,85.0,80.0,65.0,55.0,80.0,90.0,70.0,60.0,75.0,70.0,120.0,60.0,55.0,40.0,50.0,80.0,70.0,115.0,105.0,130.0,85.0,80.0,65.0,55.0,80.0,90.0,70.0,60.0,75.0,70.0,120.0,60.0,55.0,40.0,50.0,80.0,70.0,115.0,105.0,130.0,85.0,80.0,65.0,55.0,80.0,90.0,70.0,60.0,75.0,70.0,120.0,60.0,55.0,40.0,50.0,80.0,70.0,115.0,105.0,130.0,85.0,80.0,65.0,55.0,80.0,90.0,70.0,60.0,75.0,70.0,120.0,60.0,55.0,40.0,50.0,80.0,70.0,115.0,105.0,130.0,85.0,80.0,65.0,55.0,80.0,90.0,70.0,60.0,75.0,70.0,120.0,60.0,55.0,40.0,50.0,80.0,70.0,115.0,105.0,130.0,85.0,80.0,65.0,55.0,80.0,90.0,70.0,60.0,75.0,70.0,120.0,60.0,55.0,40.0,50.0,80.0,70.0,115.0,105.0,130.0,85.0,80.0,65.0,55.0,80.0,90.0,70.0,60.0,75.0,70.0,120.0],\"xaxis\":\"x\",\"yaxis\":\"y\",\"type\":\"histogram\"},{\"alignmentgroup\":\"True\",\"bingroup\":\"x\",\"hovertemplate\":\"Dominant_Emotion=Anxiety\\u003cbr\\u003eDaily_Usage_Time (minutes)=%{x}\\u003cbr\\u003ecount=%{y}\\u003cextra\\u003e\\u003c\\u002fextra\\u003e\",\"legendgroup\":\"Anxiety\",\"marker\":{\"color\":\"#ab63fa\",\"pattern\":{\"shape\":\"\"}},\"name\":\"Anxiety\",\"offsetgroup\":\"Anxiety\",\"orientation\":\"v\",\"showlegend\":true,\"x\":[200.0,75.0,125.0,75.0,55.0,65.0,100.0,75.0,60.0,70.0,120.0,105.0,115.0,65.0,100.0,70.0,150.0,200.0,75.0,125.0,75.0,55.0,65.0,100.0,75.0,60.0,70.0,120.0,105.0,115.0,65.0,100.0,70.0,150.0,200.0,75.0,125.0,75.0,55.0,65.0,100.0,75.0,60.0,70.0,120.0,105.0,115.0,65.0,100.0,70.0,150.0,200.0,75.0,125.0,75.0,55.0,65.0,100.0,75.0,60.0,70.0,120.0,105.0,115.0,65.0,100.0,70.0,150.0,200.0,75.0,125.0,75.0,55.0,65.0,100.0,75.0,60.0,70.0,120.0,105.0,115.0,65.0,100.0,70.0,150.0,200.0,75.0,125.0,75.0,55.0,65.0,100.0,75.0,60.0,70.0,120.0,105.0,115.0,65.0,100.0,70.0,150.0,200.0,75.0,125.0,75.0,55.0,65.0,100.0,75.0,60.0,70.0,120.0,105.0,115.0,65.0,100.0,70.0,150.0,200.0,75.0,125.0,75.0,55.0,65.0,100.0,75.0,60.0,70.0,120.0,105.0,115.0,65.0,100.0,70.0,150.0,200.0,75.0,125.0,75.0,55.0,65.0,100.0,75.0,60.0,70.0,120.0,105.0,115.0,65.0,100.0,70.0,150.0,200.0,75.0,125.0,75.0,55.0,65.0,100.0,75.0,60.0,70.0,120.0,105.0,115.0,65.0,100.0,70.0,150.0],\"xaxis\":\"x\",\"yaxis\":\"y\",\"type\":\"histogram\"},{\"alignmentgroup\":\"True\",\"bingroup\":\"x\",\"hovertemplate\":\"Dominant_Emotion=Boredom\\u003cbr\\u003eDaily_Usage_Time (minutes)=%{x}\\u003cbr\\u003ecount=%{y}\\u003cextra\\u003e\\u003c\\u002fextra\\u003e\",\"legendgroup\":\"Boredom\",\"marker\":{\"color\":\"#FFA15A\",\"pattern\":{\"shape\":\"\"}},\"name\":\"Boredom\",\"offsetgroup\":\"Boredom\",\"orientation\":\"v\",\"showlegend\":true,\"x\":[45.0,65.0,60.0,65.0,55.0,60.0,55.0,90.0,60.0,60.0,70.0,75.0,50.0,85.0,45.0,65.0,60.0,65.0,55.0,60.0,55.0,90.0,60.0,60.0,70.0,75.0,50.0,85.0,45.0,65.0,60.0,65.0,55.0,60.0,55.0,90.0,60.0,60.0,70.0,75.0,50.0,85.0,45.0,65.0,60.0,65.0,55.0,60.0,55.0,90.0,60.0,60.0,70.0,75.0,50.0,85.0,45.0,65.0,60.0,65.0,55.0,60.0,55.0,90.0,60.0,60.0,70.0,75.0,50.0,85.0,45.0,65.0,60.0,65.0,55.0,60.0,55.0,90.0,60.0,60.0,70.0,75.0,50.0,85.0,45.0,65.0,60.0,65.0,55.0,60.0,55.0,90.0,60.0,60.0,70.0,75.0,50.0,85.0,45.0,65.0,60.0,65.0,55.0,60.0,55.0,90.0,60.0,60.0,70.0,75.0,50.0,85.0,45.0,65.0,60.0,65.0,55.0,60.0,55.0,90.0,60.0,60.0,70.0,75.0,50.0,85.0,45.0,65.0,60.0,65.0,55.0,60.0,55.0,90.0,60.0,60.0,70.0,75.0,50.0,85.0],\"xaxis\":\"x\",\"yaxis\":\"y\",\"type\":\"histogram\"},{\"alignmentgroup\":\"True\",\"bingroup\":\"x\",\"hovertemplate\":\"Dominant_Emotion=Sadness\\u003cbr\\u003eDaily_Usage_Time (minutes)=%{x}\\u003cbr\\u003ecount=%{y}\\u003cextra\\u003e\\u003c\\u002fextra\\u003e\",\"legendgroup\":\"Sadness\",\"marker\":{\"color\":\"#19d3f3\",\"pattern\":{\"shape\":\"\"}},\"name\":\"Sadness\",\"offsetgroup\":\"Sadness\",\"orientation\":\"v\",\"showlegend\":true,\"x\":[110.0,95.0,90.0,70.0,45.0,130.0,45.0,90.0,145.0,50.0,90.0,75.0,75.0,50.0,85.0,95.0,110.0,95.0,90.0,70.0,45.0,130.0,45.0,90.0,145.0,50.0,90.0,75.0,75.0,50.0,85.0,95.0,110.0,95.0,90.0,70.0,45.0,130.0,45.0,90.0,145.0,50.0,90.0,75.0,75.0,50.0,85.0,95.0,110.0,95.0,90.0,70.0,45.0,130.0,45.0,90.0,145.0,50.0,90.0,75.0,75.0,50.0,85.0,95.0,110.0,95.0,90.0,70.0,45.0,130.0,45.0,90.0,145.0,50.0,90.0,75.0,75.0,50.0,85.0,95.0,110.0,95.0,90.0,70.0,45.0,130.0,45.0,90.0,145.0,50.0,90.0,75.0,75.0,50.0,85.0,95.0,110.0,95.0,90.0,70.0,45.0,130.0,45.0,90.0,145.0,50.0,90.0,75.0,75.0,50.0,85.0,95.0,110.0,95.0,90.0,70.0,45.0,130.0,45.0,90.0,145.0,50.0,90.0,75.0,75.0,50.0,85.0,95.0,110.0,95.0,90.0,70.0,45.0,130.0,45.0,90.0,145.0,50.0,90.0,75.0,75.0,50.0,85.0,95.0,110.0,95.0,90.0,70.0,45.0,130.0,45.0,90.0,145.0,50.0,90.0,75.0,75.0,50.0,85.0,95.0],\"xaxis\":\"x\",\"yaxis\":\"y\",\"type\":\"histogram\"}],                        {\"template\":{\"data\":{\"histogram2dcontour\":[{\"type\":\"histogram2dcontour\",\"colorbar\":{\"outlinewidth\":0,\"ticks\":\"\"},\"colorscale\":[[0.0,\"#0d0887\"],[0.1111111111111111,\"#46039f\"],[0.2222222222222222,\"#7201a8\"],[0.3333333333333333,\"#9c179e\"],[0.4444444444444444,\"#bd3786\"],[0.5555555555555556,\"#d8576b\"],[0.6666666666666666,\"#ed7953\"],[0.7777777777777778,\"#fb9f3a\"],[0.8888888888888888,\"#fdca26\"],[1.0,\"#f0f921\"]]}],\"choropleth\":[{\"type\":\"choropleth\",\"colorbar\":{\"outlinewidth\":0,\"ticks\":\"\"}}],\"histogram2d\":[{\"type\":\"histogram2d\",\"colorbar\":{\"outlinewidth\":0,\"ticks\":\"\"},\"colorscale\":[[0.0,\"#0d0887\"],[0.1111111111111111,\"#46039f\"],[0.2222222222222222,\"#7201a8\"],[0.3333333333333333,\"#9c179e\"],[0.4444444444444444,\"#bd3786\"],[0.5555555555555556,\"#d8576b\"],[0.6666666666666666,\"#ed7953\"],[0.7777777777777778,\"#fb9f3a\"],[0.8888888888888888,\"#fdca26\"],[1.0,\"#f0f921\"]]}],\"heatmap\":[{\"type\":\"heatmap\",\"colorbar\":{\"outlinewidth\":0,\"ticks\":\"\"},\"colorscale\":[[0.0,\"#0d0887\"],[0.1111111111111111,\"#46039f\"],[0.2222222222222222,\"#7201a8\"],[0.3333333333333333,\"#9c179e\"],[0.4444444444444444,\"#bd3786\"],[0.5555555555555556,\"#d8576b\"],[0.6666666666666666,\"#ed7953\"],[0.7777777777777778,\"#fb9f3a\"],[0.8888888888888888,\"#fdca26\"],[1.0,\"#f0f921\"]]}],\"heatmapgl\":[{\"type\":\"heatmapgl\",\"colorbar\":{\"outlinewidth\":0,\"ticks\":\"\"},\"colorscale\":[[0.0,\"#0d0887\"],[0.1111111111111111,\"#46039f\"],[0.2222222222222222,\"#7201a8\"],[0.3333333333333333,\"#9c179e\"],[0.4444444444444444,\"#bd3786\"],[0.5555555555555556,\"#d8576b\"],[0.6666666666666666,\"#ed7953\"],[0.7777777777777778,\"#fb9f3a\"],[0.8888888888888888,\"#fdca26\"],[1.0,\"#f0f921\"]]}],\"contourcarpet\":[{\"type\":\"contourcarpet\",\"colorbar\":{\"outlinewidth\":0,\"ticks\":\"\"}}],\"contour\":[{\"type\":\"contour\",\"colorbar\":{\"outlinewidth\":0,\"ticks\":\"\"},\"colorscale\":[[0.0,\"#0d0887\"],[0.1111111111111111,\"#46039f\"],[0.2222222222222222,\"#7201a8\"],[0.3333333333333333,\"#9c179e\"],[0.4444444444444444,\"#bd3786\"],[0.5555555555555556,\"#d8576b\"],[0.6666666666666666,\"#ed7953\"],[0.7777777777777778,\"#fb9f3a\"],[0.8888888888888888,\"#fdca26\"],[1.0,\"#f0f921\"]]}],\"surface\":[{\"type\":\"surface\",\"colorbar\":{\"outlinewidth\":0,\"ticks\":\"\"},\"colorscale\":[[0.0,\"#0d0887\"],[0.1111111111111111,\"#46039f\"],[0.2222222222222222,\"#7201a8\"],[0.3333333333333333,\"#9c179e\"],[0.4444444444444444,\"#bd3786\"],[0.5555555555555556,\"#d8576b\"],[0.6666666666666666,\"#ed7953\"],[0.7777777777777778,\"#fb9f3a\"],[0.8888888888888888,\"#fdca26\"],[1.0,\"#f0f921\"]]}],\"mesh3d\":[{\"type\":\"mesh3d\",\"colorbar\":{\"outlinewidth\":0,\"ticks\":\"\"}}],\"scatter\":[{\"fillpattern\":{\"fillmode\":\"overlay\",\"size\":10,\"solidity\":0.2},\"type\":\"scatter\"}],\"parcoords\":[{\"type\":\"parcoords\",\"line\":{\"colorbar\":{\"outlinewidth\":0,\"ticks\":\"\"}}}],\"scatterpolargl\":[{\"type\":\"scatterpolargl\",\"marker\":{\"colorbar\":{\"outlinewidth\":0,\"ticks\":\"\"}}}],\"bar\":[{\"error_x\":{\"color\":\"#2a3f5f\"},\"error_y\":{\"color\":\"#2a3f5f\"},\"marker\":{\"line\":{\"color\":\"#E5ECF6\",\"width\":0.5},\"pattern\":{\"fillmode\":\"overlay\",\"size\":10,\"solidity\":0.2}},\"type\":\"bar\"}],\"scattergeo\":[{\"type\":\"scattergeo\",\"marker\":{\"colorbar\":{\"outlinewidth\":0,\"ticks\":\"\"}}}],\"scatterpolar\":[{\"type\":\"scatterpolar\",\"marker\":{\"colorbar\":{\"outlinewidth\":0,\"ticks\":\"\"}}}],\"histogram\":[{\"marker\":{\"pattern\":{\"fillmode\":\"overlay\",\"size\":10,\"solidity\":0.2}},\"type\":\"histogram\"}],\"scattergl\":[{\"type\":\"scattergl\",\"marker\":{\"colorbar\":{\"outlinewidth\":0,\"ticks\":\"\"}}}],\"scatter3d\":[{\"type\":\"scatter3d\",\"line\":{\"colorbar\":{\"outlinewidth\":0,\"ticks\":\"\"}},\"marker\":{\"colorbar\":{\"outlinewidth\":0,\"ticks\":\"\"}}}],\"scattermapbox\":[{\"type\":\"scattermapbox\",\"marker\":{\"colorbar\":{\"outlinewidth\":0,\"ticks\":\"\"}}}],\"scatterternary\":[{\"type\":\"scatterternary\",\"marker\":{\"colorbar\":{\"outlinewidth\":0,\"ticks\":\"\"}}}],\"scattercarpet\":[{\"type\":\"scattercarpet\",\"marker\":{\"colorbar\":{\"outlinewidth\":0,\"ticks\":\"\"}}}],\"carpet\":[{\"aaxis\":{\"endlinecolor\":\"#2a3f5f\",\"gridcolor\":\"white\",\"linecolor\":\"white\",\"minorgridcolor\":\"white\",\"startlinecolor\":\"#2a3f5f\"},\"baxis\":{\"endlinecolor\":\"#2a3f5f\",\"gridcolor\":\"white\",\"linecolor\":\"white\",\"minorgridcolor\":\"white\",\"startlinecolor\":\"#2a3f5f\"},\"type\":\"carpet\"}],\"table\":[{\"cells\":{\"fill\":{\"color\":\"#EBF0F8\"},\"line\":{\"color\":\"white\"}},\"header\":{\"fill\":{\"color\":\"#C8D4E3\"},\"line\":{\"color\":\"white\"}},\"type\":\"table\"}],\"barpolar\":[{\"marker\":{\"line\":{\"color\":\"#E5ECF6\",\"width\":0.5},\"pattern\":{\"fillmode\":\"overlay\",\"size\":10,\"solidity\":0.2}},\"type\":\"barpolar\"}],\"pie\":[{\"automargin\":true,\"type\":\"pie\"}]},\"layout\":{\"autotypenumbers\":\"strict\",\"colorway\":[\"#636efa\",\"#EF553B\",\"#00cc96\",\"#ab63fa\",\"#FFA15A\",\"#19d3f3\",\"#FF6692\",\"#B6E880\",\"#FF97FF\",\"#FECB52\"],\"font\":{\"color\":\"#2a3f5f\"},\"hovermode\":\"closest\",\"hoverlabel\":{\"align\":\"left\"},\"paper_bgcolor\":\"white\",\"plot_bgcolor\":\"#E5ECF6\",\"polar\":{\"bgcolor\":\"#E5ECF6\",\"angularaxis\":{\"gridcolor\":\"white\",\"linecolor\":\"white\",\"ticks\":\"\"},\"radialaxis\":{\"gridcolor\":\"white\",\"linecolor\":\"white\",\"ticks\":\"\"}},\"ternary\":{\"bgcolor\":\"#E5ECF6\",\"aaxis\":{\"gridcolor\":\"white\",\"linecolor\":\"white\",\"ticks\":\"\"},\"baxis\":{\"gridcolor\":\"white\",\"linecolor\":\"white\",\"ticks\":\"\"},\"caxis\":{\"gridcolor\":\"white\",\"linecolor\":\"white\",\"ticks\":\"\"}},\"coloraxis\":{\"colorbar\":{\"outlinewidth\":0,\"ticks\":\"\"}},\"colorscale\":{\"sequential\":[[0.0,\"#0d0887\"],[0.1111111111111111,\"#46039f\"],[0.2222222222222222,\"#7201a8\"],[0.3333333333333333,\"#9c179e\"],[0.4444444444444444,\"#bd3786\"],[0.5555555555555556,\"#d8576b\"],[0.6666666666666666,\"#ed7953\"],[0.7777777777777778,\"#fb9f3a\"],[0.8888888888888888,\"#fdca26\"],[1.0,\"#f0f921\"]],\"sequentialminus\":[[0.0,\"#0d0887\"],[0.1111111111111111,\"#46039f\"],[0.2222222222222222,\"#7201a8\"],[0.3333333333333333,\"#9c179e\"],[0.4444444444444444,\"#bd3786\"],[0.5555555555555556,\"#d8576b\"],[0.6666666666666666,\"#ed7953\"],[0.7777777777777778,\"#fb9f3a\"],[0.8888888888888888,\"#fdca26\"],[1.0,\"#f0f921\"]],\"diverging\":[[0,\"#8e0152\"],[0.1,\"#c51b7d\"],[0.2,\"#de77ae\"],[0.3,\"#f1b6da\"],[0.4,\"#fde0ef\"],[0.5,\"#f7f7f7\"],[0.6,\"#e6f5d0\"],[0.7,\"#b8e186\"],[0.8,\"#7fbc41\"],[0.9,\"#4d9221\"],[1,\"#276419\"]]},\"xaxis\":{\"gridcolor\":\"white\",\"linecolor\":\"white\",\"ticks\":\"\",\"title\":{\"standoff\":15},\"zerolinecolor\":\"white\",\"automargin\":true,\"zerolinewidth\":2},\"yaxis\":{\"gridcolor\":\"white\",\"linecolor\":\"white\",\"ticks\":\"\",\"title\":{\"standoff\":15},\"zerolinecolor\":\"white\",\"automargin\":true,\"zerolinewidth\":2},\"scene\":{\"xaxis\":{\"backgroundcolor\":\"#E5ECF6\",\"gridcolor\":\"white\",\"linecolor\":\"white\",\"showbackground\":true,\"ticks\":\"\",\"zerolinecolor\":\"white\",\"gridwidth\":2},\"yaxis\":{\"backgroundcolor\":\"#E5ECF6\",\"gridcolor\":\"white\",\"linecolor\":\"white\",\"showbackground\":true,\"ticks\":\"\",\"zerolinecolor\":\"white\",\"gridwidth\":2},\"zaxis\":{\"backgroundcolor\":\"#E5ECF6\",\"gridcolor\":\"white\",\"linecolor\":\"white\",\"showbackground\":true,\"ticks\":\"\",\"zerolinecolor\":\"white\",\"gridwidth\":2}},\"shapedefaults\":{\"line\":{\"color\":\"#2a3f5f\"}},\"annotationdefaults\":{\"arrowcolor\":\"#2a3f5f\",\"arrowhead\":0,\"arrowwidth\":1},\"geo\":{\"bgcolor\":\"white\",\"landcolor\":\"#E5ECF6\",\"subunitcolor\":\"white\",\"showland\":true,\"showlakes\":true,\"lakecolor\":\"white\"},\"title\":{\"x\":0.05},\"mapbox\":{\"style\":\"light\"}}},\"xaxis\":{\"anchor\":\"y\",\"domain\":[0.0,1.0],\"title\":{\"text\":\"Daily_Usage_Time (minutes)\"}},\"yaxis\":{\"anchor\":\"x\",\"domain\":[0.0,1.0],\"title\":{\"text\":\"count\"}},\"legend\":{\"title\":{\"text\":\"Dominant_Emotion\"},\"tracegroupgap\":0},\"title\":{\"text\":\"Time Usage by Dominant Emotion\"},\"barmode\":\"relative\"},                        {\"responsive\": true}                    ).then(function(){\n",
              "                            \n",
              "var gd = document.getElementById('44ed0880-ef23-4346-9167-6fe72a859ea3');\n",
              "var x = new MutationObserver(function (mutations, observer) {{\n",
              "        var display = window.getComputedStyle(gd).display;\n",
              "        if (!display || display === 'none') {{\n",
              "            console.log([gd, 'removed!']);\n",
              "            Plotly.purge(gd);\n",
              "            observer.disconnect();\n",
              "        }}\n",
              "}});\n",
              "\n",
              "// Listen for the removal of the full notebook cells\n",
              "var notebookContainer = gd.closest('#notebook-container');\n",
              "if (notebookContainer) {{\n",
              "    x.observe(notebookContainer, {childList: true});\n",
              "}}\n",
              "\n",
              "// Listen for the clearing of the current output cell\n",
              "var outputEl = gd.closest('.output');\n",
              "if (outputEl) {{\n",
              "    x.observe(outputEl, {childList: true});\n",
              "}}\n",
              "\n",
              "                        })                };                            </script>        </div>\n",
              "</body>\n",
              "</html>"
            ]
          },
          "metadata": {}
        }
      ]
    },
    {
      "cell_type": "markdown",
      "source": [
        "Likes Received vs Emotions"
      ],
      "metadata": {
        "id": "hIYw_Fc0Mqiu"
      }
    },
    {
      "cell_type": "code",
      "source": [
        "plt = px.histogram(train_df, x='Likes_Received_Per_Day', color='Dominant_Emotion', title='Likes Received vs Dominant Emotion')\n",
        "plt.show()"
      ],
      "metadata": {
        "colab": {
          "base_uri": "https://localhost:8080/",
          "height": 542
        },
        "id": "-3oJZtfHMeBw",
        "outputId": "f7e2934e-3a2b-476f-9f6e-edcbf97df18a"
      },
      "execution_count": 95,
      "outputs": [
        {
          "output_type": "display_data",
          "data": {
            "text/html": [
              "<html>\n",
              "<head><meta charset=\"utf-8\" /></head>\n",
              "<body>\n",
              "    <div>            <script src=\"https://cdnjs.cloudflare.com/ajax/libs/mathjax/2.7.5/MathJax.js?config=TeX-AMS-MML_SVG\"></script><script type=\"text/javascript\">if (window.MathJax && window.MathJax.Hub && window.MathJax.Hub.Config) {window.MathJax.Hub.Config({SVG: {font: \"STIX-Web\"}});}</script>                <script type=\"text/javascript\">window.PlotlyConfig = {MathJaxConfig: 'local'};</script>\n",
              "        <script charset=\"utf-8\" src=\"https://cdn.plot.ly/plotly-2.24.1.min.js\"></script>                <div id=\"cbb420cf-a50a-49df-87f0-4757d25dbcea\" class=\"plotly-graph-div\" style=\"height:525px; width:100%;\"></div>            <script type=\"text/javascript\">                                    window.PLOTLYENV=window.PLOTLYENV || {};                                    if (document.getElementById(\"cbb420cf-a50a-49df-87f0-4757d25dbcea\")) {                    Plotly.newPlot(                        \"cbb420cf-a50a-49df-87f0-4757d25dbcea\",                        [{\"alignmentgroup\":\"True\",\"bingroup\":\"x\",\"hovertemplate\":\"Dominant_Emotion=Happiness\\u003cbr\\u003eLikes_Received_Per_Day=%{x}\\u003cbr\\u003ecount=%{y}\\u003cextra\\u003e\\u003c\\u002fextra\\u003e\",\"legendgroup\":\"Happiness\",\"marker\":{\"color\":\"#636efa\",\"pattern\":{\"shape\":\"\"}},\"name\":\"Happiness\",\"offsetgroup\":\"Happiness\",\"orientation\":\"v\",\"showlegend\":true,\"x\":[45.0,60.0,80.0,90.0,70.0,95.0,85.0,75.0,90.0,80.0,85.0,78.0,45.0,70.0,75.0,60.0,72.0,30.0,78.0,45.0,50.0,65.0,90.0,100.0,75.0,105.0,85.0,80.0,95.0,90.0,100.0,85.0,48.0,72.0,78.0,65.0,75.0,33.0,83.0,50.0,50.0,65.0,90.0,100.0,75.0,105.0,85.0,80.0,95.0,90.0,100.0,85.0,48.0,72.0,78.0,65.0,75.0,33.0,83.0,50.0,50.0,65.0,90.0,100.0,75.0,105.0,85.0,80.0,95.0,90.0,100.0,85.0,48.0,72.0,78.0,65.0,75.0,33.0,83.0,50.0,50.0,65.0,90.0,100.0,75.0,105.0,85.0,80.0,95.0,90.0,100.0,85.0,48.0,72.0,78.0,65.0,75.0,33.0,83.0,50.0,50.0,65.0,90.0,100.0,75.0,105.0,85.0,80.0,95.0,90.0,100.0,85.0,48.0,72.0,78.0,65.0,75.0,33.0,83.0,50.0,50.0,65.0,90.0,100.0,75.0,105.0,85.0,80.0,95.0,30.0,90.0,100.0,85.0,48.0,72.0,78.0,65.0,75.0,33.0,83.0,50.0,50.0,65.0,90.0,100.0,75.0,105.0,85.0,80.0,95.0,90.0,100.0,85.0,48.0,72.0,78.0,65.0,75.0,33.0,83.0,50.0,50.0,65.0,90.0,100.0,75.0,105.0,85.0,80.0,95.0,90.0,100.0,85.0,48.0,72.0,78.0,65.0,75.0,33.0,83.0,50.0,50.0,65.0,90.0,100.0,75.0,105.0,85.0,80.0,95.0,90.0,100.0,85.0,48.0,72.0,78.0,65.0,75.0,33.0,83.0,50.0],\"xaxis\":\"x\",\"yaxis\":\"y\",\"type\":\"histogram\"},{\"alignmentgroup\":\"True\",\"bingroup\":\"x\",\"hovertemplate\":\"Dominant_Emotion=Anger\\u003cbr\\u003eLikes_Received_Per_Day=%{x}\\u003cbr\\u003ecount=%{y}\\u003cextra\\u003e\\u003c\\u002fextra\\u003e\",\"legendgroup\":\"Anger\",\"marker\":{\"color\":\"#EF553B\",\"pattern\":{\"shape\":\"\"}},\"name\":\"Anger\",\"offsetgroup\":\"Anger\",\"orientation\":\"v\",\"showlegend\":true,\"x\":[20.0,30.0,40.0,28.0,38.0,35.0,40.0,29.0,20.0,20.0,55.0,50.0,15.0,30.0,40.0,50.0,35.0,43.0,45.0,50.0,33.0,22.0,24.0,60.0,55.0,18.0,30.0,40.0,50.0,35.0,43.0,45.0,50.0,33.0,22.0,24.0,60.0,55.0,18.0,30.0,40.0,50.0,35.0,43.0,45.0,50.0,33.0,22.0,24.0,60.0,55.0,18.0,30.0,40.0,50.0,35.0,43.0,45.0,50.0,33.0,22.0,24.0,60.0,55.0,18.0,30.0,40.0,50.0,35.0,43.0,45.0,50.0,33.0,22.0,24.0,60.0,55.0,18.0,30.0,40.0,50.0,35.0,43.0,45.0,50.0,33.0,22.0,24.0,60.0,55.0,18.0,30.0,40.0,50.0,35.0,43.0,45.0,50.0,33.0,22.0,24.0,60.0,55.0,18.0,30.0,40.0,50.0,35.0,43.0,45.0,50.0,33.0,22.0,24.0,60.0,55.0,18.0,30.0,40.0,50.0,35.0,43.0,45.0,50.0,33.0,22.0,24.0,60.0,55.0,18.0],\"xaxis\":\"x\",\"yaxis\":\"y\",\"type\":\"histogram\"},{\"alignmentgroup\":\"True\",\"bingroup\":\"x\",\"hovertemplate\":\"Dominant_Emotion=Neutral\\u003cbr\\u003eLikes_Received_Per_Day=%{x}\\u003cbr\\u003ecount=%{y}\\u003cextra\\u003e\\u003c\\u002fextra\\u003e\",\"legendgroup\":\"Neutral\",\"marker\":{\"color\":\"#00cc96\",\"pattern\":{\"shape\":\"\"}},\"name\":\"Neutral\",\"offsetgroup\":\"Neutral\",\"orientation\":\"v\",\"showlegend\":true,\"x\":[15.0,10.0,5.0,8.0,18.0,27.0,55.0,20.0,70.0,25.0,18.0,25.0,15.0,28.0,35.0,20.0,15.0,33.0,12.0,38.0,20.0,15.0,10.0,12.0,20.0,30.0,60.0,25.0,80.0,27.0,21.0,27.0,17.0,30.0,37.0,22.0,18.0,37.0,14.0,40.0,20.0,15.0,10.0,12.0,20.0,30.0,60.0,25.0,80.0,27.0,21.0,27.0,17.0,30.0,37.0,22.0,18.0,37.0,14.0,40.0,20.0,15.0,10.0,12.0,20.0,30.0,60.0,25.0,80.0,27.0,21.0,27.0,17.0,30.0,37.0,22.0,18.0,37.0,14.0,40.0,20.0,15.0,10.0,12.0,20.0,30.0,60.0,25.0,80.0,27.0,21.0,27.0,17.0,30.0,37.0,22.0,18.0,37.0,14.0,40.0,20.0,15.0,10.0,12.0,20.0,30.0,60.0,25.0,80.0,27.0,21.0,27.0,17.0,30.0,37.0,22.0,18.0,37.0,14.0,40.0,20.0,15.0,10.0,12.0,20.0,30.0,60.0,25.0,80.0,27.0,21.0,27.0,17.0,30.0,37.0,22.0,18.0,37.0,14.0,40.0,20.0,15.0,10.0,12.0,20.0,30.0,60.0,25.0,80.0,27.0,21.0,27.0,17.0,30.0,37.0,22.0,18.0,37.0,14.0,40.0,20.0,15.0,10.0,12.0,20.0,30.0,60.0,25.0,80.0,27.0,21.0,27.0,17.0,30.0,37.0,22.0,18.0,37.0,14.0,40.0,20.0,15.0,10.0,12.0,20.0,30.0,60.0,25.0,80.0,27.0,21.0,27.0,17.0,30.0,37.0,22.0,18.0,37.0,14.0,40.0],\"xaxis\":\"x\",\"yaxis\":\"y\",\"type\":\"histogram\"},{\"alignmentgroup\":\"True\",\"bingroup\":\"x\",\"hovertemplate\":\"Dominant_Emotion=Anxiety\\u003cbr\\u003eLikes_Received_Per_Day=%{x}\\u003cbr\\u003ecount=%{y}\\u003cextra\\u003e\\u003c\\u002fextra\\u003e\",\"legendgroup\":\"Anxiety\",\"marker\":{\"color\":\"#ab63fa\",\"pattern\":{\"shape\":\"\"}},\"name\":\"Anxiety\",\"offsetgroup\":\"Anxiety\",\"orientation\":\"v\",\"showlegend\":true,\"x\":[100.0,35.0,55.0,25.0,9.0,22.0,18.0,28.0,10.0,40.0,50.0,45.0,36.0,12.0,35.0,28.0,65.0,110.0,45.0,65.0,30.0,12.0,27.0,22.0,30.0,15.0,42.0,55.0,48.0,38.0,13.0,37.0,30.0,70.0,110.0,45.0,65.0,30.0,12.0,27.0,22.0,30.0,15.0,42.0,55.0,48.0,38.0,13.0,37.0,30.0,70.0,110.0,45.0,65.0,30.0,12.0,27.0,22.0,30.0,15.0,42.0,55.0,48.0,38.0,13.0,37.0,30.0,70.0,110.0,45.0,65.0,30.0,12.0,27.0,22.0,30.0,15.0,42.0,55.0,48.0,38.0,13.0,37.0,30.0,70.0,110.0,45.0,65.0,30.0,12.0,27.0,22.0,30.0,15.0,42.0,55.0,48.0,38.0,13.0,37.0,30.0,70.0,110.0,45.0,65.0,30.0,12.0,27.0,22.0,30.0,15.0,42.0,55.0,48.0,38.0,13.0,37.0,30.0,70.0,110.0,45.0,65.0,30.0,12.0,27.0,22.0,30.0,15.0,42.0,55.0,48.0,38.0,13.0,37.0,30.0,70.0,110.0,45.0,65.0,30.0,12.0,27.0,22.0,30.0,15.0,42.0,55.0,48.0,38.0,13.0,37.0,30.0,70.0,110.0,45.0,65.0,30.0,12.0,27.0,22.0,30.0,15.0,42.0,55.0,48.0,38.0,13.0,37.0,30.0,70.0],\"xaxis\":\"x\",\"yaxis\":\"y\",\"type\":\"histogram\"},{\"alignmentgroup\":\"True\",\"bingroup\":\"x\",\"hovertemplate\":\"Dominant_Emotion=Boredom\\u003cbr\\u003eLikes_Received_Per_Day=%{x}\\u003cbr\\u003ecount=%{y}\\u003cextra\\u003e\\u003c\\u002fextra\\u003e\",\"legendgroup\":\"Boredom\",\"marker\":{\"color\":\"#FFA15A\",\"pattern\":{\"shape\":\"\"}},\"name\":\"Boredom\",\"offsetgroup\":\"Boredom\",\"orientation\":\"v\",\"showlegend\":true,\"x\":[5.0,12.0,11.0,13.0,10.0,12.0,8.0,20.0,10.0,8.0,12.0,18.0,8.0,30.0,10.0,14.0,17.0,17.0,11.0,15.0,12.0,22.0,12.0,12.0,13.0,20.0,10.0,35.0,10.0,14.0,17.0,17.0,11.0,15.0,12.0,22.0,12.0,12.0,13.0,20.0,10.0,35.0,10.0,14.0,17.0,17.0,11.0,15.0,12.0,22.0,12.0,12.0,13.0,20.0,10.0,35.0,10.0,14.0,17.0,17.0,11.0,15.0,12.0,22.0,12.0,12.0,13.0,20.0,10.0,35.0,10.0,14.0,17.0,17.0,11.0,15.0,12.0,22.0,12.0,12.0,13.0,20.0,10.0,35.0,10.0,14.0,17.0,17.0,11.0,15.0,12.0,22.0,12.0,12.0,13.0,20.0,10.0,35.0,10.0,14.0,17.0,17.0,11.0,15.0,12.0,22.0,12.0,12.0,13.0,20.0,10.0,35.0,10.0,14.0,17.0,17.0,11.0,15.0,12.0,22.0,12.0,12.0,13.0,20.0,10.0,35.0,10.0,14.0,17.0,17.0,11.0,15.0,12.0,22.0,12.0,12.0,13.0,20.0,10.0,35.0],\"xaxis\":\"x\",\"yaxis\":\"y\",\"type\":\"histogram\"},{\"alignmentgroup\":\"True\",\"bingroup\":\"x\",\"hovertemplate\":\"Dominant_Emotion=Sadness\\u003cbr\\u003eLikes_Received_Per_Day=%{x}\\u003cbr\\u003ecount=%{y}\\u003cextra\\u003e\\u003c\\u002fextra\\u003e\",\"legendgroup\":\"Sadness\",\"marker\":{\"color\":\"#19d3f3\",\"pattern\":{\"shape\":\"\"}},\"name\":\"Sadness\",\"offsetgroup\":\"Sadness\",\"orientation\":\"v\",\"showlegend\":true,\"x\":[25.0,20.0,33.0,20.0,6.0,88.0,6.0,33.0,60.0,15.0,40.0,18.0,22.0,18.0,40.0,20.0,35.0,30.0,40.0,25.0,8.0,95.0,9.0,37.0,65.0,18.0,42.0,21.0,23.0,20.0,45.0,23.0,35.0,30.0,40.0,25.0,8.0,95.0,9.0,37.0,65.0,18.0,42.0,21.0,23.0,20.0,45.0,23.0,35.0,30.0,40.0,25.0,8.0,95.0,9.0,37.0,65.0,18.0,42.0,21.0,23.0,20.0,45.0,23.0,35.0,30.0,40.0,25.0,8.0,95.0,9.0,37.0,65.0,18.0,42.0,21.0,23.0,20.0,45.0,23.0,35.0,30.0,40.0,25.0,8.0,95.0,9.0,37.0,65.0,18.0,42.0,21.0,23.0,20.0,45.0,23.0,35.0,30.0,40.0,25.0,8.0,95.0,9.0,37.0,65.0,18.0,42.0,21.0,23.0,20.0,45.0,23.0,35.0,30.0,40.0,25.0,8.0,95.0,9.0,37.0,65.0,18.0,42.0,21.0,23.0,20.0,45.0,23.0,35.0,30.0,40.0,25.0,8.0,95.0,9.0,37.0,65.0,18.0,42.0,21.0,23.0,20.0,45.0,23.0,35.0,30.0,40.0,25.0,8.0,95.0,9.0,37.0,65.0,18.0,42.0,21.0,23.0,20.0,45.0,23.0],\"xaxis\":\"x\",\"yaxis\":\"y\",\"type\":\"histogram\"}],                        {\"template\":{\"data\":{\"histogram2dcontour\":[{\"type\":\"histogram2dcontour\",\"colorbar\":{\"outlinewidth\":0,\"ticks\":\"\"},\"colorscale\":[[0.0,\"#0d0887\"],[0.1111111111111111,\"#46039f\"],[0.2222222222222222,\"#7201a8\"],[0.3333333333333333,\"#9c179e\"],[0.4444444444444444,\"#bd3786\"],[0.5555555555555556,\"#d8576b\"],[0.6666666666666666,\"#ed7953\"],[0.7777777777777778,\"#fb9f3a\"],[0.8888888888888888,\"#fdca26\"],[1.0,\"#f0f921\"]]}],\"choropleth\":[{\"type\":\"choropleth\",\"colorbar\":{\"outlinewidth\":0,\"ticks\":\"\"}}],\"histogram2d\":[{\"type\":\"histogram2d\",\"colorbar\":{\"outlinewidth\":0,\"ticks\":\"\"},\"colorscale\":[[0.0,\"#0d0887\"],[0.1111111111111111,\"#46039f\"],[0.2222222222222222,\"#7201a8\"],[0.3333333333333333,\"#9c179e\"],[0.4444444444444444,\"#bd3786\"],[0.5555555555555556,\"#d8576b\"],[0.6666666666666666,\"#ed7953\"],[0.7777777777777778,\"#fb9f3a\"],[0.8888888888888888,\"#fdca26\"],[1.0,\"#f0f921\"]]}],\"heatmap\":[{\"type\":\"heatmap\",\"colorbar\":{\"outlinewidth\":0,\"ticks\":\"\"},\"colorscale\":[[0.0,\"#0d0887\"],[0.1111111111111111,\"#46039f\"],[0.2222222222222222,\"#7201a8\"],[0.3333333333333333,\"#9c179e\"],[0.4444444444444444,\"#bd3786\"],[0.5555555555555556,\"#d8576b\"],[0.6666666666666666,\"#ed7953\"],[0.7777777777777778,\"#fb9f3a\"],[0.8888888888888888,\"#fdca26\"],[1.0,\"#f0f921\"]]}],\"heatmapgl\":[{\"type\":\"heatmapgl\",\"colorbar\":{\"outlinewidth\":0,\"ticks\":\"\"},\"colorscale\":[[0.0,\"#0d0887\"],[0.1111111111111111,\"#46039f\"],[0.2222222222222222,\"#7201a8\"],[0.3333333333333333,\"#9c179e\"],[0.4444444444444444,\"#bd3786\"],[0.5555555555555556,\"#d8576b\"],[0.6666666666666666,\"#ed7953\"],[0.7777777777777778,\"#fb9f3a\"],[0.8888888888888888,\"#fdca26\"],[1.0,\"#f0f921\"]]}],\"contourcarpet\":[{\"type\":\"contourcarpet\",\"colorbar\":{\"outlinewidth\":0,\"ticks\":\"\"}}],\"contour\":[{\"type\":\"contour\",\"colorbar\":{\"outlinewidth\":0,\"ticks\":\"\"},\"colorscale\":[[0.0,\"#0d0887\"],[0.1111111111111111,\"#46039f\"],[0.2222222222222222,\"#7201a8\"],[0.3333333333333333,\"#9c179e\"],[0.4444444444444444,\"#bd3786\"],[0.5555555555555556,\"#d8576b\"],[0.6666666666666666,\"#ed7953\"],[0.7777777777777778,\"#fb9f3a\"],[0.8888888888888888,\"#fdca26\"],[1.0,\"#f0f921\"]]}],\"surface\":[{\"type\":\"surface\",\"colorbar\":{\"outlinewidth\":0,\"ticks\":\"\"},\"colorscale\":[[0.0,\"#0d0887\"],[0.1111111111111111,\"#46039f\"],[0.2222222222222222,\"#7201a8\"],[0.3333333333333333,\"#9c179e\"],[0.4444444444444444,\"#bd3786\"],[0.5555555555555556,\"#d8576b\"],[0.6666666666666666,\"#ed7953\"],[0.7777777777777778,\"#fb9f3a\"],[0.8888888888888888,\"#fdca26\"],[1.0,\"#f0f921\"]]}],\"mesh3d\":[{\"type\":\"mesh3d\",\"colorbar\":{\"outlinewidth\":0,\"ticks\":\"\"}}],\"scatter\":[{\"fillpattern\":{\"fillmode\":\"overlay\",\"size\":10,\"solidity\":0.2},\"type\":\"scatter\"}],\"parcoords\":[{\"type\":\"parcoords\",\"line\":{\"colorbar\":{\"outlinewidth\":0,\"ticks\":\"\"}}}],\"scatterpolargl\":[{\"type\":\"scatterpolargl\",\"marker\":{\"colorbar\":{\"outlinewidth\":0,\"ticks\":\"\"}}}],\"bar\":[{\"error_x\":{\"color\":\"#2a3f5f\"},\"error_y\":{\"color\":\"#2a3f5f\"},\"marker\":{\"line\":{\"color\":\"#E5ECF6\",\"width\":0.5},\"pattern\":{\"fillmode\":\"overlay\",\"size\":10,\"solidity\":0.2}},\"type\":\"bar\"}],\"scattergeo\":[{\"type\":\"scattergeo\",\"marker\":{\"colorbar\":{\"outlinewidth\":0,\"ticks\":\"\"}}}],\"scatterpolar\":[{\"type\":\"scatterpolar\",\"marker\":{\"colorbar\":{\"outlinewidth\":0,\"ticks\":\"\"}}}],\"histogram\":[{\"marker\":{\"pattern\":{\"fillmode\":\"overlay\",\"size\":10,\"solidity\":0.2}},\"type\":\"histogram\"}],\"scattergl\":[{\"type\":\"scattergl\",\"marker\":{\"colorbar\":{\"outlinewidth\":0,\"ticks\":\"\"}}}],\"scatter3d\":[{\"type\":\"scatter3d\",\"line\":{\"colorbar\":{\"outlinewidth\":0,\"ticks\":\"\"}},\"marker\":{\"colorbar\":{\"outlinewidth\":0,\"ticks\":\"\"}}}],\"scattermapbox\":[{\"type\":\"scattermapbox\",\"marker\":{\"colorbar\":{\"outlinewidth\":0,\"ticks\":\"\"}}}],\"scatterternary\":[{\"type\":\"scatterternary\",\"marker\":{\"colorbar\":{\"outlinewidth\":0,\"ticks\":\"\"}}}],\"scattercarpet\":[{\"type\":\"scattercarpet\",\"marker\":{\"colorbar\":{\"outlinewidth\":0,\"ticks\":\"\"}}}],\"carpet\":[{\"aaxis\":{\"endlinecolor\":\"#2a3f5f\",\"gridcolor\":\"white\",\"linecolor\":\"white\",\"minorgridcolor\":\"white\",\"startlinecolor\":\"#2a3f5f\"},\"baxis\":{\"endlinecolor\":\"#2a3f5f\",\"gridcolor\":\"white\",\"linecolor\":\"white\",\"minorgridcolor\":\"white\",\"startlinecolor\":\"#2a3f5f\"},\"type\":\"carpet\"}],\"table\":[{\"cells\":{\"fill\":{\"color\":\"#EBF0F8\"},\"line\":{\"color\":\"white\"}},\"header\":{\"fill\":{\"color\":\"#C8D4E3\"},\"line\":{\"color\":\"white\"}},\"type\":\"table\"}],\"barpolar\":[{\"marker\":{\"line\":{\"color\":\"#E5ECF6\",\"width\":0.5},\"pattern\":{\"fillmode\":\"overlay\",\"size\":10,\"solidity\":0.2}},\"type\":\"barpolar\"}],\"pie\":[{\"automargin\":true,\"type\":\"pie\"}]},\"layout\":{\"autotypenumbers\":\"strict\",\"colorway\":[\"#636efa\",\"#EF553B\",\"#00cc96\",\"#ab63fa\",\"#FFA15A\",\"#19d3f3\",\"#FF6692\",\"#B6E880\",\"#FF97FF\",\"#FECB52\"],\"font\":{\"color\":\"#2a3f5f\"},\"hovermode\":\"closest\",\"hoverlabel\":{\"align\":\"left\"},\"paper_bgcolor\":\"white\",\"plot_bgcolor\":\"#E5ECF6\",\"polar\":{\"bgcolor\":\"#E5ECF6\",\"angularaxis\":{\"gridcolor\":\"white\",\"linecolor\":\"white\",\"ticks\":\"\"},\"radialaxis\":{\"gridcolor\":\"white\",\"linecolor\":\"white\",\"ticks\":\"\"}},\"ternary\":{\"bgcolor\":\"#E5ECF6\",\"aaxis\":{\"gridcolor\":\"white\",\"linecolor\":\"white\",\"ticks\":\"\"},\"baxis\":{\"gridcolor\":\"white\",\"linecolor\":\"white\",\"ticks\":\"\"},\"caxis\":{\"gridcolor\":\"white\",\"linecolor\":\"white\",\"ticks\":\"\"}},\"coloraxis\":{\"colorbar\":{\"outlinewidth\":0,\"ticks\":\"\"}},\"colorscale\":{\"sequential\":[[0.0,\"#0d0887\"],[0.1111111111111111,\"#46039f\"],[0.2222222222222222,\"#7201a8\"],[0.3333333333333333,\"#9c179e\"],[0.4444444444444444,\"#bd3786\"],[0.5555555555555556,\"#d8576b\"],[0.6666666666666666,\"#ed7953\"],[0.7777777777777778,\"#fb9f3a\"],[0.8888888888888888,\"#fdca26\"],[1.0,\"#f0f921\"]],\"sequentialminus\":[[0.0,\"#0d0887\"],[0.1111111111111111,\"#46039f\"],[0.2222222222222222,\"#7201a8\"],[0.3333333333333333,\"#9c179e\"],[0.4444444444444444,\"#bd3786\"],[0.5555555555555556,\"#d8576b\"],[0.6666666666666666,\"#ed7953\"],[0.7777777777777778,\"#fb9f3a\"],[0.8888888888888888,\"#fdca26\"],[1.0,\"#f0f921\"]],\"diverging\":[[0,\"#8e0152\"],[0.1,\"#c51b7d\"],[0.2,\"#de77ae\"],[0.3,\"#f1b6da\"],[0.4,\"#fde0ef\"],[0.5,\"#f7f7f7\"],[0.6,\"#e6f5d0\"],[0.7,\"#b8e186\"],[0.8,\"#7fbc41\"],[0.9,\"#4d9221\"],[1,\"#276419\"]]},\"xaxis\":{\"gridcolor\":\"white\",\"linecolor\":\"white\",\"ticks\":\"\",\"title\":{\"standoff\":15},\"zerolinecolor\":\"white\",\"automargin\":true,\"zerolinewidth\":2},\"yaxis\":{\"gridcolor\":\"white\",\"linecolor\":\"white\",\"ticks\":\"\",\"title\":{\"standoff\":15},\"zerolinecolor\":\"white\",\"automargin\":true,\"zerolinewidth\":2},\"scene\":{\"xaxis\":{\"backgroundcolor\":\"#E5ECF6\",\"gridcolor\":\"white\",\"linecolor\":\"white\",\"showbackground\":true,\"ticks\":\"\",\"zerolinecolor\":\"white\",\"gridwidth\":2},\"yaxis\":{\"backgroundcolor\":\"#E5ECF6\",\"gridcolor\":\"white\",\"linecolor\":\"white\",\"showbackground\":true,\"ticks\":\"\",\"zerolinecolor\":\"white\",\"gridwidth\":2},\"zaxis\":{\"backgroundcolor\":\"#E5ECF6\",\"gridcolor\":\"white\",\"linecolor\":\"white\",\"showbackground\":true,\"ticks\":\"\",\"zerolinecolor\":\"white\",\"gridwidth\":2}},\"shapedefaults\":{\"line\":{\"color\":\"#2a3f5f\"}},\"annotationdefaults\":{\"arrowcolor\":\"#2a3f5f\",\"arrowhead\":0,\"arrowwidth\":1},\"geo\":{\"bgcolor\":\"white\",\"landcolor\":\"#E5ECF6\",\"subunitcolor\":\"white\",\"showland\":true,\"showlakes\":true,\"lakecolor\":\"white\"},\"title\":{\"x\":0.05},\"mapbox\":{\"style\":\"light\"}}},\"xaxis\":{\"anchor\":\"y\",\"domain\":[0.0,1.0],\"title\":{\"text\":\"Likes_Received_Per_Day\"}},\"yaxis\":{\"anchor\":\"x\",\"domain\":[0.0,1.0],\"title\":{\"text\":\"count\"}},\"legend\":{\"title\":{\"text\":\"Dominant_Emotion\"},\"tracegroupgap\":0},\"title\":{\"text\":\"Likes Received vs Dominant Emotion\"},\"barmode\":\"relative\"},                        {\"responsive\": true}                    ).then(function(){\n",
              "                            \n",
              "var gd = document.getElementById('cbb420cf-a50a-49df-87f0-4757d25dbcea');\n",
              "var x = new MutationObserver(function (mutations, observer) {{\n",
              "        var display = window.getComputedStyle(gd).display;\n",
              "        if (!display || display === 'none') {{\n",
              "            console.log([gd, 'removed!']);\n",
              "            Plotly.purge(gd);\n",
              "            observer.disconnect();\n",
              "        }}\n",
              "}});\n",
              "\n",
              "// Listen for the removal of the full notebook cells\n",
              "var notebookContainer = gd.closest('#notebook-container');\n",
              "if (notebookContainer) {{\n",
              "    x.observe(notebookContainer, {childList: true});\n",
              "}}\n",
              "\n",
              "// Listen for the clearing of the current output cell\n",
              "var outputEl = gd.closest('.output');\n",
              "if (outputEl) {{\n",
              "    x.observe(outputEl, {childList: true});\n",
              "}}\n",
              "\n",
              "                        })                };                            </script>        </div>\n",
              "</body>\n",
              "</html>"
            ]
          },
          "metadata": {}
        }
      ]
    },
    {
      "cell_type": "markdown",
      "source": [
        "MODEL TRAINING:"
      ],
      "metadata": {
        "id": "RWt2GgkZM-Q-"
      }
    },
    {
      "cell_type": "code",
      "source": [
        "# Import the necessary libraries\n",
        "from sklearn.model_selection import train_test_split\n",
        "from sklearn.preprocessing import OneHotEncoder, StandardScaler\n",
        "from sklearn.compose import ColumnTransformer\n",
        "from sklearn.pipeline import Pipeline\n",
        "from sklearn.ensemble import RandomForestClassifier\n",
        "from xgboost import XGBClassifier\n",
        "from sklearn.metrics import classification_report"
      ],
      "metadata": {
        "id": "7Bgg9bT5Mzfu"
      },
      "execution_count": 96,
      "outputs": []
    },
    {
      "cell_type": "code",
      "source": [
        "# Checking for missing values\n",
        "train_df.isnull().sum()"
      ],
      "metadata": {
        "colab": {
          "base_uri": "https://localhost:8080/"
        },
        "id": "Sb9sxJoONF1U",
        "outputId": "268c7cc7-a3db-4bae-d766-fafee9176cc4"
      },
      "execution_count": 97,
      "outputs": [
        {
          "output_type": "execute_result",
          "data": {
            "text/plain": [
              "User_ID                       0\n",
              "Age                           0\n",
              "Gender                        0\n",
              "Platform                      0\n",
              "Daily_Usage_Time (minutes)    1\n",
              "Posts_Per_Day                 0\n",
              "Likes_Received_Per_Day        0\n",
              "Comments_Received_Per_Day     0\n",
              "Messages_Sent_Per_Day         1\n",
              "Dominant_Emotion              0\n",
              "dtype: int64"
            ]
          },
          "metadata": {},
          "execution_count": 97
        }
      ]
    },
    {
      "cell_type": "code",
      "source": [
        "# Let's drop the missing values\n",
        "train_df.dropna(inplace=True)"
      ],
      "metadata": {
        "id": "nUFGLPYXNKIK"
      },
      "execution_count": 98,
      "outputs": []
    },
    {
      "cell_type": "code",
      "source": [
        "# Define features and target\n",
        "X = train_df.drop(columns=['Dominant_Emotion', 'User_ID']) # Features\n",
        "y = train_df['Dominant_Emotion'] # Target\n",
        "\n",
        "# Split into training and test sets\n",
        "X_train, X_test, y_train, y_test = train_test_split(X, y, test_size=0.2, random_state=42)"
      ],
      "metadata": {
        "id": "-rmrqmeHNOLT"
      },
      "execution_count": 99,
      "outputs": []
    },
    {
      "cell_type": "code",
      "source": [
        "# Define preprocessing steps. Seeperating the numerical and categorical features\n",
        "numeric_features = ['Daily_Usage_Time (minutes)', 'Posts_Per_Day', 'Likes_Received_Per_Day', 'Comments_Received_Per_Day', 'Messages_Sent_Per_Day']\n",
        "categorical_features = ['Age', 'Gender', 'Platform']\n",
        "\n",
        "preprocessor = ColumnTransformer(\n",
        "    transformers=[\n",
        "        ('num', StandardScaler(), numeric_features),\n",
        "        ('cat', OneHotEncoder(), categorical_features)])"
      ],
      "metadata": {
        "id": "AXc_aWPoNR01"
      },
      "execution_count": 100,
      "outputs": []
    },
    {
      "cell_type": "markdown",
      "source": [
        "Random Forest Classifier:"
      ],
      "metadata": {
        "id": "gc423jGdNbD3"
      }
    },
    {
      "cell_type": "code",
      "source": [
        "# Random Forest Classifier\n",
        "rf_pipeline = Pipeline(steps=[('preprocessor', preprocessor),\n",
        "                              ('classifier', RandomForestClassifier(random_state=42))])\n",
        "\n",
        "rf_pipeline.fit(X_train, y_train)\n",
        "y_pred_rf = rf_pipeline.predict(X_test)\n",
        "\n",
        "print(\"Random Forest Classifier Report:\")\n",
        "print(classification_report(y_test, y_pred_rf))"
      ],
      "metadata": {
        "colab": {
          "base_uri": "https://localhost:8080/"
        },
        "id": "ZTTWMdeGNVUN",
        "outputId": "1e5fc6e7-1b73-46f2-e451-0248fee8f347"
      },
      "execution_count": 101,
      "outputs": [
        {
          "output_type": "stream",
          "name": "stdout",
          "text": [
            "Random Forest Classifier Report:\n",
            "              precision    recall  f1-score   support\n",
            "\n",
            "       Anger       1.00      1.00      1.00        29\n",
            "     Anxiety       1.00      0.97      0.99        39\n",
            "     Boredom       1.00      1.00      1.00        31\n",
            "   Happiness       1.00      1.00      1.00        35\n",
            "     Neutral       0.98      1.00      0.99        42\n",
            "     Sadness       1.00      1.00      1.00        24\n",
            "\n",
            "    accuracy                           0.99       200\n",
            "   macro avg       1.00      1.00      1.00       200\n",
            "weighted avg       1.00      0.99      0.99       200\n",
            "\n"
          ]
        }
      ]
    },
    {
      "cell_type": "markdown",
      "source": [
        "XGBoost Classifier:"
      ],
      "metadata": {
        "id": "ybAdMWjLNk4M"
      }
    },
    {
      "cell_type": "code",
      "source": [
        "from sklearn.preprocessing import LabelEncoder\n",
        "# Encode target labels as integers\n",
        "label_encoder = LabelEncoder()\n",
        "y_encoded = label_encoder.fit_transform(y)"
      ],
      "metadata": {
        "id": "ZcP0DQWzNhud"
      },
      "execution_count": 102,
      "outputs": []
    },
    {
      "cell_type": "code",
      "source": [
        "# Split into training and test sets\n",
        "X_train, X_test, y_train, y_test = train_test_split(X, y_encoded, test_size=0.2, random_state=42)\n",
        "\n",
        "# XGBoost Classifier\n",
        "xgb_pipeline = Pipeline(steps=[('preprocessor', preprocessor),\n",
        "                               ('classifier', XGBClassifier(random_state=42))])\n",
        "\n",
        "xgb_pipeline.fit(X_train, y_train)\n",
        "y_pred_xgb = xgb_pipeline.predict(X_test)"
      ],
      "metadata": {
        "id": "u5vmINWDNq9j"
      },
      "execution_count": 103,
      "outputs": []
    },
    {
      "cell_type": "code",
      "source": [
        "# Decode the predicted labels back to original string labels for the report\n",
        "y_test_decoded = label_encoder.inverse_transform(y_test)\n",
        "y_pred_xgb_decoded = label_encoder.inverse_transform(y_pred_xgb)\n",
        "\n",
        "print(\"XGBoost Classifier Report:\")\n",
        "print(classification_report(y_test_decoded, y_pred_xgb_decoded))"
      ],
      "metadata": {
        "colab": {
          "base_uri": "https://localhost:8080/"
        },
        "id": "SKsJylVKNvTX",
        "outputId": "c0465e06-b9b5-49cd-e7e8-b6dc1aa7c953"
      },
      "execution_count": 104,
      "outputs": [
        {
          "output_type": "stream",
          "name": "stdout",
          "text": [
            "XGBoost Classifier Report:\n",
            "              precision    recall  f1-score   support\n",
            "\n",
            "       Anger       1.00      1.00      1.00        29\n",
            "     Anxiety       1.00      0.92      0.96        39\n",
            "     Boredom       0.94      1.00      0.97        31\n",
            "   Happiness       1.00      1.00      1.00        35\n",
            "     Neutral       0.98      1.00      0.99        42\n",
            "     Sadness       1.00      1.00      1.00        24\n",
            "\n",
            "    accuracy                           0.98       200\n",
            "   macro avg       0.99      0.99      0.99       200\n",
            "weighted avg       0.99      0.98      0.98       200\n",
            "\n"
          ]
        }
      ]
    },
    {
      "cell_type": "markdown",
      "source": [
        "Neural Networks:\n"
      ],
      "metadata": {
        "id": "Q09kV1T7N3gG"
      }
    },
    {
      "cell_type": "code",
      "source": [
        "from sklearn.compose import ColumnTransformer\n",
        "from tensorflow.keras.models import Sequential\n",
        "from tensorflow.keras.layers import Dense, Dropout\n",
        "from tensorflow.keras.utils import to_categorical"
      ],
      "metadata": {
        "id": "IYryMNzgN1MV"
      },
      "execution_count": 105,
      "outputs": []
    },
    {
      "cell_type": "code",
      "source": [
        "# Define features and target\n",
        "X = train_df.drop(columns=['Dominant_Emotion', 'User_ID'])\n",
        "y = train_df['Dominant_Emotion']\n",
        "\n",
        "# Encode target labels as integers\n",
        "label_encoder = LabelEncoder()\n",
        "y_encoded = label_encoder.fit_transform(y)\n",
        "\n",
        "# One-hot encode the target labels for neural network\n",
        "y_onehot = to_categorical(y_encoded)\n",
        "\n",
        "# Split into training and test sets\n",
        "X_train, X_test, y_train, y_test = train_test_split(X, y_onehot, test_size=0.2, random_state=42)\n",
        "\n",
        "# Define preprocessing steps for features\n",
        "numeric_features = ['Daily_Usage_Time (minutes)', 'Posts_Per_Day', 'Likes_Received_Per_Day', 'Comments_Received_Per_Day', 'Messages_Sent_Per_Day']\n",
        "categorical_features = ['Age', 'Gender', 'Platform']\n",
        "\n",
        "preprocessor = ColumnTransformer(\n",
        "    transformers=[\n",
        "        ('num', StandardScaler(), numeric_features),\n",
        "        ('cat', OneHotEncoder(), categorical_features)])\n",
        "\n",
        "# Preprocess the features\n",
        "X_train = preprocessor.fit_transform(X_train)\n",
        "X_test = preprocessor.transform(X_test)"
      ],
      "metadata": {
        "id": "0bMmgnoHN9Pn"
      },
      "execution_count": 119,
      "outputs": []
    },
    {
      "cell_type": "markdown",
      "source": [
        "Building the Neural Network:"
      ],
      "metadata": {
        "id": "m_xmnaWFOM46"
      }
    },
    {
      "cell_type": "code",
      "source": [
        "X_train = X_train.toarray()\n",
        "X_test = X_test.toarray()\n",
        "\n",
        "# Build the neural network\n",
        "model = Sequential()\n",
        "model.add(Dense(128, input_dim=X_train.shape[1], activation='relu'))\n",
        "model.add(Dropout(0.5))\n",
        "model.add(Dense(64, activation='relu'))\n",
        "model.add(Dropout(0.5))\n",
        "model.add(Dense(y_onehot.shape[1], activation='softmax'))\n",
        "\n",
        "# Compile the model\n",
        "model.compile(optimizer='adam', loss='categorical_crossentropy', metrics=['accuracy'])\n",
        "\n",
        "# Train the model\n",
        "model.fit(X_train, y_train, epochs=50, batch_size=32, validation_split=0.1)"
      ],
      "metadata": {
        "colab": {
          "base_uri": "https://localhost:8080/"
        },
        "id": "3fXQeGJGOIaj",
        "outputId": "a964f838-b934-47f2-e0a0-840a32b3dea3"
      },
      "execution_count": 121,
      "outputs": [
        {
          "output_type": "stream",
          "name": "stdout",
          "text": [
            "Epoch 1/50\n",
            "23/23 [==============================] - 1s 22ms/step - loss: 1.7442 - accuracy: 0.2514 - val_loss: 1.4774 - val_accuracy: 0.4500\n",
            "Epoch 2/50\n",
            "23/23 [==============================] - 0s 6ms/step - loss: 1.6095 - accuracy: 0.3347 - val_loss: 1.3161 - val_accuracy: 0.5625\n",
            "Epoch 3/50\n",
            "23/23 [==============================] - 0s 6ms/step - loss: 1.4966 - accuracy: 0.3861 - val_loss: 1.2582 - val_accuracy: 0.6000\n",
            "Epoch 4/50\n",
            "23/23 [==============================] - 0s 6ms/step - loss: 1.4404 - accuracy: 0.4389 - val_loss: 1.1940 - val_accuracy: 0.5875\n",
            "Epoch 5/50\n",
            "23/23 [==============================] - 0s 5ms/step - loss: 1.3911 - accuracy: 0.4528 - val_loss: 1.1330 - val_accuracy: 0.6750\n",
            "Epoch 6/50\n",
            "23/23 [==============================] - 0s 5ms/step - loss: 1.3376 - accuracy: 0.4611 - val_loss: 1.0848 - val_accuracy: 0.6875\n",
            "Epoch 7/50\n",
            "23/23 [==============================] - 0s 5ms/step - loss: 1.2917 - accuracy: 0.5208 - val_loss: 1.0359 - val_accuracy: 0.6625\n",
            "Epoch 8/50\n",
            "23/23 [==============================] - 0s 6ms/step - loss: 1.2281 - accuracy: 0.5611 - val_loss: 0.9765 - val_accuracy: 0.7000\n",
            "Epoch 9/50\n",
            "23/23 [==============================] - 0s 6ms/step - loss: 1.1625 - accuracy: 0.5833 - val_loss: 0.9167 - val_accuracy: 0.7500\n",
            "Epoch 10/50\n",
            "23/23 [==============================] - 0s 6ms/step - loss: 1.1438 - accuracy: 0.5861 - val_loss: 0.8742 - val_accuracy: 0.7750\n",
            "Epoch 11/50\n",
            "23/23 [==============================] - 0s 8ms/step - loss: 1.0608 - accuracy: 0.6153 - val_loss: 0.8174 - val_accuracy: 0.8000\n",
            "Epoch 12/50\n",
            "23/23 [==============================] - 0s 5ms/step - loss: 1.0214 - accuracy: 0.6375 - val_loss: 0.7873 - val_accuracy: 0.8125\n",
            "Epoch 13/50\n",
            "23/23 [==============================] - 0s 6ms/step - loss: 0.9341 - accuracy: 0.6903 - val_loss: 0.7234 - val_accuracy: 0.8000\n",
            "Epoch 14/50\n",
            "23/23 [==============================] - 0s 6ms/step - loss: 0.9095 - accuracy: 0.6875 - val_loss: 0.6923 - val_accuracy: 0.8375\n",
            "Epoch 15/50\n",
            "23/23 [==============================] - 0s 7ms/step - loss: 0.8334 - accuracy: 0.6972 - val_loss: 0.6420 - val_accuracy: 0.8125\n",
            "Epoch 16/50\n",
            "23/23 [==============================] - 0s 6ms/step - loss: 0.8529 - accuracy: 0.6972 - val_loss: 0.5999 - val_accuracy: 0.8125\n",
            "Epoch 17/50\n",
            "23/23 [==============================] - 0s 6ms/step - loss: 0.7883 - accuracy: 0.7347 - val_loss: 0.5705 - val_accuracy: 0.8125\n",
            "Epoch 18/50\n",
            "23/23 [==============================] - 0s 7ms/step - loss: 0.7331 - accuracy: 0.7514 - val_loss: 0.5432 - val_accuracy: 0.8250\n",
            "Epoch 19/50\n",
            "23/23 [==============================] - 0s 4ms/step - loss: 0.7105 - accuracy: 0.7417 - val_loss: 0.5111 - val_accuracy: 0.8125\n",
            "Epoch 20/50\n",
            "23/23 [==============================] - 0s 4ms/step - loss: 0.7032 - accuracy: 0.7472 - val_loss: 0.5045 - val_accuracy: 0.8250\n",
            "Epoch 21/50\n",
            "23/23 [==============================] - 0s 3ms/step - loss: 0.6717 - accuracy: 0.7792 - val_loss: 0.4792 - val_accuracy: 0.8375\n",
            "Epoch 22/50\n",
            "23/23 [==============================] - 0s 3ms/step - loss: 0.6411 - accuracy: 0.7694 - val_loss: 0.4585 - val_accuracy: 0.8500\n",
            "Epoch 23/50\n",
            "23/23 [==============================] - 0s 4ms/step - loss: 0.6015 - accuracy: 0.7833 - val_loss: 0.4281 - val_accuracy: 0.8625\n",
            "Epoch 24/50\n",
            "23/23 [==============================] - 0s 4ms/step - loss: 0.6308 - accuracy: 0.7806 - val_loss: 0.4048 - val_accuracy: 0.8625\n",
            "Epoch 25/50\n",
            "23/23 [==============================] - 0s 4ms/step - loss: 0.5769 - accuracy: 0.7958 - val_loss: 0.3852 - val_accuracy: 0.8625\n",
            "Epoch 26/50\n",
            "23/23 [==============================] - 0s 3ms/step - loss: 0.5297 - accuracy: 0.8292 - val_loss: 0.3753 - val_accuracy: 0.8750\n",
            "Epoch 27/50\n",
            "23/23 [==============================] - 0s 4ms/step - loss: 0.5187 - accuracy: 0.8222 - val_loss: 0.3521 - val_accuracy: 0.9000\n",
            "Epoch 28/50\n",
            "23/23 [==============================] - 0s 5ms/step - loss: 0.5207 - accuracy: 0.8403 - val_loss: 0.3434 - val_accuracy: 0.8875\n",
            "Epoch 29/50\n",
            "23/23 [==============================] - 0s 3ms/step - loss: 0.4541 - accuracy: 0.8347 - val_loss: 0.3205 - val_accuracy: 0.9000\n",
            "Epoch 30/50\n",
            "23/23 [==============================] - 0s 4ms/step - loss: 0.4586 - accuracy: 0.8347 - val_loss: 0.3055 - val_accuracy: 0.9125\n",
            "Epoch 31/50\n",
            "23/23 [==============================] - 0s 4ms/step - loss: 0.4335 - accuracy: 0.8556 - val_loss: 0.2948 - val_accuracy: 0.9250\n",
            "Epoch 32/50\n",
            "23/23 [==============================] - 0s 3ms/step - loss: 0.4296 - accuracy: 0.8458 - val_loss: 0.2939 - val_accuracy: 0.9250\n",
            "Epoch 33/50\n",
            "23/23 [==============================] - 0s 3ms/step - loss: 0.4237 - accuracy: 0.8611 - val_loss: 0.2636 - val_accuracy: 0.9375\n",
            "Epoch 34/50\n",
            "23/23 [==============================] - 0s 4ms/step - loss: 0.3866 - accuracy: 0.8778 - val_loss: 0.2583 - val_accuracy: 0.9500\n",
            "Epoch 35/50\n",
            "23/23 [==============================] - 0s 4ms/step - loss: 0.4073 - accuracy: 0.8639 - val_loss: 0.2455 - val_accuracy: 0.9375\n",
            "Epoch 36/50\n",
            "23/23 [==============================] - 0s 4ms/step - loss: 0.3787 - accuracy: 0.8528 - val_loss: 0.2334 - val_accuracy: 0.9375\n",
            "Epoch 37/50\n",
            "23/23 [==============================] - 0s 3ms/step - loss: 0.3650 - accuracy: 0.8806 - val_loss: 0.2262 - val_accuracy: 0.9500\n",
            "Epoch 38/50\n",
            "23/23 [==============================] - 0s 5ms/step - loss: 0.3898 - accuracy: 0.8569 - val_loss: 0.2206 - val_accuracy: 0.9625\n",
            "Epoch 39/50\n",
            "23/23 [==============================] - 0s 4ms/step - loss: 0.3692 - accuracy: 0.8792 - val_loss: 0.2062 - val_accuracy: 0.9500\n",
            "Epoch 40/50\n",
            "23/23 [==============================] - 0s 3ms/step - loss: 0.3578 - accuracy: 0.8944 - val_loss: 0.2085 - val_accuracy: 0.9625\n",
            "Epoch 41/50\n",
            "23/23 [==============================] - 0s 4ms/step - loss: 0.3201 - accuracy: 0.9042 - val_loss: 0.1967 - val_accuracy: 0.9750\n",
            "Epoch 42/50\n",
            "23/23 [==============================] - 0s 3ms/step - loss: 0.3001 - accuracy: 0.9056 - val_loss: 0.1794 - val_accuracy: 0.9750\n",
            "Epoch 43/50\n",
            "23/23 [==============================] - 0s 4ms/step - loss: 0.3059 - accuracy: 0.8958 - val_loss: 0.1762 - val_accuracy: 0.9750\n",
            "Epoch 44/50\n",
            "23/23 [==============================] - 0s 3ms/step - loss: 0.3101 - accuracy: 0.8958 - val_loss: 0.1731 - val_accuracy: 0.9625\n",
            "Epoch 45/50\n",
            "23/23 [==============================] - 0s 3ms/step - loss: 0.2967 - accuracy: 0.9000 - val_loss: 0.1586 - val_accuracy: 0.9625\n",
            "Epoch 46/50\n",
            "23/23 [==============================] - 0s 4ms/step - loss: 0.2899 - accuracy: 0.9014 - val_loss: 0.1611 - val_accuracy: 0.9750\n",
            "Epoch 47/50\n",
            "23/23 [==============================] - 0s 5ms/step - loss: 0.2699 - accuracy: 0.9111 - val_loss: 0.1508 - val_accuracy: 0.9750\n",
            "Epoch 48/50\n",
            "23/23 [==============================] - 0s 4ms/step - loss: 0.2663 - accuracy: 0.9167 - val_loss: 0.1460 - val_accuracy: 0.9625\n",
            "Epoch 49/50\n",
            "23/23 [==============================] - 0s 4ms/step - loss: 0.2679 - accuracy: 0.8972 - val_loss: 0.1387 - val_accuracy: 0.9750\n",
            "Epoch 50/50\n",
            "23/23 [==============================] - 0s 3ms/step - loss: 0.2681 - accuracy: 0.9139 - val_loss: 0.1332 - val_accuracy: 0.9750\n"
          ]
        },
        {
          "output_type": "execute_result",
          "data": {
            "text/plain": [
              "<keras.src.callbacks.History at 0x7aeacc17bca0>"
            ]
          },
          "metadata": {},
          "execution_count": 121
        }
      ]
    },
    {
      "cell_type": "code",
      "source": [
        "# Evaluate the model\n",
        "loss, accuracy = model.evaluate(X_test, y_test)\n",
        "print(f'Accuracy: {accuracy:.2f}')\n",
        "\n",
        "# Make predictions\n",
        "y_pred = model.predict(X_test)\n",
        "y_pred_classes = np.argmax(y_pred, axis=1)\n",
        "y_test_classes = np.argmax(y_test, axis=1)\n",
        "\n",
        "# Decode the predicted and true labels back to original string labels for the report\n",
        "y_pred_labels = label_encoder.inverse_transform(y_pred_classes)\n",
        "y_test_labels = label_encoder.inverse_transform(y_test_classes)"
      ],
      "metadata": {
        "colab": {
          "base_uri": "https://localhost:8080/"
        },
        "id": "ePGIkqPBOTpS",
        "outputId": "ef31bc6c-718c-4202-8452-bc36c09a5d6c"
      },
      "execution_count": 122,
      "outputs": [
        {
          "output_type": "stream",
          "name": "stdout",
          "text": [
            "7/7 [==============================] - 0s 2ms/step - loss: 0.1618 - accuracy: 0.9650\n",
            "Accuracy: 0.96\n",
            "7/7 [==============================] - 0s 2ms/step\n"
          ]
        }
      ]
    },
    {
      "cell_type": "code",
      "source": [
        "# Print classification report\n",
        "print(\"Neural Network Classifier Report:\")\n",
        "print(classification_report(y_test_labels, y_pred_labels))"
      ],
      "metadata": {
        "colab": {
          "base_uri": "https://localhost:8080/"
        },
        "id": "UdSrHCrkSybU",
        "outputId": "c6f1e93c-1c56-434b-e4a8-f4e6a73f07a1"
      },
      "execution_count": 123,
      "outputs": [
        {
          "output_type": "stream",
          "name": "stdout",
          "text": [
            "Neural Network Classifier Report:\n",
            "              precision    recall  f1-score   support\n",
            "\n",
            "       Anger       1.00      0.93      0.96        29\n",
            "     Anxiety       0.97      0.97      0.97        39\n",
            "     Boredom       1.00      0.97      0.98        31\n",
            "   Happiness       0.97      1.00      0.99        35\n",
            "     Neutral       0.93      0.95      0.94        42\n",
            "     Sadness       0.92      0.96      0.94        24\n",
            "\n",
            "    accuracy                           0.96       200\n",
            "   macro avg       0.97      0.96      0.96       200\n",
            "weighted avg       0.97      0.96      0.97       200\n",
            "\n"
          ]
        }
      ]
    },
    {
      "cell_type": "markdown",
      "source": [
        "CONCLUSION:\n",
        "\n",
        "1)Random Forest Classifier: accuracy-99%\n",
        "\n",
        "2)XGBoost Classifier : accuracy-98%\n",
        "\n",
        "3)Neural Network : accuracy-94%"
      ],
      "metadata": {
        "id": "ptO4HKmTTNQD"
      }
    },
    {
      "cell_type": "code",
      "source": [],
      "metadata": {
        "id": "CR7XKlRkTM0c"
      },
      "execution_count": null,
      "outputs": []
    },
    {
      "cell_type": "code",
      "source": [],
      "metadata": {
        "id": "AktktL__S3C-"
      },
      "execution_count": null,
      "outputs": []
    }
  ]
}